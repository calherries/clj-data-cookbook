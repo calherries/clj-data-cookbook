{
 "cells": [
  {
   "cell_type": "code",
   "execution_count": 1,
   "metadata": {},
   "outputs": [
    {
     "data": {
      "text/plain": [
       "nil"
      ]
     },
     "execution_count": 1,
     "metadata": {},
     "output_type": "execute_result"
    }
   ],
   "source": [
    "(require '[clojupyter.javascript.alpha :as cjp-js])\n",
    "(require '[clojupyter.display :as display])\n",
    "(require '[clojupyter.misc.helper :as helper])\n",
    "(require '[clojure.data.json :as json])\n",
    "(helper/add-dependencies '[org.clojure/data.csv \"1.0.0\"])\n",
    "(require '[clojure.data.csv :as csv])\n",
    "(helper/add-dependencies '[metasoarous/oz \"1.5.6\"])\n",
    "(require '[oz.notebook.clojupyter :as oz])\n",
    "(require '[clojure.java.io :as io])\n",
    "(require '[clojure.pprint :as pp])\n",
    "(helper/add-dependencies '[clojure.java-time \"0.3.2\"])\n",
    "(require '[java-time :as t])\n",
    "(require '[clojure.edn :as edn])\n",
    "(helper/add-dependencies '[panthera \"0.1-alpha.13\"])\n",
    "(require '[libpython-clj.python :as py])\n",
    "(require '[panthera.panthera :as pt])"
   ]
  },
  {
   "cell_type": "code",
   "execution_count": 2,
   "metadata": {},
   "outputs": [
    {
     "data": {
      "text/html": [
       "<table border=\"1\" class=\"dataframe\">\n",
       "  <thead>\n",
       "    <tr style=\"text-align: right;\">\n",
       "      <th></th>\n",
       "      <th>a</th>\n",
       "      <th>b</th>\n",
       "    </tr>\n",
       "  </thead>\n",
       "  <tbody>\n",
       "    <tr>\n",
       "      <th>0</th>\n",
       "      <td>1</td>\n",
       "      <td>2</td>\n",
       "    </tr>\n",
       "    <tr>\n",
       "      <th>1</th>\n",
       "      <td>3</td>\n",
       "      <td>4</td>\n",
       "    </tr>\n",
       "  </tbody>\n",
       "</table>"
      ]
     },
     "execution_count": 2,
     "metadata": {},
     "output_type": "execute_result"
    }
   ],
   "source": [
    ";; use panthera html display\n",
    "(defn show\n",
    "  [obj]\n",
    "  (display/html\n",
    "    (py/call-attr obj \"to_html\")))\n",
    "\n",
    "(defn show-table\n",
    "  [m]\n",
    "  (-> m\n",
    "      pt/data-frame\n",
    "      show))\n",
    "\n",
    "(show-table [{:a 1 :b 2} {:a 3 :b 4}])"
   ]
  },
  {
   "cell_type": "markdown",
   "metadata": {},
   "source": [
    "We saw earlier that pandas is really good at dealing with dates. It is also amazing with strings! We're going to go back to our weather data from Chapter 5, here."
   ]
  },
  {
   "cell_type": "code",
   "execution_count": 5,
   "metadata": {},
   "outputs": [
    {
     "data": {
      "text/html": [
       "<table border=\"1\" class=\"dataframe\">\n",
       "  <thead>\n",
       "    <tr style=\"text-align: right;\">\n",
       "      <th></th>\n",
       "      <th>Time</th>\n",
       "      <th>Temp (C)</th>\n",
       "      <th>Dew Point Temp (C)</th>\n",
       "      <th>Rel Hum (%)</th>\n",
       "      <th>h)</th>\n",
       "      <th>Visibility (km)</th>\n",
       "      <th>Stn Press (kPa)</th>\n",
       "      <th>Weather</th>\n",
       "    </tr>\n",
       "  </thead>\n",
       "  <tbody>\n",
       "    <tr>\n",
       "      <th>0</th>\n",
       "      <td>2012-01-01 00:00:00</td>\n",
       "      <td>-1.8</td>\n",
       "      <td>-3.9</td>\n",
       "      <td>86</td>\n",
       "      <td>4</td>\n",
       "      <td>8.0</td>\n",
       "      <td>101.24</td>\n",
       "      <td>Fog</td>\n",
       "    </tr>\n",
       "    <tr>\n",
       "      <th>1</th>\n",
       "      <td>2012-01-01 01:00:00</td>\n",
       "      <td>-1.8</td>\n",
       "      <td>-3.7</td>\n",
       "      <td>87</td>\n",
       "      <td>4</td>\n",
       "      <td>8.0</td>\n",
       "      <td>101.24</td>\n",
       "      <td>Fog</td>\n",
       "    </tr>\n",
       "    <tr>\n",
       "      <th>2</th>\n",
       "      <td>2012-01-01 02:00:00</td>\n",
       "      <td>-1.8</td>\n",
       "      <td>-3.4</td>\n",
       "      <td>89</td>\n",
       "      <td>7</td>\n",
       "      <td>4.0</td>\n",
       "      <td>101.26</td>\n",
       "      <td>Freezing</td>\n",
       "    </tr>\n",
       "    <tr>\n",
       "      <th>3</th>\n",
       "      <td>2012-01-01 03:00:00</td>\n",
       "      <td>-1.5</td>\n",
       "      <td>-3.2</td>\n",
       "      <td>88</td>\n",
       "      <td>6</td>\n",
       "      <td>4.0</td>\n",
       "      <td>101.27</td>\n",
       "      <td>Freezing</td>\n",
       "    </tr>\n",
       "    <tr>\n",
       "      <th>4</th>\n",
       "      <td>2012-01-01 04:00:00</td>\n",
       "      <td>-1.5</td>\n",
       "      <td>-3.3</td>\n",
       "      <td>88</td>\n",
       "      <td>7</td>\n",
       "      <td>4.8</td>\n",
       "      <td>101.23</td>\n",
       "      <td>Fog</td>\n",
       "    </tr>\n",
       "  </tbody>\n",
       "</table>"
      ]
     },
     "execution_count": 5,
     "metadata": {},
     "output_type": "execute_result"
    }
   ],
   "source": [
    ";; Python\n",
    ";; weather_2012 = pd.read_csv('../data/weather_2012.csv', index_col='Date/Time')\n",
    ";; weather_2012[:5]\n",
    "\n",
    "(def fixed-data\n",
    "    (with-open [reader (io/reader \"../data/weather_2012.csv\")]\n",
    "      (doall\n",
    "        (csv/read-csv reader))))\n",
    "\n",
    "(defn blank->nil [s]\n",
    "   (when-not (#{\"\"} s) s))\n",
    "\n",
    "(defn csv-data->maps [csv-data]\n",
    "  (map zipmap\n",
    "       (->> (first csv-data) ;; First row is the header\n",
    "            (map keyword) ;; Drop if you want string keys instead\n",
    "            repeat)\n",
    "       (->> (rest csv-data)\n",
    "            (map #(map blank->nil %))))) ;; Drop if you want blank strings to stay\n",
    "\n",
    "(defn col-parser [col-key]\n",
    "    (if (= :Date/Time col-key)\n",
    "         identity\n",
    "         edn/read-string))\n",
    "\n",
    "(def weather-2012\n",
    "    (->> fixed-data\n",
    "         csv-data->maps\n",
    "        (map #(into {} (map (fn [[k v]] [k ((col-parser k) v)]) %))))) ;; Apply each parser to columns\n",
    "\n",
    "(->> weather-2012\n",
    "     (take 5)\n",
    "     show-table)"
   ]
  },
  {
   "cell_type": "markdown",
   "metadata": {},
   "source": [
    "# 6.1 String operations"
   ]
  },
  {
   "cell_type": "markdown",
   "metadata": {},
   "source": [
    "You'll see that the 'Weather' column has a text description of the weather that was going on each hour. We'll assume it's snowing if the text description contains \"Snow\".\n",
    "\n",
    "pandas provides vectorized string functions, to make it easy to operate on columns containing text. There are some great [examples](http://pandas.pydata.org/pandas-docs/stable/basics.html#vectorized-string-methods) in the documentation."
   ]
  },
  {
   "cell_type": "code",
   "execution_count": 25,
   "metadata": {},
   "outputs": [
    {
     "name": "stderr",
     "output_type": "stream",
     "text": [
      "Execution error (DateTimeParseException) at java.time.format.DateTimeFormatter/parseResolved0 (DateTimeFormatter.java:1949).\n",
      "Text '2012-01-01 00:00:00' could not be parsed at index 10\n"
     ]
    },
    {
     "ename": "class clojure.lang.ExceptionInfo",
     "evalue": "",
     "output_type": "error",
     "traceback": [
      "DateTimeFormatter.java:  1949 java.time.format.DateTimeFormatter/parseResolved0",
      "DateTimeFormatter.java:  1851 java.time.format.DateTimeFormatter/parse",
      "    LocalDateTime.java:   492 java.time.LocalDateTime/parse",
      "             local.clj:   119 java_time.local$fn__18411/invokeStatic",
      "             local.clj:   118 java_time.local$fn__18411/invoke",
      "              AFn.java:   154 clojure.lang.AFn/applyToHelper",
      "              AFn.java:   144 clojure.lang.AFn/applyTo",
      "              core.clj:   665 clojure.core$apply/invokeStatic",
      "              core.clj:   660 clojure.core$apply/invoke",
      "     defconversion.clj:    28 java_time.defconversion$combinations$iter__17782__17786$fn__17787$fn__17788$fn__17789/doInvoke",
      "           RestFn.java:   137 clojure.lang.RestFn/applyTo",
      "              core.clj:   665 clojure.core$apply/invokeStatic",
      "              core.clj:   660 clojure.core$apply/invoke",
      "     defconversion.clj:    21 java_time.defconversion$wrap_validation$fn__17779/invoke",
      "             local.clj:    52 java_time.local$local_date_time$fn__18364/invoke",
      "              core.clj:  3214 clojure.core$eval/invokeStatic",
      "              core.clj:  3210 clojure.core$eval/invoke",
      "              main.clj:   437 clojure.main$repl$read_eval_print__9086$fn__9089/invoke",
      "              main.clj:   458 clojure.main$repl$fn__9095/invoke",
      "              main.clj:   368 clojure.main$repl/doInvoke",
      "           RestFn.java:  1523 clojure.lang.RestFn/invoke",
      "              AFn.java:    22 clojure.lang.AFn/run  ",
      "              AFn.java:    22 clojure.lang.AFn/run  ",
      "           Thread.java:   745 java.lang.Thread/run  "
     ]
    }
   ],
   "source": [
    "(t/local-date-time \"2012-01-01 00:00:00\")"
   ]
  },
  {
   "cell_type": "code",
   "execution_count": 23,
   "metadata": {},
   "outputs": [
    {
     "data": {
      "text/html": [
       "<table border=\"1\" class=\"dataframe\">\n",
       "  <thead>\n",
       "    <tr style=\"text-align: right;\">\n",
       "      <th></th>\n",
       "      <th>Stn Press (kPa)</th>\n",
       "      <th>Time</th>\n",
       "      <th>Weather</th>\n",
       "      <th>snow</th>\n",
       "      <th>Temp (C)</th>\n",
       "      <th>Rel Hum (%)</th>\n",
       "      <th>h)</th>\n",
       "      <th>Visibility (km)</th>\n",
       "      <th>Dew Point Temp (C)</th>\n",
       "    </tr>\n",
       "  </thead>\n",
       "  <tbody>\n",
       "    <tr>\n",
       "      <th>0</th>\n",
       "      <td>101.24</td>\n",
       "      <td>2012-01-01 00:00:00</td>\n",
       "      <td>Fog</td>\n",
       "      <td>False</td>\n",
       "      <td>-1.8</td>\n",
       "      <td>86</td>\n",
       "      <td>4</td>\n",
       "      <td>8.0</td>\n",
       "      <td>-3.9</td>\n",
       "    </tr>\n",
       "    <tr>\n",
       "      <th>1</th>\n",
       "      <td>101.24</td>\n",
       "      <td>2012-01-01 01:00:00</td>\n",
       "      <td>Fog</td>\n",
       "      <td>False</td>\n",
       "      <td>-1.8</td>\n",
       "      <td>87</td>\n",
       "      <td>4</td>\n",
       "      <td>8.0</td>\n",
       "      <td>-3.7</td>\n",
       "    </tr>\n",
       "    <tr>\n",
       "      <th>2</th>\n",
       "      <td>101.26</td>\n",
       "      <td>2012-01-01 02:00:00</td>\n",
       "      <td>Freezing</td>\n",
       "      <td>False</td>\n",
       "      <td>-1.8</td>\n",
       "      <td>89</td>\n",
       "      <td>7</td>\n",
       "      <td>4.0</td>\n",
       "      <td>-3.4</td>\n",
       "    </tr>\n",
       "    <tr>\n",
       "      <th>3</th>\n",
       "      <td>101.27</td>\n",
       "      <td>2012-01-01 03:00:00</td>\n",
       "      <td>Freezing</td>\n",
       "      <td>False</td>\n",
       "      <td>-1.5</td>\n",
       "      <td>88</td>\n",
       "      <td>6</td>\n",
       "      <td>4.0</td>\n",
       "      <td>-3.2</td>\n",
       "    </tr>\n",
       "    <tr>\n",
       "      <th>4</th>\n",
       "      <td>101.23</td>\n",
       "      <td>2012-01-01 04:00:00</td>\n",
       "      <td>Fog</td>\n",
       "      <td>False</td>\n",
       "      <td>-1.5</td>\n",
       "      <td>88</td>\n",
       "      <td>7</td>\n",
       "      <td>4.8</td>\n",
       "      <td>-3.3</td>\n",
       "    </tr>\n",
       "  </tbody>\n",
       "</table>"
      ]
     },
     "execution_count": 23,
     "metadata": {},
     "output_type": "execute_result"
    }
   ],
   "source": [
    ";; weather_description = weather_2012['Weather']\n",
    ";; is_snowing = weather_description.str.contains('Snow')\n",
    "\n",
    "(def weather-description \n",
    "    (->> weather-2012\n",
    "        (map #(assoc % :snow (clojure.string/includes? (:Weather %) \"Snow\")))))\n",
    "\n",
    "(->> weather-description \n",
    "     (take 5)\n",
    "     show-table)"
   ]
  },
  {
   "cell_type": "markdown",
   "metadata": {},
   "source": [
    "This gives us a binary vector, which is a bit hard to look at, so we'll plot it."
   ]
  },
  {
   "cell_type": "code",
   "execution_count": 24,
   "metadata": {},
   "outputs": [
    {
     "data": {
      "text/html": [
       "\n",
       "<div>\n",
       "  <div id='uuid-c82a65eb-95f6-43a2-9201-8dfaaa7dd5a3'></div>\n",
       "  <script>\n",
       "  requirejs.config({\n",
       "    baseUrl: 'https://cdn.jsdelivr.net/npm/',\n",
       "    paths: {\n",
       "      'vega-embed':  'vega-embed@3?noext',\n",
       "      'vega-lib': 'vega-lib?noext',\n",
       "      'vega-lite': 'vega-lite@2?noext',\n",
       "      'vega': 'vega@3?noext'\n",
       "    }\n",
       "  });\n",
       "  require(['vega-embed'], function(vegaEmbed) {\n",
       "    let spec = {\"data\":{\"values\":[{\"Stn Press (kPa)\":99.66,\"Time\":\"2012-01-02 17:00:00\",\"Weather\":\"Snow\",\"snow\":true,\"Temp (C)\":-2.1,\"Rel Hum (%)\":57,\"h)\":22,\"Visibility (km)\":25.0,\"Dew Point Temp (C)\":-9.5},{\"Stn Press (kPa)\":100.07,\"Time\":\"2012-01-02 20:00:00\",\"Weather\":\"Snow\",\"snow\":true,\"Temp (C)\":-5.6,\"Rel Hum (%)\":54,\"h)\":24,\"Visibility (km)\":25.0,\"Dew Point Temp (C)\":-13.4},{\"Stn Press (kPa)\":100.15,\"Time\":\"2012-01-02 21:00:00\",\"Weather\":\"Snow\",\"snow\":true,\"Temp (C)\":-5.8,\"Rel Hum (%)\":58,\"h)\":26,\"Visibility (km)\":25.0,\"Dew Point Temp (C)\":-12.8},{\"Stn Press (kPa)\":100.27,\"Time\":\"2012-01-02 23:00:00\",\"Weather\":\"Snow\",\"snow\":true,\"Temp (C)\":-7.4,\"Rel Hum (%)\":59,\"h)\":17,\"Visibility (km)\":19.3,\"Dew Point Temp (C)\":-14.1},{\"Stn Press (kPa)\":100.35,\"Time\":\"2012-01-03 00:00:00\",\"Weather\":\"Snow\",\"snow\":true,\"Temp (C)\":-9.0,\"Rel Hum (%)\":57,\"h)\":28,\"Visibility (km)\":25.0,\"Dew Point Temp (C)\":-16.0},{\"Stn Press (kPa)\":100.53,\"Time\":\"2012-01-03 02:00:00\",\"Weather\":\"Snow\",\"snow\":true,\"Temp (C)\":-10.5,\"Rel Hum (%)\":65,\"h)\":22,\"Visibility (km)\":12.9,\"Dew Point Temp (C)\":-15.8},{\"Stn Press (kPa)\":100.61,\"Time\":\"2012-01-03 03:00:00\",\"Weather\":\"Snow\",\"snow\":true,\"Temp (C)\":-11.3,\"Rel Hum (%)\":54,\"h)\":33,\"Visibility (km)\":25.0,\"Dew Point Temp (C)\":-18.7},{\"Stn Press (kPa)\":100.76,\"Time\":\"2012-01-03 05:00:00\",\"Weather\":\"Snow\",\"snow\":true,\"Temp (C)\":-12.9,\"Rel Hum (%)\":60,\"h)\":22,\"Visibility (km)\":25.0,\"Dew Point Temp (C)\":-19.1},{\"Stn Press (kPa)\":100.85,\"Time\":\"2012-01-03 06:00:00\",\"Weather\":\"Snow\",\"snow\":true,\"Temp (C)\":-13.3,\"Rel Hum (%)\":61,\"h)\":19,\"Visibility (km)\":25.0,\"Dew Point Temp (C)\":-19.3},{\"Stn Press (kPa)\":100.95,\"Time\":\"2012-01-03 07:00:00\",\"Weather\":\"Snow\",\"snow\":true,\"Temp (C)\":-14.0,\"Rel Hum (%)\":63,\"h)\":19,\"Visibility (km)\":25.0,\"Dew Point Temp (C)\":-19.5},{\"Stn Press (kPa)\":101.25,\"Time\":\"2012-01-04 12:00:00\",\"Weather\":\"Snow\",\"snow\":true,\"Temp (C)\":-13.7,\"Rel Hum (%)\":51,\"h)\":11,\"Visibility (km)\":24.1,\"Dew Point Temp (C)\":-21.7},{\"Stn Press (kPa)\":100.97,\"Time\":\"2012-01-04 14:00:00\",\"Weather\":\"Snow\",\"snow\":true,\"Temp (C)\":-11.3,\"Rel Hum (%)\":53,\"h)\":7,\"Visibility (km)\":19.3,\"Dew Point Temp (C)\":-19.0},{\"Stn Press (kPa)\":100.89,\"Time\":\"2012-01-04 15:00:00\",\"Weather\":\"Snow\",\"snow\":true,\"Temp (C)\":-10.2,\"Rel Hum (%)\":61,\"h)\":11,\"Visibility (km)\":9.7,\"Dew Point Temp (C)\":-16.3},{\"Stn Press (kPa)\":100.79,\"Time\":\"2012-01-04 16:00:00\",\"Weather\":\"Snow\",\"snow\":true,\"Temp (C)\":-9.4,\"Rel Hum (%)\":61,\"h)\":13,\"Visibility (km)\":19.3,\"Dew Point Temp (C)\":-15.5},{\"Stn Press (kPa)\":100.76,\"Time\":\"2012-01-04 17:00:00\",\"Weather\":\"Snow\",\"snow\":true,\"Temp (C)\":-8.9,\"Rel Hum (%)\":71,\"h)\":9,\"Visibility (km)\":4.8,\"Dew Point Temp (C)\":-13.2},{\"Stn Press (kPa)\":100.69,\"Time\":\"2012-01-04 18:00:00\",\"Weather\":\"Snow\",\"snow\":true,\"Temp (C)\":-8.9,\"Rel Hum (%)\":75,\"h)\":11,\"Visibility (km)\":9.7,\"Dew Point Temp (C)\":-12.6},{\"Stn Press (kPa)\":100.65,\"Time\":\"2012-01-04 19:00:00\",\"Weather\":\"Snow\",\"snow\":true,\"Temp (C)\":-8.4,\"Rel Hum (%)\":71,\"h)\":9,\"Visibility (km)\":16.1,\"Dew Point Temp (C)\":-12.7},{\"Stn Press (kPa)\":100.61,\"Time\":\"2012-01-04 20:00:00\",\"Weather\":\"Snow\",\"snow\":true,\"Temp (C)\":-7.8,\"Rel Hum (%)\":71,\"h)\":9,\"Visibility (km)\":16.1,\"Dew Point Temp (C)\":-12.1},{\"Stn Press (kPa)\":100.54,\"Time\":\"2012-01-04 21:00:00\",\"Weather\":\"Snow\",\"snow\":true,\"Temp (C)\":-7.6,\"Rel Hum (%)\":73,\"h)\":7,\"Visibility (km)\":11.3,\"Dew Point Temp (C)\":-11.6},{\"Stn Press (kPa)\":100.5,\"Time\":\"2012-01-04 22:00:00\",\"Weather\":\"Snow\",\"snow\":true,\"Temp (C)\":-9.5,\"Rel Hum (%)\":77,\"h)\":6,\"Visibility (km)\":9.7,\"Dew Point Temp (C)\":-12.7},{\"Stn Press (kPa)\":100.42,\"Time\":\"2012-01-04 23:00:00\",\"Weather\":\"Snow\",\"snow\":true,\"Temp (C)\":-9.6,\"Rel Hum (%)\":79,\"h)\":6,\"Visibility (km)\":9.7,\"Dew Point Temp (C)\":-12.6},{\"Stn Press (kPa)\":100.32,\"Time\":\"2012-01-05 00:00:00\",\"Weather\":\"Snow\",\"snow\":true,\"Temp (C)\":-8.8,\"Rel Hum (%)\":79,\"h)\":4,\"Visibility (km)\":9.7,\"Dew Point Temp (C)\":-11.7},{\"Stn Press (kPa)\":100.29,\"Time\":\"2012-01-05 01:00:00\",\"Weather\":\"Snow\",\"snow\":true,\"Temp (C)\":-7.5,\"Rel Hum (%)\":81,\"h)\":0,\"Visibility (km)\":9.7,\"Dew Point Temp (C)\":-10.2},{\"Stn Press (kPa)\":100.28,\"Time\":\"2012-01-05 02:00:00\",\"Weather\":\"Snow\",\"snow\":true,\"Temp (C)\":-5.4,\"Rel Hum (%)\":80,\"h)\":9,\"Visibility (km)\":8.0,\"Dew Point Temp (C)\":-8.3},{\"Stn Press (kPa)\":100.24,\"Time\":\"2012-01-05 03:00:00\",\"Weather\":\"Snow\",\"snow\":true,\"Temp (C)\":-5.0,\"Rel Hum (%)\":81,\"h)\":11,\"Visibility (km)\":9.7,\"Dew Point Temp (C)\":-7.7},{\"Stn Press (kPa)\":100.21,\"Time\":\"2012-01-05 04:00:00\",\"Weather\":\"Snow\",\"snow\":true,\"Temp (C)\":-4.1,\"Rel Hum (%)\":83,\"h)\":9,\"Visibility (km)\":4.8,\"Dew Point Temp (C)\":-6.5},{\"Stn Press (kPa)\":100.19,\"Time\":\"2012-01-05 05:00:00\",\"Weather\":\"Snow\",\"snow\":true,\"Temp (C)\":-7.0,\"Rel Hum (%)\":82,\"h)\":4,\"Visibility (km)\":4.0,\"Dew Point Temp (C)\":-9.5},{\"Stn Press (kPa)\":100.26,\"Time\":\"2012-01-05 06:00:00\",\"Weather\":\"Snow\",\"snow\":true,\"Temp (C)\":-8.2,\"Rel Hum (%)\":82,\"h)\":6,\"Visibility (km)\":6.4,\"Dew Point Temp (C)\":-10.7},{\"Stn Press (kPa)\":100.31,\"Time\":\"2012-01-05 07:00:00\",\"Weather\":\"Snow\",\"snow\":true,\"Temp (C)\":-7.1,\"Rel Hum (%)\":82,\"h)\":9,\"Visibility (km)\":9.7,\"Dew Point Temp (C)\":-9.7},{\"Stn Press (kPa)\":100.39,\"Time\":\"2012-01-05 08:00:00\",\"Weather\":\"Snow\",\"snow\":true,\"Temp (C)\":-6.1,\"Rel Hum (%)\":79,\"h)\":11,\"Visibility (km)\":9.7,\"Dew Point Temp (C)\":-9.1},{\"Stn Press (kPa)\":100.76,\"Time\":\"2012-01-06 03:00:00\",\"Weather\":\"Snow\",\"snow\":true,\"Temp (C)\":-10.6,\"Rel Hum (%)\":64,\"h)\":0,\"Visibility (km)\":9.7,\"Dew Point Temp (C)\":-16.0},{\"Stn Press (kPa)\":100.7,\"Time\":\"2012-01-06 04:00:00\",\"Weather\":\"Snow\",\"snow\":true,\"Temp (C)\":-11.3,\"Rel Hum (%)\":68,\"h)\":15,\"Visibility (km)\":3.2,\"Dew Point Temp (C)\":-16.1},{\"Stn Press (kPa)\":100.61,\"Time\":\"2012-01-06 05:00:00\",\"Weather\":\"Snow\",\"snow\":true,\"Temp (C)\":-11.8,\"Rel Hum (%)\":71,\"h)\":19,\"Visibility (km)\":2.8,\"Dew Point Temp (C)\":-16.0},{\"Stn Press (kPa)\":100.58,\"Time\":\"2012-01-06 06:00:00\",\"Weather\":\"Snow\",\"snow\":true,\"Temp (C)\":-12.0,\"Rel Hum (%)\":71,\"h)\":22,\"Visibility (km)\":4.8,\"Dew Point Temp (C)\":-16.2},{\"Stn Press (kPa)\":100.52,\"Time\":\"2012-01-06 07:00:00\",\"Weather\":\"Snow\",\"snow\":true,\"Temp (C)\":-14.4,\"Rel Hum (%)\":85,\"h)\":22,\"Visibility (km)\":2.4,\"Dew Point Temp (C)\":-16.3},{\"Stn Press (kPa)\":100.51,\"Time\":\"2012-01-06 08:00:00\",\"Weather\":\"Snow\",\"snow\":true,\"Temp (C)\":-12.3,\"Rel Hum (%)\":73,\"h)\":24,\"Visibility (km)\":11.3,\"Dew Point Temp (C)\":-16.2},{\"Stn Press (kPa)\":100.53,\"Time\":\"2012-01-06 09:00:00\",\"Weather\":\"Snow\",\"snow\":true,\"Temp (C)\":-12.5,\"Rel Hum (%)\":71,\"h)\":26,\"Visibility (km)\":19.3,\"Dew Point Temp (C)\":-16.7},{\"Stn Press (kPa)\":100.47,\"Time\":\"2012-01-06 10:00:00\",\"Weather\":\"Snow\",\"snow\":true,\"Temp (C)\":-12.3,\"Rel Hum (%)\":72,\"h)\":28,\"Visibility (km)\":16.1,\"Dew Point Temp (C)\":-16.3},{\"Stn Press (kPa)\":100.36,\"Time\":\"2012-01-06 11:00:00\",\"Weather\":\"Snow\",\"snow\":true,\"Temp (C)\":-12.0,\"Rel Hum (%)\":72,\"h)\":17,\"Visibility (km)\":24.1,\"Dew Point Temp (C)\":-16.0},{\"Stn Press (kPa)\":100.23,\"Time\":\"2012-01-06 12:00:00\",\"Weather\":\"Snow\",\"snow\":true,\"Temp (C)\":-11.7,\"Rel Hum (%)\":74,\"h)\":28,\"Visibility (km)\":19.3,\"Dew Point Temp (C)\":-15.4},{\"Stn Press (kPa)\":100.13,\"Time\":\"2012-01-06 13:00:00\",\"Weather\":\"Snow\",\"snow\":true,\"Temp (C)\":-11.9,\"Rel Hum (%)\":74,\"h)\":20,\"Visibility (km)\":24.1,\"Dew Point Temp (C)\":-15.6},{\"Stn Press (kPa)\":100.07,\"Time\":\"2012-01-06 14:00:00\",\"Weather\":\"Snow\",\"snow\":true,\"Temp (C)\":-11.2,\"Rel Hum (%)\":75,\"h)\":19,\"Visibility (km)\":19.3,\"Dew Point Temp (C)\":-14.8},{\"Stn Press (kPa)\":100.06,\"Time\":\"2012-01-06 15:00:00\",\"Weather\":\"Snow\",\"snow\":true,\"Temp (C)\":-11.5,\"Rel Hum (%)\":79,\"h)\":19,\"Visibility (km)\":12.9,\"Dew Point Temp (C)\":-14.4},{\"Stn Press (kPa)\":100.1,\"Time\":\"2012-01-06 16:00:00\",\"Weather\":\"Snow\",\"snow\":true,\"Temp (C)\":-11.6,\"Rel Hum (%)\":78,\"h)\":19,\"Visibility (km)\":19.3,\"Dew Point Temp (C)\":-14.7},{\"Stn Press (kPa)\":100.15,\"Time\":\"2012-01-06 17:00:00\",\"Weather\":\"Snow\",\"snow\":true,\"Temp (C)\":-11.2,\"Rel Hum (%)\":78,\"h)\":17,\"Visibility (km)\":25.0,\"Dew Point Temp (C)\":-14.3},{\"Stn Press (kPa)\":100.09,\"Time\":\"2012-01-07 14:00:00\",\"Weather\":\"Snow\",\"snow\":true,\"Temp (C)\":-4.4,\"Rel Hum (%)\":83,\"h)\":6,\"Visibility (km)\":8.0,\"Dew Point Temp (C)\":-6.9},{\"Stn Press (kPa)\":100.09,\"Time\":\"2012-01-07 15:00:00\",\"Weather\":\"Snow\",\"snow\":true,\"Temp (C)\":-3.7,\"Rel Hum (%)\":83,\"h)\":11,\"Visibility (km)\":8.0,\"Dew Point Temp (C)\":-6.1},{\"Stn Press (kPa)\":100.15,\"Time\":\"2012-01-07 16:00:00\",\"Weather\":\"Snow\",\"snow\":true,\"Temp (C)\":-3.6,\"Rel Hum (%)\":84,\"h)\":0,\"Visibility (km)\":8.0,\"Dew Point Temp (C)\":-5.9},{\"Stn Press (kPa)\":100.27,\"Time\":\"2012-01-07 17:00:00\",\"Weather\":\"Snow\",\"snow\":true,\"Temp (C)\":-3.1,\"Rel Hum (%)\":84,\"h)\":13,\"Visibility (km)\":8.0,\"Dew Point Temp (C)\":-5.4},{\"Stn Press (kPa)\":100.33,\"Time\":\"2012-01-07 18:00:00\",\"Weather\":\"Snow\",\"snow\":true,\"Temp (C)\":-3.2,\"Rel Hum (%)\":85,\"h)\":6,\"Visibility (km)\":9.7,\"Dew Point Temp (C)\":-5.3},{\"Stn Press (kPa)\":100.41,\"Time\":\"2012-01-07 19:00:00\",\"Weather\":\"Snow\",\"snow\":true,\"Temp (C)\":-3.0,\"Rel Hum (%)\":86,\"h)\":6,\"Visibility (km)\":8.0,\"Dew Point Temp (C)\":-5.0},{\"Stn Press (kPa)\":100.48,\"Time\":\"2012-01-07 20:00:00\",\"Weather\":\"Snow\",\"snow\":true,\"Temp (C)\":-1.8,\"Rel Hum (%)\":87,\"h)\":4,\"Visibility (km)\":9.7,\"Dew Point Temp (C)\":-3.7},{\"Stn Press (kPa)\":100.5,\"Time\":\"2012-01-07 21:00:00\",\"Weather\":\"Snow\",\"snow\":true,\"Temp (C)\":-1.3,\"Rel Hum (%)\":88,\"h)\":0,\"Visibility (km)\":6.4,\"Dew Point Temp (C)\":-3.1},{\"Stn Press (kPa)\":100.62,\"Time\":\"2012-01-07 23:00:00\",\"Weather\":\"Snow\",\"snow\":true,\"Temp (C)\":0.4,\"Rel Hum (%)\":87,\"h)\":22,\"Visibility (km)\":9.7,\"Dew Point Temp (C)\":-1.5},{\"Stn Press (kPa)\":101.7,\"Time\":\"2012-01-08 08:00:00\",\"Weather\":\"Snow\",\"snow\":true,\"Temp (C)\":-5.9,\"Rel Hum (%)\":69,\"h)\":11,\"Visibility (km)\":24.1,\"Dew Point Temp (C)\":-10.7},{\"Stn Press (kPa)\":101.81,\"Time\":\"2012-01-08 09:00:00\",\"Weather\":\"Snow\",\"snow\":true,\"Temp (C)\":-6.4,\"Rel Hum (%)\":65,\"h)\":17,\"Visibility (km)\":24.1,\"Dew Point Temp (C)\":-11.9},{\"Stn Press (kPa)\":101.89,\"Time\":\"2012-01-08 10:00:00\",\"Weather\":\"Snow\",\"snow\":true,\"Temp (C)\":-6.5,\"Rel Hum (%)\":67,\"h)\":17,\"Visibility (km)\":9.7,\"Dew Point Temp (C)\":-11.6},{\"Stn Press (kPa)\":101.92,\"Time\":\"2012-01-08 11:00:00\",\"Weather\":\"Snow\",\"snow\":true,\"Temp (C)\":-7.1,\"Rel Hum (%)\":65,\"h)\":22,\"Visibility (km)\":24.1,\"Dew Point Temp (C)\":-12.6},{\"Stn Press (kPa)\":101.9,\"Time\":\"2012-01-08 12:00:00\",\"Weather\":\"Snow\",\"snow\":true,\"Temp (C)\":-6.7,\"Rel Hum (%)\":66,\"h)\":15,\"Visibility (km)\":24.1,\"Dew Point Temp (C)\":-11.9},{\"Stn Press (kPa)\":101.74,\"Time\":\"2012-01-09 08:00:00\",\"Weather\":\"Snow\",\"snow\":true,\"Temp (C)\":-5.9,\"Rel Hum (%)\":70,\"h)\":13,\"Visibility (km)\":16.1,\"Dew Point Temp (C)\":-10.5},{\"Stn Press (kPa)\":101.68,\"Time\":\"2012-01-09 09:00:00\",\"Weather\":\"Snow\",\"snow\":true,\"Temp (C)\":-5.4,\"Rel Hum (%)\":75,\"h)\":11,\"Visibility (km)\":12.9,\"Dew Point Temp (C)\":-9.2},{\"Stn Press (kPa)\":101.64,\"Time\":\"2012-01-09 10:00:00\",\"Weather\":\"Snow\",\"snow\":true,\"Temp (C)\":-4.8,\"Rel Hum (%)\":76,\"h)\":9,\"Visibility (km)\":16.1,\"Dew Point Temp (C)\":-8.3},{\"Stn Press (kPa)\":101.54,\"Time\":\"2012-01-09 11:00:00\",\"Weather\":\"Snow\",\"snow\":true,\"Temp (C)\":-3.7,\"Rel Hum (%)\":77,\"h)\":7,\"Visibility (km)\":24.1,\"Dew Point Temp (C)\":-7.2},{\"Stn Press (kPa)\":100.28,\"Time\":\"2012-01-10 01:00:00\",\"Weather\":\"Snow\",\"snow\":true,\"Temp (C)\":2.3,\"Rel Hum (%)\":66,\"h)\":35,\"Visibility (km)\":25.0,\"Dew Point Temp (C)\":-3.4},{\"Stn Press (kPa)\":100.23,\"Time\":\"2012-01-10 02:00:00\",\"Weather\":\"Snow\",\"snow\":true,\"Temp (C)\":1.4,\"Rel Hum (%)\":75,\"h)\":19,\"Visibility (km)\":6.4,\"Dew Point Temp (C)\":-2.5},{\"Stn Press (kPa)\":100.16,\"Time\":\"2012-01-10 03:00:00\",\"Weather\":\"Snow\",\"snow\":true,\"Temp (C)\":1.6,\"Rel Hum (%)\":77,\"h)\":28,\"Visibility (km)\":25.0,\"Dew Point Temp (C)\":-2.0},{\"Stn Press (kPa)\":100.04,\"Time\":\"2012-01-10 06:00:00\",\"Weather\":\"Snow\",\"snow\":true,\"Temp (C)\":0.7,\"Rel Hum (%)\":87,\"h)\":30,\"Visibility (km)\":8.0,\"Dew Point Temp (C)\":-1.2},{\"Stn Press (kPa)\":100.08,\"Time\":\"2012-01-10 07:00:00\",\"Weather\":\"Snow\",\"snow\":true,\"Temp (C)\":1.5,\"Rel Hum (%)\":85,\"h)\":20,\"Visibility (km)\":8.0,\"Dew Point Temp (C)\":-0.7},{\"Stn Press (kPa)\":100.69,\"Time\":\"2012-01-12 07:00:00\",\"Weather\":\"Snow\",\"snow\":true,\"Temp (C)\":-7.3,\"Rel Hum (%)\":65,\"h)\":28,\"Visibility (km)\":16.1,\"Dew Point Temp (C)\":-12.7},{\"Stn Press (kPa)\":100.61,\"Time\":\"2012-01-12 08:00:00\",\"Weather\":\"Snow\",\"snow\":true,\"Temp (C)\":-7.1,\"Rel Hum (%)\":72,\"h)\":33,\"Visibility (km)\":6.4,\"Dew Point Temp (C)\":-11.3},{\"Stn Press (kPa)\":100.54,\"Time\":\"2012-01-12 09:00:00\",\"Weather\":\"Snow\",\"snow\":true,\"Temp (C)\":-6.8,\"Rel Hum (%)\":75,\"h)\":33,\"Visibility (km)\":3.2,\"Dew Point Temp (C)\":-10.5},{\"Stn Press (kPa)\":100.46,\"Time\":\"2012-01-12 10:00:00\",\"Weather\":\"Snow\",\"snow\":true,\"Temp (C)\":-6.2,\"Rel Hum (%)\":77,\"h)\":35,\"Visibility (km)\":4.8,\"Dew Point Temp (C)\":-9.6},{\"Stn Press (kPa)\":100.35,\"Time\":\"2012-01-12 11:00:00\",\"Weather\":\"Snow\",\"snow\":true,\"Temp (C)\":-6.0,\"Rel Hum (%)\":76,\"h)\":32,\"Visibility (km)\":2.0,\"Dew Point Temp (C)\":-9.5},{\"Stn Press (kPa)\":100.22,\"Time\":\"2012-01-12 12:00:00\",\"Weather\":\"Snow\",\"snow\":true,\"Temp (C)\":-5.8,\"Rel Hum (%)\":79,\"h)\":32,\"Visibility (km)\":4.8,\"Dew Point Temp (C)\":-8.9},{\"Stn Press (kPa)\":100.09,\"Time\":\"2012-01-12 13:00:00\",\"Weather\":\"Snow\",\"snow\":true,\"Temp (C)\":-5.8,\"Rel Hum (%)\":81,\"h)\":33,\"Visibility (km)\":1.2,\"Dew Point Temp (C)\":-8.6},{\"Stn Press (kPa)\":99.97,\"Time\":\"2012-01-12 14:00:00\",\"Weather\":\"Snow\",\"snow\":true,\"Temp (C)\":-5.7,\"Rel Hum (%)\":81,\"h)\":28,\"Visibility (km)\":1.2,\"Dew Point Temp (C)\":-8.5},{\"Stn Press (kPa)\":99.83,\"Time\":\"2012-01-12 17:00:00\",\"Weather\":\"Snow\",\"snow\":true,\"Temp (C)\":-5.1,\"Rel Hum (%)\":83,\"h)\":33,\"Visibility (km)\":1.0,\"Dew Point Temp (C)\":-7.6},{\"Stn Press (kPa)\":99.76,\"Time\":\"2012-01-12 18:00:00\",\"Weather\":\"Snow\",\"snow\":true,\"Temp (C)\":-5.4,\"Rel Hum (%)\":81,\"h)\":35,\"Visibility (km)\":1.2,\"Dew Point Temp (C)\":-8.1},{\"Stn Press (kPa)\":99.72,\"Time\":\"2012-01-12 19:00:00\",\"Weather\":\"Snow\",\"snow\":true,\"Temp (C)\":-5.0,\"Rel Hum (%)\":82,\"h)\":30,\"Visibility (km)\":4.0,\"Dew Point Temp (C)\":-7.6},{\"Stn Press (kPa)\":99.64,\"Time\":\"2012-01-12 20:00:00\",\"Weather\":\"Snow\",\"snow\":true,\"Temp (C)\":-5.0,\"Rel Hum (%)\":81,\"h)\":28,\"Visibility (km)\":6.4,\"Dew Point Temp (C)\":-7.8},{\"Stn Press (kPa)\":99.56,\"Time\":\"2012-01-12 21:00:00\",\"Weather\":\"Snow\",\"snow\":true,\"Temp (C)\":-4.7,\"Rel Hum (%)\":80,\"h)\":24,\"Visibility (km)\":6.4,\"Dew Point Temp (C)\":-7.6},{\"Stn Press (kPa)\":99.47,\"Time\":\"2012-01-12 22:00:00\",\"Weather\":\"Snow\",\"snow\":true,\"Temp (C)\":-4.1,\"Rel Hum (%)\":81,\"h)\":26,\"Visibility (km)\":25.0,\"Dew Point Temp (C)\":-6.8},{\"Stn Press (kPa)\":99.4,\"Time\":\"2012-01-12 23:00:00\",\"Weather\":\"Snow\",\"snow\":true,\"Temp (C)\":-4.6,\"Rel Hum (%)\":83,\"h)\":28,\"Visibility (km)\":3.2,\"Dew Point Temp (C)\":-7.0},{\"Stn Press (kPa)\":99.3,\"Time\":\"2012-01-13 00:00:00\",\"Weather\":\"Snow\",\"snow\":true,\"Temp (C)\":-5.1,\"Rel Hum (%)\":83,\"h)\":28,\"Visibility (km)\":2.4,\"Dew Point Temp (C)\":-7.5},{\"Stn Press (kPa)\":99.24,\"Time\":\"2012-01-13 01:00:00\",\"Weather\":\"Snow\",\"snow\":true,\"Temp (C)\":-5.0,\"Rel Hum (%)\":81,\"h)\":24,\"Visibility (km)\":4.8,\"Dew Point Temp (C)\":-7.7},{\"Stn Press (kPa)\":99.22,\"Time\":\"2012-01-13 02:00:00\",\"Weather\":\"Snow\",\"snow\":true,\"Temp (C)\":-4.8,\"Rel Hum (%)\":81,\"h)\":22,\"Visibility (km)\":25.0,\"Dew Point Temp (C)\":-7.5},{\"Stn Press (kPa)\":98.07,\"Time\":\"2012-01-13 12:00:00\",\"Weather\":\"Snow\",\"snow\":true,\"Temp (C)\":-4.8,\"Rel Hum (%)\":81,\"h)\":24,\"Visibility (km)\":2.0,\"Dew Point Temp (C)\":-7.5},{\"Stn Press (kPa)\":97.99,\"Time\":\"2012-01-13 13:00:00\",\"Weather\":\"Snow\",\"snow\":true,\"Temp (C)\":-4.9,\"Rel Hum (%)\":83,\"h)\":20,\"Visibility (km)\":1.2,\"Dew Point Temp (C)\":-7.3},{\"Stn Press (kPa)\":98.07,\"Time\":\"2012-01-13 14:00:00\",\"Weather\":\"Snow\",\"snow\":true,\"Temp (C)\":-4.8,\"Rel Hum (%)\":85,\"h)\":6,\"Visibility (km)\":2.0,\"Dew Point Temp (C)\":-7.0},{\"Stn Press (kPa)\":98.1,\"Time\":\"2012-01-13 15:00:00\",\"Weather\":\"Snow\",\"snow\":true,\"Temp (C)\":-4.3,\"Rel Hum (%)\":85,\"h)\":13,\"Visibility (km)\":8.0,\"Dew Point Temp (C)\":-6.5},{\"Stn Press (kPa)\":98.16,\"Time\":\"2012-01-13 16:00:00\",\"Weather\":\"Snow\",\"snow\":true,\"Temp (C)\":-3.7,\"Rel Hum (%)\":84,\"h)\":11,\"Visibility (km)\":6.4,\"Dew Point Temp (C)\":-6.0},{\"Stn Press (kPa)\":98.23,\"Time\":\"2012-01-13 17:00:00\",\"Weather\":\"Snow\",\"snow\":true,\"Temp (C)\":-2.9,\"Rel Hum (%)\":87,\"h)\":15,\"Visibility (km)\":1.6,\"Dew Point Temp (C)\":-4.8},{\"Stn Press (kPa)\":98.32,\"Time\":\"2012-01-13 18:00:00\",\"Weather\":\"Snow\",\"snow\":true,\"Temp (C)\":-1.7,\"Rel Hum (%)\":89,\"h)\":26,\"Visibility (km)\":16.1,\"Dew Point Temp (C)\":-3.3},{\"Stn Press (kPa)\":98.6,\"Time\":\"2012-01-13 19:00:00\",\"Weather\":\"Snow\",\"snow\":true,\"Temp (C)\":-2.5,\"Rel Hum (%)\":86,\"h)\":33,\"Visibility (km)\":2.0,\"Dew Point Temp (C)\":-4.5},{\"Stn Press (kPa)\":98.89,\"Time\":\"2012-01-13 20:00:00\",\"Weather\":\"Snow\",\"snow\":true,\"Temp (C)\":-3.2,\"Rel Hum (%)\":87,\"h)\":32,\"Visibility (km)\":2.0,\"Dew Point Temp (C)\":-5.1},{\"Stn Press (kPa)\":99.09,\"Time\":\"2012-01-13 21:00:00\",\"Weather\":\"Snow\",\"snow\":true,\"Temp (C)\":-4.8,\"Rel Hum (%)\":79,\"h)\":37,\"Visibility (km)\":4.8,\"Dew Point Temp (C)\":-7.9},{\"Stn Press (kPa)\":99.28,\"Time\":\"2012-01-13 22:00:00\",\"Weather\":\"Snow\",\"snow\":true,\"Temp (C)\":-5.5,\"Rel Hum (%)\":70,\"h)\":32,\"Visibility (km)\":12.9,\"Dew Point Temp (C)\":-10.1},{\"Stn Press (kPa)\":99.51,\"Time\":\"2012-01-13 23:00:00\",\"Weather\":\"Snow\",\"snow\":true,\"Temp (C)\":-7.6,\"Rel Hum (%)\":75,\"h)\":35,\"Visibility (km)\":9.7,\"Dew Point Temp (C)\":-11.2},{\"Stn Press (kPa)\":99.67,\"Time\":\"2012-01-14 00:00:00\",\"Weather\":\"Snow\",\"snow\":true,\"Temp (C)\":-8.9,\"Rel Hum (%)\":72,\"h)\":39,\"Visibility (km)\":9.7,\"Dew Point Temp (C)\":-13.1},{\"Stn Press (kPa)\":99.85,\"Time\":\"2012-01-14 01:00:00\",\"Weather\":\"Snow\",\"snow\":true,\"Temp (C)\":-9.7,\"Rel Hum (%)\":69,\"h)\":24,\"Visibility (km)\":12.9,\"Dew Point Temp (C)\":-14.3},{\"Stn Press (kPa)\":100.01,\"Time\":\"2012-01-14 02:00:00\",\"Weather\":\"Snow\",\"snow\":true,\"Temp (C)\":-11.2,\"Rel Hum (%)\":70,\"h)\":28,\"Visibility (km)\":9.7,\"Dew Point Temp (C)\":-15.5},{\"Stn Press (kPa)\":100.16,\"Time\":\"2012-01-14 03:00:00\",\"Weather\":\"Snow\",\"snow\":true,\"Temp (C)\":-12.0,\"Rel Hum (%)\":71,\"h)\":24,\"Visibility (km)\":8.0,\"Dew Point Temp (C)\":-16.2},{\"Stn Press (kPa)\":100.26,\"Time\":\"2012-01-14 04:00:00\",\"Weather\":\"Snow\",\"snow\":true,\"Temp (C)\":-13.4,\"Rel Hum (%)\":63,\"h)\":20,\"Visibility (km)\":16.1,\"Dew Point Temp (C)\":-18.9},{\"Stn Press (kPa)\":100.69,\"Time\":\"2012-01-17 07:00:00\",\"Weather\":\"Snow\",\"snow\":true,\"Temp (C)\":-7.5,\"Rel Hum (%)\":85,\"h)\":9,\"Visibility (km)\":2.0,\"Dew Point Temp (C)\":-9.6},{\"Stn Press (kPa)\":100.65,\"Time\":\"2012-01-17 08:00:00\",\"Weather\":\"Snow\",\"snow\":true,\"Temp (C)\":-7.4,\"Rel Hum (%)\":84,\"h)\":9,\"Visibility (km)\":2.4,\"Dew Point Temp (C)\":-9.6},{\"Stn Press (kPa)\":100.59,\"Time\":\"2012-01-17 09:00:00\",\"Weather\":\"Snow\",\"snow\":true,\"Temp (C)\":-7.0,\"Rel Hum (%)\":82,\"h)\":15,\"Visibility (km)\":4.0,\"Dew Point Temp (C)\":-9.5},{\"Stn Press (kPa)\":100.6,\"Time\":\"2012-01-17 10:00:00\",\"Weather\":\"Snow\",\"snow\":true,\"Temp (C)\":-6.5,\"Rel Hum (%)\":82,\"h)\":15,\"Visibility (km)\":1.2,\"Dew Point Temp (C)\":-9.0},{\"Stn Press (kPa)\":100.53,\"Time\":\"2012-01-17 11:00:00\",\"Weather\":\"Snow\",\"snow\":true,\"Temp (C)\":-6.1,\"Rel Hum (%)\":83,\"h)\":15,\"Visibility (km)\":2.4,\"Dew Point Temp (C)\":-8.5},{\"Stn Press (kPa)\":100.38,\"Time\":\"2012-01-17 12:00:00\",\"Weather\":\"Snow\",\"snow\":true,\"Temp (C)\":-5.3,\"Rel Hum (%)\":82,\"h)\":19,\"Visibility (km)\":2.8,\"Dew Point Temp (C)\":-7.9},{\"Stn Press (kPa)\":100.23,\"Time\":\"2012-01-17 13:00:00\",\"Weather\":\"Snow\",\"snow\":true,\"Temp (C)\":-5.1,\"Rel Hum (%)\":82,\"h)\":22,\"Visibility (km)\":2.4,\"Dew Point Temp (C)\":-7.7},{\"Stn Press (kPa)\":100.05,\"Time\":\"2012-01-17 14:00:00\",\"Weather\":\"Snow\",\"snow\":true,\"Temp (C)\":-4.3,\"Rel Hum (%)\":85,\"h)\":22,\"Visibility (km)\":1.6,\"Dew Point Temp (C)\":-6.5},{\"Stn Press (kPa)\":99.9,\"Time\":\"2012-01-17 15:00:00\",\"Weather\":\"Snow\",\"snow\":true,\"Temp (C)\":-3.7,\"Rel Hum (%)\":84,\"h)\":24,\"Visibility (km)\":1.2,\"Dew Point Temp (C)\":-6.0},{\"Stn Press (kPa)\":99.69,\"Time\":\"2012-01-17 16:00:00\",\"Weather\":\"Snow\",\"snow\":true,\"Temp (C)\":-3.5,\"Rel Hum (%)\":83,\"h)\":28,\"Visibility (km)\":1.2,\"Dew Point Temp (C)\":-6.0},{\"Stn Press (kPa)\":99.57,\"Time\":\"2012-01-17 17:00:00\",\"Weather\":\"Snow\",\"snow\":true,\"Temp (C)\":-3.6,\"Rel Hum (%)\":84,\"h)\":22,\"Visibility (km)\":1.6,\"Dew Point Temp (C)\":-5.9},{\"Stn Press (kPa)\":99.38,\"Time\":\"2012-01-17 18:00:00\",\"Weather\":\"Snow\",\"snow\":true,\"Temp (C)\":-3.5,\"Rel Hum (%)\":84,\"h)\":22,\"Visibility (km)\":2.4,\"Dew Point Temp (C)\":-5.8},{\"Stn Press (kPa)\":99.36,\"Time\":\"2012-01-18 04:00:00\",\"Weather\":\"Snow\",\"snow\":true,\"Temp (C)\":-6.1,\"Rel Hum (%)\":69,\"h)\":48,\"Visibility (km)\":25.0,\"Dew Point Temp (C)\":-10.9},{\"Stn Press (kPa)\":99.7,\"Time\":\"2012-01-18 05:00:00\",\"Weather\":\"Snow\",\"snow\":true,\"Temp (C)\":-7.7,\"Rel Hum (%)\":69,\"h)\":46,\"Visibility (km)\":19.3,\"Dew Point Temp (C)\":-12.4},{\"Stn Press (kPa)\":100.61,\"Time\":\"2012-01-19 19:00:00\",\"Weather\":\"Snow\",\"snow\":true,\"Temp (C)\":-3.6,\"Rel Hum (%)\":49,\"h)\":30,\"Visibility (km)\":25.0,\"Dew Point Temp (C)\":-12.7},{\"Stn Press (kPa)\":100.63,\"Time\":\"2012-01-19 20:00:00\",\"Weather\":\"Snow\",\"snow\":true,\"Temp (C)\":-3.7,\"Rel Hum (%)\":53,\"h)\":30,\"Visibility (km)\":16.1,\"Dew Point Temp (C)\":-11.9},{\"Stn Press (kPa)\":100.6,\"Time\":\"2012-01-19 21:00:00\",\"Weather\":\"Snow\",\"snow\":true,\"Temp (C)\":-5.0,\"Rel Hum (%)\":77,\"h)\":24,\"Visibility (km)\":2.0,\"Dew Point Temp (C)\":-8.4},{\"Stn Press (kPa)\":100.51,\"Time\":\"2012-01-19 22:00:00\",\"Weather\":\"Snow\",\"snow\":true,\"Temp (C)\":-4.2,\"Rel Hum (%)\":68,\"h)\":32,\"Visibility (km)\":25.0,\"Dew Point Temp (C)\":-9.3},{\"Stn Press (kPa)\":100.47,\"Time\":\"2012-01-19 23:00:00\",\"Weather\":\"Snow\",\"snow\":true,\"Temp (C)\":-4.1,\"Rel Hum (%)\":69,\"h)\":26,\"Visibility (km)\":25.0,\"Dew Point Temp (C)\":-8.9},{\"Stn Press (kPa)\":100.54,\"Time\":\"2012-01-20 01:00:00\",\"Weather\":\"Snow\",\"snow\":true,\"Temp (C)\":-4.1,\"Rel Hum (%)\":73,\"h)\":20,\"Visibility (km)\":25.0,\"Dew Point Temp (C)\":-8.3},{\"Stn Press (kPa)\":100.64,\"Time\":\"2012-01-20 02:00:00\",\"Weather\":\"Snow\",\"snow\":true,\"Temp (C)\":-3.9,\"Rel Hum (%)\":73,\"h)\":22,\"Visibility (km)\":9.7,\"Dew Point Temp (C)\":-8.1},{\"Stn Press (kPa)\":100.87,\"Time\":\"2012-01-20 04:00:00\",\"Weather\":\"Snow\",\"snow\":true,\"Temp (C)\":-6.0,\"Rel Hum (%)\":72,\"h)\":19,\"Visibility (km)\":16.1,\"Dew Point Temp (C)\":-10.2},{\"Stn Press (kPa)\":100.98,\"Time\":\"2012-01-20 05:00:00\",\"Weather\":\"Snow\",\"snow\":true,\"Temp (C)\":-6.3,\"Rel Hum (%)\":63,\"h)\":33,\"Visibility (km)\":25.0,\"Dew Point Temp (C)\":-12.2},{\"Stn Press (kPa)\":102.11,\"Time\":\"2012-01-21 09:00:00\",\"Weather\":\"Snow\",\"snow\":true,\"Temp (C)\":-15.9,\"Rel Hum (%)\":65,\"h)\":13,\"Visibility (km)\":24.1,\"Dew Point Temp (C)\":-21.0},{\"Stn Press (kPa)\":102.12,\"Time\":\"2012-01-21 10:00:00\",\"Weather\":\"Snow\",\"snow\":true,\"Temp (C)\":-16.3,\"Rel Hum (%)\":65,\"h)\":17,\"Visibility (km)\":24.1,\"Dew Point Temp (C)\":-21.4},{\"Stn Press (kPa)\":102.09,\"Time\":\"2012-01-21 11:00:00\",\"Weather\":\"Snow\",\"snow\":true,\"Temp (C)\":-15.9,\"Rel Hum (%)\":64,\"h)\":19,\"Visibility (km)\":24.1,\"Dew Point Temp (C)\":-21.2},{\"Stn Press (kPa)\":100.8,\"Time\":\"2012-01-24 15:00:00\",\"Weather\":\"Snow\",\"snow\":true,\"Temp (C)\":1.9,\"Rel Hum (%)\":74,\"h)\":26,\"Visibility (km)\":19.3,\"Dew Point Temp (C)\":-2.2},{\"Stn Press (kPa)\":100.88,\"Time\":\"2012-01-24 17:00:00\",\"Weather\":\"Snow\",\"snow\":true,\"Temp (C)\":1.6,\"Rel Hum (%)\":73,\"h)\":26,\"Visibility (km)\":24.1,\"Dew Point Temp (C)\":-2.8},{\"Stn Press (kPa)\":100.95,\"Time\":\"2012-01-24 18:00:00\",\"Weather\":\"Snow\",\"snow\":true,\"Temp (C)\":1.5,\"Rel Hum (%)\":72,\"h)\":22,\"Visibility (km)\":25.0,\"Dew Point Temp (C)\":-2.9},{\"Stn Press (kPa)\":101.01,\"Time\":\"2012-01-24 19:00:00\",\"Weather\":\"Snow\",\"snow\":true,\"Temp (C)\":1.5,\"Rel Hum (%)\":71,\"h)\":32,\"Visibility (km)\":25.0,\"Dew Point Temp (C)\":-3.2},{\"Stn Press (kPa)\":101.16,\"Time\":\"2012-01-24 23:00:00\",\"Weather\":\"Snow\",\"snow\":true,\"Temp (C)\":1.0,\"Rel Hum (%)\":72,\"h)\":28,\"Visibility (km)\":25.0,\"Dew Point Temp (C)\":-3.4},{\"Stn Press (kPa)\":101.15,\"Time\":\"2012-01-26 20:00:00\",\"Weather\":\"Snow\",\"snow\":true,\"Temp (C)\":-4.6,\"Rel Hum (%)\":52,\"h)\":17,\"Visibility (km)\":25.0,\"Dew Point Temp (C)\":-13.0},{\"Stn Press (kPa)\":100.99,\"Time\":\"2012-01-26 21:00:00\",\"Weather\":\"Snow\",\"snow\":true,\"Temp (C)\":-5.2,\"Rel Hum (%)\":58,\"h)\":20,\"Visibility (km)\":25.0,\"Dew Point Temp (C)\":-12.1},{\"Stn Press (kPa)\":100.92,\"Time\":\"2012-01-26 22:00:00\",\"Weather\":\"Snow\",\"snow\":true,\"Temp (C)\":-5.3,\"Rel Hum (%)\":68,\"h)\":22,\"Visibility (km)\":16.1,\"Dew Point Temp (C)\":-10.2},{\"Stn Press (kPa)\":100.81,\"Time\":\"2012-01-26 23:00:00\",\"Weather\":\"Snow\",\"snow\":true,\"Temp (C)\":-5.8,\"Rel Hum (%)\":77,\"h)\":22,\"Visibility (km)\":6.4,\"Dew Point Temp (C)\":-9.1},{\"Stn Press (kPa)\":100.68,\"Time\":\"2012-01-27 00:00:00\",\"Weather\":\"Snow\",\"snow\":true,\"Temp (C)\":-5.7,\"Rel Hum (%)\":79,\"h)\":28,\"Visibility (km)\":4.8,\"Dew Point Temp (C)\":-8.8},{\"Stn Press (kPa)\":100.58,\"Time\":\"2012-01-27 01:00:00\",\"Weather\":\"Snow\",\"snow\":true,\"Temp (C)\":-5.5,\"Rel Hum (%)\":81,\"h)\":24,\"Visibility (km)\":2.4,\"Dew Point Temp (C)\":-8.3},{\"Stn Press (kPa)\":100.47,\"Time\":\"2012-01-27 02:00:00\",\"Weather\":\"Snow\",\"snow\":true,\"Temp (C)\":-5.5,\"Rel Hum (%)\":81,\"h)\":26,\"Visibility (km)\":3.2,\"Dew Point Temp (C)\":-8.2},{\"Stn Press (kPa)\":100.33,\"Time\":\"2012-01-27 03:00:00\",\"Weather\":\"Snow\",\"snow\":true,\"Temp (C)\":-5.3,\"Rel Hum (%)\":81,\"h)\":28,\"Visibility (km)\":4.0,\"Dew Point Temp (C)\":-8.1},{\"Stn Press (kPa)\":100.13,\"Time\":\"2012-01-27 04:00:00\",\"Weather\":\"Snow\",\"snow\":true,\"Temp (C)\":-4.9,\"Rel Hum (%)\":81,\"h)\":26,\"Visibility (km)\":2.4,\"Dew Point Temp (C)\":-7.6},{\"Stn Press (kPa)\":99.98,\"Time\":\"2012-01-27 05:00:00\",\"Weather\":\"Snow\",\"snow\":true,\"Temp (C)\":-4.0,\"Rel Hum (%)\":82,\"h)\":22,\"Visibility (km)\":16.1,\"Dew Point Temp (C)\":-6.6},{\"Stn Press (kPa)\":99.8,\"Time\":\"2012-01-27 06:00:00\",\"Weather\":\"Snow\",\"snow\":true,\"Temp (C)\":-2.1,\"Rel Hum (%)\":86,\"h)\":19,\"Visibility (km)\":19.3,\"Dew Point Temp (C)\":-4.2},{\"Stn Press (kPa)\":98.97,\"Time\":\"2012-01-27 17:00:00\",\"Weather\":\"Snow\",\"snow\":true,\"Temp (C)\":-0.6,\"Rel Hum (%)\":88,\"h)\":22,\"Visibility (km)\":2.8,\"Dew Point Temp (C)\":-2.3},{\"Stn Press (kPa)\":99.13,\"Time\":\"2012-01-27 18:00:00\",\"Weather\":\"Snow\",\"snow\":true,\"Temp (C)\":-0.3,\"Rel Hum (%)\":90,\"h)\":11,\"Visibility (km)\":2.4,\"Dew Point Temp (C)\":-1.8},{\"Stn Press (kPa)\":99.31,\"Time\":\"2012-01-27 19:00:00\",\"Weather\":\"Snow\",\"snow\":true,\"Temp (C)\":0.1,\"Rel Hum (%)\":88,\"h)\":30,\"Visibility (km)\":12.9,\"Dew Point Temp (C)\":-1.6},{\"Stn Press (kPa)\":100.34,\"Time\":\"2012-01-28 01:00:00\",\"Weather\":\"Snow\",\"snow\":true,\"Temp (C)\":-0.2,\"Rel Hum (%)\":82,\"h)\":22,\"Visibility (km)\":25.0,\"Dew Point Temp (C)\":-2.9},{\"Stn Press (kPa)\":100.09,\"Time\":\"2012-01-28 19:00:00\",\"Weather\":\"Snow\",\"snow\":true,\"Temp (C)\":2.2,\"Rel Hum (%)\":71,\"h)\":19,\"Visibility (km)\":19.3,\"Dew Point Temp (C)\":-2.6},{\"Stn Press (kPa)\":100.05,\"Time\":\"2012-01-28 20:00:00\",\"Weather\":\"Snow\",\"snow\":true,\"Temp (C)\":1.7,\"Rel Hum (%)\":81,\"h)\":24,\"Visibility (km)\":19.3,\"Dew Point Temp (C)\":-1.2},{\"Stn Press (kPa)\":101.81,\"Time\":\"2012-01-31 02:00:00\",\"Weather\":\"Snow\",\"snow\":true,\"Temp (C)\":-6.5,\"Rel Hum (%)\":59,\"h)\":11,\"Visibility (km)\":25.0,\"Dew Point Temp (C)\":-13.1},{\"Stn Press (kPa)\":101.76,\"Time\":\"2012-01-31 03:00:00\",\"Weather\":\"Snow\",\"snow\":true,\"Temp (C)\":-6.8,\"Rel Hum (%)\":64,\"h)\":15,\"Visibility (km)\":19.3,\"Dew Point Temp (C)\":-12.4},{\"Stn Press (kPa)\":101.71,\"Time\":\"2012-01-31 04:00:00\",\"Weather\":\"Snow\",\"snow\":true,\"Temp (C)\":-7.1,\"Rel Hum (%)\":66,\"h)\":17,\"Visibility (km)\":8.0,\"Dew Point Temp (C)\":-12.4},{\"Stn Press (kPa)\":101.7,\"Time\":\"2012-01-31 05:00:00\",\"Weather\":\"Snow\",\"snow\":true,\"Temp (C)\":-7.1,\"Rel Hum (%)\":67,\"h)\":17,\"Visibility (km)\":9.7,\"Dew Point Temp (C)\":-12.2},{\"Stn Press (kPa)\":101.65,\"Time\":\"2012-01-31 06:00:00\",\"Weather\":\"Snow\",\"snow\":true,\"Temp (C)\":-7.0,\"Rel Hum (%)\":69,\"h)\":13,\"Visibility (km)\":6.4,\"Dew Point Temp (C)\":-11.8},{\"Stn Press (kPa)\":101.6,\"Time\":\"2012-01-31 07:00:00\",\"Weather\":\"Snow\",\"snow\":true,\"Temp (C)\":-9.6,\"Rel Hum (%)\":73,\"h)\":17,\"Visibility (km)\":12.9,\"Dew Point Temp (C)\":-13.5},{\"Stn Press (kPa)\":101.61,\"Time\":\"2012-01-31 08:00:00\",\"Weather\":\"Snow\",\"snow\":true,\"Temp (C)\":-9.8,\"Rel Hum (%)\":72,\"h)\":19,\"Visibility (km)\":16.1,\"Dew Point Temp (C)\":-13.9},{\"Stn Press (kPa)\":101.59,\"Time\":\"2012-01-31 09:00:00\",\"Weather\":\"Snow\",\"snow\":true,\"Temp (C)\":-10.1,\"Rel Hum (%)\":71,\"h)\":17,\"Visibility (km)\":24.1,\"Dew Point Temp (C)\":-14.4},{\"Stn Press (kPa)\":101.36,\"Time\":\"2012-01-31 12:00:00\",\"Weather\":\"Snow\",\"snow\":true,\"Temp (C)\":-8.6,\"Rel Hum (%)\":69,\"h)\":22,\"Visibility (km)\":4.0,\"Dew Point Temp (C)\":-13.3},{\"Stn Press (kPa)\":101.29,\"Time\":\"2012-01-31 13:00:00\",\"Weather\":\"Snow\",\"snow\":true,\"Temp (C)\":-8.3,\"Rel Hum (%)\":73,\"h)\":20,\"Visibility (km)\":1.6,\"Dew Point Temp (C)\":-12.3},{\"Stn Press (kPa)\":101.23,\"Time\":\"2012-01-31 14:00:00\",\"Weather\":\"Snow\",\"snow\":true,\"Temp (C)\":-8.4,\"Rel Hum (%)\":75,\"h)\":20,\"Visibility (km)\":1.2,\"Dew Point Temp (C)\":-12.1},{\"Stn Press (kPa)\":101.22,\"Time\":\"2012-01-31 15:00:00\",\"Weather\":\"Snow\",\"snow\":true,\"Temp (C)\":-8.2,\"Rel Hum (%)\":74,\"h)\":17,\"Visibility (km)\":1.0,\"Dew Point Temp (C)\":-12.0},{\"Stn Press (kPa)\":101.2,\"Time\":\"2012-01-31 16:00:00\",\"Weather\":\"Snow\",\"snow\":true,\"Temp (C)\":-8.0,\"Rel Hum (%)\":76,\"h)\":20,\"Visibility (km)\":1.0,\"Dew Point Temp (C)\":-11.5},{\"Stn Press (kPa)\":101.19,\"Time\":\"2012-01-31 17:00:00\",\"Weather\":\"Snow\",\"snow\":true,\"Temp (C)\":-7.7,\"Rel Hum (%)\":77,\"h)\":19,\"Visibility (km)\":1.0,\"Dew Point Temp (C)\":-11.1},{\"Stn Press (kPa)\":101.18,\"Time\":\"2012-01-31 18:00:00\",\"Weather\":\"Snow\",\"snow\":true,\"Temp (C)\":-7.8,\"Rel Hum (%)\":77,\"h)\":20,\"Visibility (km)\":1.6,\"Dew Point Temp (C)\":-11.2},{\"Stn Press (kPa)\":101.14,\"Time\":\"2012-01-31 19:00:00\",\"Weather\":\"Snow\",\"snow\":true,\"Temp (C)\":-7.7,\"Rel Hum (%)\":78,\"h)\":19,\"Visibility (km)\":1.6,\"Dew Point Temp (C)\":-10.9},{\"Stn Press (kPa)\":101.09,\"Time\":\"2012-01-31 20:00:00\",\"Weather\":\"Snow\",\"snow\":true,\"Temp (C)\":-7.4,\"Rel Hum (%)\":77,\"h)\":20,\"Visibility (km)\":1.6,\"Dew Point Temp (C)\":-10.7},{\"Stn Press (kPa)\":100.95,\"Time\":\"2012-01-31 22:00:00\",\"Weather\":\"Snow\",\"snow\":true,\"Temp (C)\":-7.1,\"Rel Hum (%)\":77,\"h)\":19,\"Visibility (km)\":9.7,\"Dew Point Temp (C)\":-10.4},{\"Stn Press (kPa)\":100.82,\"Time\":\"2012-02-01 00:00:00\",\"Weather\":\"Snow\",\"snow\":true,\"Temp (C)\":-6.7,\"Rel Hum (%)\":79,\"h)\":19,\"Visibility (km)\":11.3,\"Dew Point Temp (C)\":-9.7},{\"Stn Press (kPa)\":100.69,\"Time\":\"2012-02-01 01:00:00\",\"Weather\":\"Snow\",\"snow\":true,\"Temp (C)\":-6.7,\"Rel Hum (%)\":80,\"h)\":15,\"Visibility (km)\":9.7,\"Dew Point Temp (C)\":-9.5},{\"Stn Press (kPa)\":100.61,\"Time\":\"2012-02-01 17:00:00\",\"Weather\":\"Snow\",\"snow\":true,\"Temp (C)\":-4.3,\"Rel Hum (%)\":81,\"h)\":0,\"Visibility (km)\":6.4,\"Dew Point Temp (C)\":-7.1},{\"Stn Press (kPa)\":100.68,\"Time\":\"2012-02-01 18:00:00\",\"Weather\":\"Snow\",\"snow\":true,\"Temp (C)\":-4.0,\"Rel Hum (%)\":80,\"h)\":0,\"Visibility (km)\":4.0,\"Dew Point Temp (C)\":-6.9},{\"Stn Press (kPa)\":100.78,\"Time\":\"2012-02-01 19:00:00\",\"Weather\":\"Snow\",\"snow\":true,\"Temp (C)\":-3.9,\"Rel Hum (%)\":81,\"h)\":6,\"Visibility (km)\":4.0,\"Dew Point Temp (C)\":-6.7},{\"Stn Press (kPa)\":100.85,\"Time\":\"2012-02-01 20:00:00\",\"Weather\":\"Snow\",\"snow\":true,\"Temp (C)\":-3.6,\"Rel Hum (%)\":81,\"h)\":4,\"Visibility (km)\":4.8,\"Dew Point Temp (C)\":-6.4},{\"Stn Press (kPa)\":100.99,\"Time\":\"2012-02-01 21:00:00\",\"Weather\":\"Snow\",\"snow\":true,\"Temp (C)\":-4.3,\"Rel Hum (%)\":80,\"h)\":15,\"Visibility (km)\":4.0,\"Dew Point Temp (C)\":-7.2},{\"Stn Press (kPa)\":101.12,\"Time\":\"2012-02-01 22:00:00\",\"Weather\":\"Snow\",\"snow\":true,\"Temp (C)\":-5.0,\"Rel Hum (%)\":78,\"h)\":15,\"Visibility (km)\":12.9,\"Dew Point Temp (C)\":-8.2},{\"Stn Press (kPa)\":101.22,\"Time\":\"2012-02-01 23:00:00\",\"Weather\":\"Snow\",\"snow\":true,\"Temp (C)\":-4.9,\"Rel Hum (%)\":78,\"h)\":0,\"Visibility (km)\":12.9,\"Dew Point Temp (C)\":-8.1},{\"Stn Press (kPa)\":101.32,\"Time\":\"2012-02-02 00:00:00\",\"Weather\":\"Snow\",\"snow\":true,\"Temp (C)\":-5.0,\"Rel Hum (%)\":78,\"h)\":7,\"Visibility (km)\":12.9,\"Dew Point Temp (C)\":-8.2},{\"Stn Press (kPa)\":101.45,\"Time\":\"2012-02-02 02:00:00\",\"Weather\":\"Snow\",\"snow\":true,\"Temp (C)\":-6.3,\"Rel Hum (%)\":77,\"h)\":4,\"Visibility (km)\":16.1,\"Dew Point Temp (C)\":-9.6},{\"Stn Press (kPa)\":101.52,\"Time\":\"2012-02-02 03:00:00\",\"Weather\":\"Snow\",\"snow\":true,\"Temp (C)\":-5.6,\"Rel Hum (%)\":76,\"h)\":6,\"Visibility (km)\":25.0,\"Dew Point Temp (C)\":-9.1},{\"Stn Press (kPa)\":101.59,\"Time\":\"2012-02-02 04:00:00\",\"Weather\":\"Snow\",\"snow\":true,\"Temp (C)\":-5.5,\"Rel Hum (%)\":78,\"h)\":4,\"Visibility (km)\":16.1,\"Dew Point Temp (C)\":-8.8},{\"Stn Press (kPa)\":101.62,\"Time\":\"2012-02-02 05:00:00\",\"Weather\":\"Snow\",\"snow\":true,\"Temp (C)\":-5.2,\"Rel Hum (%)\":72,\"h)\":9,\"Visibility (km)\":16.1,\"Dew Point Temp (C)\":-9.5},{\"Stn Press (kPa)\":101.63,\"Time\":\"2012-02-02 06:00:00\",\"Weather\":\"Snow\",\"snow\":true,\"Temp (C)\":-6.0,\"Rel Hum (%)\":63,\"h)\":13,\"Visibility (km)\":25.0,\"Dew Point Temp (C)\":-11.8},{\"Stn Press (kPa)\":101.67,\"Time\":\"2012-02-02 07:00:00\",\"Weather\":\"Snow\",\"snow\":true,\"Temp (C)\":-6.9,\"Rel Hum (%)\":63,\"h)\":22,\"Visibility (km)\":24.1,\"Dew Point Temp (C)\":-12.8},{\"Stn Press (kPa)\":101.74,\"Time\":\"2012-02-02 08:00:00\",\"Weather\":\"Snow\",\"snow\":true,\"Temp (C)\":-7.6,\"Rel Hum (%)\":64,\"h)\":19,\"Visibility (km)\":12.9,\"Dew Point Temp (C)\":-13.2},{\"Stn Press (kPa)\":101.82,\"Time\":\"2012-02-02 09:00:00\",\"Weather\":\"Snow\",\"snow\":true,\"Temp (C)\":-7.7,\"Rel Hum (%)\":63,\"h)\":19,\"Visibility (km)\":19.3,\"Dew Point Temp (C)\":-13.6},{\"Stn Press (kPa)\":102.26,\"Time\":\"2012-02-02 21:00:00\",\"Weather\":\"Snow\",\"snow\":true,\"Temp (C)\":-7.2,\"Rel Hum (%)\":74,\"h)\":4,\"Visibility (km)\":25.0,\"Dew Point Temp (C)\":-11.0},{\"Stn Press (kPa)\":102.29,\"Time\":\"2012-02-02 22:00:00\",\"Weather\":\"Snow\",\"snow\":true,\"Temp (C)\":-8.0,\"Rel Hum (%)\":76,\"h)\":7,\"Visibility (km)\":25.0,\"Dew Point Temp (C)\":-11.5},{\"Stn Press (kPa)\":102.57,\"Time\":\"2012-02-03 11:00:00\",\"Weather\":\"Snow\",\"snow\":true,\"Temp (C)\":-6.3,\"Rel Hum (%)\":75,\"h)\":11,\"Visibility (km)\":6.4,\"Dew Point Temp (C)\":-10.0},{\"Stn Press (kPa)\":102.46,\"Time\":\"2012-02-03 12:00:00\",\"Weather\":\"Snow\",\"snow\":true,\"Temp (C)\":-6.2,\"Rel Hum (%)\":77,\"h)\":11,\"Visibility (km)\":16.1,\"Dew Point Temp (C)\":-9.5},{\"Stn Press (kPa)\":102.34,\"Time\":\"2012-02-03 13:00:00\",\"Weather\":\"Snow\",\"snow\":true,\"Temp (C)\":-4.8,\"Rel Hum (%)\":76,\"h)\":6,\"Visibility (km)\":16.1,\"Dew Point Temp (C)\":-8.3},{\"Stn Press (kPa)\":102.27,\"Time\":\"2012-02-03 14:00:00\",\"Weather\":\"Snow\",\"snow\":true,\"Temp (C)\":-3.8,\"Rel Hum (%)\":76,\"h)\":7,\"Visibility (km)\":16.1,\"Dew Point Temp (C)\":-7.4},{\"Stn Press (kPa)\":102.25,\"Time\":\"2012-02-03 15:00:00\",\"Weather\":\"Snow\",\"snow\":true,\"Temp (C)\":-2.9,\"Rel Hum (%)\":69,\"h)\":19,\"Visibility (km)\":19.3,\"Dew Point Temp (C)\":-7.8},{\"Stn Press (kPa)\":102.21,\"Time\":\"2012-02-03 16:00:00\",\"Weather\":\"Snow\",\"snow\":true,\"Temp (C)\":-3.3,\"Rel Hum (%)\":74,\"h)\":13,\"Visibility (km)\":16.1,\"Dew Point Temp (C)\":-7.3},{\"Stn Press (kPa)\":102.17,\"Time\":\"2012-02-03 18:00:00\",\"Weather\":\"Snow\",\"snow\":true,\"Temp (C)\":-3.7,\"Rel Hum (%)\":77,\"h)\":7,\"Visibility (km)\":19.3,\"Dew Point Temp (C)\":-7.1},{\"Stn Press (kPa)\":102.17,\"Time\":\"2012-02-03 19:00:00\",\"Weather\":\"Snow\",\"snow\":true,\"Temp (C)\":-3.8,\"Rel Hum (%)\":77,\"h)\":9,\"Visibility (km)\":25.0,\"Dew Point Temp (C)\":-7.2},{\"Stn Press (kPa)\":102.03,\"Time\":\"2012-02-03 23:00:00\",\"Weather\":\"Snow\",\"snow\":true,\"Temp (C)\":-3.7,\"Rel Hum (%)\":80,\"h)\":6,\"Visibility (km)\":25.0,\"Dew Point Temp (C)\":-6.7},{\"Stn Press (kPa)\":102.02,\"Time\":\"2012-02-04 00:00:00\",\"Weather\":\"Snow\",\"snow\":true,\"Temp (C)\":-4.5,\"Rel Hum (%)\":84,\"h)\":9,\"Visibility (km)\":2.0,\"Dew Point Temp (C)\":-6.8},{\"Stn Press (kPa)\":100.75,\"Time\":\"2012-02-06 02:00:00\",\"Weather\":\"Snow\",\"snow\":true,\"Temp (C)\":0.1,\"Rel Hum (%)\":70,\"h)\":32,\"Visibility (km)\":25.0,\"Dew Point Temp (C)\":-4.7},{\"Stn Press (kPa)\":100.68,\"Time\":\"2012-02-06 04:00:00\",\"Weather\":\"Snow\",\"snow\":true,\"Temp (C)\":0.8,\"Rel Hum (%)\":72,\"h)\":35,\"Visibility (km)\":25.0,\"Dew Point Temp (C)\":-3.7},{\"Stn Press (kPa)\":100.94,\"Time\":\"2012-02-07 03:00:00\",\"Weather\":\"Snow\",\"snow\":true,\"Temp (C)\":0.8,\"Rel Hum (%)\":65,\"h)\":19,\"Visibility (km)\":25.0,\"Dew Point Temp (C)\":-5.0},{\"Stn Press (kPa)\":100.88,\"Time\":\"2012-02-10 20:00:00\",\"Weather\":\"Snow\",\"snow\":true,\"Temp (C)\":-0.2,\"Rel Hum (%)\":69,\"h)\":15,\"Visibility (km)\":25.0,\"Dew Point Temp (C)\":-5.2},{\"Stn Press (kPa)\":100.78,\"Time\":\"2012-02-10 22:00:00\",\"Weather\":\"Snow\",\"snow\":true,\"Temp (C)\":-0.7,\"Rel Hum (%)\":84,\"h)\":11,\"Visibility (km)\":16.1,\"Dew Point Temp (C)\":-3.0},{\"Stn Press (kPa)\":100.76,\"Time\":\"2012-02-10 23:00:00\",\"Weather\":\"Snow\",\"snow\":true,\"Temp (C)\":-0.9,\"Rel Hum (%)\":90,\"h)\":6,\"Visibility (km)\":9.7,\"Dew Point Temp (C)\":-2.4},{\"Stn Press (kPa)\":100.78,\"Time\":\"2012-02-11 00:00:00\",\"Weather\":\"Snow\",\"snow\":true,\"Temp (C)\":-1.4,\"Rel Hum (%)\":94,\"h)\":9,\"Visibility (km)\":6.4,\"Dew Point Temp (C)\":-2.3},{\"Stn Press (kPa)\":100.83,\"Time\":\"2012-02-11 01:00:00\",\"Weather\":\"Snow\",\"snow\":true,\"Temp (C)\":-7.4,\"Rel Hum (%)\":89,\"h)\":24,\"Visibility (km)\":3.6,\"Dew Point Temp (C)\":-8.9},{\"Stn Press (kPa)\":100.91,\"Time\":\"2012-02-11 02:00:00\",\"Weather\":\"Snow\",\"snow\":true,\"Temp (C)\":-8.6,\"Rel Hum (%)\":83,\"h)\":30,\"Visibility (km)\":8.0,\"Dew Point Temp (C)\":-11.0},{\"Stn Press (kPa)\":100.93,\"Time\":\"2012-02-11 03:00:00\",\"Weather\":\"Snow\",\"snow\":true,\"Temp (C)\":-9.5,\"Rel Hum (%)\":79,\"h)\":22,\"Visibility (km)\":6.4,\"Dew Point Temp (C)\":-12.4},{\"Stn Press (kPa)\":100.98,\"Time\":\"2012-02-11 04:00:00\",\"Weather\":\"Snow\",\"snow\":true,\"Temp (C)\":-10.8,\"Rel Hum (%)\":81,\"h)\":22,\"Visibility (km)\":16.1,\"Dew Point Temp (C)\":-13.4},{\"Stn Press (kPa)\":100.99,\"Time\":\"2012-02-11 05:00:00\",\"Weather\":\"Snow\",\"snow\":true,\"Temp (C)\":-11.5,\"Rel Hum (%)\":79,\"h)\":20,\"Visibility (km)\":16.1,\"Dew Point Temp (C)\":-14.4},{\"Stn Press (kPa)\":101.0,\"Time\":\"2012-02-11 06:00:00\",\"Weather\":\"Snow\",\"snow\":true,\"Temp (C)\":-12.2,\"Rel Hum (%)\":81,\"h)\":24,\"Visibility (km)\":9.7,\"Dew Point Temp (C)\":-14.8},{\"Stn Press (kPa)\":100.96,\"Time\":\"2012-02-11 07:00:00\",\"Weather\":\"Snow\",\"snow\":true,\"Temp (C)\":-13.0,\"Rel Hum (%)\":80,\"h)\":20,\"Visibility (km)\":12.9,\"Dew Point Temp (C)\":-15.7},{\"Stn Press (kPa)\":101.01,\"Time\":\"2012-02-11 08:00:00\",\"Weather\":\"Snow\",\"snow\":true,\"Temp (C)\":-13.7,\"Rel Hum (%)\":75,\"h)\":20,\"Visibility (km)\":16.1,\"Dew Point Temp (C)\":-17.1},{\"Stn Press (kPa)\":101.05,\"Time\":\"2012-02-11 10:00:00\",\"Weather\":\"Snow\",\"snow\":true,\"Temp (C)\":-13.4,\"Rel Hum (%)\":64,\"h)\":19,\"Visibility (km)\":24.1,\"Dew Point Temp (C)\":-18.8},{\"Stn Press (kPa)\":101.03,\"Time\":\"2012-02-11 11:00:00\",\"Weather\":\"Snow\",\"snow\":true,\"Temp (C)\":-13.1,\"Rel Hum (%)\":62,\"h)\":11,\"Visibility (km)\":24.1,\"Dew Point Temp (C)\":-18.8},{\"Stn Press (kPa)\":100.97,\"Time\":\"2012-02-11 12:00:00\",\"Weather\":\"Snow\",\"snow\":true,\"Temp (C)\":-12.8,\"Rel Hum (%)\":70,\"h)\":9,\"Visibility (km)\":19.3,\"Dew Point Temp (C)\":-17.2},{\"Stn Press (kPa)\":100.59,\"Time\":\"2012-02-12 05:00:00\",\"Weather\":\"Snow\",\"snow\":true,\"Temp (C)\":-16.4,\"Rel Hum (%)\":58,\"h)\":11,\"Visibility (km)\":25.0,\"Dew Point Temp (C)\":-22.8},{\"Stn Press (kPa)\":100.6,\"Time\":\"2012-02-12 06:00:00\",\"Weather\":\"Snow\",\"snow\":true,\"Temp (C)\":-16.7,\"Rel Hum (%)\":57,\"h)\":15,\"Visibility (km)\":25.0,\"Dew Point Temp (C)\":-23.3},{\"Stn Press (kPa)\":100.64,\"Time\":\"2012-02-12 07:00:00\",\"Weather\":\"Snow\",\"snow\":true,\"Temp (C)\":-16.7,\"Rel Hum (%)\":56,\"h)\":19,\"Visibility (km)\":24.1,\"Dew Point Temp (C)\":-23.5},{\"Stn Press (kPa)\":100.72,\"Time\":\"2012-02-12 09:00:00\",\"Weather\":\"Snow\",\"snow\":true,\"Temp (C)\":-16.7,\"Rel Hum (%)\":50,\"h)\":17,\"Visibility (km)\":24.1,\"Dew Point Temp (C)\":-24.6},{\"Stn Press (kPa)\":100.48,\"Time\":\"2012-02-13 00:00:00\",\"Weather\":\"Snow\",\"snow\":true,\"Temp (C)\":-10.0,\"Rel Hum (%)\":60,\"h)\":19,\"Visibility (km)\":25.0,\"Dew Point Temp (C)\":-16.3},{\"Stn Press (kPa)\":100.76,\"Time\":\"2012-02-13 21:00:00\",\"Weather\":\"Snow\",\"snow\":true,\"Temp (C)\":-7.5,\"Rel Hum (%)\":70,\"h)\":11,\"Visibility (km)\":19.3,\"Dew Point Temp (C)\":-12.1},{\"Stn Press (kPa)\":101.39,\"Time\":\"2012-02-15 04:00:00\",\"Weather\":\"Snow\",\"snow\":true,\"Temp (C)\":-0.7,\"Rel Hum (%)\":81,\"h)\":0,\"Visibility (km)\":25.0,\"Dew Point Temp (C)\":-3.5},{\"Stn Press (kPa)\":101.45,\"Time\":\"2012-02-15 05:00:00\",\"Weather\":\"Snow\",\"snow\":true,\"Temp (C)\":-1.3,\"Rel Hum (%)\":88,\"h)\":7,\"Visibility (km)\":4.8,\"Dew Point Temp (C)\":-3.0},{\"Stn Press (kPa)\":101.48,\"Time\":\"2012-02-15 06:00:00\",\"Weather\":\"Snow\",\"snow\":true,\"Temp (C)\":-1.0,\"Rel Hum (%)\":91,\"h)\":0,\"Visibility (km)\":4.8,\"Dew Point Temp (C)\":-2.3},{\"Stn Press (kPa)\":101.51,\"Time\":\"2012-02-15 07:00:00\",\"Weather\":\"Snow\",\"snow\":true,\"Temp (C)\":-0.3,\"Rel Hum (%)\":91,\"h)\":4,\"Visibility (km)\":6.4,\"Dew Point Temp (C)\":-1.6},{\"Stn Press (kPa)\":101.57,\"Time\":\"2012-02-15 08:00:00\",\"Weather\":\"Snow\",\"snow\":true,\"Temp (C)\":0.1,\"Rel Hum (%)\":89,\"h)\":4,\"Visibility (km)\":4.8,\"Dew Point Temp (C)\":-1.5},{\"Stn Press (kPa)\":101.61,\"Time\":\"2012-02-15 09:00:00\",\"Weather\":\"Snow\",\"snow\":true,\"Temp (C)\":0.6,\"Rel Hum (%)\":88,\"h)\":4,\"Visibility (km)\":3.2,\"Dew Point Temp (C)\":-1.2},{\"Stn Press (kPa)\":101.62,\"Time\":\"2012-02-15 10:00:00\",\"Weather\":\"Snow\",\"snow\":true,\"Temp (C)\":1.0,\"Rel Hum (%)\":88,\"h)\":0,\"Visibility (km)\":6.4,\"Dew Point Temp (C)\":-0.7},{\"Stn Press (kPa)\":101.65,\"Time\":\"2012-02-15 11:00:00\",\"Weather\":\"Snow\",\"snow\":true,\"Temp (C)\":2.0,\"Rel Hum (%)\":85,\"h)\":0,\"Visibility (km)\":8.0,\"Dew Point Temp (C)\":-0.2},{\"Stn Press (kPa)\":101.67,\"Time\":\"2012-02-15 12:00:00\",\"Weather\":\"Snow\",\"snow\":true,\"Temp (C)\":2.1,\"Rel Hum (%)\":84,\"h)\":0,\"Visibility (km)\":9.7,\"Dew Point Temp (C)\":-0.3},{\"Stn Press (kPa)\":101.67,\"Time\":\"2012-02-15 13:00:00\",\"Weather\":\"Snow\",\"snow\":true,\"Temp (C)\":1.7,\"Rel Hum (%)\":87,\"h)\":6,\"Visibility (km)\":9.7,\"Dew Point Temp (C)\":-0.3},{\"Stn Press (kPa)\":101.68,\"Time\":\"2012-02-15 14:00:00\",\"Weather\":\"Snow\",\"snow\":true,\"Temp (C)\":1.5,\"Rel Hum (%)\":90,\"h)\":7,\"Visibility (km)\":9.7,\"Dew Point Temp (C)\":0.0},{\"Stn Press (kPa)\":101.95,\"Time\":\"2012-02-15 21:00:00\",\"Weather\":\"Snow\",\"snow\":true,\"Temp (C)\":1.3,\"Rel Hum (%)\":92,\"h)\":13,\"Visibility (km)\":8.0,\"Dew Point Temp (C)\":0.1},{\"Stn Press (kPa)\":100.35,\"Time\":\"2012-02-21 22:00:00\",\"Weather\":\"Snow\",\"snow\":true,\"Temp (C)\":-0.6,\"Rel Hum (%)\":75,\"h)\":6,\"Visibility (km)\":25.0,\"Dew Point Temp (C)\":-4.5},{\"Stn Press (kPa)\":100.1,\"Time\":\"2012-02-22 00:00:00\",\"Weather\":\"Snow\",\"snow\":true,\"Temp (C)\":0.5,\"Rel Hum (%)\":83,\"h)\":19,\"Visibility (km)\":9.7,\"Dew Point Temp (C)\":-2.1},{\"Stn Press (kPa)\":99.97,\"Time\":\"2012-02-22 01:00:00\",\"Weather\":\"Snow\",\"snow\":true,\"Temp (C)\":0.8,\"Rel Hum (%)\":80,\"h)\":15,\"Visibility (km)\":12.9,\"Dew Point Temp (C)\":-2.2},{\"Stn Press (kPa)\":99.87,\"Time\":\"2012-02-22 02:00:00\",\"Weather\":\"Snow\",\"snow\":true,\"Temp (C)\":1.4,\"Rel Hum (%)\":75,\"h)\":19,\"Visibility (km)\":12.9,\"Dew Point Temp (C)\":-2.5},{\"Stn Press (kPa)\":99.17,\"Time\":\"2012-02-23 02:00:00\",\"Weather\":\"Snow\",\"snow\":true,\"Temp (C)\":1.1,\"Rel Hum (%)\":85,\"h)\":7,\"Visibility (km)\":25.0,\"Dew Point Temp (C)\":-1.1},{\"Stn Press (kPa)\":99.14,\"Time\":\"2012-02-23 03:00:00\",\"Weather\":\"Snow\",\"snow\":true,\"Temp (C)\":0.6,\"Rel Hum (%)\":89,\"h)\":6,\"Visibility (km)\":6.4,\"Dew Point Temp (C)\":-1.0},{\"Stn Press (kPa)\":99.49,\"Time\":\"2012-02-23 13:00:00\",\"Weather\":\"Snow\",\"snow\":true,\"Temp (C)\":2.1,\"Rel Hum (%)\":74,\"h)\":20,\"Visibility (km)\":16.1,\"Dew Point Temp (C)\":-2.1},{\"Stn Press (kPa)\":99.53,\"Time\":\"2012-02-23 14:00:00\",\"Weather\":\"Snow\",\"snow\":true,\"Temp (C)\":1.4,\"Rel Hum (%)\":81,\"h)\":13,\"Visibility (km)\":19.3,\"Dew Point Temp (C)\":-1.5},{\"Stn Press (kPa)\":99.64,\"Time\":\"2012-02-24 14:00:00\",\"Weather\":\"Snow\",\"snow\":true,\"Temp (C)\":1.1,\"Rel Hum (%)\":72,\"h)\":20,\"Visibility (km)\":16.1,\"Dew Point Temp (C)\":-3.3},{\"Stn Press (kPa)\":99.53,\"Time\":\"2012-02-24 15:00:00\",\"Weather\":\"Snow\",\"snow\":true,\"Temp (C)\":1.0,\"Rel Hum (%)\":77,\"h)\":19,\"Visibility (km)\":6.4,\"Dew Point Temp (C)\":-2.6},{\"Stn Press (kPa)\":99.38,\"Time\":\"2012-02-24 16:00:00\",\"Weather\":\"Snow\",\"snow\":true,\"Temp (C)\":-0.1,\"Rel Hum (%)\":90,\"h)\":22,\"Visibility (km)\":1.2,\"Dew Point Temp (C)\":-1.6},{\"Stn Press (kPa)\":99.16,\"Time\":\"2012-02-24 17:00:00\",\"Weather\":\"Snow\",\"snow\":true,\"Temp (C)\":-0.1,\"Rel Hum (%)\":90,\"h)\":26,\"Visibility (km)\":1.0,\"Dew Point Temp (C)\":-1.5},{\"Stn Press (kPa)\":99.07,\"Time\":\"2012-02-24 18:00:00\",\"Weather\":\"Snow\",\"snow\":true,\"Temp (C)\":0.0,\"Rel Hum (%)\":90,\"h)\":24,\"Visibility (km)\":1.0,\"Dew Point Temp (C)\":-1.4},{\"Stn Press (kPa)\":98.88,\"Time\":\"2012-02-24 19:00:00\",\"Weather\":\"Snow\",\"snow\":true,\"Temp (C)\":0.0,\"Rel Hum (%)\":91,\"h)\":22,\"Visibility (km)\":1.2,\"Dew Point Temp (C)\":-1.3},{\"Stn Press (kPa)\":98.81,\"Time\":\"2012-02-24 20:00:00\",\"Weather\":\"Snow\",\"snow\":true,\"Temp (C)\":0.0,\"Rel Hum (%)\":92,\"h)\":15,\"Visibility (km)\":2.0,\"Dew Point Temp (C)\":-1.2},{\"Stn Press (kPa)\":98.69,\"Time\":\"2012-02-24 21:00:00\",\"Weather\":\"Snow\",\"snow\":true,\"Temp (C)\":0.3,\"Rel Hum (%)\":90,\"h)\":17,\"Visibility (km)\":2.4,\"Dew Point Temp (C)\":-1.1},{\"Stn Press (kPa)\":98.06,\"Time\":\"2012-02-25 02:00:00\",\"Weather\":\"Snow\",\"snow\":true,\"Temp (C)\":0.4,\"Rel Hum (%)\":91,\"h)\":11,\"Visibility (km)\":6.4,\"Dew Point Temp (C)\":-0.9},{\"Stn Press (kPa)\":98.0,\"Time\":\"2012-02-25 03:00:00\",\"Weather\":\"Snow\",\"snow\":true,\"Temp (C)\":0.7,\"Rel Hum (%)\":90,\"h)\":19,\"Visibility (km)\":4.0,\"Dew Point Temp (C)\":-0.8},{\"Stn Press (kPa)\":97.97,\"Time\":\"2012-02-25 04:00:00\",\"Weather\":\"Snow\",\"snow\":true,\"Temp (C)\":0.4,\"Rel Hum (%)\":90,\"h)\":19,\"Visibility (km)\":3.2,\"Dew Point Temp (C)\":-1.0},{\"Stn Press (kPa)\":97.99,\"Time\":\"2012-02-25 05:00:00\",\"Weather\":\"Snow\",\"snow\":true,\"Temp (C)\":0.6,\"Rel Hum (%)\":88,\"h)\":22,\"Visibility (km)\":12.9,\"Dew Point Temp (C)\":-1.1},{\"Stn Press (kPa)\":98.03,\"Time\":\"2012-02-25 06:00:00\",\"Weather\":\"Snow\",\"snow\":true,\"Temp (C)\":0.0,\"Rel Hum (%)\":89,\"h)\":33,\"Visibility (km)\":2.8,\"Dew Point Temp (C)\":-1.6},{\"Stn Press (kPa)\":98.11,\"Time\":\"2012-02-25 07:00:00\",\"Weather\":\"Snow\",\"snow\":true,\"Temp (C)\":-1.4,\"Rel Hum (%)\":89,\"h)\":33,\"Visibility (km)\":1.2,\"Dew Point Temp (C)\":-2.9},{\"Stn Press (kPa)\":98.2,\"Time\":\"2012-02-25 08:00:00\",\"Weather\":\"Snow\",\"snow\":true,\"Temp (C)\":-1.8,\"Rel Hum (%)\":90,\"h)\":32,\"Visibility (km)\":1.2,\"Dew Point Temp (C)\":-3.2},{\"Stn Press (kPa)\":98.33,\"Time\":\"2012-02-25 09:00:00\",\"Weather\":\"Snow\",\"snow\":true,\"Temp (C)\":-1.4,\"Rel Hum (%)\":89,\"h)\":33,\"Visibility (km)\":1.2,\"Dew Point Temp (C)\":-2.9},{\"Stn Press (kPa)\":98.45,\"Time\":\"2012-02-25 10:00:00\",\"Weather\":\"Snow\",\"snow\":true,\"Temp (C)\":-1.7,\"Rel Hum (%)\":89,\"h)\":32,\"Visibility (km)\":1.6,\"Dew Point Temp (C)\":-3.3},{\"Stn Press (kPa)\":98.6,\"Time\":\"2012-02-25 11:00:00\",\"Weather\":\"Snow\",\"snow\":true,\"Temp (C)\":-2.1,\"Rel Hum (%)\":90,\"h)\":33,\"Visibility (km)\":2.0,\"Dew Point Temp (C)\":-3.5},{\"Stn Press (kPa)\":98.75,\"Time\":\"2012-02-25 12:00:00\",\"Weather\":\"Snow\",\"snow\":true,\"Temp (C)\":-2.5,\"Rel Hum (%)\":88,\"h)\":33,\"Visibility (km)\":3.2,\"Dew Point Temp (C)\":-4.2},{\"Stn Press (kPa)\":98.89,\"Time\":\"2012-02-25 13:00:00\",\"Weather\":\"Snow\",\"snow\":true,\"Temp (C)\":-2.7,\"Rel Hum (%)\":84,\"h)\":32,\"Visibility (km)\":2.0,\"Dew Point Temp (C)\":-5.0},{\"Stn Press (kPa)\":99.05,\"Time\":\"2012-02-25 14:00:00\",\"Weather\":\"Snow\",\"snow\":true,\"Temp (C)\":-3.2,\"Rel Hum (%)\":79,\"h)\":35,\"Visibility (km)\":3.2,\"Dew Point Temp (C)\":-6.3},{\"Stn Press (kPa)\":99.22,\"Time\":\"2012-02-25 15:00:00\",\"Weather\":\"Snow\",\"snow\":true,\"Temp (C)\":-3.3,\"Rel Hum (%)\":73,\"h)\":33,\"Visibility (km)\":19.3,\"Dew Point Temp (C)\":-7.5},{\"Stn Press (kPa)\":99.39,\"Time\":\"2012-02-25 16:00:00\",\"Weather\":\"Snow\",\"snow\":true,\"Temp (C)\":-3.6,\"Rel Hum (%)\":75,\"h)\":24,\"Visibility (km)\":9.7,\"Dew Point Temp (C)\":-7.4},{\"Stn Press (kPa)\":101.19,\"Time\":\"2012-02-27 15:00:00\",\"Weather\":\"Snow\",\"snow\":true,\"Temp (C)\":-5.1,\"Rel Hum (%)\":72,\"h)\":20,\"Visibility (km)\":1.6,\"Dew Point Temp (C)\":-9.4},{\"Stn Press (kPa)\":101.13,\"Time\":\"2012-02-27 16:00:00\",\"Weather\":\"Snow\",\"snow\":true,\"Temp (C)\":-4.9,\"Rel Hum (%)\":79,\"h)\":19,\"Visibility (km)\":19.3,\"Dew Point Temp (C)\":-7.9},{\"Stn Press (kPa)\":101.14,\"Time\":\"2012-02-27 19:00:00\",\"Weather\":\"Snow\",\"snow\":true,\"Temp (C)\":-7.1,\"Rel Hum (%)\":82,\"h)\":22,\"Visibility (km)\":2.0,\"Dew Point Temp (C)\":-9.6},{\"Stn Press (kPa)\":101.25,\"Time\":\"2012-02-27 20:00:00\",\"Weather\":\"Snow\",\"snow\":true,\"Temp (C)\":-7.2,\"Rel Hum (%)\":83,\"h)\":9,\"Visibility (km)\":25.0,\"Dew Point Temp (C)\":-9.6},{\"Stn Press (kPa)\":101.29,\"Time\":\"2012-02-27 21:00:00\",\"Weather\":\"Snow\",\"snow\":true,\"Temp (C)\":-7.3,\"Rel Hum (%)\":83,\"h)\":4,\"Visibility (km)\":25.0,\"Dew Point Temp (C)\":-9.7},{\"Stn Press (kPa)\":101.33,\"Time\":\"2012-02-27 22:00:00\",\"Weather\":\"Snow\",\"snow\":true,\"Temp (C)\":-7.1,\"Rel Hum (%)\":82,\"h)\":0,\"Visibility (km)\":8.0,\"Dew Point Temp (C)\":-9.6},{\"Stn Press (kPa)\":101.38,\"Time\":\"2012-02-27 23:00:00\",\"Weather\":\"Snow\",\"snow\":true,\"Temp (C)\":-6.8,\"Rel Hum (%)\":84,\"h)\":4,\"Visibility (km)\":6.4,\"Dew Point Temp (C)\":-9.1},{\"Stn Press (kPa)\":101.4,\"Time\":\"2012-02-28 00:00:00\",\"Weather\":\"Snow\",\"snow\":true,\"Temp (C)\":-6.7,\"Rel Hum (%)\":84,\"h)\":0,\"Visibility (km)\":6.4,\"Dew Point Temp (C)\":-9.0},{\"Stn Press (kPa)\":101.48,\"Time\":\"2012-02-28 01:00:00\",\"Weather\":\"Snow\",\"snow\":true,\"Temp (C)\":-6.5,\"Rel Hum (%)\":84,\"h)\":0,\"Visibility (km)\":8.0,\"Dew Point Temp (C)\":-8.7},{\"Stn Press (kPa)\":101.55,\"Time\":\"2012-02-28 02:00:00\",\"Weather\":\"Snow\",\"snow\":true,\"Temp (C)\":-6.6,\"Rel Hum (%)\":84,\"h)\":0,\"Visibility (km)\":9.7,\"Dew Point Temp (C)\":-8.9},{\"Stn Press (kPa)\":101.98,\"Time\":\"2012-02-28 05:00:00\",\"Weather\":\"Snow\",\"snow\":true,\"Temp (C)\":-5.4,\"Rel Hum (%)\":72,\"h)\":20,\"Visibility (km)\":12.9,\"Dew Point Temp (C)\":-9.7},{\"Stn Press (kPa)\":102.19,\"Time\":\"2012-02-28 06:00:00\",\"Weather\":\"Snow\",\"snow\":true,\"Temp (C)\":-6.9,\"Rel Hum (%)\":77,\"h)\":22,\"Visibility (km)\":8.0,\"Dew Point Temp (C)\":-10.3},{\"Stn Press (kPa)\":101.14,\"Time\":\"2012-02-29 22:00:00\",\"Weather\":\"Snow\",\"snow\":true,\"Temp (C)\":-4.5,\"Rel Hum (%)\":54,\"h)\":30,\"Visibility (km)\":25.0,\"Dew Point Temp (C)\":-12.3},{\"Stn Press (kPa)\":101.01,\"Time\":\"2012-02-29 23:00:00\",\"Weather\":\"Snow\",\"snow\":true,\"Temp (C)\":-5.1,\"Rel Hum (%)\":62,\"h)\":30,\"Visibility (km)\":8.0,\"Dew Point Temp (C)\":-11.2},{\"Stn Press (kPa)\":100.97,\"Time\":\"2012-03-01 00:00:00\",\"Weather\":\"Snow\",\"snow\":true,\"Temp (C)\":-5.5,\"Rel Hum (%)\":72,\"h)\":24,\"Visibility (km)\":4.0,\"Dew Point Temp (C)\":-9.7},{\"Stn Press (kPa)\":100.87,\"Time\":\"2012-03-01 01:00:00\",\"Weather\":\"Snow\",\"snow\":true,\"Temp (C)\":-5.7,\"Rel Hum (%)\":79,\"h)\":26,\"Visibility (km)\":2.4,\"Dew Point Temp (C)\":-8.7},{\"Stn Press (kPa)\":100.8,\"Time\":\"2012-03-01 02:00:00\",\"Weather\":\"Snow\",\"snow\":true,\"Temp (C)\":-5.4,\"Rel Hum (%)\":80,\"h)\":28,\"Visibility (km)\":4.8,\"Dew Point Temp (C)\":-8.3},{\"Stn Press (kPa)\":100.69,\"Time\":\"2012-03-01 03:00:00\",\"Weather\":\"Snow\",\"snow\":true,\"Temp (C)\":-4.7,\"Rel Hum (%)\":79,\"h)\":28,\"Visibility (km)\":4.0,\"Dew Point Temp (C)\":-7.7},{\"Stn Press (kPa)\":100.62,\"Time\":\"2012-03-01 04:00:00\",\"Weather\":\"Snow\",\"snow\":true,\"Temp (C)\":-5.4,\"Rel Hum (%)\":83,\"h)\":35,\"Visibility (km)\":1.6,\"Dew Point Temp (C)\":-7.8},{\"Stn Press (kPa)\":100.58,\"Time\":\"2012-03-01 05:00:00\",\"Weather\":\"Snow\",\"snow\":true,\"Temp (C)\":-5.3,\"Rel Hum (%)\":82,\"h)\":33,\"Visibility (km)\":2.4,\"Dew Point Temp (C)\":-7.9},{\"Stn Press (kPa)\":100.57,\"Time\":\"2012-03-01 06:00:00\",\"Weather\":\"Snow\",\"snow\":true,\"Temp (C)\":-5.2,\"Rel Hum (%)\":82,\"h)\":33,\"Visibility (km)\":4.0,\"Dew Point Temp (C)\":-7.8},{\"Stn Press (kPa)\":100.59,\"Time\":\"2012-03-01 07:00:00\",\"Weather\":\"Snow\",\"snow\":true,\"Temp (C)\":-4.9,\"Rel Hum (%)\":83,\"h)\":30,\"Visibility (km)\":1.6,\"Dew Point Temp (C)\":-7.4},{\"Stn Press (kPa)\":100.59,\"Time\":\"2012-03-01 08:00:00\",\"Weather\":\"Snow\",\"snow\":true,\"Temp (C)\":-5.0,\"Rel Hum (%)\":83,\"h)\":32,\"Visibility (km)\":1.2,\"Dew Point Temp (C)\":-7.5},{\"Stn Press (kPa)\":100.6,\"Time\":\"2012-03-01 09:00:00\",\"Weather\":\"Snow\",\"snow\":true,\"Temp (C)\":-4.9,\"Rel Hum (%)\":82,\"h)\":32,\"Visibility (km)\":1.6,\"Dew Point Temp (C)\":-7.5},{\"Stn Press (kPa)\":100.62,\"Time\":\"2012-03-01 10:00:00\",\"Weather\":\"Snow\",\"snow\":true,\"Temp (C)\":-4.7,\"Rel Hum (%)\":82,\"h)\":32,\"Visibility (km)\":1.2,\"Dew Point Temp (C)\":-7.3},{\"Stn Press (kPa)\":100.66,\"Time\":\"2012-03-01 11:00:00\",\"Weather\":\"Snow\",\"snow\":true,\"Temp (C)\":-4.4,\"Rel Hum (%)\":83,\"h)\":28,\"Visibility (km)\":1.0,\"Dew Point Temp (C)\":-6.8},{\"Stn Press (kPa)\":100.66,\"Time\":\"2012-03-01 12:00:00\",\"Weather\":\"Snow\",\"snow\":true,\"Temp (C)\":-4.3,\"Rel Hum (%)\":83,\"h)\":30,\"Visibility (km)\":1.2,\"Dew Point Temp (C)\":-6.8},{\"Stn Press (kPa)\":100.65,\"Time\":\"2012-03-01 13:00:00\",\"Weather\":\"Snow\",\"snow\":true,\"Temp (C)\":-4.3,\"Rel Hum (%)\":82,\"h)\":28,\"Visibility (km)\":1.2,\"Dew Point Temp (C)\":-6.9},{\"Stn Press (kPa)\":100.67,\"Time\":\"2012-03-01 14:00:00\",\"Weather\":\"Snow\",\"snow\":true,\"Temp (C)\":-3.9,\"Rel Hum (%)\":81,\"h)\":28,\"Visibility (km)\":1.2,\"Dew Point Temp (C)\":-6.6},{\"Stn Press (kPa)\":100.71,\"Time\":\"2012-03-01 15:00:00\",\"Weather\":\"Snow\",\"snow\":true,\"Temp (C)\":-3.3,\"Rel Hum (%)\":80,\"h)\":24,\"Visibility (km)\":1.6,\"Dew Point Temp (C)\":-6.2},{\"Stn Press (kPa)\":100.74,\"Time\":\"2012-03-01 16:00:00\",\"Weather\":\"Snow\",\"snow\":true,\"Temp (C)\":-2.7,\"Rel Hum (%)\":80,\"h)\":19,\"Visibility (km)\":2.4,\"Dew Point Temp (C)\":-5.7},{\"Stn Press (kPa)\":100.8,\"Time\":\"2012-03-01 17:00:00\",\"Weather\":\"Snow\",\"snow\":true,\"Temp (C)\":-2.9,\"Rel Hum (%)\":80,\"h)\":20,\"Visibility (km)\":4.0,\"Dew Point Temp (C)\":-5.9},{\"Stn Press (kPa)\":100.87,\"Time\":\"2012-03-01 18:00:00\",\"Weather\":\"Snow\",\"snow\":true,\"Temp (C)\":-3.0,\"Rel Hum (%)\":80,\"h)\":19,\"Visibility (km)\":4.0,\"Dew Point Temp (C)\":-6.0},{\"Stn Press (kPa)\":100.93,\"Time\":\"2012-03-01 19:00:00\",\"Weather\":\"Snow\",\"snow\":true,\"Temp (C)\":-3.6,\"Rel Hum (%)\":81,\"h)\":17,\"Visibility (km)\":3.2,\"Dew Point Temp (C)\":-6.4},{\"Stn Press (kPa)\":100.95,\"Time\":\"2012-03-01 20:00:00\",\"Weather\":\"Snow\",\"snow\":true,\"Temp (C)\":-3.7,\"Rel Hum (%)\":81,\"h)\":20,\"Visibility (km)\":4.8,\"Dew Point Temp (C)\":-6.4},{\"Stn Press (kPa)\":100.98,\"Time\":\"2012-03-01 21:00:00\",\"Weather\":\"Snow\",\"snow\":true,\"Temp (C)\":-3.9,\"Rel Hum (%)\":81,\"h)\":22,\"Visibility (km)\":6.4,\"Dew Point Temp (C)\":-6.7},{\"Stn Press (kPa)\":101.0,\"Time\":\"2012-03-01 22:00:00\",\"Weather\":\"Snow\",\"snow\":true,\"Temp (C)\":-4.3,\"Rel Hum (%)\":82,\"h)\":22,\"Visibility (km)\":2.4,\"Dew Point Temp (C)\":-6.9},{\"Stn Press (kPa)\":101.04,\"Time\":\"2012-03-01 23:00:00\",\"Weather\":\"Snow\",\"snow\":true,\"Temp (C)\":-4.3,\"Rel Hum (%)\":81,\"h)\":22,\"Visibility (km)\":4.8,\"Dew Point Temp (C)\":-7.1},{\"Stn Press (kPa)\":101.04,\"Time\":\"2012-03-02 00:00:00\",\"Weather\":\"Snow\",\"snow\":true,\"Temp (C)\":-4.8,\"Rel Hum (%)\":83,\"h)\":22,\"Visibility (km)\":3.2,\"Dew Point Temp (C)\":-7.3},{\"Stn Press (kPa)\":101.09,\"Time\":\"2012-03-02 01:00:00\",\"Weather\":\"Snow\",\"snow\":true,\"Temp (C)\":-5.3,\"Rel Hum (%)\":82,\"h)\":20,\"Visibility (km)\":4.8,\"Dew Point Temp (C)\":-7.9},{\"Stn Press (kPa)\":101.11,\"Time\":\"2012-03-02 02:00:00\",\"Weather\":\"Snow\",\"snow\":true,\"Temp (C)\":-5.2,\"Rel Hum (%)\":82,\"h)\":19,\"Visibility (km)\":6.4,\"Dew Point Temp (C)\":-7.8},{\"Stn Press (kPa)\":101.15,\"Time\":\"2012-03-02 03:00:00\",\"Weather\":\"Snow\",\"snow\":true,\"Temp (C)\":-5.5,\"Rel Hum (%)\":83,\"h)\":19,\"Visibility (km)\":4.8,\"Dew Point Temp (C)\":-7.9},{\"Stn Press (kPa)\":101.15,\"Time\":\"2012-03-02 04:00:00\",\"Weather\":\"Snow\",\"snow\":true,\"Temp (C)\":-5.6,\"Rel Hum (%)\":82,\"h)\":24,\"Visibility (km)\":6.4,\"Dew Point Temp (C)\":-8.2},{\"Stn Press (kPa)\":101.15,\"Time\":\"2012-03-02 05:00:00\",\"Weather\":\"Snow\",\"snow\":true,\"Temp (C)\":-5.5,\"Rel Hum (%)\":81,\"h)\":19,\"Visibility (km)\":12.9,\"Dew Point Temp (C)\":-8.3},{\"Stn Press (kPa)\":101.14,\"Time\":\"2012-03-02 06:00:00\",\"Weather\":\"Snow\",\"snow\":true,\"Temp (C)\":-5.6,\"Rel Hum (%)\":79,\"h)\":19,\"Visibility (km)\":16.1,\"Dew Point Temp (C)\":-8.6},{\"Stn Press (kPa)\":101.2,\"Time\":\"2012-03-02 08:00:00\",\"Weather\":\"Snow\",\"snow\":true,\"Temp (C)\":-5.7,\"Rel Hum (%)\":79,\"h)\":17,\"Visibility (km)\":24.1,\"Dew Point Temp (C)\":-8.8},{\"Stn Press (kPa)\":101.19,\"Time\":\"2012-03-02 09:00:00\",\"Weather\":\"Snow\",\"snow\":true,\"Temp (C)\":-6.1,\"Rel Hum (%)\":84,\"h)\":13,\"Visibility (km)\":2.0,\"Dew Point Temp (C)\":-8.4},{\"Stn Press (kPa)\":101.22,\"Time\":\"2012-03-02 10:00:00\",\"Weather\":\"Snow\",\"snow\":true,\"Temp (C)\":-5.9,\"Rel Hum (%)\":83,\"h)\":15,\"Visibility (km)\":4.0,\"Dew Point Temp (C)\":-8.3},{\"Stn Press (kPa)\":101.21,\"Time\":\"2012-03-02 11:00:00\",\"Weather\":\"Snow\",\"snow\":true,\"Temp (C)\":-5.5,\"Rel Hum (%)\":86,\"h)\":15,\"Visibility (km)\":2.8,\"Dew Point Temp (C)\":-7.5},{\"Stn Press (kPa)\":101.09,\"Time\":\"2012-03-02 13:00:00\",\"Weather\":\"Snow\",\"snow\":true,\"Temp (C)\":-4.6,\"Rel Hum (%)\":87,\"h)\":13,\"Visibility (km)\":4.8,\"Dew Point Temp (C)\":-6.5},{\"Stn Press (kPa)\":99.96,\"Time\":\"2012-03-03 01:00:00\",\"Weather\":\"Snow\",\"snow\":true,\"Temp (C)\":1.2,\"Rel Hum (%)\":75,\"h)\":19,\"Visibility (km)\":25.0,\"Dew Point Temp (C)\":-2.8},{\"Stn Press (kPa)\":99.75,\"Time\":\"2012-03-03 02:00:00\",\"Weather\":\"Snow\",\"snow\":true,\"Temp (C)\":-0.6,\"Rel Hum (%)\":84,\"h)\":19,\"Visibility (km)\":2.4,\"Dew Point Temp (C)\":-2.9},{\"Stn Press (kPa)\":99.55,\"Time\":\"2012-03-03 03:00:00\",\"Weather\":\"Snow\",\"snow\":true,\"Temp (C)\":-0.3,\"Rel Hum (%)\":86,\"h)\":22,\"Visibility (km)\":2.8,\"Dew Point Temp (C)\":-2.4},{\"Stn Press (kPa)\":99.4,\"Time\":\"2012-03-03 04:00:00\",\"Weather\":\"Snow\",\"snow\":true,\"Temp (C)\":0.3,\"Rel Hum (%)\":86,\"h)\":24,\"Visibility (km)\":11.3,\"Dew Point Temp (C)\":-1.7},{\"Stn Press (kPa)\":98.98,\"Time\":\"2012-03-03 21:00:00\",\"Weather\":\"Snow\",\"snow\":true,\"Temp (C)\":2.9,\"Rel Hum (%)\":62,\"h)\":46,\"Visibility (km)\":25.0,\"Dew Point Temp (C)\":-3.6},{\"Stn Press (kPa)\":99.07,\"Time\":\"2012-03-03 22:00:00\",\"Weather\":\"Snow\",\"snow\":true,\"Temp (C)\":2.8,\"Rel Hum (%)\":64,\"h)\":57,\"Visibility (km)\":25.0,\"Dew Point Temp (C)\":-3.4},{\"Stn Press (kPa)\":99.18,\"Time\":\"2012-03-03 23:00:00\",\"Weather\":\"Snow\",\"snow\":true,\"Temp (C)\":2.3,\"Rel Hum (%)\":67,\"h)\":33,\"Visibility (km)\":25.0,\"Dew Point Temp (C)\":-3.1},{\"Stn Press (kPa)\":100.18,\"Time\":\"2012-03-04 21:00:00\",\"Weather\":\"Snow\",\"snow\":true,\"Temp (C)\":-9.0,\"Rel Hum (%)\":69,\"h)\":15,\"Visibility (km)\":25.0,\"Dew Point Temp (C)\":-13.7},{\"Stn Press (kPa)\":100.25,\"Time\":\"2012-03-08 23:00:00\",\"Weather\":\"Snow\",\"snow\":true,\"Temp (C)\":0.8,\"Rel Hum (%)\":85,\"h)\":35,\"Visibility (km)\":2.4,\"Dew Point Temp (C)\":-1.4},{\"Stn Press (kPa)\":100.33,\"Time\":\"2012-03-09 00:00:00\",\"Weather\":\"Snow\",\"snow\":true,\"Temp (C)\":-0.1,\"Rel Hum (%)\":87,\"h)\":28,\"Visibility (km)\":2.8,\"Dew Point Temp (C)\":-2.0},{\"Stn Press (kPa)\":102.5,\"Time\":\"2012-03-10 22:00:00\",\"Weather\":\"Snow\",\"snow\":true,\"Temp (C)\":-2.0,\"Rel Hum (%)\":68,\"h)\":11,\"Visibility (km)\":25.0,\"Dew Point Temp (C)\":-7.1},{\"Stn Press (kPa)\":101.57,\"Time\":\"2012-03-14 10:00:00\",\"Weather\":\"Snow\",\"snow\":true,\"Temp (C)\":1.1,\"Rel Hum (%)\":96,\"h)\":7,\"Visibility (km)\":2.4,\"Dew Point Temp (C)\":0.5},{\"Stn Press (kPa)\":101.6,\"Time\":\"2012-03-14 11:00:00\",\"Weather\":\"Snow\",\"snow\":true,\"Temp (C)\":0.4,\"Rel Hum (%)\":98,\"h)\":6,\"Visibility (km)\":1.6,\"Dew Point Temp (C)\":0.1},{\"Stn Press (kPa)\":101.65,\"Time\":\"2012-03-14 12:00:00\",\"Weather\":\"Snow\",\"snow\":true,\"Temp (C)\":1.0,\"Rel Hum (%)\":99,\"h)\":4,\"Visibility (km)\":2.0,\"Dew Point Temp (C)\":0.8},{\"Stn Press (kPa)\":102.07,\"Time\":\"2012-03-14 19:00:00\",\"Weather\":\"Snow\",\"snow\":true,\"Temp (C)\":0.3,\"Rel Hum (%)\":96,\"h)\":15,\"Visibility (km)\":8.0,\"Dew Point Temp (C)\":-0.2},{\"Stn Press (kPa)\":101.58,\"Time\":\"2012-03-28 00:00:00\",\"Weather\":\"Snow\",\"snow\":true,\"Temp (C)\":1.0,\"Rel Hum (%)\":41,\"h)\":6,\"Visibility (km)\":16.1,\"Dew Point Temp (C)\":-10.8},{\"Stn Press (kPa)\":101.39,\"Time\":\"2012-03-28 01:00:00\",\"Weather\":\"Snow\",\"snow\":true,\"Temp (C)\":-1.1,\"Rel Hum (%)\":78,\"h)\":11,\"Visibility (km)\":16.1,\"Dew Point Temp (C)\":-4.5},{\"Stn Press (kPa)\":101.28,\"Time\":\"2012-03-28 02:00:00\",\"Weather\":\"Snow\",\"snow\":true,\"Temp (C)\":-1.0,\"Rel Hum (%)\":75,\"h)\":13,\"Visibility (km)\":9.7,\"Dew Point Temp (C)\":-4.8},{\"Stn Press (kPa)\":101.08,\"Time\":\"2012-03-28 03:00:00\",\"Weather\":\"Snow\",\"snow\":true,\"Temp (C)\":-1.6,\"Rel Hum (%)\":83,\"h)\":20,\"Visibility (km)\":25.0,\"Dew Point Temp (C)\":-4.1},{\"Stn Press (kPa)\":100.88,\"Time\":\"2012-03-28 04:00:00\",\"Weather\":\"Snow\",\"snow\":true,\"Temp (C)\":-1.5,\"Rel Hum (%)\":84,\"h)\":20,\"Visibility (km)\":25.0,\"Dew Point Temp (C)\":-3.8},{\"Stn Press (kPa)\":100.51,\"Time\":\"2012-03-28 06:00:00\",\"Weather\":\"Snow\",\"snow\":true,\"Temp (C)\":-0.3,\"Rel Hum (%)\":79,\"h)\":20,\"Visibility (km)\":24.1,\"Dew Point Temp (C)\":-3.5},{\"Stn Press (kPa)\":100.4,\"Time\":\"2012-03-28 07:00:00\",\"Weather\":\"Snow\",\"snow\":true,\"Temp (C)\":0.5,\"Rel Hum (%)\":79,\"h)\":22,\"Visibility (km)\":24.1,\"Dew Point Temp (C)\":-2.7},{\"Stn Press (kPa)\":100.25,\"Time\":\"2012-03-28 08:00:00\",\"Weather\":\"Snow\",\"snow\":true,\"Temp (C)\":0.8,\"Rel Hum (%)\":76,\"h)\":19,\"Visibility (km)\":8.0,\"Dew Point Temp (C)\":-2.9},{\"Stn Press (kPa)\":100.35,\"Time\":\"2012-03-29 05:00:00\",\"Weather\":\"Snow\",\"snow\":true,\"Temp (C)\":0.6,\"Rel Hum (%)\":82,\"h)\":9,\"Visibility (km)\":25.0,\"Dew Point Temp (C)\":-2.1},{\"Stn Press (kPa)\":100.44,\"Time\":\"2012-03-29 06:00:00\",\"Weather\":\"Snow\",\"snow\":true,\"Temp (C)\":0.7,\"Rel Hum (%)\":83,\"h)\":6,\"Visibility (km)\":24.1,\"Dew Point Temp (C)\":-1.9},{\"Stn Press (kPa)\":100.52,\"Time\":\"2012-03-29 07:00:00\",\"Weather\":\"Snow\",\"snow\":true,\"Temp (C)\":0.8,\"Rel Hum (%)\":84,\"h)\":7,\"Visibility (km)\":24.1,\"Dew Point Temp (C)\":-1.6},{\"Stn Press (kPa)\":100.59,\"Time\":\"2012-03-29 08:00:00\",\"Weather\":\"Snow\",\"snow\":true,\"Temp (C)\":1.5,\"Rel Hum (%)\":83,\"h)\":6,\"Visibility (km)\":16.1,\"Dew Point Temp (C)\":-1.1},{\"Stn Press (kPa)\":100.64,\"Time\":\"2012-03-29 09:00:00\",\"Weather\":\"Snow\",\"snow\":true,\"Temp (C)\":2.5,\"Rel Hum (%)\":77,\"h)\":9,\"Visibility (km)\":24.1,\"Dew Point Temp (C)\":-1.2},{\"Stn Press (kPa)\":100.25,\"Time\":\"2012-04-27 07:00:00\",\"Weather\":\"Snow\",\"snow\":true,\"Temp (C)\":1.8,\"Rel Hum (%)\":71,\"h)\":32,\"Visibility (km)\":12.9,\"Dew Point Temp (C)\":-2.9},{\"Stn Press (kPa)\":100.33,\"Time\":\"2012-04-27 08:00:00\",\"Weather\":\"Snow\",\"snow\":true,\"Temp (C)\":2.3,\"Rel Hum (%)\":69,\"h)\":26,\"Visibility (km)\":24.1,\"Dew Point Temp (C)\":-2.7},{\"Stn Press (kPa)\":100.4,\"Time\":\"2012-04-27 09:00:00\",\"Weather\":\"Snow\",\"snow\":true,\"Temp (C)\":2.7,\"Rel Hum (%)\":65,\"h)\":32,\"Visibility (km)\":24.1,\"Dew Point Temp (C)\":-3.2},{\"Stn Press (kPa)\":100.48,\"Time\":\"2012-04-27 10:00:00\",\"Weather\":\"Snow\",\"snow\":true,\"Temp (C)\":3.7,\"Rel Hum (%)\":61,\"h)\":30,\"Visibility (km)\":24.1,\"Dew Point Temp (C)\":-3.1},{\"Stn Press (kPa)\":100.65,\"Time\":\"2012-04-27 12:00:00\",\"Weather\":\"Snow\",\"snow\":true,\"Temp (C)\":2.7,\"Rel Hum (%)\":61,\"h)\":35,\"Visibility (km)\":24.1,\"Dew Point Temp (C)\":-4.1},{\"Stn Press (kPa)\":101.12,\"Time\":\"2012-11-04 09:00:00\",\"Weather\":\"Snow\",\"snow\":true,\"Temp (C)\":2.9,\"Rel Hum (%)\":74,\"h)\":17,\"Visibility (km)\":24.1,\"Dew Point Temp (C)\":-1.2},{\"Stn Press (kPa)\":101.44,\"Time\":\"2012-11-05 16:00:00\",\"Weather\":\"Snow\",\"snow\":true,\"Temp (C)\":1.1,\"Rel Hum (%)\":59,\"h)\":19,\"Visibility (km)\":24.1,\"Dew Point Temp (C)\":-6.0},{\"Stn Press (kPa)\":99.62,\"Time\":\"2012-11-24 10:00:00\",\"Weather\":\"Snow\",\"snow\":true,\"Temp (C)\":1.8,\"Rel Hum (%)\":73,\"h)\":30,\"Visibility (km)\":24.1,\"Dew Point Temp (C)\":-2.5},{\"Stn Press (kPa)\":99.6,\"Time\":\"2012-11-24 11:00:00\",\"Weather\":\"Snow\",\"snow\":true,\"Temp (C)\":1.6,\"Rel Hum (%)\":68,\"h)\":33,\"Visibility (km)\":24.1,\"Dew Point Temp (C)\":-3.7},{\"Stn Press (kPa)\":99.6,\"Time\":\"2012-11-24 12:00:00\",\"Weather\":\"Snow\",\"snow\":true,\"Temp (C)\":1.8,\"Rel Hum (%)\":61,\"h)\":30,\"Visibility (km)\":24.1,\"Dew Point Temp (C)\":-5.0},{\"Stn Press (kPa)\":99.7,\"Time\":\"2012-11-24 15:00:00\",\"Weather\":\"Snow\",\"snow\":true,\"Temp (C)\":0.7,\"Rel Hum (%)\":59,\"h)\":35,\"Visibility (km)\":2.4,\"Dew Point Temp (C)\":-6.4},{\"Stn Press (kPa)\":99.81,\"Time\":\"2012-11-24 17:00:00\",\"Weather\":\"Snow\",\"snow\":true,\"Temp (C)\":-0.6,\"Rel Hum (%)\":70,\"h)\":37,\"Visibility (km)\":12.9,\"Dew Point Temp (C)\":-5.3},{\"Stn Press (kPa)\":99.85,\"Time\":\"2012-11-24 18:00:00\",\"Weather\":\"Snow\",\"snow\":true,\"Temp (C)\":-0.4,\"Rel Hum (%)\":68,\"h)\":28,\"Visibility (km)\":25.0,\"Dew Point Temp (C)\":-5.5},{\"Stn Press (kPa)\":99.9,\"Time\":\"2012-11-24 19:00:00\",\"Weather\":\"Snow\",\"snow\":true,\"Temp (C)\":-0.9,\"Rel Hum (%)\":74,\"h)\":22,\"Visibility (km)\":19.3,\"Dew Point Temp (C)\":-5.0},{\"Stn Press (kPa)\":100.28,\"Time\":\"2012-11-25 11:00:00\",\"Weather\":\"Snow\",\"snow\":true,\"Temp (C)\":-2.9,\"Rel Hum (%)\":60,\"h)\":35,\"Visibility (km)\":48.3,\"Dew Point Temp (C)\":-9.6},{\"Stn Press (kPa)\":101.42,\"Time\":\"2012-11-28 14:00:00\",\"Weather\":\"Snow\",\"snow\":true,\"Temp (C)\":0.7,\"Rel Hum (%)\":86,\"h)\":19,\"Visibility (km)\":3.2,\"Dew Point Temp (C)\":-1.3},{\"Stn Press (kPa)\":101.37,\"Time\":\"2012-11-28 15:00:00\",\"Weather\":\"Snow\",\"snow\":true,\"Temp (C)\":0.0,\"Rel Hum (%)\":94,\"h)\":15,\"Visibility (km)\":2.4,\"Dew Point Temp (C)\":-0.8},{\"Stn Press (kPa)\":101.37,\"Time\":\"2012-11-28 16:00:00\",\"Weather\":\"Snow\",\"snow\":true,\"Temp (C)\":0.6,\"Rel Hum (%)\":90,\"h)\":20,\"Visibility (km)\":6.4,\"Dew Point Temp (C)\":-0.9},{\"Stn Press (kPa)\":101.36,\"Time\":\"2012-11-28 17:00:00\",\"Weather\":\"Snow\",\"snow\":true,\"Temp (C)\":0.4,\"Rel Hum (%)\":92,\"h)\":22,\"Visibility (km)\":4.8,\"Dew Point Temp (C)\":-0.7},{\"Stn Press (kPa)\":101.35,\"Time\":\"2012-11-28 18:00:00\",\"Weather\":\"Snow\",\"snow\":true,\"Temp (C)\":0.8,\"Rel Hum (%)\":90,\"h)\":24,\"Visibility (km)\":8.0,\"Dew Point Temp (C)\":-0.6},{\"Stn Press (kPa)\":101.35,\"Time\":\"2012-11-28 19:00:00\",\"Weather\":\"Snow\",\"snow\":true,\"Temp (C)\":1.0,\"Rel Hum (%)\":88,\"h)\":22,\"Visibility (km)\":12.9,\"Dew Point Temp (C)\":-0.7},{\"Stn Press (kPa)\":101.36,\"Time\":\"2012-11-28 20:00:00\",\"Weather\":\"Snow\",\"snow\":true,\"Temp (C)\":0.9,\"Rel Hum (%)\":88,\"h)\":20,\"Visibility (km)\":16.1,\"Dew Point Temp (C)\":-0.9},{\"Stn Press (kPa)\":101.38,\"Time\":\"2012-11-28 21:00:00\",\"Weather\":\"Snow\",\"snow\":true,\"Temp (C)\":0.4,\"Rel Hum (%)\":85,\"h)\":24,\"Visibility (km)\":16.1,\"Dew Point Temp (C)\":-1.9},{\"Stn Press (kPa)\":101.77,\"Time\":\"2012-11-29 08:00:00\",\"Weather\":\"Snow\",\"snow\":true,\"Temp (C)\":-4.8,\"Rel Hum (%)\":76,\"h)\":13,\"Visibility (km)\":19.3,\"Dew Point Temp (C)\":-8.3},{\"Stn Press (kPa)\":101.67,\"Time\":\"2012-11-29 09:00:00\",\"Weather\":\"Snow\",\"snow\":true,\"Temp (C)\":-4.6,\"Rel Hum (%)\":83,\"h)\":19,\"Visibility (km)\":9.7,\"Dew Point Temp (C)\":-7.0},{\"Stn Press (kPa)\":101.56,\"Time\":\"2012-11-29 10:00:00\",\"Weather\":\"Snow\",\"snow\":true,\"Temp (C)\":-4.7,\"Rel Hum (%)\":85,\"h)\":20,\"Visibility (km)\":4.8,\"Dew Point Temp (C)\":-6.8},{\"Stn Press (kPa)\":101.46,\"Time\":\"2012-11-29 11:00:00\",\"Weather\":\"Snow\",\"snow\":true,\"Temp (C)\":-3.5,\"Rel Hum (%)\":88,\"h)\":15,\"Visibility (km)\":19.3,\"Dew Point Temp (C)\":-5.2},{\"Stn Press (kPa)\":101.35,\"Time\":\"2012-11-29 12:00:00\",\"Weather\":\"Snow\",\"snow\":true,\"Temp (C)\":-1.8,\"Rel Hum (%)\":84,\"h)\":15,\"Visibility (km)\":6.4,\"Dew Point Temp (C)\":-4.2},{\"Stn Press (kPa)\":101.33,\"Time\":\"2012-11-29 13:00:00\",\"Weather\":\"Snow\",\"snow\":true,\"Temp (C)\":-1.4,\"Rel Hum (%)\":86,\"h)\":17,\"Visibility (km)\":24.1,\"Dew Point Temp (C)\":-3.4},{\"Stn Press (kPa)\":101.33,\"Time\":\"2012-11-29 14:00:00\",\"Weather\":\"Snow\",\"snow\":true,\"Temp (C)\":-0.8,\"Rel Hum (%)\":83,\"h)\":22,\"Visibility (km)\":24.1,\"Dew Point Temp (C)\":-3.3},{\"Stn Press (kPa)\":101.4,\"Time\":\"2012-11-29 15:00:00\",\"Weather\":\"Snow\",\"snow\":true,\"Temp (C)\":-1.2,\"Rel Hum (%)\":78,\"h)\":22,\"Visibility (km)\":24.1,\"Dew Point Temp (C)\":-4.6},{\"Stn Press (kPa)\":101.78,\"Time\":\"2012-11-29 18:00:00\",\"Weather\":\"Snow\",\"snow\":true,\"Temp (C)\":-4.2,\"Rel Hum (%)\":55,\"h)\":28,\"Visibility (km)\":25.0,\"Dew Point Temp (C)\":-11.8},{\"Stn Press (kPa)\":102.73,\"Time\":\"2012-12-01 17:00:00\",\"Weather\":\"Snow\",\"snow\":true,\"Temp (C)\":-7.5,\"Rel Hum (%)\":70,\"h)\":20,\"Visibility (km)\":19.3,\"Dew Point Temp (C)\":-12.0},{\"Stn Press (kPa)\":102.71,\"Time\":\"2012-12-01 18:00:00\",\"Weather\":\"Snow\",\"snow\":true,\"Temp (C)\":-6.9,\"Rel Hum (%)\":71,\"h)\":19,\"Visibility (km)\":25.0,\"Dew Point Temp (C)\":-11.3},{\"Stn Press (kPa)\":102.36,\"Time\":\"2012-12-01 22:00:00\",\"Weather\":\"Snow\",\"snow\":true,\"Temp (C)\":-4.8,\"Rel Hum (%)\":76,\"h)\":13,\"Visibility (km)\":19.3,\"Dew Point Temp (C)\":-8.4},{\"Stn Press (kPa)\":102.02,\"Time\":\"2012-12-02 03:00:00\",\"Weather\":\"Snow\",\"snow\":true,\"Temp (C)\":-3.5,\"Rel Hum (%)\":84,\"h)\":13,\"Visibility (km)\":25.0,\"Dew Point Temp (C)\":-5.8},{\"Stn Press (kPa)\":101.17,\"Time\":\"2012-12-05 11:00:00\",\"Weather\":\"Snow\",\"snow\":true,\"Temp (C)\":2.2,\"Rel Hum (%)\":71,\"h)\":30,\"Visibility (km)\":24.1,\"Dew Point Temp (C)\":-2.5},{\"Stn Press (kPa)\":101.23,\"Time\":\"2012-12-05 12:00:00\",\"Weather\":\"Snow\",\"snow\":true,\"Temp (C)\":1.1,\"Rel Hum (%)\":65,\"h)\":26,\"Visibility (km)\":24.1,\"Dew Point Temp (C)\":-4.8},{\"Stn Press (kPa)\":101.84,\"Time\":\"2012-12-05 19:00:00\",\"Weather\":\"Snow\",\"snow\":true,\"Temp (C)\":-1.0,\"Rel Hum (%)\":57,\"h)\":28,\"Visibility (km)\":25.0,\"Dew Point Temp (C)\":-8.5},{\"Stn Press (kPa)\":101.22,\"Time\":\"2012-12-07 23:00:00\",\"Weather\":\"Snow\",\"snow\":true,\"Temp (C)\":1.5,\"Rel Hum (%)\":76,\"h)\":4,\"Visibility (km)\":19.3,\"Dew Point Temp (C)\":-2.2},{\"Stn Press (kPa)\":101.2,\"Time\":\"2012-12-08 00:00:00\",\"Weather\":\"Snow\",\"snow\":true,\"Temp (C)\":1.8,\"Rel Hum (%)\":79,\"h)\":4,\"Visibility (km)\":25.0,\"Dew Point Temp (C)\":-1.4},{\"Stn Press (kPa)\":102.32,\"Time\":\"2012-12-09 12:00:00\",\"Weather\":\"Snow\",\"snow\":true,\"Temp (C)\":-1.9,\"Rel Hum (%)\":79,\"h)\":17,\"Visibility (km)\":12.9,\"Dew Point Temp (C)\":-5.1},{\"Stn Press (kPa)\":101.31,\"Time\":\"2012-12-10 01:00:00\",\"Weather\":\"Snow\",\"snow\":true,\"Temp (C)\":-5.0,\"Rel Hum (%)\":91,\"h)\":32,\"Visibility (km)\":1.6,\"Dew Point Temp (C)\":-6.2},{\"Stn Press (kPa)\":101.1,\"Time\":\"2012-12-10 02:00:00\",\"Weather\":\"Snow\",\"snow\":true,\"Temp (C)\":-4.7,\"Rel Hum (%)\":89,\"h)\":33,\"Visibility (km)\":4.0,\"Dew Point Temp (C)\":-6.2},{\"Stn Press (kPa)\":100.96,\"Time\":\"2012-12-10 03:00:00\",\"Weather\":\"Snow\",\"snow\":true,\"Temp (C)\":-4.3,\"Rel Hum (%)\":89,\"h)\":33,\"Visibility (km)\":2.8,\"Dew Point Temp (C)\":-5.9},{\"Stn Press (kPa)\":102.21,\"Time\":\"2012-12-12 09:00:00\",\"Weather\":\"Snow\",\"snow\":true,\"Temp (C)\":-6.1,\"Rel Hum (%)\":80,\"h)\":4,\"Visibility (km)\":24.1,\"Dew Point Temp (C)\":-9.0},{\"Stn Press (kPa)\":102.2,\"Time\":\"2012-12-12 10:00:00\",\"Weather\":\"Snow\",\"snow\":true,\"Temp (C)\":-4.7,\"Rel Hum (%)\":80,\"h)\":9,\"Visibility (km)\":24.1,\"Dew Point Temp (C)\":-7.6},{\"Stn Press (kPa)\":102.25,\"Time\":\"2012-12-12 17:00:00\",\"Weather\":\"Snow\",\"snow\":true,\"Temp (C)\":-3.2,\"Rel Hum (%)\":81,\"h)\":7,\"Visibility (km)\":9.7,\"Dew Point Temp (C)\":-6.0},{\"Stn Press (kPa)\":102.28,\"Time\":\"2012-12-12 18:00:00\",\"Weather\":\"Snow\",\"snow\":true,\"Temp (C)\":-3.6,\"Rel Hum (%)\":85,\"h)\":7,\"Visibility (km)\":12.9,\"Dew Point Temp (C)\":-5.7},{\"Stn Press (kPa)\":102.36,\"Time\":\"2012-12-12 20:00:00\",\"Weather\":\"Snow\",\"snow\":true,\"Temp (C)\":-4.4,\"Rel Hum (%)\":86,\"h)\":7,\"Visibility (km)\":16.1,\"Dew Point Temp (C)\":-6.4},{\"Stn Press (kPa)\":102.37,\"Time\":\"2012-12-12 21:00:00\",\"Weather\":\"Snow\",\"snow\":true,\"Temp (C)\":-3.9,\"Rel Hum (%)\":86,\"h)\":6,\"Visibility (km)\":16.1,\"Dew Point Temp (C)\":-5.9},{\"Stn Press (kPa)\":102.4,\"Time\":\"2012-12-12 22:00:00\",\"Weather\":\"Snow\",\"snow\":true,\"Temp (C)\":-3.8,\"Rel Hum (%)\":87,\"h)\":4,\"Visibility (km)\":11.3,\"Dew Point Temp (C)\":-5.6},{\"Stn Press (kPa)\":101.82,\"Time\":\"2012-12-16 09:00:00\",\"Weather\":\"Snow\",\"snow\":true,\"Temp (C)\":-9.4,\"Rel Hum (%)\":65,\"h)\":33,\"Visibility (km)\":19.3,\"Dew Point Temp (C)\":-14.7},{\"Stn Press (kPa)\":101.71,\"Time\":\"2012-12-16 11:00:00\",\"Weather\":\"Snow\",\"snow\":true,\"Temp (C)\":-8.2,\"Rel Hum (%)\":63,\"h)\":35,\"Visibility (km)\":24.1,\"Dew Point Temp (C)\":-13.9},{\"Stn Press (kPa)\":101.62,\"Time\":\"2012-12-16 12:00:00\",\"Weather\":\"Snow\",\"snow\":true,\"Temp (C)\":-8.5,\"Rel Hum (%)\":75,\"h)\":32,\"Visibility (km)\":4.8,\"Dew Point Temp (C)\":-12.2},{\"Stn Press (kPa)\":101.54,\"Time\":\"2012-12-16 13:00:00\",\"Weather\":\"Snow\",\"snow\":true,\"Temp (C)\":-8.0,\"Rel Hum (%)\":78,\"h)\":26,\"Visibility (km)\":12.9,\"Dew Point Temp (C)\":-11.2},{\"Stn Press (kPa)\":101.45,\"Time\":\"2012-12-16 14:00:00\",\"Weather\":\"Snow\",\"snow\":true,\"Temp (C)\":-7.7,\"Rel Hum (%)\":82,\"h)\":32,\"Visibility (km)\":4.8,\"Dew Point Temp (C)\":-10.2},{\"Stn Press (kPa)\":101.38,\"Time\":\"2012-12-16 15:00:00\",\"Weather\":\"Snow\",\"snow\":true,\"Temp (C)\":-7.6,\"Rel Hum (%)\":87,\"h)\":32,\"Visibility (km)\":3.2,\"Dew Point Temp (C)\":-9.4},{\"Stn Press (kPa)\":101.33,\"Time\":\"2012-12-16 16:00:00\",\"Weather\":\"Snow\",\"snow\":true,\"Temp (C)\":-7.0,\"Rel Hum (%)\":88,\"h)\":35,\"Visibility (km)\":4.0,\"Dew Point Temp (C)\":-8.7},{\"Stn Press (kPa)\":101.28,\"Time\":\"2012-12-16 17:00:00\",\"Weather\":\"Snow\",\"snow\":true,\"Temp (C)\":-6.4,\"Rel Hum (%)\":88,\"h)\":30,\"Visibility (km)\":4.8,\"Dew Point Temp (C)\":-8.0},{\"Stn Press (kPa)\":101.25,\"Time\":\"2012-12-16 18:00:00\",\"Weather\":\"Snow\",\"snow\":true,\"Temp (C)\":-5.9,\"Rel Hum (%)\":89,\"h)\":30,\"Visibility (km)\":4.0,\"Dew Point Temp (C)\":-7.4},{\"Stn Press (kPa)\":101.2,\"Time\":\"2012-12-16 19:00:00\",\"Weather\":\"Snow\",\"snow\":true,\"Temp (C)\":-5.1,\"Rel Hum (%)\":89,\"h)\":22,\"Visibility (km)\":16.1,\"Dew Point Temp (C)\":-6.6},{\"Stn Press (kPa)\":101.18,\"Time\":\"2012-12-16 20:00:00\",\"Weather\":\"Snow\",\"snow\":true,\"Temp (C)\":-4.7,\"Rel Hum (%)\":91,\"h)\":28,\"Visibility (km)\":12.9,\"Dew Point Temp (C)\":-6.0},{\"Stn Press (kPa)\":101.17,\"Time\":\"2012-12-16 21:00:00\",\"Weather\":\"Snow\",\"snow\":true,\"Temp (C)\":-4.0,\"Rel Hum (%)\":90,\"h)\":24,\"Visibility (km)\":16.1,\"Dew Point Temp (C)\":-5.4},{\"Stn Press (kPa)\":101.12,\"Time\":\"2012-12-16 22:00:00\",\"Weather\":\"Snow\",\"snow\":true,\"Temp (C)\":-3.6,\"Rel Hum (%)\":92,\"h)\":22,\"Visibility (km)\":9.7,\"Dew Point Temp (C)\":-4.7},{\"Stn Press (kPa)\":100.91,\"Time\":\"2012-12-17 04:00:00\",\"Weather\":\"Snow\",\"snow\":true,\"Temp (C)\":-3.0,\"Rel Hum (%)\":92,\"h)\":24,\"Visibility (km)\":6.4,\"Dew Point Temp (C)\":-4.1},{\"Stn Press (kPa)\":100.89,\"Time\":\"2012-12-17 05:00:00\",\"Weather\":\"Snow\",\"snow\":true,\"Temp (C)\":-3.0,\"Rel Hum (%)\":91,\"h)\":24,\"Visibility (km)\":8.0,\"Dew Point Temp (C)\":-4.2},{\"Stn Press (kPa)\":100.88,\"Time\":\"2012-12-17 06:00:00\",\"Weather\":\"Snow\",\"snow\":true,\"Temp (C)\":-2.1,\"Rel Hum (%)\":92,\"h)\":19,\"Visibility (km)\":8.0,\"Dew Point Temp (C)\":-3.2},{\"Stn Press (kPa)\":100.78,\"Time\":\"2012-12-17 10:00:00\",\"Weather\":\"Snow\",\"snow\":true,\"Temp (C)\":0.5,\"Rel Hum (%)\":91,\"h)\":20,\"Visibility (km)\":3.6,\"Dew Point Temp (C)\":-0.8},{\"Stn Press (kPa)\":100.76,\"Time\":\"2012-12-17 11:00:00\",\"Weather\":\"Snow\",\"snow\":true,\"Temp (C)\":0.4,\"Rel Hum (%)\":94,\"h)\":19,\"Visibility (km)\":1.6,\"Dew Point Temp (C)\":-0.4},{\"Stn Press (kPa)\":100.71,\"Time\":\"2012-12-17 12:00:00\",\"Weather\":\"Snow\",\"snow\":true,\"Temp (C)\":0.4,\"Rel Hum (%)\":95,\"h)\":22,\"Visibility (km)\":2.0,\"Dew Point Temp (C)\":-0.3},{\"Stn Press (kPa)\":100.66,\"Time\":\"2012-12-17 13:00:00\",\"Weather\":\"Snow\",\"snow\":true,\"Temp (C)\":0.6,\"Rel Hum (%)\":95,\"h)\":17,\"Visibility (km)\":4.8,\"Dew Point Temp (C)\":-0.1},{\"Stn Press (kPa)\":100.65,\"Time\":\"2012-12-17 14:00:00\",\"Weather\":\"Snow\",\"snow\":true,\"Temp (C)\":0.8,\"Rel Hum (%)\":95,\"h)\":19,\"Visibility (km)\":4.0,\"Dew Point Temp (C)\":0.1},{\"Stn Press (kPa)\":100.07,\"Time\":\"2012-12-18 06:00:00\",\"Weather\":\"Snow\",\"snow\":true,\"Temp (C)\":0.5,\"Rel Hum (%)\":94,\"h)\":24,\"Visibility (km)\":3.6,\"Dew Point Temp (C)\":-0.4},{\"Stn Press (kPa)\":100.0,\"Time\":\"2012-12-18 07:00:00\",\"Weather\":\"Snow\",\"snow\":true,\"Temp (C)\":0.5,\"Rel Hum (%)\":95,\"h)\":24,\"Visibility (km)\":3.2,\"Dew Point Temp (C)\":-0.2},{\"Stn Press (kPa)\":99.92,\"Time\":\"2012-12-18 08:00:00\",\"Weather\":\"Snow\",\"snow\":true,\"Temp (C)\":0.7,\"Rel Hum (%)\":95,\"h)\":24,\"Visibility (km)\":2.8,\"Dew Point Temp (C)\":0.0},{\"Stn Press (kPa)\":99.88,\"Time\":\"2012-12-18 09:00:00\",\"Weather\":\"Snow\",\"snow\":true,\"Temp (C)\":0.7,\"Rel Hum (%)\":96,\"h)\":22,\"Visibility (km)\":2.0,\"Dew Point Temp (C)\":0.1},{\"Stn Press (kPa)\":99.86,\"Time\":\"2012-12-18 10:00:00\",\"Weather\":\"Snow\",\"snow\":true,\"Temp (C)\":0.6,\"Rel Hum (%)\":96,\"h)\":24,\"Visibility (km)\":1.2,\"Dew Point Temp (C)\":0.0},{\"Stn Press (kPa)\":99.76,\"Time\":\"2012-12-18 11:00:00\",\"Weather\":\"Snow\",\"snow\":true,\"Temp (C)\":0.5,\"Rel Hum (%)\":95,\"h)\":22,\"Visibility (km)\":1.2,\"Dew Point Temp (C)\":-0.2},{\"Stn Press (kPa)\":99.64,\"Time\":\"2012-12-18 12:00:00\",\"Weather\":\"Snow\",\"snow\":true,\"Temp (C)\":0.8,\"Rel Hum (%)\":94,\"h)\":32,\"Visibility (km)\":4.8,\"Dew Point Temp (C)\":0.0},{\"Stn Press (kPa)\":99.56,\"Time\":\"2012-12-18 13:00:00\",\"Weather\":\"Snow\",\"snow\":true,\"Temp (C)\":1.0,\"Rel Hum (%)\":93,\"h)\":26,\"Visibility (km)\":4.0,\"Dew Point Temp (C)\":0.0},{\"Stn Press (kPa)\":99.53,\"Time\":\"2012-12-18 14:00:00\",\"Weather\":\"Snow\",\"snow\":true,\"Temp (C)\":1.0,\"Rel Hum (%)\":94,\"h)\":24,\"Visibility (km)\":4.0,\"Dew Point Temp (C)\":0.2},{\"Stn Press (kPa)\":99.51,\"Time\":\"2012-12-18 15:00:00\",\"Weather\":\"Snow\",\"snow\":true,\"Temp (C)\":1.1,\"Rel Hum (%)\":94,\"h)\":22,\"Visibility (km)\":4.8,\"Dew Point Temp (C)\":0.2},{\"Stn Press (kPa)\":101.26,\"Time\":\"2012-12-19 19:00:00\",\"Weather\":\"Snow\",\"snow\":true,\"Temp (C)\":0.8,\"Rel Hum (%)\":96,\"h)\":11,\"Visibility (km)\":4.8,\"Dew Point Temp (C)\":0.3},{\"Stn Press (kPa)\":101.32,\"Time\":\"2012-12-19 20:00:00\",\"Weather\":\"Snow\",\"snow\":true,\"Temp (C)\":0.7,\"Rel Hum (%)\":96,\"h)\":11,\"Visibility (km)\":6.4,\"Dew Point Temp (C)\":0.1},{\"Stn Press (kPa)\":101.38,\"Time\":\"2012-12-19 21:00:00\",\"Weather\":\"Snow\",\"snow\":true,\"Temp (C)\":0.6,\"Rel Hum (%)\":95,\"h)\":13,\"Visibility (km)\":11.3,\"Dew Point Temp (C)\":-0.1},{\"Stn Press (kPa)\":101.5,\"Time\":\"2012-12-19 23:00:00\",\"Weather\":\"Snow\",\"snow\":true,\"Temp (C)\":0.6,\"Rel Hum (%)\":90,\"h)\":13,\"Visibility (km)\":25.0,\"Dew Point Temp (C)\":-0.9},{\"Stn Press (kPa)\":101.57,\"Time\":\"2012-12-20 00:00:00\",\"Weather\":\"Snow\",\"snow\":true,\"Temp (C)\":0.4,\"Rel Hum (%)\":83,\"h)\":20,\"Visibility (km)\":25.0,\"Dew Point Temp (C)\":-2.1},{\"Stn Press (kPa)\":101.82,\"Time\":\"2012-12-20 06:00:00\",\"Weather\":\"Snow\",\"snow\":true,\"Temp (C)\":-1.6,\"Rel Hum (%)\":82,\"h)\":15,\"Visibility (km)\":25.0,\"Dew Point Temp (C)\":-4.2},{\"Stn Press (kPa)\":101.92,\"Time\":\"2012-12-20 11:00:00\",\"Weather\":\"Snow\",\"snow\":true,\"Temp (C)\":-1.1,\"Rel Hum (%)\":81,\"h)\":4,\"Visibility (km)\":24.1,\"Dew Point Temp (C)\":-4.0},{\"Stn Press (kPa)\":99.24,\"Time\":\"2012-12-21 10:00:00\",\"Weather\":\"Snow\",\"snow\":true,\"Temp (C)\":1.0,\"Rel Hum (%)\":93,\"h)\":32,\"Visibility (km)\":12.9,\"Dew Point Temp (C)\":0.0},{\"Stn Press (kPa)\":99.01,\"Time\":\"2012-12-21 11:00:00\",\"Weather\":\"Snow\",\"snow\":true,\"Temp (C)\":0.9,\"Rel Hum (%)\":94,\"h)\":30,\"Visibility (km)\":2.0,\"Dew Point Temp (C)\":0.0},{\"Stn Press (kPa)\":98.67,\"Time\":\"2012-12-21 12:00:00\",\"Weather\":\"Snow\",\"snow\":true,\"Temp (C)\":1.3,\"Rel Hum (%)\":93,\"h)\":41,\"Visibility (km)\":9.7,\"Dew Point Temp (C)\":0.3},{\"Stn Press (kPa)\":98.36,\"Time\":\"2012-12-21 13:00:00\",\"Weather\":\"Snow\",\"snow\":true,\"Temp (C)\":1.8,\"Rel Hum (%)\":90,\"h)\":41,\"Visibility (km)\":19.3,\"Dew Point Temp (C)\":0.3},{\"Stn Press (kPa)\":97.75,\"Time\":\"2012-12-21 22:00:00\",\"Weather\":\"Snow\",\"snow\":true,\"Temp (C)\":0.7,\"Rel Hum (%)\":95,\"h)\":28,\"Visibility (km)\":3.6,\"Dew Point Temp (C)\":0.0},{\"Stn Press (kPa)\":97.98,\"Time\":\"2012-12-22 04:00:00\",\"Weather\":\"Snow\",\"snow\":true,\"Temp (C)\":0.6,\"Rel Hum (%)\":92,\"h)\":35,\"Visibility (km)\":11.3,\"Dew Point Temp (C)\":-0.6},{\"Stn Press (kPa)\":98.07,\"Time\":\"2012-12-22 05:00:00\",\"Weather\":\"Snow\",\"snow\":true,\"Temp (C)\":-0.9,\"Rel Hum (%)\":93,\"h)\":35,\"Visibility (km)\":4.8,\"Dew Point Temp (C)\":-1.9},{\"Stn Press (kPa)\":98.19,\"Time\":\"2012-12-22 06:00:00\",\"Weather\":\"Snow\",\"snow\":true,\"Temp (C)\":-1.6,\"Rel Hum (%)\":90,\"h)\":41,\"Visibility (km)\":4.0,\"Dew Point Temp (C)\":-3.0},{\"Stn Press (kPa)\":98.32,\"Time\":\"2012-12-22 07:00:00\",\"Weather\":\"Snow\",\"snow\":true,\"Temp (C)\":-2.2,\"Rel Hum (%)\":89,\"h)\":35,\"Visibility (km)\":4.8,\"Dew Point Temp (C)\":-3.7},{\"Stn Press (kPa)\":98.44,\"Time\":\"2012-12-22 08:00:00\",\"Weather\":\"Snow\",\"snow\":true,\"Temp (C)\":-2.5,\"Rel Hum (%)\":86,\"h)\":41,\"Visibility (km)\":4.0,\"Dew Point Temp (C)\":-4.5},{\"Stn Press (kPa)\":98.58,\"Time\":\"2012-12-22 09:00:00\",\"Weather\":\"Snow\",\"snow\":true,\"Temp (C)\":-3.0,\"Rel Hum (%)\":86,\"h)\":35,\"Visibility (km)\":3.2,\"Dew Point Temp (C)\":-5.0},{\"Stn Press (kPa)\":98.7,\"Time\":\"2012-12-22 10:00:00\",\"Weather\":\"Snow\",\"snow\":true,\"Temp (C)\":-3.6,\"Rel Hum (%)\":90,\"h)\":37,\"Visibility (km)\":1.6,\"Dew Point Temp (C)\":-5.0},{\"Stn Press (kPa)\":98.78,\"Time\":\"2012-12-22 11:00:00\",\"Weather\":\"Snow\",\"snow\":true,\"Temp (C)\":-4.3,\"Rel Hum (%)\":92,\"h)\":35,\"Visibility (km)\":1.2,\"Dew Point Temp (C)\":-5.4},{\"Stn Press (kPa)\":98.86,\"Time\":\"2012-12-22 12:00:00\",\"Weather\":\"Snow\",\"snow\":true,\"Temp (C)\":-4.5,\"Rel Hum (%)\":90,\"h)\":33,\"Visibility (km)\":1.6,\"Dew Point Temp (C)\":-5.9},{\"Stn Press (kPa)\":98.96,\"Time\":\"2012-12-22 13:00:00\",\"Weather\":\"Snow\",\"snow\":true,\"Temp (C)\":-4.7,\"Rel Hum (%)\":85,\"h)\":37,\"Visibility (km)\":4.0,\"Dew Point Temp (C)\":-6.9},{\"Stn Press (kPa)\":99.08,\"Time\":\"2012-12-22 14:00:00\",\"Weather\":\"Snow\",\"snow\":true,\"Temp (C)\":-5.0,\"Rel Hum (%)\":82,\"h)\":32,\"Visibility (km)\":4.0,\"Dew Point Temp (C)\":-7.6},{\"Stn Press (kPa)\":99.24,\"Time\":\"2012-12-22 15:00:00\",\"Weather\":\"Snow\",\"snow\":true,\"Temp (C)\":-5.4,\"Rel Hum (%)\":88,\"h)\":35,\"Visibility (km)\":1.6,\"Dew Point Temp (C)\":-7.1},{\"Stn Press (kPa)\":99.37,\"Time\":\"2012-12-22 16:00:00\",\"Weather\":\"Snow\",\"snow\":true,\"Temp (C)\":-5.9,\"Rel Hum (%)\":86,\"h)\":41,\"Visibility (km)\":1.6,\"Dew Point Temp (C)\":-7.8},{\"Stn Press (kPa)\":99.5,\"Time\":\"2012-12-22 17:00:00\",\"Weather\":\"Snow\",\"snow\":true,\"Temp (C)\":-5.7,\"Rel Hum (%)\":81,\"h)\":32,\"Visibility (km)\":6.4,\"Dew Point Temp (C)\":-8.5},{\"Stn Press (kPa)\":99.62,\"Time\":\"2012-12-22 18:00:00\",\"Weather\":\"Snow\",\"snow\":true,\"Temp (C)\":-6.0,\"Rel Hum (%)\":81,\"h)\":33,\"Visibility (km)\":4.8,\"Dew Point Temp (C)\":-8.7},{\"Stn Press (kPa)\":99.75,\"Time\":\"2012-12-22 19:00:00\",\"Weather\":\"Snow\",\"snow\":true,\"Temp (C)\":-6.7,\"Rel Hum (%)\":83,\"h)\":32,\"Visibility (km)\":6.4,\"Dew Point Temp (C)\":-9.1},{\"Stn Press (kPa)\":99.83,\"Time\":\"2012-12-22 20:00:00\",\"Weather\":\"Snow\",\"snow\":true,\"Temp (C)\":-6.9,\"Rel Hum (%)\":75,\"h)\":32,\"Visibility (km)\":16.1,\"Dew Point Temp (C)\":-10.6},{\"Stn Press (kPa)\":99.96,\"Time\":\"2012-12-22 21:00:00\",\"Weather\":\"Snow\",\"snow\":true,\"Temp (C)\":-7.2,\"Rel Hum (%)\":71,\"h)\":28,\"Visibility (km)\":16.1,\"Dew Point Temp (C)\":-11.6},{\"Stn Press (kPa)\":100.0,\"Time\":\"2012-12-22 22:00:00\",\"Weather\":\"Snow\",\"snow\":true,\"Temp (C)\":-7.4,\"Rel Hum (%)\":70,\"h)\":35,\"Visibility (km)\":16.1,\"Dew Point Temp (C)\":-11.9},{\"Stn Press (kPa)\":100.19,\"Time\":\"2012-12-23 00:00:00\",\"Weather\":\"Snow\",\"snow\":true,\"Temp (C)\":-7.8,\"Rel Hum (%)\":74,\"h)\":32,\"Visibility (km)\":19.3,\"Dew Point Temp (C)\":-11.6},{\"Stn Press (kPa)\":100.27,\"Time\":\"2012-12-23 01:00:00\",\"Weather\":\"Snow\",\"snow\":true,\"Temp (C)\":-7.9,\"Rel Hum (%)\":74,\"h)\":32,\"Visibility (km)\":25.0,\"Dew Point Temp (C)\":-11.8},{\"Stn Press (kPa)\":100.52,\"Time\":\"2012-12-23 07:00:00\",\"Weather\":\"Snow\",\"snow\":true,\"Temp (C)\":-8.5,\"Rel Hum (%)\":75,\"h)\":20,\"Visibility (km)\":19.3,\"Dew Point Temp (C)\":-12.1},{\"Stn Press (kPa)\":100.54,\"Time\":\"2012-12-23 08:00:00\",\"Weather\":\"Snow\",\"snow\":true,\"Temp (C)\":-8.7,\"Rel Hum (%)\":77,\"h)\":20,\"Visibility (km)\":19.3,\"Dew Point Temp (C)\":-12.0},{\"Stn Press (kPa)\":100.34,\"Time\":\"2012-12-23 15:00:00\",\"Weather\":\"Snow\",\"snow\":true,\"Temp (C)\":-6.8,\"Rel Hum (%)\":71,\"h)\":13,\"Visibility (km)\":24.1,\"Dew Point Temp (C)\":-11.1},{\"Stn Press (kPa)\":100.35,\"Time\":\"2012-12-23 16:00:00\",\"Weather\":\"Snow\",\"snow\":true,\"Temp (C)\":-7.0,\"Rel Hum (%)\":82,\"h)\":13,\"Visibility (km)\":9.7,\"Dew Point Temp (C)\":-9.6},{\"Stn Press (kPa)\":100.36,\"Time\":\"2012-12-23 17:00:00\",\"Weather\":\"Snow\",\"snow\":true,\"Temp (C)\":-7.1,\"Rel Hum (%)\":84,\"h)\":9,\"Visibility (km)\":12.9,\"Dew Point Temp (C)\":-9.4},{\"Stn Press (kPa)\":100.4,\"Time\":\"2012-12-23 18:00:00\",\"Weather\":\"Snow\",\"snow\":true,\"Temp (C)\":-7.2,\"Rel Hum (%)\":80,\"h)\":11,\"Visibility (km)\":12.9,\"Dew Point Temp (C)\":-10.0},{\"Stn Press (kPa)\":100.46,\"Time\":\"2012-12-23 19:00:00\",\"Weather\":\"Snow\",\"snow\":true,\"Temp (C)\":-7.2,\"Rel Hum (%)\":80,\"h)\":9,\"Visibility (km)\":25.0,\"Dew Point Temp (C)\":-10.1},{\"Stn Press (kPa)\":102.52,\"Time\":\"2012-12-26 09:00:00\",\"Weather\":\"Snow\",\"snow\":true,\"Temp (C)\":-11.3,\"Rel Hum (%)\":89,\"h)\":15,\"Visibility (km)\":4.0,\"Dew Point Temp (C)\":-12.7},{\"Stn Press (kPa)\":101.21,\"Time\":\"2012-12-27 03:00:00\",\"Weather\":\"Snow\",\"snow\":true,\"Temp (C)\":-8.1,\"Rel Hum (%)\":85,\"h)\":37,\"Visibility (km)\":2.4,\"Dew Point Temp (C)\":-10.2},{\"Stn Press (kPa)\":101.03,\"Time\":\"2012-12-27 04:00:00\",\"Weather\":\"Snow\",\"snow\":true,\"Temp (C)\":-7.9,\"Rel Hum (%)\":88,\"h)\":33,\"Visibility (km)\":2.0,\"Dew Point Temp (C)\":-9.5},{\"Stn Press (kPa)\":100.95,\"Time\":\"2012-12-27 05:00:00\",\"Weather\":\"Snow\",\"snow\":true,\"Temp (C)\":-7.5,\"Rel Hum (%)\":88,\"h)\":43,\"Visibility (km)\":1.2,\"Dew Point Temp (C)\":-9.1},{\"Stn Press (kPa)\":100.83,\"Time\":\"2012-12-27 06:00:00\",\"Weather\":\"Snow\",\"snow\":true,\"Temp (C)\":-6.8,\"Rel Hum (%)\":90,\"h)\":39,\"Visibility (km)\":1.2,\"Dew Point Temp (C)\":-8.1},{\"Stn Press (kPa)\":100.73,\"Time\":\"2012-12-27 07:00:00\",\"Weather\":\"Snow\",\"snow\":true,\"Temp (C)\":-6.5,\"Rel Hum (%)\":92,\"h)\":44,\"Visibility (km)\":1.2,\"Dew Point Temp (C)\":-7.6},{\"Stn Press (kPa)\":100.62,\"Time\":\"2012-12-27 11:00:00\",\"Weather\":\"Snow\",\"snow\":true,\"Temp (C)\":-5.2,\"Rel Hum (%)\":91,\"h)\":39,\"Visibility (km)\":0.6,\"Dew Point Temp (C)\":-6.4},{\"Stn Press (kPa)\":100.36,\"Time\":\"2012-12-27 13:00:00\",\"Weather\":\"Snow\",\"snow\":true,\"Temp (C)\":-5.4,\"Rel Hum (%)\":91,\"h)\":48,\"Visibility (km)\":0.6,\"Dew Point Temp (C)\":-6.7},{\"Stn Press (kPa)\":100.35,\"Time\":\"2012-12-27 14:00:00\",\"Weather\":\"Snow\",\"snow\":true,\"Temp (C)\":-5.2,\"Rel Hum (%)\":89,\"h)\":46,\"Visibility (km)\":0.6,\"Dew Point Temp (C)\":-6.7},{\"Stn Press (kPa)\":100.37,\"Time\":\"2012-12-27 15:00:00\",\"Weather\":\"Snow\",\"snow\":true,\"Temp (C)\":-5.0,\"Rel Hum (%)\":91,\"h)\":37,\"Visibility (km)\":0.6,\"Dew Point Temp (C)\":-6.2},{\"Stn Press (kPa)\":100.44,\"Time\":\"2012-12-27 16:00:00\",\"Weather\":\"Snow\",\"snow\":true,\"Temp (C)\":-4.5,\"Rel Hum (%)\":88,\"h)\":37,\"Visibility (km)\":2.0,\"Dew Point Temp (C)\":-6.2},{\"Stn Press (kPa)\":100.47,\"Time\":\"2012-12-27 17:00:00\",\"Weather\":\"Snow\",\"snow\":true,\"Temp (C)\":-4.2,\"Rel Hum (%)\":88,\"h)\":32,\"Visibility (km)\":3.2,\"Dew Point Temp (C)\":-5.9},{\"Stn Press (kPa)\":100.49,\"Time\":\"2012-12-27 18:00:00\",\"Weather\":\"Snow\",\"snow\":true,\"Temp (C)\":-4.0,\"Rel Hum (%)\":88,\"h)\":28,\"Visibility (km)\":8.0,\"Dew Point Temp (C)\":-5.7},{\"Stn Press (kPa)\":100.52,\"Time\":\"2012-12-27 19:00:00\",\"Weather\":\"Snow\",\"snow\":true,\"Temp (C)\":-3.9,\"Rel Hum (%)\":88,\"h)\":26,\"Visibility (km)\":9.7,\"Dew Point Temp (C)\":-5.6},{\"Stn Press (kPa)\":100.58,\"Time\":\"2012-12-27 20:00:00\",\"Weather\":\"Snow\",\"snow\":true,\"Temp (C)\":-3.7,\"Rel Hum (%)\":89,\"h)\":37,\"Visibility (km)\":16.1,\"Dew Point Temp (C)\":-5.3},{\"Stn Press (kPa)\":100.7,\"Time\":\"2012-12-27 23:00:00\",\"Weather\":\"Snow\",\"snow\":true,\"Temp (C)\":-4.0,\"Rel Hum (%)\":89,\"h)\":24,\"Visibility (km)\":9.7,\"Dew Point Temp (C)\":-5.6},{\"Stn Press (kPa)\":101.01,\"Time\":\"2012-12-28 03:00:00\",\"Weather\":\"Snow\",\"snow\":true,\"Temp (C)\":-4.6,\"Rel Hum (%)\":91,\"h)\":13,\"Visibility (km)\":4.0,\"Dew Point Temp (C)\":-5.9},{\"Stn Press (kPa)\":101.0,\"Time\":\"2012-12-28 04:00:00\",\"Weather\":\"Snow\",\"snow\":true,\"Temp (C)\":-4.9,\"Rel Hum (%)\":93,\"h)\":9,\"Visibility (km)\":9.7,\"Dew Point Temp (C)\":-5.9},{\"Stn Press (kPa)\":101.09,\"Time\":\"2012-12-29 11:00:00\",\"Weather\":\"Snow\",\"snow\":true,\"Temp (C)\":-10.9,\"Rel Hum (%)\":90,\"h)\":7,\"Visibility (km)\":6.4,\"Dew Point Temp (C)\":-12.2},{\"Stn Press (kPa)\":100.93,\"Time\":\"2012-12-29 12:00:00\",\"Weather\":\"Snow\",\"snow\":true,\"Temp (C)\":-10.5,\"Rel Hum (%)\":92,\"h)\":11,\"Visibility (km)\":8.0,\"Dew Point Temp (C)\":-11.6},{\"Stn Press (kPa)\":100.63,\"Time\":\"2012-12-29 13:00:00\",\"Weather\":\"Snow\",\"snow\":true,\"Temp (C)\":-10.0,\"Rel Hum (%)\":92,\"h)\":22,\"Visibility (km)\":9.7,\"Dew Point Temp (C)\":-11.1},{\"Stn Press (kPa)\":100.6,\"Time\":\"2012-12-29 14:00:00\",\"Weather\":\"Snow\",\"snow\":true,\"Temp (C)\":-9.3,\"Rel Hum (%)\":91,\"h)\":22,\"Visibility (km)\":4.8,\"Dew Point Temp (C)\":-10.5},{\"Stn Press (kPa)\":100.55,\"Time\":\"2012-12-29 15:00:00\",\"Weather\":\"Snow\",\"snow\":true,\"Temp (C)\":-8.8,\"Rel Hum (%)\":91,\"h)\":20,\"Visibility (km)\":1.2,\"Dew Point Temp (C)\":-10.0},{\"Stn Press (kPa)\":100.49,\"Time\":\"2012-12-29 16:00:00\",\"Weather\":\"Snow\",\"snow\":true,\"Temp (C)\":-8.5,\"Rel Hum (%)\":90,\"h)\":24,\"Visibility (km)\":1.2,\"Dew Point Temp (C)\":-9.9},{\"Stn Press (kPa)\":100.46,\"Time\":\"2012-12-29 17:00:00\",\"Weather\":\"Snow\",\"snow\":true,\"Temp (C)\":-9.0,\"Rel Hum (%)\":90,\"h)\":19,\"Visibility (km)\":2.4,\"Dew Point Temp (C)\":-10.4},{\"Stn Press (kPa)\":100.38,\"Time\":\"2012-12-29 18:00:00\",\"Weather\":\"Snow\",\"snow\":true,\"Temp (C)\":-9.3,\"Rel Hum (%)\":88,\"h)\":26,\"Visibility (km)\":6.4,\"Dew Point Temp (C)\":-10.9},{\"Stn Press (kPa)\":100.33,\"Time\":\"2012-12-29 19:00:00\",\"Weather\":\"Snow\",\"snow\":true,\"Temp (C)\":-9.5,\"Rel Hum (%)\":87,\"h)\":26,\"Visibility (km)\":3.2,\"Dew Point Temp (C)\":-11.2},{\"Stn Press (kPa)\":100.25,\"Time\":\"2012-12-29 20:00:00\",\"Weather\":\"Snow\",\"snow\":true,\"Temp (C)\":-9.7,\"Rel Hum (%)\":86,\"h)\":24,\"Visibility (km)\":9.7,\"Dew Point Temp (C)\":-11.6},{\"Stn Press (kPa)\":100.24,\"Time\":\"2012-12-29 21:00:00\",\"Weather\":\"Snow\",\"snow\":true,\"Temp (C)\":-9.8,\"Rel Hum (%)\":85,\"h)\":24,\"Visibility (km)\":8.0,\"Dew Point Temp (C)\":-11.8},{\"Stn Press (kPa)\":100.2,\"Time\":\"2012-12-29 22:00:00\",\"Weather\":\"Snow\",\"snow\":true,\"Temp (C)\":-10.1,\"Rel Hum (%)\":89,\"h)\":15,\"Visibility (km)\":2.4,\"Dew Point Temp (C)\":-11.6},{\"Stn Press (kPa)\":100.19,\"Time\":\"2012-12-29 23:00:00\",\"Weather\":\"Snow\",\"snow\":true,\"Temp (C)\":-10.0,\"Rel Hum (%)\":85,\"h)\":20,\"Visibility (km)\":6.4,\"Dew Point Temp (C)\":-12.0},{\"Stn Press (kPa)\":100.23,\"Time\":\"2012-12-30 00:00:00\",\"Weather\":\"Snow\",\"snow\":true,\"Temp (C)\":-9.6,\"Rel Hum (%)\":87,\"h)\":13,\"Visibility (km)\":3.2,\"Dew Point Temp (C)\":-11.3},{\"Stn Press (kPa)\":100.22,\"Time\":\"2012-12-30 01:00:00\",\"Weather\":\"Snow\",\"snow\":true,\"Temp (C)\":-9.4,\"Rel Hum (%)\":92,\"h)\":9,\"Visibility (km)\":2.4,\"Dew Point Temp (C)\":-10.5},{\"Stn Press (kPa)\":100.28,\"Time\":\"2012-12-30 02:00:00\",\"Weather\":\"Snow\",\"snow\":true,\"Temp (C)\":-9.3,\"Rel Hum (%)\":92,\"h)\":9,\"Visibility (km)\":4.0,\"Dew Point Temp (C)\":-10.4},{\"Stn Press (kPa)\":100.3,\"Time\":\"2012-12-30 03:00:00\",\"Weather\":\"Snow\",\"snow\":true,\"Temp (C)\":-9.1,\"Rel Hum (%)\":90,\"h)\":11,\"Visibility (km)\":3.6,\"Dew Point Temp (C)\":-10.4},{\"Stn Press (kPa)\":100.28,\"Time\":\"2012-12-30 04:00:00\",\"Weather\":\"Snow\",\"snow\":true,\"Temp (C)\":-9.3,\"Rel Hum (%)\":90,\"h)\":13,\"Visibility (km)\":9.7,\"Dew Point Temp (C)\":-10.6},{\"Stn Press (kPa)\":100.32,\"Time\":\"2012-12-30 05:00:00\",\"Weather\":\"Snow\",\"snow\":true,\"Temp (C)\":-9.1,\"Rel Hum (%)\":90,\"h)\":11,\"Visibility (km)\":4.0,\"Dew Point Temp (C)\":-10.4},{\"Stn Press (kPa)\":100.39,\"Time\":\"2012-12-30 06:00:00\",\"Weather\":\"Snow\",\"snow\":true,\"Temp (C)\":-9.3,\"Rel Hum (%)\":89,\"h)\":17,\"Visibility (km)\":8.0,\"Dew Point Temp (C)\":-10.8},{\"Stn Press (kPa)\":101.19,\"Time\":\"2012-12-31 07:00:00\",\"Weather\":\"Snow\",\"snow\":true,\"Temp (C)\":-9.3,\"Rel Hum (%)\":85,\"h)\":0,\"Visibility (km)\":19.3,\"Dew Point Temp (C)\":-11.3},{\"Stn Press (kPa)\":101.14,\"Time\":\"2012-12-31 08:00:00\",\"Weather\":\"Snow\",\"snow\":true,\"Temp (C)\":-8.6,\"Rel Hum (%)\":87,\"h)\":4,\"Visibility (km)\":3.2,\"Dew Point Temp (C)\":-10.3},{\"Stn Press (kPa)\":101.09,\"Time\":\"2012-12-31 09:00:00\",\"Weather\":\"Snow\",\"snow\":true,\"Temp (C)\":-8.1,\"Rel Hum (%)\":89,\"h)\":4,\"Visibility (km)\":2.4,\"Dew Point Temp (C)\":-9.6},{\"Stn Press (kPa)\":101.05,\"Time\":\"2012-12-31 10:00:00\",\"Weather\":\"Snow\",\"snow\":true,\"Temp (C)\":-7.4,\"Rel Hum (%)\":89,\"h)\":4,\"Visibility (km)\":6.4,\"Dew Point Temp (C)\":-8.9},{\"Stn Press (kPa)\":100.93,\"Time\":\"2012-12-31 11:00:00\",\"Weather\":\"Snow\",\"snow\":true,\"Temp (C)\":-6.7,\"Rel Hum (%)\":91,\"h)\":9,\"Visibility (km)\":9.7,\"Dew Point Temp (C)\":-7.9},{\"Stn Press (kPa)\":100.78,\"Time\":\"2012-12-31 12:00:00\",\"Weather\":\"Snow\",\"snow\":true,\"Temp (C)\":-5.8,\"Rel Hum (%)\":88,\"h)\":4,\"Visibility (km)\":12.9,\"Dew Point Temp (C)\":-7.5},{\"Stn Press (kPa)\":100.63,\"Time\":\"2012-12-31 13:00:00\",\"Weather\":\"Snow\",\"snow\":true,\"Temp (C)\":-4.6,\"Rel Hum (%)\":86,\"h)\":4,\"Visibility (km)\":12.9,\"Dew Point Temp (C)\":-6.6},{\"Stn Press (kPa)\":100.57,\"Time\":\"2012-12-31 14:00:00\",\"Weather\":\"Snow\",\"snow\":true,\"Temp (C)\":-3.4,\"Rel Hum (%)\":84,\"h)\":6,\"Visibility (km)\":11.3,\"Dew Point Temp (C)\":-5.7},{\"Stn Press (kPa)\":100.47,\"Time\":\"2012-12-31 15:00:00\",\"Weather\":\"Snow\",\"snow\":true,\"Temp (C)\":-2.3,\"Rel Hum (%)\":84,\"h)\":9,\"Visibility (km)\":9.7,\"Dew Point Temp (C)\":-4.6},{\"Stn Press (kPa)\":100.4,\"Time\":\"2012-12-31 16:00:00\",\"Weather\":\"Snow\",\"snow\":true,\"Temp (C)\":-1.4,\"Rel Hum (%)\":82,\"h)\":13,\"Visibility (km)\":12.9,\"Dew Point Temp (C)\":-4.0},{\"Stn Press (kPa)\":100.3,\"Time\":\"2012-12-31 17:00:00\",\"Weather\":\"Snow\",\"snow\":true,\"Temp (C)\":-1.1,\"Rel Hum (%)\":85,\"h)\":19,\"Visibility (km)\":9.7,\"Dew Point Temp (C)\":-3.3},{\"Stn Press (kPa)\":100.19,\"Time\":\"2012-12-31 18:00:00\",\"Weather\":\"Snow\",\"snow\":true,\"Temp (C)\":-1.3,\"Rel Hum (%)\":88,\"h)\":17,\"Visibility (km)\":9.7,\"Dew Point Temp (C)\":-3.1},{\"Stn Press (kPa)\":100.13,\"Time\":\"2012-12-31 19:00:00\",\"Weather\":\"Snow\",\"snow\":true,\"Temp (C)\":0.1,\"Rel Hum (%)\":81,\"h)\":30,\"Visibility (km)\":9.7,\"Dew Point Temp (C)\":-2.7},{\"Stn Press (kPa)\":100.03,\"Time\":\"2012-12-31 20:00:00\",\"Weather\":\"Snow\",\"snow\":true,\"Temp (C)\":0.2,\"Rel Hum (%)\":83,\"h)\":24,\"Visibility (km)\":9.7,\"Dew Point Temp (C)\":-2.4},{\"Stn Press (kPa)\":99.95,\"Time\":\"2012-12-31 21:00:00\",\"Weather\":\"Snow\",\"snow\":true,\"Temp (C)\":-0.5,\"Rel Hum (%)\":93,\"h)\":28,\"Visibility (km)\":4.8,\"Dew Point Temp (C)\":-1.5},{\"Stn Press (kPa)\":99.91,\"Time\":\"2012-12-31 22:00:00\",\"Weather\":\"Snow\",\"snow\":true,\"Temp (C)\":-0.2,\"Rel Hum (%)\":89,\"h)\":28,\"Visibility (km)\":9.7,\"Dew Point Temp (C)\":-1.8},{\"Stn Press (kPa)\":99.89,\"Time\":\"2012-12-31 23:00:00\",\"Weather\":\"Snow\",\"snow\":true,\"Temp (C)\":0.0,\"Rel Hum (%)\":86,\"h)\":30,\"Visibility (km)\":11.3,\"Dew Point Temp (C)\":-2.1}]},\"mark\":\"tick\",\"encoding\":{\"x\":{\"field\":\"Time\",\"type\":\"temporal\"}},\"width\":800};\n",
       "    vegaEmbed('#uuid-c82a65eb-95f6-43a2-9201-8dfaaa7dd5a3', spec, {defaultStyle:true}).catch(console.warn);\n",
       "    }, function(err) {\n",
       "    console.log('Failed to load');\n",
       "  });\n",
       "  </script>\n",
       "</div>\n",
       "  "
      ]
     },
     "execution_count": 24,
     "metadata": {},
     "output_type": "execute_result"
    }
   ],
   "source": [
    ";; # More useful!\n",
    ";; is_snowing.plot()\n",
    "\n",
    "(oz/view!\n",
    "  {:data {:values (filter :snow weather-description)}\n",
    "  :mark \"tick\"\n",
    "  :encoding {:x {:field :Date/Time\n",
    "                 :type \"temporal\"}}\n",
    "  :width 800})"
   ]
  },
  {
   "cell_type": "markdown",
   "metadata": {},
   "source": [
    "# 6.2 Use resampling to find the snowiest month"
   ]
  },
  {
   "cell_type": "markdown",
   "metadata": {},
   "source": [
    "If we wanted the median temperature each month, we could use the `resample()` method like this:"
   ]
  },
  {
   "cell_type": "code",
   "execution_count": 62,
   "metadata": {},
   "outputs": [
    {
     "data": {
      "text/plain": [
       "#object[java.time.LocalDateTime 0x4b0a655e \"2012-01-01T00:00\"]"
      ]
     },
     "execution_count": 62,
     "metadata": {},
     "output_type": "execute_result"
    }
   ],
   "source": [
    "(def x (-> \"2012-01-01 00:00:00\" ((partial t/local-date-time \"yyyy-MM-dd HH:mm:ss\"))))\n",
    "\n",
    "(t/adjust x :first-day-of-month)"
   ]
  },
  {
   "cell_type": "code",
   "execution_count": 87,
   "metadata": {},
   "outputs": [
    {
     "data": {
      "text/plain": [
       "\"2012-12-01\""
      ]
     },
     "execution_count": 87,
     "metadata": {},
     "output_type": "execute_result"
    }
   ],
   "source": [
    "((keyword \"month\") \n",
    " {:month \"2012-12-01\"})"
   ]
  },
  {
   "cell_type": "code",
   "execution_count": 148,
   "metadata": {},
   "outputs": [
    {
     "data": {
      "text/plain": [
       "4"
      ]
     },
     "execution_count": 148,
     "metadata": {},
     "output_type": "execute_result"
    }
   ],
   "source": [
    "\n",
    "(defn median [vect]\n",
    "    ((vec (sort vect)) (quot (count vect) 2)))\n",
    "\n",
    "(median [1 4 3 2 5 6])"
   ]
  },
  {
   "cell_type": "code",
   "execution_count": 150,
   "metadata": {},
   "outputs": [
    {
     "data": {
      "text/html": [
       "\n",
       "<div>\n",
       "  <div id='uuid-196a08c4-1fd0-48c7-8611-6e16568a8bcb'></div>\n",
       "  <script>\n",
       "  requirejs.config({\n",
       "    baseUrl: 'https://cdn.jsdelivr.net/npm/',\n",
       "    paths: {\n",
       "      'vega-embed':  'vega-embed@3?noext',\n",
       "      'vega-lib': 'vega-lib?noext',\n",
       "      'vega-lite': 'vega-lite@2?noext',\n",
       "      'vega': 'vega@3?noext'\n",
       "    }\n",
       "  });\n",
       "  require(['vega-embed'], function(vegaEmbed) {\n",
       "    let spec = {\"data\":{\"values\":[{\"month\":\"2012-12-01\",\"median\":-2.8},{\"month\":\"2012-01-01\",\"median\":-7.0},{\"month\":\"2012-09-01\",\"median\":16.1},{\"month\":\"2012-06-01\",\"median\":19.6},{\"month\":\"2012-07-01\",\"median\":22.9},{\"month\":\"2012-02-01\",\"median\":-4.1},{\"month\":\"2012-03-01\",\"median\":2.6},{\"month\":\"2012-10-01\",\"median\":11.3},{\"month\":\"2012-08-01\",\"median\":22.2},{\"month\":\"2012-05-01\",\"median\":16.1},{\"month\":\"2012-11-01\",\"median\":1.1},{\"month\":\"2012-04-01\",\"median\":6.3}]},\"mark\":\"bar\",\"encoding\":{\"x\":{\"field\":\"month\",\"type\":\"ordinal\"},\"y\":{\"field\":\"median\",\"type\":\"quantitative\"}},\"width\":800};\n",
       "    vegaEmbed('#uuid-196a08c4-1fd0-48c7-8611-6e16568a8bcb', spec, {defaultStyle:true}).catch(console.warn);\n",
       "    }, function(err) {\n",
       "    console.log('Failed to load');\n",
       "  });\n",
       "  </script>\n",
       "</div>\n",
       "  "
      ]
     },
     "execution_count": 150,
     "metadata": {},
     "output_type": "execute_result"
    }
   ],
   "source": [
    ";; Python\n",
    ";; weather_2012['Temp (C)'].resample('M').apply(np.median).plot(kind='bar')\n",
    "\n",
    "(defn median [vect]\n",
    "    ((vec (sort vect)) (quot (count vect) 2)))\n",
    "\n",
    "(def median-temp\n",
    "    (->> weather-description \n",
    "         (map #(assoc % :month (-> % \n",
    "                                   :Date/Time \n",
    "                                   ((partial t/local-date-time \"yyyy-MM-dd HH:mm:ss\"))\n",
    "                                   (t/adjust :first-day-of-month)\n",
    "                                   (t/local-date)\n",
    "                                   (t/format))))\n",
    "         (group-by :month)\n",
    "         (map (fn [[k v]] {:month k \n",
    "                           :median (->> v\n",
    "                                      (map (keyword \"Temp (C)\"))\n",
    "                                      median)}))))\n",
    "    \n",
    "(oz/view!\n",
    "  {:data {:values median-temp}\n",
    "  :mark \"bar\"\n",
    "  :encoding {:x {:field :month\n",
    "                 :type \"ordinal\"}\n",
    "             :y {:field :median\n",
    "                 :type \"quantitative\"}}\n",
    "  :width 800})"
   ]
  },
  {
   "cell_type": "markdown",
   "metadata": {},
   "source": [
    "Unsurprisingly, July and August are the warmest."
   ]
  },
  {
   "cell_type": "markdown",
   "metadata": {},
   "source": [
    "So we can think of snowiness as being a bunch of 1s and 0s instead of `True`s and `False`s:"
   ]
  },
  {
   "cell_type": "code",
   "execution_count": 152,
   "metadata": {},
   "outputs": [
    {
     "data": {
      "text/html": [
       "<table border=\"1\" class=\"dataframe\">\n",
       "  <thead>\n",
       "    <tr style=\"text-align: right;\">\n",
       "      <th></th>\n",
       "      <th>Stn Press (kPa)</th>\n",
       "      <th>Time</th>\n",
       "      <th>Weather</th>\n",
       "      <th>snow</th>\n",
       "      <th>Temp (C)</th>\n",
       "      <th>Rel Hum (%)</th>\n",
       "      <th>h)</th>\n",
       "      <th>Visibility (km)</th>\n",
       "      <th>Dew Point Temp (C)</th>\n",
       "    </tr>\n",
       "  </thead>\n",
       "  <tbody>\n",
       "    <tr>\n",
       "      <th>0</th>\n",
       "      <td>101.24</td>\n",
       "      <td>2012-01-01 00:00:00</td>\n",
       "      <td>Fog</td>\n",
       "      <td>0</td>\n",
       "      <td>-1.8</td>\n",
       "      <td>86</td>\n",
       "      <td>4</td>\n",
       "      <td>8.0</td>\n",
       "      <td>-3.9</td>\n",
       "    </tr>\n",
       "    <tr>\n",
       "      <th>1</th>\n",
       "      <td>101.24</td>\n",
       "      <td>2012-01-01 01:00:00</td>\n",
       "      <td>Fog</td>\n",
       "      <td>0</td>\n",
       "      <td>-1.8</td>\n",
       "      <td>87</td>\n",
       "      <td>4</td>\n",
       "      <td>8.0</td>\n",
       "      <td>-3.7</td>\n",
       "    </tr>\n",
       "    <tr>\n",
       "      <th>2</th>\n",
       "      <td>101.26</td>\n",
       "      <td>2012-01-01 02:00:00</td>\n",
       "      <td>Freezing</td>\n",
       "      <td>0</td>\n",
       "      <td>-1.8</td>\n",
       "      <td>89</td>\n",
       "      <td>7</td>\n",
       "      <td>4.0</td>\n",
       "      <td>-3.4</td>\n",
       "    </tr>\n",
       "    <tr>\n",
       "      <th>3</th>\n",
       "      <td>101.27</td>\n",
       "      <td>2012-01-01 03:00:00</td>\n",
       "      <td>Freezing</td>\n",
       "      <td>0</td>\n",
       "      <td>-1.5</td>\n",
       "      <td>88</td>\n",
       "      <td>6</td>\n",
       "      <td>4.0</td>\n",
       "      <td>-3.2</td>\n",
       "    </tr>\n",
       "    <tr>\n",
       "      <th>4</th>\n",
       "      <td>101.23</td>\n",
       "      <td>2012-01-01 04:00:00</td>\n",
       "      <td>Fog</td>\n",
       "      <td>0</td>\n",
       "      <td>-1.5</td>\n",
       "      <td>88</td>\n",
       "      <td>7</td>\n",
       "      <td>4.8</td>\n",
       "      <td>-3.3</td>\n",
       "    </tr>\n",
       "  </tbody>\n",
       "</table>"
      ]
     },
     "execution_count": 152,
     "metadata": {},
     "output_type": "execute_result"
    }
   ],
   "source": [
    ";; ;; is_snowing.astype(float)[:10]\n",
    "\n",
    "(->> weather-description\n",
    "     (map #(update % :snow bool->int))\n",
    "     (take 5)\n",
    "     show-table)"
   ]
  },
  {
   "cell_type": "code",
   "execution_count": 153,
   "metadata": {},
   "outputs": [
    {
     "data": {
      "text/plain": [
       "({:month \"2012-12-01\", :mean 0.19623657} {:month \"2012-01-01\", :mean 0.22715054} {:month \"2012-09-01\", :mean 0.0} {:month \"2012-06-01\", :mean 0.0} {:month \"2012-07-01\", :mean 0.0} {:month \"2012-02-01\", :mean 0.15948276} {:month \"2012-03-01\", :mean 0.086021505} {:month \"2012-10-01\", :mean 0.0} {:month \"2012-08-01\", :mean 0.0} {:month \"2012-05-01\", :mean 0.0} {:month \"2012-11-01\", :mean 0.0375} {:month \"2012-04-01\", :mean 0.0069444445})"
      ]
     },
     "execution_count": 153,
     "metadata": {},
     "output_type": "execute_result"
    }
   ],
   "source": [
    ";; is_snowing.astype(float).resample('M').apply(np.mean)\n",
    "\n",
    "(def bool->int #(if % 1 0))\n",
    "\n",
    "(defn mean\n",
    "  ([vs] (mean (reduce + vs) (count vs)))\n",
    "  ([sm sz] (/ sm sz)))\n",
    "\n",
    "(->> weather-description\n",
    "     (map #(update % :snow bool->int))\n",
    "     (map #(assoc % :month (-> % \n",
    "                               :Date/Time \n",
    "                               ((partial t/local-date-time \"yyyy-MM-dd HH:mm:ss\"))\n",
    "                               (t/adjust :first-day-of-month)\n",
    "                               (t/local-date)\n",
    "                               (t/format))))\n",
    "     (group-by :month)\n",
    "     (map (fn [[k v]] {:month k \n",
    "                       :mean (->> v\n",
    "                                  (map :snow)\n",
    "                                  mean\n",
    "                                  float)})))"
   ]
  },
  {
   "cell_type": "markdown",
   "metadata": {},
   "source": [
    "and then use `resample` to find the percentage of time it was snowing each month"
   ]
  },
  {
   "cell_type": "code",
   "execution_count": 160,
   "metadata": {},
   "outputs": [
    {
     "data": {
      "text/plain": [
       "({:month \"2012-12-01\", :mean 0.19623657} {:month \"2012-01-01\", :mean 0.22715054} {:month \"2012-09-01\", :mean 0.0} {:month \"2012-06-01\", :mean 0.0} {:month \"2012-07-01\", :mean 0.0} {:month \"2012-02-01\", :mean 0.15948276} {:month \"2012-03-01\", :mean 0.086021505} {:month \"2012-10-01\", :mean 0.0} {:month \"2012-08-01\", :mean 0.0} {:month \"2012-05-01\", :mean 0.0} {:month \"2012-11-01\", :mean 0.0375} {:month \"2012-04-01\", :mean 0.0069444445})"
      ]
     },
     "execution_count": 160,
     "metadata": {},
     "output_type": "execute_result"
    }
   ],
   "source": [
    ";; is_snowing.astype(float).resample('M').apply(np.mean)\n",
    "\n",
    "(def bool->int #(if % 1 0))\n",
    "\n",
    "(defn mean [vs] \n",
    "    (float (/ (reduce + vs) (count vs))))\n",
    "\n",
    "(->> weather-description\n",
    "     (map #(update % :snow bool->int))\n",
    "     (map #(assoc % :month (-> % \n",
    "                               :Date/Time \n",
    "                               ((partial t/local-date-time \"yyyy-MM-dd HH:mm:ss\"))\n",
    "                               (t/adjust :first-day-of-month)\n",
    "                               (t/local-date)\n",
    "                               (t/format))))\n",
    "     (group-by :month)\n",
    "     (map (fn [[k v]] {:month k \n",
    "                       :mean (->> v\n",
    "                                  (map :snow)\n",
    "                                  mean)})))"
   ]
  },
  {
   "cell_type": "code",
   "execution_count": 156,
   "metadata": {},
   "outputs": [
    {
     "data": {
      "text/html": [
       "\n",
       "<div>\n",
       "  <div id='uuid-2a5360f0-2550-41c1-9603-7080eaccb8b5'></div>\n",
       "  <script>\n",
       "  requirejs.config({\n",
       "    baseUrl: 'https://cdn.jsdelivr.net/npm/',\n",
       "    paths: {\n",
       "      'vega-embed':  'vega-embed@3?noext',\n",
       "      'vega-lib': 'vega-lib?noext',\n",
       "      'vega-lite': 'vega-lite@2?noext',\n",
       "      'vega': 'vega@3?noext'\n",
       "    }\n",
       "  });\n",
       "  require(['vega-embed'], function(vegaEmbed) {\n",
       "    let spec = {\"data\":{\"values\":[{\"month\":\"2012-12-01\",\"mean\":0.19623657},{\"month\":\"2012-01-01\",\"mean\":0.22715054},{\"month\":\"2012-09-01\",\"mean\":0.0},{\"month\":\"2012-06-01\",\"mean\":0.0},{\"month\":\"2012-07-01\",\"mean\":0.0},{\"month\":\"2012-02-01\",\"mean\":0.15948276},{\"month\":\"2012-03-01\",\"mean\":0.086021505},{\"month\":\"2012-10-01\",\"mean\":0.0},{\"month\":\"2012-08-01\",\"mean\":0.0},{\"month\":\"2012-05-01\",\"mean\":0.0},{\"month\":\"2012-11-01\",\"mean\":0.0375},{\"month\":\"2012-04-01\",\"mean\":0.0069444445}]},\"mark\":\"bar\",\"encoding\":{\"x\":{\"field\":\"month\",\"type\":\"ordinal\"},\"y\":{\"field\":\"mean\",\"type\":\"quantitative\"}},\"width\":800};\n",
       "    vegaEmbed('#uuid-2a5360f0-2550-41c1-9603-7080eaccb8b5', spec, {defaultStyle:true}).catch(console.warn);\n",
       "    }, function(err) {\n",
       "    console.log('Failed to load');\n",
       "  });\n",
       "  </script>\n",
       "</div>\n",
       "  "
      ]
     },
     "execution_count": 156,
     "metadata": {},
     "output_type": "execute_result"
    }
   ],
   "source": [
    ";; is_snowing.astype(float).resample('M').apply(np.mean).plot(kind='bar')\n",
    "\n",
    "(oz/view!\n",
    "  {:data {:values *1}\n",
    "  :mark \"bar\"\n",
    "  :encoding {:x {:field :month\n",
    "                 :type \"ordinal\"}\n",
    "             :y {:field :mean\n",
    "                 :type \"quantitative\"}}\n",
    "  :width 800})"
   ]
  },
  {
   "cell_type": "code",
   "execution_count": 169,
   "metadata": {},
   "outputs": [
    {
     "data": {
      "text/plain": [
       "(:a 1\n",
       ":b 2\n",
       "nil nil)"
      ]
     },
     "execution_count": 169,
     "metadata": {},
     "output_type": "execute_result"
    }
   ],
   "source": [
    "(map (fn [[k v]] (prn k) (prn v)) {:a 1 :b 2})\n",
    ";; (doseq [[k v] db] (prn k v))"
   ]
  },
  {
   "cell_type": "markdown",
   "metadata": {},
   "source": [
    "So now we know! In 2012, December was the snowiest month. Also, this graph suggests something that I feel -- it starts snowing pretty abruptly in November, and then tapers off slowly and takes a long time to stop, with the last snow usually being in April or May."
   ]
  },
  {
   "cell_type": "markdown",
   "metadata": {},
   "source": [
    "# 6.3 Plotting temperature and snowiness stats together"
   ]
  },
  {
   "cell_type": "markdown",
   "metadata": {},
   "source": [
    "We can also combine these two statistics (temperature, and snowiness) into one dataframe and plot them together:"
   ]
  },
  {
   "cell_type": "code",
   "execution_count": 157,
   "metadata": {},
   "outputs": [
    {
     "data": {
      "text/plain": [
       "#'user/stats"
      ]
     },
     "execution_count": 157,
     "metadata": {},
     "output_type": "execute_result"
    }
   ],
   "source": [
    ";; temperature = weather_2012['Temp (C)'].resample('M').apply(np.median)\n",
    ";; is_snowing = weather_2012['Weather'].str.contains('Snow')\n",
    ";; snowiness = is_snowing.astype(float).resample('M').apply(np.mean)\n",
    "\n",
    ";; # Name the columns\n",
    ";; temperature.name = \"Temperature\"\n",
    ";; snowiness.name = \"Snowiness\"\n",
    "\n",
    "(def stats \n",
    "    (->> weather-description\n",
    "         (map #(update % :snow bool->int))\n",
    "         (map #(assoc % :month (-> % \n",
    "                                   :Date/Time \n",
    "                                   ((partial t/local-date-time \"yyyy-MM-dd HH:mm:ss\"))\n",
    "                                   (t/adjust :first-day-of-month)\n",
    "                                   (t/local-date)\n",
    "                                   (t/format))))\n",
    "         (group-by :month)\n",
    "         (map (fn [[k v]] {:month k \n",
    "                           :snowiness (->> v\n",
    "                                          (map :snow)\n",
    "                                          mean\n",
    "                                          float)\n",
    "                           :temperature (->> v\n",
    "                                             (map (keyword \"Temp (C)\"))\n",
    "                                             median)}))))"
   ]
  },
  {
   "cell_type": "code",
   "execution_count": 158,
   "metadata": {},
   "outputs": [
    {
     "data": {
      "text/html": [
       "\n",
       "<div>\n",
       "  <div id='uuid-b10a3134-a2c6-4d76-94a1-0e4588a4d7ed'></div>\n",
       "  <script>\n",
       "  requirejs.config({\n",
       "    baseUrl: 'https://cdn.jsdelivr.net/npm/',\n",
       "    paths: {\n",
       "      'vega-embed':  'vega-embed@3?noext',\n",
       "      'vega-lib': 'vega-lib?noext',\n",
       "      'vega-lite': 'vega-lite@2?noext',\n",
       "      'vega': 'vega@3?noext'\n",
       "    }\n",
       "  });\n",
       "  require(['vega-embed'], function(vegaEmbed) {\n",
       "    let spec = {\"data\":{\"values\":[{\"month\":\"2012-12-01\",\"snowiness\":0.19623657,\"temperature\":-2.8},{\"month\":\"2012-01-01\",\"snowiness\":0.22715054,\"temperature\":-7.0},{\"month\":\"2012-09-01\",\"snowiness\":0.0,\"temperature\":16.1},{\"month\":\"2012-06-01\",\"snowiness\":0.0,\"temperature\":19.6},{\"month\":\"2012-07-01\",\"snowiness\":0.0,\"temperature\":22.9},{\"month\":\"2012-02-01\",\"snowiness\":0.15948276,\"temperature\":-4.1},{\"month\":\"2012-03-01\",\"snowiness\":0.086021505,\"temperature\":2.6},{\"month\":\"2012-10-01\",\"snowiness\":0.0,\"temperature\":11.3},{\"month\":\"2012-08-01\",\"snowiness\":0.0,\"temperature\":22.2},{\"month\":\"2012-05-01\",\"snowiness\":0.0,\"temperature\":16.1},{\"month\":\"2012-11-01\",\"snowiness\":0.0375,\"temperature\":1.1},{\"month\":\"2012-04-01\",\"snowiness\":0.0069444445,\"temperature\":6.3}]},\"mark\":\"bar\",\"encoding\":{\"x\":{\"field\":\"month\",\"type\":\"ordinal\"},\"y\":{\"field\":\"snowiness\",\"type\":\"quantitative\"}},\"width\":800};\n",
       "    vegaEmbed('#uuid-b10a3134-a2c6-4d76-94a1-0e4588a4d7ed', spec, {defaultStyle:true}).catch(console.warn);\n",
       "    }, function(err) {\n",
       "    console.log('Failed to load');\n",
       "  });\n",
       "  </script>\n",
       "</div>\n",
       "  \n",
       "<div>\n",
       "  <div id='uuid-6b5652f4-8c33-475f-ad15-b617eb1e2ec2'></div>\n",
       "  <script>\n",
       "  requirejs.config({\n",
       "    baseUrl: 'https://cdn.jsdelivr.net/npm/',\n",
       "    paths: {\n",
       "      'vega-embed':  'vega-embed@3?noext',\n",
       "      'vega-lib': 'vega-lib?noext',\n",
       "      'vega-lite': 'vega-lite@2?noext',\n",
       "      'vega': 'vega@3?noext'\n",
       "    }\n",
       "  });\n",
       "  require(['vega-embed'], function(vegaEmbed) {\n",
       "    let spec = {\"data\":{\"values\":[{\"month\":\"2012-12-01\",\"snowiness\":0.19623657,\"temperature\":-2.8},{\"month\":\"2012-01-01\",\"snowiness\":0.22715054,\"temperature\":-7.0},{\"month\":\"2012-09-01\",\"snowiness\":0.0,\"temperature\":16.1},{\"month\":\"2012-06-01\",\"snowiness\":0.0,\"temperature\":19.6},{\"month\":\"2012-07-01\",\"snowiness\":0.0,\"temperature\":22.9},{\"month\":\"2012-02-01\",\"snowiness\":0.15948276,\"temperature\":-4.1},{\"month\":\"2012-03-01\",\"snowiness\":0.086021505,\"temperature\":2.6},{\"month\":\"2012-10-01\",\"snowiness\":0.0,\"temperature\":11.3},{\"month\":\"2012-08-01\",\"snowiness\":0.0,\"temperature\":22.2},{\"month\":\"2012-05-01\",\"snowiness\":0.0,\"temperature\":16.1},{\"month\":\"2012-11-01\",\"snowiness\":0.0375,\"temperature\":1.1},{\"month\":\"2012-04-01\",\"snowiness\":0.0069444445,\"temperature\":6.3}]},\"mark\":\"bar\",\"encoding\":{\"x\":{\"field\":\"month\",\"type\":\"ordinal\"},\"y\":{\"field\":\"temperature\",\"type\":\"quantitative\"}},\"width\":800};\n",
       "    vegaEmbed('#uuid-6b5652f4-8c33-475f-ad15-b617eb1e2ec2', spec, {defaultStyle:true}).catch(console.warn);\n",
       "    }, function(err) {\n",
       "    console.log('Failed to load');\n",
       "  });\n",
       "  </script>\n",
       "</div>\n",
       "  "
      ]
     },
     "execution_count": 158,
     "metadata": {},
     "output_type": "execute_result"
    }
   ],
   "source": [
    ";; stats.plot(kind='bar', subplots=True, figsize=(15, 10))\n",
    "\n",
    "(oz/view! \n",
    "     (for [field [:snowiness :temperature]]\n",
    "        [:vega-lite  \n",
    "             {:data {:values stats}\n",
    "              :mark \"bar\"\n",
    "              :encoding {:x {:field :month\n",
    "                             :type \"ordinal\"}\n",
    "                         :y {:field field\n",
    "                             :type \"quantitative\"}}\n",
    "              :width 800}]))"
   ]
  }
 ],
 "metadata": {
  "kernelspec": {
   "display_name": "Clojure (clojupyter=0.3.2=1)",
   "language": "clojure",
   "name": "conda-clojupyter"
  },
  "language_info": {
   "file_extension": ".clj",
   "mimetype": "text/x-clojure",
   "name": "clojure",
   "version": "1.10.1"
  }
 },
 "nbformat": 4,
 "nbformat_minor": 1
}
