{
 "cells": [
  {
   "cell_type": "code",
   "execution_count": 1,
   "metadata": {},
   "outputs": [
    {
     "data": {
      "text/plain": [
       "nil"
      ]
     },
     "execution_count": 1,
     "metadata": {},
     "output_type": "execute_result"
    }
   ],
   "source": [
    "(require '[clojupyter.javascript.alpha :as cjp-js])\n",
    "(require '[clojupyter.display :as display])\n",
    "(require '[clojupyter.misc.helper :as helper])\n",
    "(require '[clojure.data.json :as json])"
   ]
  },
  {
   "cell_type": "markdown",
   "metadata": {},
   "source": [
    "Oz is a data visualization and scientific document processing library for Clojure built around Vega Lite & Vega. Oz provides has a built-in interface to clojupyter, so all we have to do to use it is to load it into Clojure:"
   ]
  },
  {
   "cell_type": "code",
   "execution_count": 2,
   "metadata": {},
   "outputs": [],
   "source": [
    "(helper/add-dependencies '[metasoarous/oz \"1.5.6\"])\n",
    "(require '[oz.notebook.clojupyter :as oz]);"
   ]
  },
  {
   "cell_type": "markdown",
   "metadata": {},
   "source": [
    "For this demo we define some simple functions generating some data compatible with the high-level charting library:"
   ]
  },
  {
   "cell_type": "code",
   "execution_count": 3,
   "metadata": {},
   "outputs": [],
   "source": [
    "(defn datapt [[s n]] {:Index s, :Value n})\n",
    "(defn graph  [vs]    {:data {:values vs}, \n",
    "                      :mark :line\n",
    "                      :encoding {:x {:field :Index}\n",
    "                                 :y {:field :Value}}})\n",
    "(def graph-it (comp graph (partial map datapt) (partial apply map vector)))"
   ]
  },
  {
   "cell_type": "markdown",
   "metadata": {},
   "source": [
    "With a generator for (slightly) random data..."
   ]
  },
  {
   "cell_type": "code",
   "execution_count": 4,
   "metadata": {},
   "outputs": [
    {
     "data": {
      "text/plain": [
       "#'user/raw-data"
      ]
     },
     "execution_count": 4,
     "metadata": {},
     "output_type": "execute_result"
    }
   ],
   "source": [
    "(defn raw-data [] (map #(+ % (rand-int 25)) (range)))"
   ]
  },
  {
   "cell_type": "markdown",
   "metadata": {},
   "source": [
    "...we can create a graph using Vega Lite:"
   ]
  },
  {
   "cell_type": "code",
   "execution_count": 5,
   "metadata": {},
   "outputs": [
    {
     "data": {
      "text/html": [
       "\n",
       "<div>\n",
       "  <div id='uuid-a5e23f1f-75f5-43da-8742-83af3dc3fc0f'></div>\n",
       "  <script>\n",
       "  requirejs.config({\n",
       "    baseUrl: 'https://cdn.jsdelivr.net/npm/',\n",
       "    paths: {\n",
       "      'vega-embed':  'vega-embed@3?noext',\n",
       "      'vega-lib': 'vega-lib?noext',\n",
       "      'vega-lite': 'vega-lite@2?noext',\n",
       "      'vega': 'vega@3?noext'\n",
       "    }\n",
       "  });\n",
       "  require(['vega-embed'], function(vegaEmbed) {\n",
       "    let spec = {\"data\":{\"values\":[{\"Index\":0,\"Value\":2},{\"Index\":1,\"Value\":9},{\"Index\":2,\"Value\":13},{\"Index\":3,\"Value\":12},{\"Index\":4,\"Value\":15},{\"Index\":5,\"Value\":24},{\"Index\":6,\"Value\":22},{\"Index\":7,\"Value\":27},{\"Index\":8,\"Value\":22},{\"Index\":9,\"Value\":29},{\"Index\":10,\"Value\":24},{\"Index\":11,\"Value\":30},{\"Index\":12,\"Value\":16},{\"Index\":13,\"Value\":31},{\"Index\":14,\"Value\":27},{\"Index\":15,\"Value\":39},{\"Index\":16,\"Value\":37},{\"Index\":17,\"Value\":33},{\"Index\":18,\"Value\":23},{\"Index\":19,\"Value\":31},{\"Index\":20,\"Value\":41},{\"Index\":21,\"Value\":27},{\"Index\":22,\"Value\":46},{\"Index\":23,\"Value\":41},{\"Index\":24,\"Value\":30},{\"Index\":25,\"Value\":39},{\"Index\":26,\"Value\":48},{\"Index\":27,\"Value\":35},{\"Index\":28,\"Value\":38},{\"Index\":29,\"Value\":43},{\"Index\":30,\"Value\":43},{\"Index\":31,\"Value\":50},{\"Index\":32,\"Value\":37},{\"Index\":33,\"Value\":46},{\"Index\":34,\"Value\":46},{\"Index\":35,\"Value\":44},{\"Index\":36,\"Value\":52},{\"Index\":37,\"Value\":42},{\"Index\":38,\"Value\":46},{\"Index\":39,\"Value\":53},{\"Index\":40,\"Value\":59},{\"Index\":41,\"Value\":43},{\"Index\":42,\"Value\":48},{\"Index\":43,\"Value\":45},{\"Index\":44,\"Value\":54},{\"Index\":45,\"Value\":56},{\"Index\":46,\"Value\":61},{\"Index\":47,\"Value\":67},{\"Index\":48,\"Value\":72},{\"Index\":49,\"Value\":51},{\"Index\":50,\"Value\":63},{\"Index\":51,\"Value\":69},{\"Index\":52,\"Value\":59},{\"Index\":53,\"Value\":70},{\"Index\":54,\"Value\":74},{\"Index\":55,\"Value\":59},{\"Index\":56,\"Value\":74},{\"Index\":57,\"Value\":73},{\"Index\":58,\"Value\":65},{\"Index\":59,\"Value\":74},{\"Index\":60,\"Value\":77},{\"Index\":61,\"Value\":61},{\"Index\":62,\"Value\":85},{\"Index\":63,\"Value\":72},{\"Index\":64,\"Value\":82},{\"Index\":65,\"Value\":72},{\"Index\":66,\"Value\":89},{\"Index\":67,\"Value\":68},{\"Index\":68,\"Value\":81},{\"Index\":69,\"Value\":78},{\"Index\":70,\"Value\":92},{\"Index\":71,\"Value\":93},{\"Index\":72,\"Value\":84},{\"Index\":73,\"Value\":77},{\"Index\":74,\"Value\":96},{\"Index\":75,\"Value\":77},{\"Index\":76,\"Value\":86},{\"Index\":77,\"Value\":95},{\"Index\":78,\"Value\":97},{\"Index\":79,\"Value\":100},{\"Index\":80,\"Value\":81},{\"Index\":81,\"Value\":105},{\"Index\":82,\"Value\":95},{\"Index\":83,\"Value\":101},{\"Index\":84,\"Value\":92},{\"Index\":85,\"Value\":92},{\"Index\":86,\"Value\":96},{\"Index\":87,\"Value\":90},{\"Index\":88,\"Value\":106},{\"Index\":89,\"Value\":101},{\"Index\":90,\"Value\":107},{\"Index\":91,\"Value\":92},{\"Index\":92,\"Value\":109},{\"Index\":93,\"Value\":116},{\"Index\":94,\"Value\":102},{\"Index\":95,\"Value\":109},{\"Index\":96,\"Value\":113},{\"Index\":97,\"Value\":116},{\"Index\":98,\"Value\":100},{\"Index\":99,\"Value\":119},{\"Index\":100,\"Value\":116},{\"Index\":101,\"Value\":104},{\"Index\":102,\"Value\":114},{\"Index\":103,\"Value\":127},{\"Index\":104,\"Value\":113},{\"Index\":105,\"Value\":114},{\"Index\":106,\"Value\":127},{\"Index\":107,\"Value\":122},{\"Index\":108,\"Value\":124},{\"Index\":109,\"Value\":125},{\"Index\":110,\"Value\":112},{\"Index\":111,\"Value\":132},{\"Index\":112,\"Value\":120},{\"Index\":113,\"Value\":113},{\"Index\":114,\"Value\":121},{\"Index\":115,\"Value\":131},{\"Index\":116,\"Value\":119},{\"Index\":117,\"Value\":141},{\"Index\":118,\"Value\":123},{\"Index\":119,\"Value\":137},{\"Index\":120,\"Value\":135},{\"Index\":121,\"Value\":143},{\"Index\":122,\"Value\":122},{\"Index\":123,\"Value\":131},{\"Index\":124,\"Value\":133},{\"Index\":125,\"Value\":130},{\"Index\":126,\"Value\":139},{\"Index\":127,\"Value\":128},{\"Index\":128,\"Value\":149},{\"Index\":129,\"Value\":136},{\"Index\":130,\"Value\":132},{\"Index\":131,\"Value\":131},{\"Index\":132,\"Value\":134},{\"Index\":133,\"Value\":149},{\"Index\":134,\"Value\":158},{\"Index\":135,\"Value\":136},{\"Index\":136,\"Value\":160},{\"Index\":137,\"Value\":140},{\"Index\":138,\"Value\":143},{\"Index\":139,\"Value\":146},{\"Index\":140,\"Value\":151},{\"Index\":141,\"Value\":158},{\"Index\":142,\"Value\":165},{\"Index\":143,\"Value\":149},{\"Index\":144,\"Value\":162},{\"Index\":145,\"Value\":161},{\"Index\":146,\"Value\":148},{\"Index\":147,\"Value\":156},{\"Index\":148,\"Value\":153},{\"Index\":149,\"Value\":165}]},\"mark\":\"line\",\"encoding\":{\"x\":{\"field\":\"Index\"},\"y\":{\"field\":\"Value\"}}};\n",
       "    vegaEmbed('#uuid-a5e23f1f-75f5-43da-8742-83af3dc3fc0f', spec, {defaultStyle:true}).catch(console.warn);\n",
       "    }, function(err) {\n",
       "    console.log('Failed to load');\n",
       "  });\n",
       "  </script>\n",
       "</div>\n",
       "  "
      ]
     },
     "execution_count": 5,
     "metadata": {},
     "output_type": "execute_result"
    }
   ],
   "source": [
    "(->> [(range) (take 150 (raw-data))]\n",
    "     graph-it\n",
    "     oz/view!)"
   ]
  },
  {
   "cell_type": "code",
   "execution_count": null,
   "metadata": {},
   "outputs": [],
   "source": []
  }
 ],
 "metadata": {
  "kernelspec": {
   "display_name": "Clojure (clojupyter=0.3.2=1)",
   "language": "clojure",
   "name": "conda-clojupyter"
  },
  "language_info": {
   "file_extension": ".clj",
   "mimetype": "text/x-clojure",
   "name": "clojure",
   "version": "1.10.1"
  }
 },
 "nbformat": 4,
 "nbformat_minor": 4
}
