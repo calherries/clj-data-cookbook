{
 "cells": [
  {
   "cell_type": "code",
   "execution_count": 1,
   "metadata": {},
   "outputs": [
    {
     "data": {
      "text/plain": [
       "nil"
      ]
     },
     "execution_count": 1,
     "metadata": {},
     "output_type": "execute_result"
    }
   ],
   "source": [
    "(require '[clojupyter.javascript.alpha :as cjp-js])\n",
    "(require '[clojupyter.display :as display])\n",
    "(require '[clojupyter.misc.helper :as helper])\n",
    "(require '[clojure.data.json :as json])\n",
    "(helper/add-dependencies '[org.clojure/data.csv \"1.0.0\"])\n",
    "(require '[clojure.data.csv :as csv])\n",
    "(helper/add-dependencies '[metasoarous/oz \"1.5.6\"])\n",
    "(require '[oz.notebook.clojupyter :as oz])\n",
    "(require '[clojure.java.io :as io])\n",
    "(require '[clojure.pprint :as pp])\n",
    "(helper/add-dependencies '[clojure.java-time \"0.3.2\"])\n",
    "(require '[java-time :as t])\n",
    "(require '[clojure.edn :as edn])"
   ]
  },
  {
   "cell_type": "markdown",
   "metadata": {},
   "source": [
    "We're going to use a new dataset here, to demonstrate how to deal with larger datasets. This is a subset of the of 311 service requests from [NYC Open Data](https://nycopendata.socrata.com/Social-Services/311-Service-Requests-from-2010-to-Present/erm2-nwe9). "
   ]
  },
  {
   "cell_type": "code",
   "execution_count": 2,
   "metadata": {},
   "outputs": [
    {
     "data": {
      "text/plain": [
       "#'user/fixed-df"
      ]
     },
     "execution_count": 2,
     "metadata": {},
     "output_type": "execute_result"
    }
   ],
   "source": [
    ";; Python: complaints = pd.read_csv('../data/311-service-requests.csv')\n",
    "\n",
    ";; read data in\n",
    "(def raw-data\n",
    "    (with-open [reader (io/reader \"../data/311-service-requests.csv\")]\n",
    "      (doall\n",
    "        (csv/read-csv reader))))\n",
    "\n",
    "(defn blank->nil [s]\n",
    "  (when-not (clojure.string/blank? s) s))\n",
    "\n",
    "(defn csv-data->maps [csv-data]\n",
    "  (map zipmap\n",
    "       (->> (first csv-data) ;; First row is the header\n",
    "            (map keyword) ;; Drop if you want string keys instead\n",
    "            repeat)\n",
    "       (->> (rest csv-data)\n",
    "            (map #(map blank->nil %))))) ;; Drop if you want blank strings to stay\n",
    "\n",
    "(def fixed-df (csv-data->maps raw-data))"
   ]
  },
  {
   "cell_type": "code",
   "execution_count": 6,
   "metadata": {},
   "outputs": [
    {
     "name": "stdout",
     "output_type": "stream",
     "text": [
      "\n",
      "| :Road Ramp | :Resolution Action Updated Date | :Bridge Highway Name | :Park Facility Name | :School Number |\n",
      "|------------+---------------------------------+----------------------+---------------------+----------------|\n",
      "|            |          10/31/2013 02:35:17 AM |                      |         Unspecified |    Unspecified |\n",
      "|            |                                 |                      |         Unspecified |    Unspecified |\n",
      "|            |          10/31/2013 02:39:42 AM |                      |         Unspecified |    Unspecified |\n",
      "|            |          10/31/2013 02:21:10 AM |                      |         Unspecified |    Unspecified |\n",
      "|            |          10/31/2013 01:59:54 AM |                      |         Unspecified |    Unspecified |\n",
      "|            |                                 |                      |         Unspecified |    Unspecified |\n",
      "|            |          10/31/2013 01:59:51 AM |                      |         Unspecified |    Unspecified |\n",
      "|            |          10/31/2013 01:58:49 AM |                      |         Unspecified |    Unspecified |\n",
      "|            |          10/31/2013 02:00:56 AM |                      |         Unspecified |    Unspecified |\n",
      "|            |          10/31/2013 01:48:26 AM |                      |         Unspecified |    Unspecified |\n"
     ]
    },
    {
     "data": {
      "text/plain": [
       "nil"
      ]
     },
     "execution_count": 6,
     "metadata": {},
     "output_type": "execute_result"
    }
   ],
   "source": [
    "(pp/print-table (map #(into {} (take 5 %)) (take 10 fixed-df)))"
   ]
  },
  {
   "cell_type": "markdown",
   "metadata": {},
   "source": [
    "# 2.2 Selecting columns and rows"
   ]
  },
  {
   "cell_type": "markdown",
   "metadata": {},
   "source": [
    "To select a column, we index with the name of the column, like this:"
   ]
  },
  {
   "cell_type": "code",
   "execution_count": 7,
   "metadata": {},
   "outputs": [
    {
     "name": "stdout",
     "output_type": "stream",
     "text": [
      "Noise - Street/Sidewalk\n",
      "Illegal Parking\n",
      "Noise - Commercial\n",
      "Noise - Vehicle\n",
      "Rodent\n",
      "Noise - Commercial\n",
      "Blocked Driveway\n",
      "Noise - Commercial\n",
      "Noise - Commercial\n",
      "Noise - Commercial\n"
     ]
    },
    {
     "data": {
      "text/plain": [
       "nil"
      ]
     },
     "execution_count": 7,
     "metadata": {},
     "output_type": "execute_result"
    }
   ],
   "source": [
    "(run! println (map (keyword \"Complaint Type\") (take 10 fixed-df)))"
   ]
  },
  {
   "cell_type": "markdown",
   "metadata": {},
   "source": [
    "To get the first 5 rows of a dataframe, we can use a slice: `df[:5]`.\n",
    "\n",
    "This is a great way to get a sense for what kind of information is in the dataframe -- take a minute to look at the contents and get a feel for this dataset."
   ]
  },
  {
   "cell_type": "code",
   "execution_count": 62,
   "metadata": {},
   "outputs": [
    {
     "name": "stdout",
     "output_type": "stream",
     "text": [
      "({:Road Ramp nil,\n",
      "  :Resolution Action Updated Date \"10/31/2013 02:35:17 AM\",\n",
      "  :Bridge Highway Name nil,\n",
      "  :Park Facility Name \"Unspecified\",\n",
      "  :School Number \"Unspecified\",\n",
      "  :Park Borough \"QUEENS\",\n",
      "  :Taxi Pick Up Location nil,\n",
      "  :Address Type \"ADDRESS\",\n",
      "  :Due Date \"10/31/2013 10:08:41 AM\",\n",
      "  :Bridge Highway Segment nil,\n",
      "  :School Phone Number \"Unspecified\",\n",
      "  :Cross Street 1 \"90 AVENUE\",\n",
      "  :Vehicle Type nil,\n",
      "  :Bridge Highway Direction nil,\n",
      "  :Complaint Type \"Noise - Street/Sidewalk\",\n",
      "  :Y Coordinate (State Plane) \"197389\",\n",
      "  :City \"JAMAICA\",\n",
      "  :School Address \"Unspecified\",\n",
      "  :Intersection Street 2 nil,\n",
      "  :School State \"Unspecified\",\n",
      "  :Agency \"NYPD\",\n",
      "  :Unique Key \"26589651\",\n",
      "  :School Code \"Unspecified\",\n",
      "  :Intersection Street 1 nil,\n",
      "  :School Zip \"Unspecified\",\n",
      "  :Descriptor \"Loud Talking\",\n",
      "  :Borough \"QUEENS\",\n",
      "  :Street Name \"169 STREET\",\n",
      "  :Incident Zip \"11432\",\n",
      "  :Longitude \"-73.79160395779721\",\n",
      "  :Agency Name \"New York City Police Department\",\n",
      "  :Community Board \"12 QUEENS\",\n",
      "  :Incident Address \"90-03 169 STREET\",\n",
      "  :Facility Type \"Precinct\",\n",
      "  :Latitude \"40.70827532593202\",\n",
      "  :School City \"Unspecified\",\n",
      "  :School Region \"Unspecified\",\n",
      "  :Closed Date nil,\n",
      "  :Location Type \"Street/Sidewalk\",\n",
      "  :Ferry Terminal Name nil,\n",
      "  :Landmark nil,\n",
      "  :Ferry Direction nil,\n",
      "  :X Coordinate (State Plane) \"1042027\",\n",
      "  :Location \"(40.70827532593202, -73.79160395779721)\",\n",
      "  :School Name \"Unspecified\",\n",
      "  :Created Date \"10/31/2013 02:08:41 AM\",\n",
      "  :Cross Street 2 \"91 AVENUE\",\n",
      "  :Garage Lot Name nil,\n",
      "  :School Not Found \"N\",\n",
      "  :Taxi Company Borough nil,\n",
      "  :School or Citywide Complaint nil,\n",
      "  :Status \"Assigned\"}\n",
      " {:Road Ramp nil,\n",
      "  :Resolution Action Updated Date nil,\n",
      "  :Bridge Highway Name nil,\n",
      "  :Park Facility Name \"Unspecified\",\n",
      "  :School Number \"Unspecified\",\n",
      "  :Park Borough \"QUEENS\",\n",
      "  :Taxi Pick Up Location nil,\n",
      "  :Address Type \"BLOCKFACE\",\n",
      "  :Due Date \"10/31/2013 10:01:04 AM\",\n",
      "  :Bridge Highway Segment nil,\n",
      "  :School Phone Number \"Unspecified\",\n",
      "  :Cross Street 1 \"58 PLACE\",\n",
      "  :Vehicle Type nil,\n",
      "  :Bridge Highway Direction nil,\n",
      "  :Complaint Type \"Illegal Parking\",\n",
      "  :Y Coordinate (State Plane) \"201984\",\n",
      "  :City \"MASPETH\",\n",
      "  :School Address \"Unspecified\",\n",
      "  :Intersection Street 2 nil,\n",
      "  :School State \"Unspecified\",\n",
      "  :Agency \"NYPD\",\n",
      "  :Unique Key \"26593698\",\n",
      "  :School Code \"Unspecified\",\n",
      "  :Intersection Street 1 nil,\n",
      "  :School Zip \"Unspecified\",\n",
      "  :Descriptor \"Commercial Overnight Parking\",\n",
      "  :Borough \"QUEENS\",\n",
      "  :Street Name \"58 AVENUE\",\n",
      "  :Incident Zip \"11378\",\n",
      "  :Longitude \"-73.90945306791765\",\n",
      "  :Agency Name \"New York City Police Department\",\n",
      "  :Community Board \"05 QUEENS\",\n",
      "  :Incident Address \"58 AVENUE\",\n",
      "  :Facility Type \"Precinct\",\n",
      "  :Latitude \"40.721040535628305\",\n",
      "  :School City \"Unspecified\",\n",
      "  :School Region \"Unspecified\",\n",
      "  :Closed Date nil,\n",
      "  :Location Type \"Street/Sidewalk\",\n",
      "  :Ferry Terminal Name nil,\n",
      "  :Landmark nil,\n",
      "  :Ferry Direction nil,\n",
      "  :X Coordinate (State Plane) \"1009349\",\n",
      "  :Location \"(40.721040535628305, -73.90945306791765)\",\n",
      "  :School Name \"Unspecified\",\n",
      "  :Created Date \"10/31/2013 02:01:04 AM\",\n",
      "  :Cross Street 2 \"59 STREET\",\n",
      "  :Garage Lot Name nil,\n",
      "  :School Not Found \"N\",\n",
      "  :Taxi Company Borough nil,\n",
      "  :School or Citywide Complaint nil,\n",
      "  :Status \"Open\"}\n",
      " {:Road Ramp nil,\n",
      "  :Resolution Action Updated Date \"10/31/2013 02:39:42 AM\",\n",
      "  :Bridge Highway Name nil,\n",
      "  :Park Facility Name \"Unspecified\",\n",
      "  :School Number \"Unspecified\",\n",
      "  :Park Borough \"MANHATTAN\",\n",
      "  :Taxi Pick Up Location nil,\n",
      "  :Address Type \"ADDRESS\",\n",
      "  :Due Date \"10/31/2013 10:00:24 AM\",\n",
      "  :Bridge Highway Segment nil,\n",
      "  :School Phone Number \"Unspecified\",\n",
      "  :Cross Street 1 \"WEST 171 STREET\",\n",
      "  :Vehicle Type nil,\n",
      "  :Bridge Highway Direction nil,\n",
      "  :Complaint Type \"Noise - Commercial\",\n",
      "  :Y Coordinate (State Plane) \"246531\",\n",
      "  :City \"NEW YORK\",\n",
      "  :School Address \"Unspecified\",\n",
      "  :Intersection Street 2 nil,\n",
      "  :School State \"Unspecified\",\n",
      "  :Agency \"NYPD\",\n",
      "  :Unique Key \"26594139\",\n",
      "  :School Code \"Unspecified\",\n",
      "  :Intersection Street 1 nil,\n",
      "  :School Zip \"Unspecified\",\n",
      "  :Descriptor \"Loud Music/Party\",\n",
      "  :Borough \"MANHATTAN\",\n",
      "  :Street Name \"BROADWAY\",\n",
      "  :Incident Zip \"10032\",\n",
      "  :Longitude \"-73.93914371913482\",\n",
      "  :Agency Name \"New York City Police Department\",\n",
      "  :Community Board \"12 MANHATTAN\",\n",
      "  :Incident Address \"4060 BROADWAY\",\n",
      "  :Facility Type \"Precinct\",\n",
      "  :Latitude \"40.84332975466513\",\n",
      "  :School City \"Unspecified\",\n",
      "  :School Region \"Unspecified\",\n",
      "  :Closed Date \"10/31/2013 02:40:32 AM\",\n",
      "  :Location Type \"Club/Bar/Restaurant\",\n",
      "  :Ferry Terminal Name nil,\n",
      "  :Landmark nil,\n",
      "  :Ferry Direction nil,\n",
      "  :X Coordinate (State Plane) \"1001088\",\n",
      "  :Location \"(40.84332975466513, -73.93914371913482)\",\n",
      "  :School Name \"Unspecified\",\n",
      "  :Created Date \"10/31/2013 02:00:24 AM\",\n",
      "  :Cross Street 2 \"WEST 172 STREET\",\n",
      "  :Garage Lot Name nil,\n",
      "  :School Not Found \"N\",\n",
      "  :Taxi Company Borough nil,\n",
      "  :School or Citywide Complaint nil,\n",
      "  :Status \"Closed\"}\n",
      " {:Road Ramp nil,\n",
      "  :Resolution Action Updated Date \"10/31/2013 02:21:10 AM\",\n",
      "  :Bridge Highway Name nil,\n",
      "  :Park Facility Name \"Unspecified\",\n",
      "  :School Number \"Unspecified\",\n",
      "  :Park Borough \"MANHATTAN\",\n",
      "  :Taxi Pick Up Location nil,\n",
      "  :Address Type \"BLOCKFACE\",\n",
      "  :Due Date \"10/31/2013 09:56:23 AM\",\n",
      "  :Bridge Highway Segment nil,\n",
      "  :School Phone Number \"Unspecified\",\n",
      "  :Cross Street 1 \"COLUMBUS AVENUE\",\n",
      "  :Vehicle Type nil,\n",
      "  :Bridge Highway Direction nil,\n",
      "  :Complaint Type \"Noise - Vehicle\",\n",
      "  :Y Coordinate (State Plane) \"222727\",\n",
      "  :City \"NEW YORK\",\n",
      "  :School Address \"Unspecified\",\n",
      "  :Intersection Street 2 nil,\n",
      "  :School State \"Unspecified\",\n",
      "  :Agency \"NYPD\",\n",
      "  :Unique Key \"26595721\",\n",
      "  :School Code \"Unspecified\",\n",
      "  :Intersection Street 1 nil,\n",
      "  :School Zip \"Unspecified\",\n",
      "  :Descriptor \"Car/Truck Horn\",\n",
      "  :Borough \"MANHATTAN\",\n",
      "  :Street Name \"WEST 72 STREET\",\n",
      "  :Incident Zip \"10023\",\n",
      "  :Longitude \"-73.98021349023975\",\n",
      "  :Agency Name \"New York City Police Department\",\n",
      "  :Community Board \"07 MANHATTAN\",\n",
      "  :Incident Address \"WEST 72 STREET\",\n",
      "  :Facility Type \"Precinct\",\n",
      "  :Latitude \"40.7780087446372\",\n",
      "  :School City \"Unspecified\",\n",
      "  :School Region \"Unspecified\",\n",
      "  :Closed Date \"10/31/2013 02:21:48 AM\",\n",
      "  :Location Type \"Street/Sidewalk\",\n",
      "  :Ferry Terminal Name nil,\n",
      "  :Landmark nil,\n",
      "  :Ferry Direction nil,\n",
      "  :X Coordinate (State Plane) \"989730\",\n",
      "  :Location \"(40.7780087446372, -73.98021349023975)\",\n",
      "  :School Name \"Unspecified\",\n",
      "  :Created Date \"10/31/2013 01:56:23 AM\",\n",
      "  :Cross Street 2 \"AMSTERDAM AVENUE\",\n",
      "  :Garage Lot Name nil,\n",
      "  :School Not Found \"N\",\n",
      "  :Taxi Company Borough nil,\n",
      "  :School or Citywide Complaint nil,\n",
      "  :Status \"Closed\"}\n",
      " {:Road Ramp nil,\n",
      "  :Resolution Action Updated Date \"10/31/2013 01:59:54 AM\",\n",
      "  :Bridge Highway Name nil,\n",
      "  :Park Facility Name \"Unspecified\",\n",
      "  :School Number \"Unspecified\",\n",
      "  :Park Borough \"MANHATTAN\",\n",
      "  :Taxi Pick Up Location nil,\n",
      "  :Address Type \"BLOCKFACE\",\n",
      "  :Due Date \"11/30/2013 01:53:44 AM\",\n",
      "  :Bridge Highway Segment nil,\n",
      "  :School Phone Number \"Unspecified\",\n",
      "  :Cross Street 1 \"LENOX AVENUE\",\n",
      "  :Vehicle Type nil,\n",
      "  :Bridge Highway Direction nil,\n",
      "  :Complaint Type \"Rodent\",\n",
      "  :Y Coordinate (State Plane) \"233545\",\n",
      "  :City \"NEW YORK\",\n",
      "  :School Address \"Unspecified\",\n",
      "  :Intersection Street 2 nil,\n",
      "  :School State \"Unspecified\",\n",
      "  :Agency \"DOHMH\",\n",
      "  :Unique Key \"26590930\",\n",
      "  :School Code \"Unspecified\",\n",
      "  :Intersection Street 1 nil,\n",
      "  :School Zip \"Unspecified\",\n",
      "  :Descriptor \"Condition Attracting Rodents\",\n",
      "  :Borough \"MANHATTAN\",\n",
      "  :Street Name \"WEST 124 STREET\",\n",
      "  :Incident Zip \"10027\",\n",
      "  :Longitude \"-73.94738703491433\",\n",
      "  :Agency Name \"Department of Health and Mental Hygiene\",\n",
      "  :Community Board \"10 MANHATTAN\",\n",
      "  :Incident Address \"WEST 124 STREET\",\n",
      "  :Facility Type \"N/A\",\n",
      "  :Latitude \"40.80769092704951\",\n",
      "  :School City \"Unspecified\",\n",
      "  :School Region \"Unspecified\",\n",
      "  :Closed Date nil,\n",
      "  :Location Type \"Vacant Lot\",\n",
      "  :Ferry Terminal Name nil,\n",
      "  :Landmark nil,\n",
      "  :Ferry Direction nil,\n",
      "  :X Coordinate (State Plane) \"998815\",\n",
      "  :Location \"(40.80769092704951, -73.94738703491433)\",\n",
      "  :School Name \"Unspecified\",\n",
      "  :Created Date \"10/31/2013 01:53:44 AM\",\n",
      "  :Cross Street 2 \"ADAM CLAYTON POWELL JR BOULEVARD\",\n",
      "  :Garage Lot Name nil,\n",
      "  :School Not Found \"N\",\n",
      "  :Taxi Company Borough nil,\n",
      "  :School or Citywide Complaint nil,\n",
      "  :Status \"Pending\"})\n"
     ]
    },
    {
     "data": {
      "text/plain": [
       "nil"
      ]
     },
     "execution_count": 62,
     "metadata": {},
     "output_type": "execute_result"
    }
   ],
   "source": [
    "(pp/pprint (take 5 fixed-df))"
   ]
  },
  {
   "cell_type": "markdown",
   "metadata": {},
   "source": [
    "We can combine these to get the first 5 rows of a column:"
   ]
  },
  {
   "cell_type": "code",
   "execution_count": 69,
   "metadata": {},
   "outputs": [
    {
     "name": "stdout",
     "output_type": "stream",
     "text": [
      "Noise - Street/Sidewalk\n",
      "Illegal Parking\n",
      "Noise - Commercial\n",
      "Noise - Vehicle\n",
      "Rodent\n"
     ]
    },
    {
     "data": {
      "text/plain": [
       "nil"
      ]
     },
     "execution_count": 69,
     "metadata": {},
     "output_type": "execute_result"
    }
   ],
   "source": [
    "(run! println (->> fixed-df\n",
    "                  (map (keyword \"Complaint Type\"))\n",
    "                  (take 5)))"
   ]
  },
  {
   "cell_type": "markdown",
   "metadata": {},
   "source": [
    "and it doesn't matter which direction we do it in:"
   ]
  },
  {
   "cell_type": "code",
   "execution_count": 70,
   "metadata": {},
   "outputs": [
    {
     "name": "stdout",
     "output_type": "stream",
     "text": [
      "Noise - Street/Sidewalk\n",
      "Illegal Parking\n",
      "Noise - Commercial\n",
      "Noise - Vehicle\n",
      "Rodent\n"
     ]
    },
    {
     "data": {
      "text/plain": [
       "nil"
      ]
     },
     "execution_count": 70,
     "metadata": {},
     "output_type": "execute_result"
    }
   ],
   "source": [
    "(run! println (->> fixed-df\n",
    "                  (take 5)\n",
    "                  (map (keyword \"Complaint Type\"))))"
   ]
  },
  {
   "cell_type": "markdown",
   "metadata": {},
   "source": [
    "# 2.3 Selecting multiple columns\n"
   ]
  },
  {
   "cell_type": "markdown",
   "metadata": {},
   "source": [
    "What if we just want to know the complaint type and the borough, but not the rest of the information? Pandas makes it really easy to select a subset of the columns: just index with list of columns you want."
   ]
  },
  {
   "cell_type": "code",
   "execution_count": 93,
   "metadata": {},
   "outputs": [
    {
     "name": "stdout",
     "output_type": "stream",
     "text": [
      "([\"Noise - Street/Sidewalk\" \"QUEENS\"]\n",
      " [\"Illegal Parking\" \"QUEENS\"]\n",
      " [\"Noise - Commercial\" \"MANHATTAN\"]\n",
      " [\"Noise - Vehicle\" \"MANHATTAN\"]\n",
      " [\"Rodent\" \"MANHATTAN\"])\n"
     ]
    },
    {
     "data": {
      "text/plain": [
       "nil"
      ]
     },
     "execution_count": 93,
     "metadata": {},
     "output_type": "execute_result"
    }
   ],
   "source": [
    "(->> fixed-df\n",
    "    (take 5)\n",
    "    (map (juxt (keyword \"Complaint Type\") (keyword \"Borough\"))))\n",
    "(pp/pp)"
   ]
  },
  {
   "cell_type": "code",
   "execution_count": 94,
   "metadata": {},
   "outputs": [
    {
     "name": "stdout",
     "output_type": "stream",
     "text": [
      "\n",
      "|         :Complaint Type |  :Borough |\n",
      "|-------------------------+-----------|\n",
      "| Noise - Street/Sidewalk |    QUEENS |\n",
      "|         Illegal Parking |    QUEENS |\n",
      "|      Noise - Commercial | MANHATTAN |\n",
      "|         Noise - Vehicle | MANHATTAN |\n",
      "|                  Rodent | MANHATTAN |\n"
     ]
    },
    {
     "data": {
      "text/plain": [
       "nil"
      ]
     },
     "execution_count": 94,
     "metadata": {},
     "output_type": "execute_result"
    }
   ],
   "source": [
    ";; or print as a table\n",
    "(pp/print-table (->> fixed-df\n",
    "                     (take 5)\n",
    "                     (map #(select-keys % [(keyword \"Complaint Type\") (keyword \"Borough\")]))))"
   ]
  },
  {
   "cell_type": "markdown",
   "metadata": {},
   "source": [
    "# 2.4 What's the most common complaint type?\n"
   ]
  },
  {
   "cell_type": "markdown",
   "metadata": {},
   "source": [
    "This is a really easy question to answer! There's a `frequencies` function that we can use:"
   ]
  },
  {
   "cell_type": "code",
   "execution_count": 96,
   "metadata": {},
   "outputs": [
    {
     "name": "stdout",
     "output_type": "stream",
     "text": [
      "([\"HEATING\" 14200]\n",
      " [\"GENERAL CONSTRUCTION\" 7471]\n",
      " [\"Street Light Condition\" 7117]\n",
      " [\"DOF Literature Request\" 5797]\n",
      " [\"PLUMBING\" 5373]\n",
      " [\"PAINT - PLASTER\" 5149]\n",
      " [\"Blocked Driveway\" 4590]\n",
      " [\"NONCONST\" 3998]\n",
      " [\"Street Condition\" 3473]\n",
      " [\"Illegal Parking\" 3343]\n",
      " [\"Noise\" 3321]\n",
      " [\"Traffic Signal Condition\" 3145]\n",
      " [\"Dirty Conditions\" 2653]\n",
      " [\"Water System\" 2636]\n",
      " [\"Noise - Commercial\" 2578]\n",
      " [\"ELECTRIC\" 2350]\n",
      " [\"Broken Muni Meter\" 2070]\n",
      " [\"Noise - Street/Sidewalk\" 1928]\n",
      " [\"Sanitation Condition\" 1824]\n",
      " [\"Rodent\" 1632])\n"
     ]
    },
    {
     "data": {
      "text/plain": [
       "nil"
      ]
     },
     "execution_count": 96,
     "metadata": {},
     "output_type": "execute_result"
    }
   ],
   "source": [
    ";; Python: \n",
    ";; complaints['Complaint Type'].value_counts()\n",
    "\n",
    "(->> fixed-df\n",
    "     (map (keyword \"Complaint Type\"))\n",
    "     frequencies\n",
    "     (sort-by val >)\n",
    "     (take 20))\n",
    "(pp/pp)"
   ]
  },
  {
   "cell_type": "markdown",
   "metadata": {},
   "source": [
    "But it gets better! We can plot them!"
   ]
  },
  {
   "cell_type": "code",
   "execution_count": 131,
   "metadata": {},
   "outputs": [
    {
     "data": {
      "text/html": [
       "\n",
       "<div>\n",
       "  <div id='uuid-59dd8f42-a6f9-46a2-9477-575240992304'></div>\n",
       "  <script>\n",
       "  requirejs.config({\n",
       "    baseUrl: 'https://cdn.jsdelivr.net/npm/',\n",
       "    paths: {\n",
       "      'vega-embed':  'vega-embed@3?noext',\n",
       "      'vega-lib': 'vega-lib?noext',\n",
       "      'vega-lite': 'vega-lite@2?noext',\n",
       "      'vega': 'vega@3?noext'\n",
       "    }\n",
       "  });\n",
       "  require(['vega-embed'], function(vegaEmbed) {\n",
       "    let spec = {\"data\":{\"values\":[{\"Index\":\"HEATING\",\"Value\":14200},{\"Index\":\"GENERAL CONSTRUCTION\",\"Value\":7471},{\"Index\":\"Street Light Condition\",\"Value\":7117},{\"Index\":\"DOF Literature Request\",\"Value\":5797},{\"Index\":\"PLUMBING\",\"Value\":5373},{\"Index\":\"PAINT - PLASTER\",\"Value\":5149},{\"Index\":\"Blocked Driveway\",\"Value\":4590},{\"Index\":\"NONCONST\",\"Value\":3998},{\"Index\":\"Street Condition\",\"Value\":3473},{\"Index\":\"Illegal Parking\",\"Value\":3343}]},\"mark\":\"bar\",\"encoding\":{\"x\":{\"field\":\"Index\",\"type\":\"nominal\",\"sort\":false},\"y\":{\"field\":\"Value\",\"type\":\"quantitative\"}}};\n",
       "    vegaEmbed('#uuid-59dd8f42-a6f9-46a2-9477-575240992304', spec, {defaultStyle:true}).catch(console.warn);\n",
       "    }, function(err) {\n",
       "    console.log('Failed to load');\n",
       "  });\n",
       "  </script>\n",
       "</div>\n",
       "  "
      ]
     },
     "execution_count": 131,
     "metadata": {},
     "output_type": "execute_result"
    }
   ],
   "source": [
    "(defn datapt [[s n]] {:Index s, :Value n})\n",
    "(defn bar-graph [vs]\n",
    " {:data {:values vs}, \n",
    "  :mark \"bar\"\n",
    "  :encoding {:x {:field :Index\n",
    "                 :type \"nominal\"\n",
    "                 :sort false}\n",
    "             :y {:field :Value\n",
    "                 :type \"quantitative\"}}})\n",
    "\n",
    "(->> fixed-df\n",
    "     (map (keyword \"Complaint Type\"))\n",
    "     frequencies\n",
    "     (sort-by val >)\n",
    "     (take 10)\n",
    "     (map datapt)\n",
    "     bar-graph\n",
    "     oz/view!)"
   ]
  },
  {
   "cell_type": "code",
   "execution_count": null,
   "metadata": {},
   "outputs": [],
   "source": []
  }
 ],
 "metadata": {
  "kernelspec": {
   "display_name": "Clojure (clojupyter=0.3.2=1)",
   "language": "clojure",
   "name": "conda-clojupyter"
  },
  "language_info": {
   "file_extension": ".clj",
   "mimetype": "text/x-clojure",
   "name": "clojure",
   "version": "1.10.1"
  }
 },
 "nbformat": 4,
 "nbformat_minor": 4
}
