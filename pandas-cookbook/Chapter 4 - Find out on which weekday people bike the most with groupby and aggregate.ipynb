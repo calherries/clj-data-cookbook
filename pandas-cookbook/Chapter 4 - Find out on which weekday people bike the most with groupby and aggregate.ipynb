{
 "cells": [
  {
   "cell_type": "code",
   "execution_count": 1,
   "metadata": {},
   "outputs": [
    {
     "data": {
      "text/plain": [
       "nil"
      ]
     },
     "execution_count": 1,
     "metadata": {},
     "output_type": "execute_result"
    }
   ],
   "source": [
    "(require '[clojupyter.javascript.alpha :as cjp-js])\n",
    "(require '[clojupyter.display :as display])\n",
    "(require '[clojupyter.misc.helper :as helper])\n",
    "(require '[clojure.data.json :as json])\n",
    "(helper/add-dependencies '[org.clojure/data.csv \"1.0.0\"])\n",
    "(require '[clojure.data.csv :as csv])\n",
    "(helper/add-dependencies '[metasoarous/oz \"1.5.6\"])\n",
    "(require '[oz.notebook.clojupyter :as oz])\n",
    "(require '[clojure.java.io :as io])\n",
    "(require '[clojure.pprint :as pp])\n",
    "(helper/add-dependencies '[clojure.java-time \"0.3.2\"])\n",
    "(require '[java-time :as t])\n",
    "(require '[clojure.edn :as edn])\n",
    "(helper/add-dependencies '[panthera \"0.1-alpha.13\"])\n",
    "(require '[libpython-clj.python :as py])\n",
    "(require '[panthera.panthera :as pt])"
   ]
  },
  {
   "cell_type": "code",
   "execution_count": 2,
   "metadata": {},
   "outputs": [
    {
     "data": {
      "text/html": [
       "<table border=\"1\" class=\"dataframe\">\n",
       "  <thead>\n",
       "    <tr style=\"text-align: right;\">\n",
       "      <th></th>\n",
       "      <th>a</th>\n",
       "      <th>b</th>\n",
       "    </tr>\n",
       "  </thead>\n",
       "  <tbody>\n",
       "    <tr>\n",
       "      <th>0</th>\n",
       "      <td>1</td>\n",
       "      <td>2</td>\n",
       "    </tr>\n",
       "    <tr>\n",
       "      <th>1</th>\n",
       "      <td>3</td>\n",
       "      <td>4</td>\n",
       "    </tr>\n",
       "  </tbody>\n",
       "</table>"
      ]
     },
     "execution_count": 2,
     "metadata": {},
     "output_type": "execute_result"
    }
   ],
   "source": [
    ";; use panthera html display\n",
    "(defn show\n",
    "  [obj]\n",
    "  (display/html\n",
    "    (py/call-attr obj \"to_html\")))\n",
    "\n",
    "(defn show-table\n",
    "  [m]\n",
    "  (-> m\n",
    "      pt/data-frame\n",
    "      show))\n",
    "\n",
    "(show-table [{:a 1 :b 2} {:a 3 :b 4}])"
   ]
  },
  {
   "cell_type": "markdown",
   "metadata": {},
   "source": [
    "Okay! We're going back to our bike path dataset here. I live in Montreal, and I was curious about whether we're more of a commuter city or a biking-for-fun city -- do people bike more on weekends, or on weekdays?"
   ]
  },
  {
   "cell_type": "markdown",
   "metadata": {},
   "source": [
    "# 4.1 Adding a 'weekday' column to our dataframe"
   ]
  },
  {
   "cell_type": "markdown",
   "metadata": {},
   "source": [
    "First, we need to load up the data. We've done this before."
   ]
  },
  {
   "cell_type": "code",
   "execution_count": 3,
   "metadata": {},
   "outputs": [
    {
     "data": {
      "text/html": [
       "<table border=\"1\" class=\"dataframe\">\n",
       "  <thead>\n",
       "    <tr style=\"text-align: right;\">\n",
       "      <th></th>\n",
       "      <th>du Parc</th>\n",
       "      <th>Rachel1</th>\n",
       "      <th>Pierre-Dupuy</th>\n",
       "      <th>Berri 1</th>\n",
       "      <th>Maisonneuve 1</th>\n",
       "      <th>Brébeuf (données non disponibles)</th>\n",
       "      <th>Date</th>\n",
       "      <th>Côte-Sainte-Catherine</th>\n",
       "      <th>St-Urbain (données non disponibles)</th>\n",
       "      <th>Maisonneuve 2</th>\n",
       "    </tr>\n",
       "  </thead>\n",
       "  <tbody>\n",
       "    <tr>\n",
       "      <th>0</th>\n",
       "      <td>26</td>\n",
       "      <td>16</td>\n",
       "      <td>10</td>\n",
       "      <td>35</td>\n",
       "      <td>38</td>\n",
       "      <td>None</td>\n",
       "      <td>2012-01-01</td>\n",
       "      <td>0</td>\n",
       "      <td>None</td>\n",
       "      <td>51</td>\n",
       "    </tr>\n",
       "    <tr>\n",
       "      <th>1</th>\n",
       "      <td>53</td>\n",
       "      <td>43</td>\n",
       "      <td>6</td>\n",
       "      <td>83</td>\n",
       "      <td>68</td>\n",
       "      <td>None</td>\n",
       "      <td>2012-01-02</td>\n",
       "      <td>1</td>\n",
       "      <td>None</td>\n",
       "      <td>153</td>\n",
       "    </tr>\n",
       "    <tr>\n",
       "      <th>2</th>\n",
       "      <td>89</td>\n",
       "      <td>58</td>\n",
       "      <td>3</td>\n",
       "      <td>135</td>\n",
       "      <td>104</td>\n",
       "      <td>None</td>\n",
       "      <td>2012-01-03</td>\n",
       "      <td>2</td>\n",
       "      <td>None</td>\n",
       "      <td>248</td>\n",
       "    </tr>\n",
       "    <tr>\n",
       "      <th>3</th>\n",
       "      <td>111</td>\n",
       "      <td>61</td>\n",
       "      <td>8</td>\n",
       "      <td>144</td>\n",
       "      <td>116</td>\n",
       "      <td>None</td>\n",
       "      <td>2012-01-04</td>\n",
       "      <td>1</td>\n",
       "      <td>None</td>\n",
       "      <td>318</td>\n",
       "    </tr>\n",
       "    <tr>\n",
       "      <th>4</th>\n",
       "      <td>97</td>\n",
       "      <td>95</td>\n",
       "      <td>13</td>\n",
       "      <td>197</td>\n",
       "      <td>124</td>\n",
       "      <td>None</td>\n",
       "      <td>2012-01-05</td>\n",
       "      <td>2</td>\n",
       "      <td>None</td>\n",
       "      <td>330</td>\n",
       "    </tr>\n",
       "  </tbody>\n",
       "</table>"
      ]
     },
     "execution_count": 3,
     "metadata": {},
     "output_type": "execute_result"
    }
   ],
   "source": [
    ";; bikes = pd.read_csv('../data/bikes.csv', sep=';', encoding='latin1', parse_dates=['Date'], dayfirst=True, index_col='Date')\n",
    "\n",
    "(def fixed-data\n",
    "    (with-open [reader (io/reader \"../data/bikes.csv\" :encoding \"ISO-8859-1\")]\n",
    "      (doall\n",
    "        (csv/read-csv reader :separator \\;))))\n",
    "\n",
    "(defn blank->nil [s]\n",
    "   (when-not (#{\"\"} s) s))\n",
    "\n",
    "(defn csv-data->maps [csv-data]\n",
    "  (map zipmap\n",
    "       (->> (first csv-data) ;; First row is the header\n",
    "            (map keyword) ;; Drop if you want string keys instead\n",
    "            repeat)\n",
    "       (->> (rest csv-data)\n",
    "            (map #(map blank->nil %))))) ;; Drop if you want blank strings to stay\n",
    "\n",
    "(defn col-parser [col-key]\n",
    "    (if (= :Date col-key) \n",
    "         (comp t/format (partial t/local-date \"dd/MM/yyyy\"))\n",
    "         edn/read-string))\n",
    "\n",
    "(def bikes\n",
    "    (->> fixed-data\n",
    "         csv-data->maps\n",
    "         (map #(into {} (map (fn [[k v]] [k ((col-parser k) v)]) %))))) ;; Apply each parser to columns\n",
    "\n",
    "(->> bikes\n",
    "     (take 5)\n",
    "     show-table)"
   ]
  },
  {
   "cell_type": "code",
   "execution_count": 99,
   "metadata": {},
   "outputs": [
    {
     "data": {
      "text/html": [
       "\n",
       "<div>\n",
       "  <div id='uuid-69406261-ed0b-41da-8094-6ca27e6bc8fd'></div>\n",
       "  <script>\n",
       "  requirejs.config({\n",
       "    baseUrl: 'https://cdn.jsdelivr.net/npm/',\n",
       "    paths: {\n",
       "      'vega-embed':  'vega-embed@3?noext',\n",
       "      'vega-lib': 'vega-lib?noext',\n",
       "      'vega-lite': 'vega-lite@2?noext',\n",
       "      'vega': 'vega@3?noext'\n",
       "    }\n",
       "  });\n",
       "  require(['vega-embed'], function(vegaEmbed) {\n",
       "    let spec = {\"data\":{\"values\":[{\"du Parc\":26,\"Rachel1\":16,\"Pierre-Dupuy\":10,\"Berri 1\":35,\"Maisonneuve 1\":38,\"Br\\u00e9beuf (donn\\u00e9es non disponibles)\":null,\"Date\":\"2012-01-01\",\"C\\u00f4te-Sainte-Catherine\":0,\"St-Urbain (donn\\u00e9es non disponibles)\":null,\"Maisonneuve 2\":51},{\"du Parc\":53,\"Rachel1\":43,\"Pierre-Dupuy\":6,\"Berri 1\":83,\"Maisonneuve 1\":68,\"Br\\u00e9beuf (donn\\u00e9es non disponibles)\":null,\"Date\":\"2012-01-02\",\"C\\u00f4te-Sainte-Catherine\":1,\"St-Urbain (donn\\u00e9es non disponibles)\":null,\"Maisonneuve 2\":153},{\"du Parc\":89,\"Rachel1\":58,\"Pierre-Dupuy\":3,\"Berri 1\":135,\"Maisonneuve 1\":104,\"Br\\u00e9beuf (donn\\u00e9es non disponibles)\":null,\"Date\":\"2012-01-03\",\"C\\u00f4te-Sainte-Catherine\":2,\"St-Urbain (donn\\u00e9es non disponibles)\":null,\"Maisonneuve 2\":248},{\"du Parc\":111,\"Rachel1\":61,\"Pierre-Dupuy\":8,\"Berri 1\":144,\"Maisonneuve 1\":116,\"Br\\u00e9beuf (donn\\u00e9es non disponibles)\":null,\"Date\":\"2012-01-04\",\"C\\u00f4te-Sainte-Catherine\":1,\"St-Urbain (donn\\u00e9es non disponibles)\":null,\"Maisonneuve 2\":318},{\"du Parc\":97,\"Rachel1\":95,\"Pierre-Dupuy\":13,\"Berri 1\":197,\"Maisonneuve 1\":124,\"Br\\u00e9beuf (donn\\u00e9es non disponibles)\":null,\"Date\":\"2012-01-05\",\"C\\u00f4te-Sainte-Catherine\":2,\"St-Urbain (donn\\u00e9es non disponibles)\":null,\"Maisonneuve 2\":330},{\"du Parc\":86,\"Rachel1\":75,\"Pierre-Dupuy\":4,\"Berri 1\":146,\"Maisonneuve 1\":98,\"Br\\u00e9beuf (donn\\u00e9es non disponibles)\":null,\"Date\":\"2012-01-06\",\"C\\u00f4te-Sainte-Catherine\":0,\"St-Urbain (donn\\u00e9es non disponibles)\":null,\"Maisonneuve 2\":244},{\"du Parc\":53,\"Rachel1\":54,\"Pierre-Dupuy\":6,\"Berri 1\":98,\"Maisonneuve 1\":80,\"Br\\u00e9beuf (donn\\u00e9es non disponibles)\":null,\"Date\":\"2012-01-07\",\"C\\u00f4te-Sainte-Catherine\":2,\"St-Urbain (donn\\u00e9es non disponibles)\":null,\"Maisonneuve 2\":108},{\"du Parc\":64,\"Rachel1\":63,\"Pierre-Dupuy\":11,\"Berri 1\":95,\"Maisonneuve 1\":62,\"Br\\u00e9beuf (donn\\u00e9es non disponibles)\":null,\"Date\":\"2012-01-08\",\"C\\u00f4te-Sainte-Catherine\":1,\"St-Urbain (donn\\u00e9es non disponibles)\":null,\"Maisonneuve 2\":98},{\"du Parc\":198,\"Rachel1\":173,\"Pierre-Dupuy\":12,\"Berri 1\":244,\"Maisonneuve 1\":165,\"Br\\u00e9beuf (donn\\u00e9es non disponibles)\":null,\"Date\":\"2012-01-09\",\"C\\u00f4te-Sainte-Catherine\":2,\"St-Urbain (donn\\u00e9es non disponibles)\":null,\"Maisonneuve 2\":432},{\"du Parc\":275,\"Rachel1\":241,\"Pierre-Dupuy\":18,\"Berri 1\":397,\"Maisonneuve 1\":238,\"Br\\u00e9beuf (donn\\u00e9es non disponibles)\":null,\"Date\":\"2012-01-10\",\"C\\u00f4te-Sainte-Catherine\":3,\"St-Urbain (donn\\u00e9es non disponibles)\":null,\"Maisonneuve 2\":563},{\"du Parc\":258,\"Rachel1\":194,\"Pierre-Dupuy\":12,\"Berri 1\":273,\"Maisonneuve 1\":182,\"Br\\u00e9beuf (donn\\u00e9es non disponibles)\":null,\"Date\":\"2012-01-11\",\"C\\u00f4te-Sainte-Catherine\":0,\"St-Urbain (donn\\u00e9es non disponibles)\":null,\"Maisonneuve 2\":443},{\"du Parc\":137,\"Rachel1\":63,\"Pierre-Dupuy\":9,\"Berri 1\":157,\"Maisonneuve 1\":134,\"Br\\u00e9beuf (donn\\u00e9es non disponibles)\":null,\"Date\":\"2012-01-12\",\"C\\u00f4te-Sainte-Catherine\":1,\"St-Urbain (donn\\u00e9es non disponibles)\":null,\"Maisonneuve 2\":261},{\"du Parc\":64,\"Rachel1\":0,\"Pierre-Dupuy\":2,\"Berri 1\":75,\"Maisonneuve 1\":41,\"Br\\u00e9beuf (donn\\u00e9es non disponibles)\":null,\"Date\":\"2012-01-13\",\"C\\u00f4te-Sainte-Catherine\":0,\"St-Urbain (donn\\u00e9es non disponibles)\":null,\"Maisonneuve 2\":105},{\"du Parc\":19,\"Rachel1\":1,\"Pierre-Dupuy\":0,\"Berri 1\":32,\"Maisonneuve 1\":54,\"Br\\u00e9beuf (donn\\u00e9es non disponibles)\":null,\"Date\":\"2012-01-14\",\"C\\u00f4te-Sainte-Catherine\":0,\"St-Urbain (donn\\u00e9es non disponibles)\":null,\"Maisonneuve 2\":56},{\"du Parc\":18,\"Rachel1\":0,\"Pierre-Dupuy\":0,\"Berri 1\":54,\"Maisonneuve 1\":33,\"Br\\u00e9beuf (donn\\u00e9es non disponibles)\":null,\"Date\":\"2012-01-15\",\"C\\u00f4te-Sainte-Catherine\":0,\"St-Urbain (donn\\u00e9es non disponibles)\":null,\"Maisonneuve 2\":60},{\"du Parc\":137,\"Rachel1\":0,\"Pierre-Dupuy\":1,\"Berri 1\":168,\"Maisonneuve 1\":136,\"Br\\u00e9beuf (donn\\u00e9es non disponibles)\":null,\"Date\":\"2012-01-16\",\"C\\u00f4te-Sainte-Catherine\":2,\"Maisonneuve 2\":312},{\"du Parc\":74,\"Rachel1\":0,\"Pierre-Dupuy\":0,\"Berri 1\":155,\"Maisonneuve 1\":86,\"Br\\u00e9beuf (donn\\u00e9es non disponibles)\":null,\"Date\":\"2012-01-17\",\"C\\u00f4te-Sainte-Catherine\":0,\"Maisonneuve 2\":256},{\"du Parc\":68,\"Rachel1\":0,\"Pierre-Dupuy\":3,\"Berri 1\":139,\"Maisonneuve 1\":66,\"Br\\u00e9beuf (donn\\u00e9es non disponibles)\":null,\"Date\":\"2012-01-18\",\"C\\u00f4te-Sainte-Catherine\":0,\"Maisonneuve 2\":188},{\"du Parc\":79,\"Rachel1\":0,\"Pierre-Dupuy\":3,\"Berri 1\":191,\"Maisonneuve 1\":104,\"Br\\u00e9beuf (donn\\u00e9es non disponibles)\":null,\"Date\":\"2012-01-19\",\"C\\u00f4te-Sainte-Catherine\":1,\"Maisonneuve 2\":248},{\"du Parc\":67,\"Rachel1\":1,\"Pierre-Dupuy\":1,\"Berri 1\":161,\"Maisonneuve 1\":96,\"Br\\u00e9beuf (donn\\u00e9es non disponibles)\":null,\"Date\":\"2012-01-20\",\"C\\u00f4te-Sainte-Catherine\":4,\"Maisonneuve 2\":217},{\"du Parc\":32,\"Rachel1\":0,\"Pierre-Dupuy\":1,\"Berri 1\":53,\"Maisonneuve 1\":47,\"Br\\u00e9beuf (donn\\u00e9es non disponibles)\":null,\"Date\":\"2012-01-21\",\"C\\u00f4te-Sainte-Catherine\":0,\"Maisonneuve 2\":70},{\"du Parc\":35,\"Rachel1\":0,\"Pierre-Dupuy\":5,\"Berri 1\":71,\"Maisonneuve 1\":41,\"Br\\u00e9beuf (donn\\u00e9es non disponibles)\":null,\"Date\":\"2012-01-22\",\"C\\u00f4te-Sainte-Catherine\":0,\"Maisonneuve 2\":73},{\"du Parc\":91,\"Rachel1\":0,\"Pierre-Dupuy\":6,\"Berri 1\":210,\"Maisonneuve 1\":114,\"Br\\u00e9beuf (donn\\u00e9es non disponibles)\":null,\"Date\":\"2012-01-23\",\"C\\u00f4te-Sainte-Catherine\":6,\"Maisonneuve 2\":357},{\"du Parc\":174,\"Rachel1\":0,\"Pierre-Dupuy\":4,\"Berri 1\":299,\"Maisonneuve 1\":189,\"Br\\u00e9beuf (donn\\u00e9es non disponibles)\":null,\"Date\":\"2012-01-24\",\"C\\u00f4te-Sainte-Catherine\":1,\"Maisonneuve 2\":444},{\"du Parc\":180,\"Rachel1\":0,\"Pierre-Dupuy\":4,\"Berri 1\":334,\"Maisonneuve 1\":217,\"Br\\u00e9beuf (donn\\u00e9es non disponibles)\":null,\"Date\":\"2012-01-25\",\"C\\u00f4te-Sainte-Catherine\":1,\"Maisonneuve 2\":453},{\"du Parc\":191,\"Rachel1\":1,\"Pierre-Dupuy\":0,\"Berri 1\":306,\"Maisonneuve 1\":215,\"Br\\u00e9beuf (donn\\u00e9es non disponibles)\":null,\"Date\":\"2012-01-26\",\"C\\u00f4te-Sainte-Catherine\":0,\"Maisonneuve 2\":495},{\"du Parc\":65,\"Rachel1\":0,\"Pierre-Dupuy\":0,\"Berri 1\":91,\"Maisonneuve 1\":79,\"Br\\u00e9beuf (donn\\u00e9es non disponibles)\":null,\"Date\":\"2012-01-27\",\"C\\u00f4te-Sainte-Catherine\":5,\"Maisonneuve 2\":204},{\"du Parc\":33,\"Rachel1\":1,\"Pierre-Dupuy\":9,\"Berri 1\":80,\"Maisonneuve 1\":61,\"Br\\u00e9beuf (donn\\u00e9es non disponibles)\":null,\"Date\":\"2012-01-28\",\"C\\u00f4te-Sainte-Catherine\":1,\"Maisonneuve 2\":123},{\"du Parc\":40,\"Rachel1\":0,\"Pierre-Dupuy\":7,\"Berri 1\":87,\"Maisonneuve 1\":65,\"Br\\u00e9beuf (donn\\u00e9es non disponibles)\":null,\"Date\":\"2012-01-29\",\"C\\u00f4te-Sainte-Catherine\":1,\"Maisonneuve 2\":132},{\"du Parc\":152,\"Rachel1\":0,\"Pierre-Dupuy\":2,\"Berri 1\":219,\"Maisonneuve 1\":146,\"Br\\u00e9beuf (donn\\u00e9es non disponibles)\":null,\"Date\":\"2012-01-30\",\"C\\u00f4te-Sainte-Catherine\":0,\"Maisonneuve 2\":371},{\"du Parc\":122,\"Rachel1\":0,\"Pierre-Dupuy\":0,\"Berri 1\":186,\"Maisonneuve 1\":109,\"Br\\u00e9beuf (donn\\u00e9es non disponibles)\":null,\"Date\":\"2012-01-31\",\"C\\u00f4te-Sainte-Catherine\":1,\"Maisonneuve 2\":324},{\"du Parc\":71,\"Rachel1\":0,\"Pierre-Dupuy\":5,\"Berri 1\":138,\"Maisonneuve 1\":100,\"Br\\u00e9beuf (donn\\u00e9es non disponibles)\":null,\"Date\":\"2012-02-01\",\"C\\u00f4te-Sainte-Catherine\":0,\"Maisonneuve 2\":271},{\"du Parc\":128,\"Rachel1\":2,\"Pierre-Dupuy\":2,\"Berri 1\":217,\"Maisonneuve 1\":134,\"Br\\u00e9beuf (donn\\u00e9es non disponibles)\":null,\"Date\":\"2012-02-02\",\"C\\u00f4te-Sainte-Catherine\":5,\"Maisonneuve 2\":345},{\"du Parc\":111,\"Rachel1\":1,\"Pierre-Dupuy\":1,\"Berri 1\":174,\"Maisonneuve 1\":103,\"Br\\u00e9beuf (donn\\u00e9es non disponibles)\":null,\"Date\":\"2012-02-03\",\"C\\u00f4te-Sainte-Catherine\":1,\"Maisonneuve 2\":301},{\"du Parc\":44,\"Rachel1\":0,\"Pierre-Dupuy\":8,\"Berri 1\":84,\"Maisonneuve 1\":53,\"Br\\u00e9beuf (donn\\u00e9es non disponibles)\":null,\"Date\":\"2012-02-04\",\"C\\u00f4te-Sainte-Catherine\":0,\"Maisonneuve 2\":119},{\"du Parc\":54,\"Rachel1\":0,\"Pierre-Dupuy\":7,\"Berri 1\":72,\"Maisonneuve 1\":46,\"Br\\u00e9beuf (donn\\u00e9es non disponibles)\":null,\"Date\":\"2012-02-05\",\"C\\u00f4te-Sainte-Catherine\":0,\"Maisonneuve 2\":133},{\"du Parc\":167,\"Rachel1\":0,\"Pierre-Dupuy\":10,\"Berri 1\":248,\"Maisonneuve 1\":136,\"Br\\u00e9beuf (donn\\u00e9es non disponibles)\":null,\"Date\":\"2012-02-06\",\"C\\u00f4te-Sainte-Catherine\":1,\"Maisonneuve 2\":425},{\"du Parc\":225,\"Rachel1\":0,\"Pierre-Dupuy\":9,\"Berri 1\":316,\"Maisonneuve 1\":209,\"Br\\u00e9beuf (donn\\u00e9es non disponibles)\":null,\"Date\":\"2012-02-07\",\"C\\u00f4te-Sainte-Catherine\":0,\"Maisonneuve 2\":516},{\"du Parc\":215,\"Rachel1\":1,\"Pierre-Dupuy\":4,\"Berri 1\":271,\"Maisonneuve 1\":202,\"Br\\u00e9beuf (donn\\u00e9es non disponibles)\":null,\"Date\":\"2012-02-08\",\"C\\u00f4te-Sainte-Catherine\":0,\"Maisonneuve 2\":503},{\"du Parc\":231,\"Rachel1\":0,\"Pierre-Dupuy\":11,\"Berri 1\":342,\"Maisonneuve 1\":227,\"Br\\u00e9beuf (donn\\u00e9es non disponibles)\":null,\"Date\":\"2012-02-09\",\"C\\u00f4te-Sainte-Catherine\":0,\"Maisonneuve 2\":471},{\"du Parc\":216,\"Rachel1\":2,\"Pierre-Dupuy\":6,\"Berri 1\":303,\"Maisonneuve 1\":206,\"Br\\u00e9beuf (donn\\u00e9es non disponibles)\":null,\"Date\":\"2012-02-10\",\"C\\u00f4te-Sainte-Catherine\":1,\"Maisonneuve 2\":478},{\"du Parc\":49,\"Rachel1\":0,\"Pierre-Dupuy\":3,\"Berri 1\":71,\"Maisonneuve 1\":63,\"Br\\u00e9beuf (donn\\u00e9es non disponibles)\":null,\"Date\":\"2012-02-11\",\"C\\u00f4te-Sainte-Catherine\":0,\"Maisonneuve 2\":112},{\"du Parc\":53,\"Rachel1\":0,\"Pierre-Dupuy\":5,\"Berri 1\":78,\"Maisonneuve 1\":36,\"Br\\u00e9beuf (donn\\u00e9es non disponibles)\":null,\"Date\":\"2012-02-12\",\"C\\u00f4te-Sainte-Catherine\":0,\"Maisonneuve 2\":91},{\"du Parc\":207,\"Rachel1\":0,\"Pierre-Dupuy\":4,\"Berri 1\":211,\"Maisonneuve 1\":175,\"Br\\u00e9beuf (donn\\u00e9es non disponibles)\":null,\"Date\":\"2012-02-13\",\"C\\u00f4te-Sainte-Catherine\":0,\"Maisonneuve 2\":408},{\"du Parc\":243,\"Rachel1\":1,\"Pierre-Dupuy\":9,\"Berri 1\":318,\"Maisonneuve 1\":186,\"Br\\u00e9beuf (donn\\u00e9es non disponibles)\":null,\"Date\":\"2012-02-14\",\"C\\u00f4te-Sainte-Catherine\":0,\"Maisonneuve 2\":504},{\"du Parc\":232,\"Rachel1\":1,\"Pierre-Dupuy\":5,\"Berri 1\":307,\"Maisonneuve 1\":180,\"Br\\u00e9beuf (donn\\u00e9es non disponibles)\":null,\"Date\":\"2012-02-15\",\"C\\u00f4te-Sainte-Catherine\":0,\"Maisonneuve 2\":491},{\"du Parc\":295,\"Rachel1\":0,\"Pierre-Dupuy\":10,\"Berri 1\":386,\"Maisonneuve 1\":212,\"Br\\u00e9beuf (donn\\u00e9es non disponibles)\":null,\"Date\":\"2012-02-16\",\"C\\u00f4te-Sainte-Catherine\":1,\"Maisonneuve 2\":569},{\"du Parc\":260,\"Rachel1\":1,\"Pierre-Dupuy\":11,\"Berri 1\":332,\"Maisonneuve 1\":237,\"Br\\u00e9beuf (donn\\u00e9es non disponibles)\":null,\"Date\":\"2012-02-17\",\"C\\u00f4te-Sainte-Catherine\":3,\"Maisonneuve 2\":496},{\"du Parc\":134,\"Rachel1\":0,\"Pierre-Dupuy\":30,\"Berri 1\":220,\"Maisonneuve 1\":159,\"Br\\u00e9beuf (donn\\u00e9es non disponibles)\":null,\"Date\":\"2012-02-18\",\"C\\u00f4te-Sainte-Catherine\":1,\"Maisonneuve 2\":280},{\"du Parc\":113,\"Rachel1\":2,\"Pierre-Dupuy\":13,\"Berri 1\":169,\"Maisonneuve 1\":110,\"Br\\u00e9beuf (donn\\u00e9es non disponibles)\":null,\"Date\":\"2012-02-19\",\"C\\u00f4te-Sainte-Catherine\":3,\"Maisonneuve 2\":205},{\"du Parc\":243,\"Rachel1\":10,\"Pierre-Dupuy\":14,\"Berri 1\":303,\"Maisonneuve 1\":224,\"Br\\u00e9beuf (donn\\u00e9es non disponibles)\":null,\"Date\":\"2012-02-20\",\"C\\u00f4te-Sainte-Catherine\":2,\"Maisonneuve 2\":470},{\"du Parc\":286,\"Rachel1\":6,\"Pierre-Dupuy\":10,\"Berri 1\":441,\"Maisonneuve 1\":292,\"Br\\u00e9beuf (donn\\u00e9es non disponibles)\":null,\"Date\":\"2012-02-21\",\"C\\u00f4te-Sainte-Catherine\":5,\"Maisonneuve 2\":503},{\"du Parc\":264,\"Rachel1\":3,\"Pierre-Dupuy\":12,\"Berri 1\":375,\"Maisonneuve 1\":263,\"Br\\u00e9beuf (donn\\u00e9es non disponibles)\":null,\"Date\":\"2012-02-22\",\"C\\u00f4te-Sainte-Catherine\":10,\"Maisonneuve 2\":501},{\"du Parc\":329,\"Rachel1\":13,\"Pierre-Dupuy\":22,\"Berri 1\":397,\"Maisonneuve 1\":293,\"Br\\u00e9beuf (donn\\u00e9es non disponibles)\":null,\"Date\":\"2012-02-23\",\"C\\u00f4te-Sainte-Catherine\":10,\"Maisonneuve 2\":528},{\"du Parc\":137,\"Rachel1\":13,\"Pierre-Dupuy\":4,\"Berri 1\":243,\"Maisonneuve 1\":187,\"Br\\u00e9beuf (donn\\u00e9es non disponibles)\":null,\"Date\":\"2012-02-24\",\"C\\u00f4te-Sainte-Catherine\":4,\"Maisonneuve 2\":313},{\"du Parc\":18,\"Rachel1\":5,\"Pierre-Dupuy\":2,\"Berri 1\":62,\"Maisonneuve 1\":48,\"Br\\u00e9beuf (donn\\u00e9es non disponibles)\":null,\"Date\":\"2012-02-25\",\"C\\u00f4te-Sainte-Catherine\":0,\"Maisonneuve 2\":52},{\"du Parc\":35,\"Rachel1\":0,\"Pierre-Dupuy\":4,\"Berri 1\":78,\"Maisonneuve 1\":76,\"Br\\u00e9beuf (donn\\u00e9es non disponibles)\":null,\"Date\":\"2012-02-26\",\"C\\u00f4te-Sainte-Catherine\":0,\"Maisonneuve 2\":47},{\"du Parc\":134,\"Rachel1\":5,\"Pierre-Dupuy\":3,\"Berri 1\":119,\"Maisonneuve 1\":94,\"Br\\u00e9beuf (donn\\u00e9es non disponibles)\":null,\"Date\":\"2012-02-27\",\"C\\u00f4te-Sainte-Catherine\":4,\"Maisonneuve 2\":298},{\"du Parc\":168,\"Rachel1\":3,\"Pierre-Dupuy\":9,\"Berri 1\":195,\"Maisonneuve 1\":158,\"Br\\u00e9beuf (donn\\u00e9es non disponibles)\":null,\"Date\":\"2012-02-28\",\"C\\u00f4te-Sainte-Catherine\":0,\"Maisonneuve 2\":350},{\"du Parc\":190,\"Rachel1\":4,\"Pierre-Dupuy\":7,\"Berri 1\":242,\"Maisonneuve 1\":164,\"Br\\u00e9beuf (donn\\u00e9es non disponibles)\":null,\"Date\":\"2012-02-29\",\"C\\u00f4te-Sainte-Catherine\":0,\"Maisonneuve 2\":446},{\"du Parc\":63,\"Rachel1\":14,\"Pierre-Dupuy\":0,\"Berri 1\":92,\"Maisonneuve 1\":56,\"Br\\u00e9beuf (donn\\u00e9es non disponibles)\":null,\"Date\":\"2012-03-01\",\"C\\u00f4te-Sainte-Catherine\":0,\"Maisonneuve 2\":199},{\"du Parc\":77,\"Rachel1\":1,\"Pierre-Dupuy\":7,\"Berri 1\":143,\"Maisonneuve 1\":56,\"Br\\u00e9beuf (donn\\u00e9es non disponibles)\":null,\"Date\":\"2012-03-02\",\"C\\u00f4te-Sainte-Catherine\":0,\"Maisonneuve 2\":283},{\"du Parc\":47,\"Rachel1\":0,\"Pierre-Dupuy\":2,\"Berri 1\":82,\"Maisonneuve 1\":65,\"Br\\u00e9beuf (donn\\u00e9es non disponibles)\":null,\"Date\":\"2012-03-03\",\"C\\u00f4te-Sainte-Catherine\":0,\"Maisonneuve 2\":133},{\"du Parc\":60,\"Rachel1\":0,\"Pierre-Dupuy\":15,\"Berri 1\":107,\"Maisonneuve 1\":79,\"Br\\u00e9beuf (donn\\u00e9es non disponibles)\":null,\"Date\":\"2012-03-04\",\"C\\u00f4te-Sainte-Catherine\":2,\"Maisonneuve 2\":138},{\"du Parc\":157,\"Rachel1\":2,\"Pierre-Dupuy\":8,\"Berri 1\":155,\"Maisonneuve 1\":114,\"Br\\u00e9beuf (donn\\u00e9es non disponibles)\":null,\"Date\":\"2012-03-05\",\"C\\u00f4te-Sainte-Catherine\":1,\"Maisonneuve 2\":363},{\"du Parc\":170,\"Rachel1\":0,\"Pierre-Dupuy\":10,\"Berri 1\":269,\"Maisonneuve 1\":192,\"Br\\u00e9beuf (donn\\u00e9es non disponibles)\":null,\"Date\":\"2012-03-06\",\"C\\u00f4te-Sainte-Catherine\":0,\"Maisonneuve 2\":437},{\"du Parc\":266,\"Rachel1\":0,\"Pierre-Dupuy\":28,\"Berri 1\":438,\"Maisonneuve 1\":290,\"Br\\u00e9beuf (donn\\u00e9es non disponibles)\":null,\"Date\":\"2012-03-07\",\"C\\u00f4te-Sainte-Catherine\":3,\"Maisonneuve 2\":715},{\"du Parc\":270,\"Rachel1\":9,\"Pierre-Dupuy\":9,\"Berri 1\":348,\"Maisonneuve 1\":238,\"Br\\u00e9beuf (donn\\u00e9es non disponibles)\":null,\"Date\":\"2012-03-08\",\"C\\u00f4te-Sainte-Catherine\":6,\"Maisonneuve 2\":530},{\"du Parc\":268,\"Rachel1\":38,\"Pierre-Dupuy\":8,\"Berri 1\":371,\"Maisonneuve 1\":279,\"Br\\u00e9beuf (donn\\u00e9es non disponibles)\":null,\"Date\":\"2012-03-09\",\"C\\u00f4te-Sainte-Catherine\":8,\"Maisonneuve 2\":575},{\"du Parc\":165,\"Rachel1\":58,\"Pierre-Dupuy\":0,\"Berri 1\":182,\"Maisonneuve 1\":162,\"Br\\u00e9beuf (donn\\u00e9es non disponibles)\":null,\"Date\":\"2012-03-10\",\"C\\u00f4te-Sainte-Catherine\":13,\"Maisonneuve 2\":296},{\"du Parc\":289,\"Rachel1\":285,\"Pierre-Dupuy\":0,\"Berri 1\":380,\"Maisonneuve 1\":253,\"Br\\u00e9beuf (donn\\u00e9es non disponibles)\":null,\"Date\":\"2012-03-11\",\"C\\u00f4te-Sainte-Catherine\":60,\"Maisonneuve 2\":540},{\"du Parc\":747,\"Rachel1\":548,\"Pierre-Dupuy\":0,\"Berri 1\":802,\"Maisonneuve 1\":618,\"Br\\u00e9beuf (donn\\u00e9es non disponibles)\":null,\"Date\":\"2012-03-12\",\"C\\u00f4te-Sainte-Catherine\":179,\"Maisonneuve 2\":1265},{\"du Parc\":425,\"Rachel1\":325,\"Pierre-Dupuy\":0,\"Berri 1\":442,\"Maisonneuve 1\":321,\"Br\\u00e9beuf (donn\\u00e9es non disponibles)\":null,\"Date\":\"2012-03-13\",\"C\\u00f4te-Sainte-Catherine\":145,\"Maisonneuve 2\":769},{\"du Parc\":451,\"Rachel1\":336,\"Pierre-Dupuy\":0,\"Berri 1\":469,\"Maisonneuve 1\":313,\"Br\\u00e9beuf (donn\\u00e9es non disponibles)\":null,\"Date\":\"2012-03-14\",\"C\\u00f4te-Sainte-Catherine\":146,\"Maisonneuve 2\":739},{\"du Parc\":631,\"Rachel1\":565,\"Pierre-Dupuy\":63,\"Berri 1\":724,\"Maisonneuve 1\":562,\"Br\\u00e9beuf (donn\\u00e9es non disponibles)\":null,\"Date\":\"2012-03-15\",\"C\\u00f4te-Sainte-Catherine\":244,\"Maisonneuve 2\":1021},{\"du Parc\":419,\"Rachel1\":422,\"Pierre-Dupuy\":9,\"Berri 1\":423,\"Maisonneuve 1\":305,\"Br\\u00e9beuf (donn\\u00e9es non disponibles)\":null,\"Date\":\"2012-03-16\",\"C\\u00f4te-Sainte-Catherine\":149,\"Maisonneuve 2\":695},{\"du Parc\":468,\"Rachel1\":1008,\"Pierre-Dupuy\":334,\"Berri 1\":681,\"Maisonneuve 1\":422,\"Br\\u00e9beuf (donn\\u00e9es non disponibles)\":null,\"Date\":\"2012-03-17\",\"C\\u00f4te-Sainte-Catherine\":287,\"Maisonneuve 2\":872},{\"du Parc\":1021,\"Rachel1\":2477,\"Pierre-Dupuy\":1128,\"Berri 1\":1940,\"Maisonneuve 1\":1036,\"Br\\u00e9beuf (donn\\u00e9es non disponibles)\":null,\"Date\":\"2012-03-18\",\"C\\u00f4te-Sainte-Catherine\":856,\"Maisonneuve 2\":1923},{\"du Parc\":1609,\"Rachel1\":2058,\"Pierre-Dupuy\":506,\"Berri 1\":1821,\"Maisonneuve 1\":1278,\"Br\\u00e9beuf (donn\\u00e9es non disponibles)\":null,\"Date\":\"2012-03-19\",\"C\\u00f4te-Sainte-Catherine\":1024,\"Maisonneuve 2\":2581},{\"du Parc\":1955,\"Rachel1\":2609,\"Pierre-Dupuy\":762,\"Berri 1\":2481,\"Maisonneuve 1\":1709,\"Br\\u00e9beuf (donn\\u00e9es non disponibles)\":null,\"Date\":\"2012-03-20\",\"C\\u00f4te-Sainte-Catherine\":1261,\"Maisonneuve 2\":3130},{\"du Parc\":2225,\"Rachel1\":2846,\"Pierre-Dupuy\":993,\"Berri 1\":2829,\"Maisonneuve 1\":1893,\"Br\\u00e9beuf (donn\\u00e9es non disponibles)\":null,\"Date\":\"2012-03-21\",\"C\\u00f4te-Sainte-Catherine\":1558,\"Maisonneuve 2\":3510},{\"du Parc\":1958,\"Rachel1\":2254,\"Pierre-Dupuy\":548,\"Berri 1\":2195,\"Maisonneuve 1\":1640,\"Br\\u00e9beuf (donn\\u00e9es non disponibles)\":null,\"Date\":\"2012-03-22\",\"C\\u00f4te-Sainte-Catherine\":1030,\"Maisonneuve 2\":2654},{\"du Parc\":1791,\"Rachel1\":2325,\"Pierre-Dupuy\":663,\"Berri 1\":2115,\"Maisonneuve 1\":1512,\"Br\\u00e9beuf (donn\\u00e9es non disponibles)\":null,\"Date\":\"2012-03-23\",\"C\\u00f4te-Sainte-Catherine\":1143,\"Maisonneuve 2\":2955},{\"du Parc\":635,\"Rachel1\":1035,\"Pierre-Dupuy\":277,\"Berri 1\":753,\"Maisonneuve 1\":517,\"Br\\u00e9beuf (donn\\u00e9es non disponibles)\":null,\"Date\":\"2012-03-24\",\"C\\u00f4te-Sainte-Catherine\":336,\"Maisonneuve 2\":1001},{\"du Parc\":427,\"Rachel1\":723,\"Pierre-Dupuy\":145,\"Berri 1\":520,\"Maisonneuve 1\":309,\"Br\\u00e9beuf (donn\\u00e9es non disponibles)\":null,\"Date\":\"2012-03-25\",\"C\\u00f4te-Sainte-Catherine\":243,\"Maisonneuve 2\":691},{\"du Parc\":965,\"Rachel1\":1168,\"Pierre-Dupuy\":130,\"Berri 1\":968,\"Maisonneuve 1\":729,\"Br\\u00e9beuf (donn\\u00e9es non disponibles)\":null,\"Date\":\"2012-03-26\",\"C\\u00f4te-Sainte-Catherine\":564,\"Maisonneuve 2\":1493},{\"du Parc\":972,\"Rachel1\":1207,\"Pierre-Dupuy\":163,\"Berri 1\":1049,\"Maisonneuve 1\":774,\"Br\\u00e9beuf (donn\\u00e9es non disponibles)\":null,\"Date\":\"2012-03-27\",\"C\\u00f4te-Sainte-Catherine\":517,\"Maisonneuve 2\":1576},{\"du Parc\":486,\"Rachel1\":529,\"Pierre-Dupuy\":28,\"Berri 1\":435,\"Maisonneuve 1\":329,\"Br\\u00e9beuf (donn\\u00e9es non disponibles)\":null,\"Date\":\"2012-03-28\",\"C\\u00f4te-Sainte-Catherine\":179,\"Maisonneuve 2\":709},{\"du Parc\":807,\"Rachel1\":937,\"Pierre-Dupuy\":78,\"Berri 1\":878,\"Maisonneuve 1\":646,\"Br\\u00e9beuf (donn\\u00e9es non disponibles)\":null,\"Date\":\"2012-03-29\",\"C\\u00f4te-Sainte-Catherine\":406,\"Maisonneuve 2\":1264},{\"du Parc\":957,\"Rachel1\":1288,\"Pierre-Dupuy\":196,\"Berri 1\":1157,\"Maisonneuve 1\":910,\"Br\\u00e9beuf (donn\\u00e9es non disponibles)\":null,\"Date\":\"2012-03-30\",\"C\\u00f4te-Sainte-Catherine\":529,\"Maisonneuve 2\":1596},{\"du Parc\":706,\"Rachel1\":1370,\"Pierre-Dupuy\":524,\"Berri 1\":980,\"Maisonneuve 1\":587,\"Br\\u00e9beuf (donn\\u00e9es non disponibles)\":null,\"Date\":\"2012-03-31\",\"C\\u00f4te-Sainte-Catherine\":499,\"Maisonneuve 2\":1083},{\"du Parc\":471,\"Rachel1\":1086,\"Pierre-Dupuy\":168,\"Berri 1\":662,\"Maisonneuve 1\":442,\"Br\\u00e9beuf (donn\\u00e9es non disponibles)\":null,\"Date\":\"2012-04-01\",\"C\\u00f4te-Sainte-Catherine\":341,\"Maisonneuve 2\":824},{\"du Parc\":1614,\"Rachel1\":2122,\"Pierre-Dupuy\":394,\"Berri 1\":1937,\"Maisonneuve 1\":1537,\"Br\\u00e9beuf (donn\\u00e9es non disponibles)\":null,\"Date\":\"2012-04-02\",\"C\\u00f4te-Sainte-Catherine\":967,\"Maisonneuve 2\":2853},{\"du Parc\":1880,\"Rachel1\":2450,\"Pierre-Dupuy\":513,\"Berri 1\":2416,\"Maisonneuve 1\":1791,\"Br\\u00e9beuf (donn\\u00e9es non disponibles)\":null,\"Date\":\"2012-04-03\",\"C\\u00f4te-Sainte-Catherine\":1078,\"Maisonneuve 2\":3556},{\"du Parc\":1666,\"Rachel1\":2242,\"Pierre-Dupuy\":274,\"Berri 1\":2211,\"Maisonneuve 1\":1674,\"Br\\u00e9beuf (donn\\u00e9es non disponibles)\":null,\"Date\":\"2012-04-04\",\"C\\u00f4te-Sainte-Catherine\":933,\"Maisonneuve 2\":2956},{\"du Parc\":1699,\"Rachel1\":2463,\"Pierre-Dupuy\":355,\"Berri 1\":2424,\"Maisonneuve 1\":1823,\"Br\\u00e9beuf (donn\\u00e9es non disponibles)\":null,\"Date\":\"2012-04-05\",\"C\\u00f4te-Sainte-Catherine\":1036,\"Maisonneuve 2\":3273},{\"du Parc\":975,\"Rachel1\":2138,\"Pierre-Dupuy\":621,\"Berri 1\":1633,\"Maisonneuve 1\":1045,\"Br\\u00e9beuf (donn\\u00e9es non disponibles)\":null,\"Date\":\"2012-04-06\",\"C\\u00f4te-Sainte-Catherine\":650,\"Maisonneuve 2\":1913},{\"du Parc\":709,\"Rachel1\":1566,\"Pierre-Dupuy\":598,\"Berri 1\":1208,\"Maisonneuve 1\":739,\"Br\\u00e9beuf (donn\\u00e9es non disponibles)\":null,\"Date\":\"2012-04-07\",\"C\\u00f4te-Sainte-Catherine\":494,\"Maisonneuve 2\":1445},{\"du Parc\":704,\"Rachel1\":1533,\"Pierre-Dupuy\":792,\"Berri 1\":1164,\"Maisonneuve 1\":621,\"Br\\u00e9beuf (donn\\u00e9es non disponibles)\":null,\"Date\":\"2012-04-08\",\"C\\u00f4te-Sainte-Catherine\":560,\"Maisonneuve 2\":1333},{\"du Parc\":605,\"Rachel1\":1001,\"Pierre-Dupuy\":65,\"Berri 1\":828,\"Maisonneuve 1\":560,\"Br\\u00e9beuf (donn\\u00e9es non disponibles)\":null,\"Date\":\"2012-04-09\",\"C\\u00f4te-Sainte-Catherine\":298,\"Maisonneuve 2\":1048},{\"du Parc\":1736,\"Rachel1\":2108,\"Pierre-Dupuy\":252,\"Berri 1\":2183,\"Maisonneuve 1\":1588,\"Br\\u00e9beuf (donn\\u00e9es non disponibles)\":null,\"Date\":\"2012-04-10\",\"C\\u00f4te-Sainte-Catherine\":909,\"Maisonneuve 2\":2932},{\"du Parc\":1843,\"Rachel1\":2311,\"Pierre-Dupuy\":330,\"Berri 1\":2328,\"Maisonneuve 1\":1765,\"Br\\u00e9beuf (donn\\u00e9es non disponibles)\":null,\"Date\":\"2012-04-11\",\"C\\u00f4te-Sainte-Catherine\":1049,\"Maisonneuve 2\":3122},{\"du Parc\":2280,\"Rachel1\":3213,\"Pierre-Dupuy\":590,\"Berri 1\":3064,\"Maisonneuve 1\":2306,\"Br\\u00e9beuf (donn\\u00e9es non disponibles)\":null,\"Date\":\"2012-04-12\",\"C\\u00f4te-Sainte-Catherine\":1483,\"Maisonneuve 2\":4076},{\"du Parc\":2358,\"Rachel1\":3728,\"Pierre-Dupuy\":922,\"Berri 1\":3341,\"Maisonneuve 1\":2565,\"Br\\u00e9beuf (donn\\u00e9es non disponibles)\":null,\"Date\":\"2012-04-13\",\"C\\u00f4te-Sainte-Catherine\":1505,\"Maisonneuve 2\":4465},{\"du Parc\":1594,\"Rachel1\":3428,\"Pierre-Dupuy\":1284,\"Berri 1\":2890,\"Maisonneuve 1\":1639,\"Br\\u00e9beuf (donn\\u00e9es non disponibles)\":null,\"Date\":\"2012-04-14\",\"C\\u00f4te-Sainte-Catherine\":1072,\"Maisonneuve 2\":2994},{\"du Parc\":1559,\"Rachel1\":3604,\"Pierre-Dupuy\":1846,\"Berri 1\":2554,\"Maisonneuve 1\":1637,\"Br\\u00e9beuf (donn\\u00e9es non disponibles)\":null,\"Date\":\"2012-04-15\",\"C\\u00f4te-Sainte-Catherine\":1210,\"Maisonneuve 2\":2954},{\"du Parc\":2677,\"Rachel1\":3616,\"Pierre-Dupuy\":1061,\"Berri 1\":3643,\"Maisonneuve 1\":2723,\"Br\\u00e9beuf (donn\\u00e9es non disponibles)\":null,\"Date\":\"2012-04-16\",\"C\\u00f4te-Sainte-Catherine\":1841,\"Maisonneuve 2\":4830},{\"du Parc\":2450,\"Rachel1\":3333,\"Pierre-Dupuy\":544,\"Berri 1\":3539,\"Maisonneuve 1\":2636,\"Br\\u00e9beuf (donn\\u00e9es non disponibles)\":null,\"Date\":\"2012-04-17\",\"C\\u00f4te-Sainte-Catherine\":1616,\"Maisonneuve 2\":4592},{\"du Parc\":2534,\"Rachel1\":3542,\"Pierre-Dupuy\":706,\"Berri 1\":3570,\"Maisonneuve 1\":2759,\"Br\\u00e9beuf (donn\\u00e9es non disponibles)\":null,\"Date\":\"2012-04-18\",\"C\\u00f4te-Sainte-Catherine\":1751,\"Maisonneuve 2\":4655},{\"du Parc\":2877,\"Rachel1\":3929,\"Pierre-Dupuy\":1206,\"Berri 1\":4231,\"Maisonneuve 1\":3235,\"Br\\u00e9beuf (donn\\u00e9es non disponibles)\":null,\"Date\":\"2012-04-19\",\"C\\u00f4te-Sainte-Catherine\":2010,\"Maisonneuve 2\":5311},{\"du Parc\":1531,\"Rachel1\":2065,\"Pierre-Dupuy\":170,\"Berri 1\":2087,\"Maisonneuve 1\":1529,\"Br\\u00e9beuf (donn\\u00e9es non disponibles)\":null,\"Date\":\"2012-04-20\",\"C\\u00f4te-Sainte-Catherine\":800,\"Maisonneuve 2\":2922},{\"du Parc\":408,\"Rachel1\":755,\"Pierre-Dupuy\":50,\"Berri 1\":533,\"Maisonneuve 1\":398,\"Br\\u00e9beuf (donn\\u00e9es non disponibles)\":null,\"Date\":\"2012-04-21\",\"C\\u00f4te-Sainte-Catherine\":212,\"Maisonneuve 2\":710},{\"du Parc\":654,\"Rachel1\":1779,\"Pierre-Dupuy\":198,\"Berri 1\":1853,\"Maisonneuve 1\":1224,\"Br\\u00e9beuf (donn\\u00e9es non disponibles)\":null,\"Date\":\"2012-04-22\",\"C\\u00f4te-Sainte-Catherine\":487,\"Maisonneuve 2\":1331},{\"du Parc\":612,\"Rachel1\":846,\"Pierre-Dupuy\":27,\"Berri 1\":623,\"Maisonneuve 1\":544,\"Br\\u00e9beuf (donn\\u00e9es non disponibles)\":null,\"Date\":\"2012-04-23\",\"C\\u00f4te-Sainte-Catherine\":315,\"Maisonneuve 2\":1076},{\"du Parc\":1286,\"Rachel1\":1753,\"Pierre-Dupuy\":188,\"Berri 1\":1810,\"Maisonneuve 1\":1355,\"Br\\u00e9beuf (donn\\u00e9es non disponibles)\":null,\"Date\":\"2012-04-24\",\"C\\u00f4te-Sainte-Catherine\":720,\"Maisonneuve 2\":2379},{\"du Parc\":1800,\"Rachel1\":2454,\"Pierre-Dupuy\":445,\"Berri 1\":2966,\"Maisonneuve 1\":2228,\"Br\\u00e9beuf (donn\\u00e9es non disponibles)\":null,\"Date\":\"2012-04-25\",\"C\\u00f4te-Sainte-Catherine\":1023,\"Maisonneuve 2\":3444},{\"du Parc\":1789,\"Rachel1\":2438,\"Pierre-Dupuy\":381,\"Berri 1\":2751,\"Maisonneuve 1\":2196,\"Br\\u00e9beuf (donn\\u00e9es non disponibles)\":null,\"Date\":\"2012-04-26\",\"C\\u00f4te-Sainte-Catherine\":1069,\"Maisonneuve 2\":3546},{\"du Parc\":1298,\"Rachel1\":1899,\"Pierre-Dupuy\":139,\"Berri 1\":1986,\"Maisonneuve 1\":1526,\"Br\\u00e9beuf (donn\\u00e9es non disponibles)\":null,\"Date\":\"2012-04-27\",\"C\\u00f4te-Sainte-Catherine\":743,\"Maisonneuve 2\":2586},{\"du Parc\":931,\"Rachel1\":2323,\"Pierre-Dupuy\":523,\"Berri 1\":1684,\"Maisonneuve 1\":1190,\"Br\\u00e9beuf (donn\\u00e9es non disponibles)\":null,\"Date\":\"2012-04-28\",\"C\\u00f4te-Sainte-Catherine\":628,\"Maisonneuve 2\":1908},{\"du Parc\":1062,\"Rachel1\":2493,\"Pierre-Dupuy\":702,\"Berri 1\":1970,\"Maisonneuve 1\":1212,\"Br\\u00e9beuf (donn\\u00e9es non disponibles)\":null,\"Date\":\"2012-04-29\",\"C\\u00f4te-Sainte-Catherine\":765,\"Maisonneuve 2\":2077},{\"du Parc\":2446,\"Rachel1\":3541,\"Pierre-Dupuy\":851,\"Berri 1\":3610,\"Maisonneuve 1\":2825,\"Br\\u00e9beuf (donn\\u00e9es non disponibles)\":null,\"Date\":\"2012-04-30\",\"C\\u00f4te-Sainte-Catherine\":1572,\"Maisonneuve 2\":4675},{\"du Parc\":1516,\"Rachel1\":1960,\"Pierre-Dupuy\":195,\"Berri 1\":1986,\"Maisonneuve 1\":1722,\"Br\\u00e9beuf (donn\\u00e9es non disponibles)\":null,\"Date\":\"2012-05-01\",\"C\\u00f4te-Sainte-Catherine\":815,\"Maisonneuve 2\":2766},{\"du Parc\":2508,\"Rachel1\":3501,\"Pierre-Dupuy\":876,\"Berri 1\":3724,\"Maisonneuve 1\":2885,\"Br\\u00e9beuf (donn\\u00e9es non disponibles)\":null,\"Date\":\"2012-05-02\",\"C\\u00f4te-Sainte-Catherine\":1677,\"Maisonneuve 2\":4731},{\"du Parc\":2577,\"Rachel1\":3603,\"Pierre-Dupuy\":731,\"Berri 1\":3698,\"Maisonneuve 1\":3001,\"Br\\u00e9beuf (donn\\u00e9es non disponibles)\":null,\"Date\":\"2012-05-03\",\"C\\u00f4te-Sainte-Catherine\":1618,\"Maisonneuve 2\":4943},{\"du Parc\":1823,\"Rachel1\":2631,\"Pierre-Dupuy\":380,\"Berri 1\":2511,\"Maisonneuve 1\":2058,\"Br\\u00e9beuf (donn\\u00e9es non disponibles)\":null,\"Date\":\"2012-05-04\",\"C\\u00f4te-Sainte-Catherine\":1163,\"Maisonneuve 2\":3717},{\"du Parc\":1779,\"Rachel1\":4108,\"Pierre-Dupuy\":1677,\"Berri 1\":3492,\"Maisonneuve 1\":2106,\"Br\\u00e9beuf (donn\\u00e9es non disponibles)\":null,\"Date\":\"2012-05-05\",\"C\\u00f4te-Sainte-Catherine\":1366,\"Maisonneuve 2\":3696},{\"du Parc\":1879,\"Rachel1\":4633,\"Pierre-Dupuy\":2036,\"Berri 1\":3411,\"Maisonneuve 1\":1815,\"Br\\u00e9beuf (donn\\u00e9es non disponibles)\":null,\"Date\":\"2012-05-06\",\"C\\u00f4te-Sainte-Catherine\":1525,\"Maisonneuve 2\":3346},{\"du Parc\":3416,\"Rachel1\":5253,\"Pierre-Dupuy\":1848,\"Berri 1\":5552,\"Maisonneuve 1\":3959,\"Br\\u00e9beuf (donn\\u00e9es non disponibles)\":null,\"Date\":\"2012-05-07\",\"C\\u00f4te-Sainte-Catherine\":2573,\"Maisonneuve 2\":6355},{\"du Parc\":1007,\"Rachel1\":1383,\"Pierre-Dupuy\":119,\"Berri 1\":1241,\"Maisonneuve 1\":991,\"Br\\u00e9beuf (donn\\u00e9es non disponibles)\":null,\"Date\":\"2012-05-08\",\"C\\u00f4te-Sainte-Catherine\":625,\"Maisonneuve 2\":1729},{\"du Parc\":2340,\"Rachel1\":3129,\"Pierre-Dupuy\":737,\"Berri 1\":3297,\"Maisonneuve 1\":2700,\"Br\\u00e9beuf (donn\\u00e9es non disponibles)\":null,\"Date\":\"2012-05-09\",\"C\\u00f4te-Sainte-Catherine\":1545,\"Maisonneuve 2\":4343},{\"du Parc\":2075,\"Rachel1\":2437,\"Pierre-Dupuy\":399,\"Berri 1\":2755,\"Maisonneuve 1\":2130,\"Br\\u00e9beuf (donn\\u00e9es non disponibles)\":null,\"Date\":\"2012-05-10\",\"C\\u00f4te-Sainte-Catherine\":1227,\"Maisonneuve 2\":4056},{\"du Parc\":2888,\"Rachel1\":4499,\"Pierre-Dupuy\":1260,\"Berri 1\":4639,\"Maisonneuve 1\":3663,\"Br\\u00e9beuf (donn\\u00e9es non disponibles)\":null,\"Date\":\"2012-05-11\",\"C\\u00f4te-Sainte-Catherine\":1803,\"Maisonneuve 2\":5713},{\"du Parc\":1805,\"Rachel1\":4855,\"Pierre-Dupuy\":2268,\"Berri 1\":3854,\"Maisonneuve 1\":2429,\"Br\\u00e9beuf (donn\\u00e9es non disponibles)\":null,\"Date\":\"2012-05-12\",\"C\\u00f4te-Sainte-Catherine\":1457,\"Maisonneuve 2\":3894},{\"du Parc\":1592,\"Rachel1\":3496,\"Pierre-Dupuy\":1394,\"Berri 1\":2741,\"Maisonneuve 1\":1703,\"Br\\u00e9beuf (donn\\u00e9es non disponibles)\":null,\"Date\":\"2012-05-13\",\"C\\u00f4te-Sainte-Catherine\":1223,\"Maisonneuve 2\":3086},{\"du Parc\":3868,\"Rachel1\":5775,\"Pierre-Dupuy\":2215,\"Berri 1\":6189,\"Maisonneuve 1\":4402,\"Br\\u00e9beuf (donn\\u00e9es non disponibles)\":null,\"Date\":\"2012-05-14\",\"C\\u00f4te-Sainte-Catherine\":2709,\"Maisonneuve 2\":7006},{\"du Parc\":2650,\"Rachel1\":3765,\"Pierre-Dupuy\":975,\"Berri 1\":3964,\"Maisonneuve 1\":3144,\"Br\\u00e9beuf (donn\\u00e9es non disponibles)\":null,\"Date\":\"2012-05-15\",\"C\\u00f4te-Sainte-Catherine\":1773,\"Maisonneuve 2\":5088},{\"du Parc\":3057,\"Rachel1\":4348,\"Pierre-Dupuy\":1332,\"Berri 1\":4947,\"Maisonneuve 1\":3681,\"Br\\u00e9beuf (donn\\u00e9es non disponibles)\":null,\"Date\":\"2012-05-16\",\"C\\u00f4te-Sainte-Catherine\":2178,\"Maisonneuve 2\":5882},{\"du Parc\":3408,\"Rachel1\":4988,\"Pierre-Dupuy\":1631,\"Berri 1\":5351,\"Maisonneuve 1\":4182,\"Br\\u00e9beuf (donn\\u00e9es non disponibles)\":null,\"Date\":\"2012-05-17\",\"C\\u00f4te-Sainte-Catherine\":2441,\"Maisonneuve 2\":6551},{\"du Parc\":3196,\"Rachel1\":5273,\"Pierre-Dupuy\":1711,\"Berri 1\":5980,\"Maisonneuve 1\":4415,\"Br\\u00e9beuf (donn\\u00e9es non disponibles)\":null,\"Date\":\"2012-05-18\",\"C\\u00f4te-Sainte-Catherine\":2241,\"Maisonneuve 2\":6646},{\"du Parc\":1966,\"Rachel1\":5293,\"Pierre-Dupuy\":2914,\"Berri 1\":4732,\"Maisonneuve 1\":2807,\"Br\\u00e9beuf (donn\\u00e9es non disponibles)\":null,\"Date\":\"2012-05-19\",\"C\\u00f4te-Sainte-Catherine\":1454,\"Maisonneuve 2\":4673},{\"du Parc\":2182,\"Rachel1\":5539,\"Pierre-Dupuy\":4241,\"Berri 1\":5255,\"Maisonneuve 1\":2730,\"Br\\u00e9beuf (donn\\u00e9es non disponibles)\":null,\"Date\":\"2012-05-20\",\"C\\u00f4te-Sainte-Catherine\":1663,\"Maisonneuve 2\":4462},{\"du Parc\":2044,\"Rachel1\":5053,\"Pierre-Dupuy\":3413,\"Berri 1\":5129,\"Maisonneuve 1\":2672,\"Br\\u00e9beuf (donn\\u00e9es non disponibles)\":null,\"Date\":\"2012-05-21\",\"C\\u00f4te-Sainte-Catherine\":1646,\"Maisonneuve 2\":4169},{\"du Parc\":1610,\"Rachel1\":2069,\"Pierre-Dupuy\":251,\"Berri 1\":2315,\"Maisonneuve 1\":1847,\"Br\\u00e9beuf (donn\\u00e9es non disponibles)\":null,\"Date\":\"2012-05-22\",\"C\\u00f4te-Sainte-Catherine\":938,\"Maisonneuve 2\":2599},{\"du Parc\":3737,\"Rachel1\":4798,\"Pierre-Dupuy\":1826,\"Berri 1\":5974,\"Maisonneuve 1\":4407,\"Br\\u00e9beuf (donn\\u00e9es non disponibles)\":null,\"Date\":\"2012-05-23\",\"C\\u00f4te-Sainte-Catherine\":2650,\"Maisonneuve 2\":7281},{\"du Parc\":3792,\"Rachel1\":5209,\"Pierre-Dupuy\":2062,\"Berri 1\":6485,\"Maisonneuve 1\":4600,\"Br\\u00e9beuf (donn\\u00e9es non disponibles)\":null,\"Date\":\"2012-05-24\",\"C\\u00f4te-Sainte-Catherine\":2653,\"Maisonneuve 2\":7600},{\"du Parc\":3341,\"Rachel1\":5174,\"Pierre-Dupuy\":1953,\"Berri 1\":5697,\"Maisonneuve 1\":4096,\"Br\\u00e9beuf (donn\\u00e9es non disponibles)\":null,\"Date\":\"2012-05-25\",\"C\\u00f4te-Sainte-Catherine\":2205,\"Maisonneuve 2\":6734},{\"du Parc\":2373,\"Rachel1\":5443,\"Pierre-Dupuy\":3455,\"Berri 1\":4974,\"Maisonneuve 1\":2936,\"Br\\u00e9beuf (donn\\u00e9es non disponibles)\":null,\"Date\":\"2012-05-26\",\"C\\u00f4te-Sainte-Catherine\":1622,\"Maisonneuve 2\":4991},{\"du Parc\":2073,\"Rachel1\":5168,\"Pierre-Dupuy\":2886,\"Berri 1\":4396,\"Maisonneuve 1\":2578,\"Br\\u00e9beuf (donn\\u00e9es non disponibles)\":null,\"Date\":\"2012-05-27\",\"C\\u00f4te-Sainte-Catherine\":1525,\"Maisonneuve 2\":4587},{\"du Parc\":2898,\"Rachel1\":3894,\"Pierre-Dupuy\":1027,\"Berri 1\":4268,\"Maisonneuve 1\":3449,\"Br\\u00e9beuf (donn\\u00e9es non disponibles)\":null,\"Date\":\"2012-05-28\",\"C\\u00f4te-Sainte-Catherine\":1962,\"Maisonneuve 2\":5798},{\"du Parc\":1933,\"Rachel1\":2731,\"Pierre-Dupuy\":475,\"Berri 1\":3154,\"Maisonneuve 1\":2325,\"Br\\u00e9beuf (donn\\u00e9es non disponibles)\":null,\"Date\":\"2012-05-29\",\"C\\u00f4te-Sainte-Catherine\":1184,\"Maisonneuve 2\":3904},{\"du Parc\":3817,\"Rachel1\":5172,\"Pierre-Dupuy\":2454,\"Berri 1\":6459,\"Maisonneuve 1\":4806,\"Br\\u00e9beuf (donn\\u00e9es non disponibles)\":null,\"Date\":\"2012-05-30\",\"C\\u00f4te-Sainte-Catherine\":2722,\"Maisonneuve 2\":7632},{\"du Parc\":3205,\"Rachel1\":4410,\"Pierre-Dupuy\":1389,\"Berri 1\":5104,\"Maisonneuve 1\":3985,\"Br\\u00e9beuf (donn\\u00e9es non disponibles)\":null,\"Date\":\"2012-05-31\",\"C\\u00f4te-Sainte-Catherine\":2177,\"Maisonneuve 2\":6631},{\"du Parc\":3895,\"Rachel1\":6595,\"Pierre-Dupuy\":1692,\"Berri 1\":6097,\"Maisonneuve 1\":4110,\"Br\\u00e9beuf (donn\\u00e9es non disponibles)\":null,\"Date\":\"2012-06-01\",\"C\\u00f4te-Sainte-Catherine\":2604,\"Maisonneuve 2\":7175},{\"du Parc\":628,\"Rachel1\":1436,\"Pierre-Dupuy\":71,\"Berri 1\":943,\"Maisonneuve 1\":630,\"Br\\u00e9beuf (donn\\u00e9es non disponibles)\":null,\"Date\":\"2012-06-02\",\"C\\u00f4te-Sainte-Catherine\":392,\"Maisonneuve 2\":1289},{\"du Parc\":2324,\"Rachel1\":4936,\"Pierre-Dupuy\":1312,\"Berri 1\":2755,\"Maisonneuve 1\":2020,\"Br\\u00e9beuf (donn\\u00e9es non disponibles)\":null,\"Date\":\"2012-06-03\",\"C\\u00f4te-Sainte-Catherine\":1897,\"Maisonneuve 2\":3768},{\"du Parc\":2168,\"Rachel1\":3090,\"Pierre-Dupuy\":333,\"Berri 1\":2717,\"Maisonneuve 1\":2095,\"Br\\u00e9beuf (donn\\u00e9es non disponibles)\":null,\"Date\":\"2012-06-04\",\"C\\u00f4te-Sainte-Catherine\":1408,\"Maisonneuve 2\":4276},{\"du Parc\":3786,\"Rachel1\":5348,\"Pierre-Dupuy\":1232,\"Berri 1\":5842,\"Maisonneuve 1\":3927,\"Br\\u00e9beuf (donn\\u00e9es non disponibles)\":null,\"Date\":\"2012-06-05\",\"C\\u00f4te-Sainte-Catherine\":2721,\"Maisonneuve 2\":7302},{\"du Parc\":3987,\"Rachel1\":5269,\"Pierre-Dupuy\":1223,\"Berri 1\":6037,\"Maisonneuve 1\":4273,\"Br\\u00e9beuf (donn\\u00e9es non disponibles)\":null,\"Date\":\"2012-06-06\",\"C\\u00f4te-Sainte-Catherine\":2724,\"Maisonneuve 2\":7822},{\"du Parc\":3972,\"Rachel1\":5724,\"Pierre-Dupuy\":1019,\"Berri 1\":6246,\"Maisonneuve 1\":4670,\"Br\\u00e9beuf (donn\\u00e9es non disponibles)\":null,\"Date\":\"2012-06-07\",\"C\\u00f4te-Sainte-Catherine\":2607,\"Maisonneuve 2\":8222},{\"du Parc\":3001,\"Rachel1\":4474,\"Pierre-Dupuy\":623,\"Berri 1\":4169,\"Maisonneuve 1\":3303,\"Br\\u00e9beuf (donn\\u00e9es non disponibles)\":null,\"Date\":\"2012-06-08\",\"C\\u00f4te-Sainte-Catherine\":1833,\"Maisonneuve 2\":5881},{\"du Parc\":2451,\"Rachel1\":6026,\"Pierre-Dupuy\":1551,\"Berri 1\":5164,\"Maisonneuve 1\":3418,\"Br\\u00e9beuf (donn\\u00e9es non disponibles)\":null,\"Date\":\"2012-06-09\",\"C\\u00f4te-Sainte-Catherine\":1672,\"Maisonneuve 2\":5557},{\"du Parc\":2328,\"Rachel1\":6170,\"Pierre-Dupuy\":1833,\"Berri 1\":5112,\"Maisonneuve 1\":2905,\"Br\\u00e9beuf (donn\\u00e9es non disponibles)\":null,\"Date\":\"2012-06-10\",\"C\\u00f4te-Sainte-Catherine\":1812,\"Maisonneuve 2\":4798},{\"du Parc\":3757,\"Rachel1\":5721,\"Pierre-Dupuy\":1264,\"Berri 1\":6206,\"Maisonneuve 1\":4333,\"Br\\u00e9beuf (donn\\u00e9es non disponibles)\":null,\"Date\":\"2012-06-11\",\"C\\u00f4te-Sainte-Catherine\":2577,\"Maisonneuve 2\":7015},{\"du Parc\":2381,\"Rachel1\":3030,\"Pierre-Dupuy\":589,\"Berri 1\":3361,\"Maisonneuve 1\":2362,\"Br\\u00e9beuf (donn\\u00e9es non disponibles)\":null,\"Date\":\"2012-06-12\",\"C\\u00f4te-Sainte-Catherine\":1556,\"Maisonneuve 2\":4230},{\"du Parc\":3825,\"Rachel1\":5887,\"Pierre-Dupuy\":1968,\"Berri 1\":6180,\"Maisonneuve 1\":4374,\"Br\\u00e9beuf (donn\\u00e9es non disponibles)\":null,\"Date\":\"2012-06-13\",\"C\\u00f4te-Sainte-Catherine\":2792,\"Maisonneuve 2\":7297},{\"du Parc\":4223,\"Rachel1\":6243,\"Pierre-Dupuy\":2386,\"Berri 1\":6908,\"Maisonneuve 1\":4809,\"Br\\u00e9beuf (donn\\u00e9es non disponibles)\":null,\"Date\":\"2012-06-14\",\"C\\u00f4te-Sainte-Catherine\":2978,\"Maisonneuve 2\":7934},{\"du Parc\":4053,\"Rachel1\":6491,\"Pierre-Dupuy\":2293,\"Berri 1\":7077,\"Maisonneuve 1\":4999,\"Br\\u00e9beuf (donn\\u00e9es non disponibles)\":null,\"Date\":\"2012-06-15\",\"C\\u00f4te-Sainte-Catherine\":2469,\"Maisonneuve 2\":7663},{\"du Parc\":2337,\"Rachel1\":5537,\"Pierre-Dupuy\":3280,\"Berri 1\":5421,\"Maisonneuve 1\":3099,\"Br\\u00e9beuf (donn\\u00e9es non disponibles)\":null,\"Date\":\"2012-06-16\",\"C\\u00f4te-Sainte-Catherine\":1651,\"Maisonneuve 2\":4909},{\"du Parc\":2020,\"Rachel1\":5128,\"Pierre-Dupuy\":3453,\"Berri 1\":4638,\"Maisonneuve 1\":2082,\"Br\\u00e9beuf (donn\\u00e9es non disponibles)\":null,\"Date\":\"2012-06-17\",\"C\\u00f4te-Sainte-Catherine\":1552,\"Maisonneuve 2\":4108},{\"du Parc\":3960,\"Rachel1\":5496,\"Pierre-Dupuy\":2455,\"Berri 1\":5921,\"Maisonneuve 1\":3582,\"Br\\u00e9beuf (donn\\u00e9es non disponibles)\":null,\"Date\":\"2012-06-18\",\"C\\u00f4te-Sainte-Catherine\":2703,\"Maisonneuve 2\":6824},{\"du Parc\":3438,\"Rachel1\":5015,\"Pierre-Dupuy\":1711,\"Berri 1\":5382,\"Maisonneuve 1\":3447,\"Br\\u00e9beuf (donn\\u00e9es non disponibles)\":null,\"Date\":\"2012-06-19\",\"C\\u00f4te-Sainte-Catherine\":2360,\"Maisonneuve 2\":6679},{\"du Parc\":3510,\"Rachel1\":4852,\"Pierre-Dupuy\":2363,\"Berri 1\":5713,\"Maisonneuve 1\":3524,\"Br\\u00e9beuf (donn\\u00e9es non disponibles)\":null,\"Date\":\"2012-06-20\",\"C\\u00f4te-Sainte-Catherine\":2402,\"Maisonneuve 2\":6848},{\"du Parc\":3272,\"Rachel1\":4957,\"Pierre-Dupuy\":2265,\"Berri 1\":5183,\"Maisonneuve 1\":3297,\"Br\\u00e9beuf (donn\\u00e9es non disponibles)\":null,\"Date\":\"2012-06-21\",\"C\\u00f4te-Sainte-Catherine\":2195,\"Maisonneuve 2\":6684},{\"du Parc\":3252,\"Rachel1\":5263,\"Pierre-Dupuy\":2009,\"Berri 1\":5398,\"Maisonneuve 1\":3612,\"Br\\u00e9beuf (donn\\u00e9es non disponibles)\":null,\"Date\":\"2012-06-22\",\"C\\u00f4te-Sainte-Catherine\":1934,\"Maisonneuve 2\":6659},{\"du Parc\":1910,\"Rachel1\":4824,\"Pierre-Dupuy\":2585,\"Berri 1\":3753,\"Maisonneuve 1\":1842,\"Br\\u00e9beuf (donn\\u00e9es non disponibles)\":null,\"Date\":\"2012-06-23\",\"C\\u00f4te-Sainte-Catherine\":1326,\"Maisonneuve 2\":3992},{\"du Parc\":1510,\"Rachel1\":4581,\"Pierre-Dupuy\":3634,\"Berri 1\":3341,\"Maisonneuve 1\":1423,\"Br\\u00e9beuf (donn\\u00e9es non disponibles)\":null,\"Date\":\"2012-06-24\",\"C\\u00f4te-Sainte-Catherine\":1152,\"Maisonneuve 2\":2989},{\"du Parc\":1440,\"Rachel1\":3283,\"Pierre-Dupuy\":1349,\"Berri 1\":2245,\"Maisonneuve 1\":1374,\"Br\\u00e9beuf (donn\\u00e9es non disponibles)\":null,\"Date\":\"2012-06-25\",\"C\\u00f4te-Sainte-Catherine\":1077,\"Maisonneuve 2\":3031},{\"du Parc\":2193,\"Rachel1\":3223,\"Pierre-Dupuy\":620,\"Berri 1\":3327,\"Maisonneuve 1\":2139,\"Br\\u00e9beuf (donn\\u00e9es non disponibles)\":null,\"Date\":\"2012-06-26\",\"C\\u00f4te-Sainte-Catherine\":1435,\"Maisonneuve 2\":4318},{\"du Parc\":2134,\"Rachel1\":2897,\"Pierre-Dupuy\":536,\"Berri 1\":3141,\"Maisonneuve 1\":2142,\"Br\\u00e9beuf (donn\\u00e9es non disponibles)\":null,\"Date\":\"2012-06-27\",\"C\\u00f4te-Sainte-Catherine\":1322,\"Maisonneuve 2\":4211},{\"du Parc\":3523,\"Rachel1\":5175,\"Pierre-Dupuy\":2415,\"Berri 1\":6064,\"Maisonneuve 1\":4411,\"Br\\u00e9beuf (donn\\u00e9es non disponibles)\":null,\"Date\":\"2012-06-28\",\"C\\u00f4te-Sainte-Catherine\":2381,\"Maisonneuve 2\":6864},{\"du Parc\":3090,\"Rachel1\":5332,\"Pierre-Dupuy\":2109,\"Berri 1\":5770,\"Maisonneuve 1\":4004,\"Br\\u00e9beuf (donn\\u00e9es non disponibles)\":null,\"Date\":\"2012-06-29\",\"C\\u00f4te-Sainte-Catherine\":1935,\"Maisonneuve 2\":6656},{\"du Parc\":1822,\"Rachel1\":4527,\"Pierre-Dupuy\":2870,\"Berri 1\":4738,\"Maisonneuve 1\":3007,\"Br\\u00e9beuf (donn\\u00e9es non disponibles)\":null,\"Date\":\"2012-06-30\",\"C\\u00f4te-Sainte-Catherine\":1359,\"Maisonneuve 2\":4226},{\"du Parc\":1777,\"Rachel1\":4522,\"Pierre-Dupuy\":3732,\"Berri 1\":4758,\"Maisonneuve 1\":2911,\"Br\\u00e9beuf (donn\\u00e9es non disponibles)\":null,\"Date\":\"2012-07-01\",\"C\\u00f4te-Sainte-Catherine\":1343,\"Maisonneuve 2\":3935},{\"du Parc\":1883,\"Rachel1\":4464,\"Pierre-Dupuy\":2783,\"Berri 1\":4144,\"Maisonneuve 1\":2658,\"Br\\u00e9beuf (donn\\u00e9es non disponibles)\":null,\"Date\":\"2012-07-02\",\"C\\u00f4te-Sainte-Catherine\":1397,\"Maisonneuve 2\":3998},{\"du Parc\":3896,\"Rachel1\":5462,\"Pierre-Dupuy\":2606,\"Berri 1\":6712,\"Maisonneuve 1\":4398,\"Br\\u00e9beuf (donn\\u00e9es non disponibles)\":null,\"Date\":\"2012-07-03\",\"C\\u00f4te-Sainte-Catherine\":2634,\"Maisonneuve 2\":7416},{\"du Parc\":3070,\"Rachel1\":4493,\"Pierre-Dupuy\":1246,\"Berri 1\":5153,\"Maisonneuve 1\":3591,\"Br\\u00e9beuf (donn\\u00e9es non disponibles)\":null,\"Date\":\"2012-07-04\",\"C\\u00f4te-Sainte-Catherine\":2038,\"Maisonneuve 2\":5814},{\"du Parc\":3816,\"Rachel1\":5153,\"Pierre-Dupuy\":2746,\"Berri 1\":6672,\"Maisonneuve 1\":4830,\"Br\\u00e9beuf (donn\\u00e9es non disponibles)\":null,\"Date\":\"2012-07-05\",\"C\\u00f4te-Sainte-Catherine\":2603,\"Maisonneuve 2\":7764},{\"du Parc\":3387,\"Rachel1\":5610,\"Pierre-Dupuy\":2248,\"Berri 1\":5958,\"Maisonneuve 1\":4137,\"Br\\u00e9beuf (donn\\u00e9es non disponibles)\":null,\"Date\":\"2012-07-06\",\"C\\u00f4te-Sainte-Catherine\":2095,\"Maisonneuve 2\":6942},{\"du Parc\":2132,\"Rachel1\":4939,\"Pierre-Dupuy\":3156,\"Berri 1\":5420,\"Maisonneuve 1\":3802,\"Br\\u00e9beuf (donn\\u00e9es non disponibles)\":null,\"Date\":\"2012-07-07\",\"C\\u00f4te-Sainte-Catherine\":1289,\"Maisonneuve 2\":4978},{\"du Parc\":2089,\"Rachel1\":5535,\"Pierre-Dupuy\":4386,\"Berri 1\":4756,\"Maisonneuve 1\":2407,\"Br\\u00e9beuf (donn\\u00e9es non disponibles)\":null,\"Date\":\"2012-07-08\",\"C\\u00f4te-Sainte-Catherine\":1497,\"Maisonneuve 2\":4495},{\"du Parc\":3577,\"Rachel1\":4987,\"Pierre-Dupuy\":2599,\"Berri 1\":5661,\"Maisonneuve 1\":3524,\"Br\\u00e9beuf (donn\\u00e9es non disponibles)\":null,\"Date\":\"2012-07-09\",\"C\\u00f4te-Sainte-Catherine\":2330,\"Maisonneuve 2\":6769},{\"du Parc\":3749,\"Rachel1\":5952,\"Pierre-Dupuy\":2822,\"Berri 1\":6500,\"Maisonneuve 1\":4064,\"Br\\u00e9beuf (donn\\u00e9es non disponibles)\":null,\"Date\":\"2012-07-10\",\"C\\u00f4te-Sainte-Catherine\":2625,\"Maisonneuve 2\":7436},{\"du Parc\":3781,\"Rachel1\":5474,\"Pierre-Dupuy\":2779,\"Berri 1\":6424,\"Maisonneuve 1\":3921,\"Br\\u00e9beuf (donn\\u00e9es non disponibles)\":null,\"Date\":\"2012-07-11\",\"C\\u00f4te-Sainte-Catherine\":2548,\"Maisonneuve 2\":7374},{\"du Parc\":3687,\"Rachel1\":5140,\"Pierre-Dupuy\":2433,\"Berri 1\":6179,\"Maisonneuve 1\":3772,\"Br\\u00e9beuf (donn\\u00e9es non disponibles)\":null,\"Date\":\"2012-07-12\",\"C\\u00f4te-Sainte-Catherine\":2371,\"Maisonneuve 2\":7200},{\"du Parc\":3088,\"Rachel1\":5185,\"Pierre-Dupuy\":2219,\"Berri 1\":5518,\"Maisonneuve 1\":3525,\"Br\\u00e9beuf (donn\\u00e9es non disponibles)\":null,\"Date\":\"2012-07-13\",\"C\\u00f4te-Sainte-Catherine\":2005,\"Maisonneuve 2\":6492},{\"du Parc\":1562,\"Rachel1\":4252,\"Pierre-Dupuy\":2900,\"Berri 1\":4206,\"Maisonneuve 1\":2441,\"Br\\u00e9beuf (donn\\u00e9es non disponibles)\":null,\"Date\":\"2012-07-14\",\"C\\u00f4te-Sainte-Catherine\":1244,\"Maisonneuve 2\":4284},{\"du Parc\":1449,\"Rachel1\":3545,\"Pierre-Dupuy\":2034,\"Berri 1\":3035,\"Maisonneuve 1\":1798,\"Br\\u00e9beuf (donn\\u00e9es non disponibles)\":null,\"Date\":\"2012-07-15\",\"C\\u00f4te-Sainte-Catherine\":1060,\"Maisonneuve 2\":3437},{\"du Parc\":2965,\"Rachel1\":4379,\"Pierre-Dupuy\":1703,\"Berri 1\":4827,\"Maisonneuve 1\":3141,\"Br\\u00e9beuf (donn\\u00e9es non disponibles)\":null,\"Date\":\"2012-07-16\",\"C\\u00f4te-Sainte-Catherine\":2092,\"Maisonneuve 2\":6049},{\"du Parc\":1700,\"Rachel1\":2641,\"Pierre-Dupuy\":569,\"Berri 1\":2756,\"Maisonneuve 1\":2001,\"Br\\u00e9beuf (donn\\u00e9es non disponibles)\":null,\"Date\":\"2012-07-17\",\"C\\u00f4te-Sainte-Catherine\":1046,\"Maisonneuve 2\":3802},{\"du Parc\":3654,\"Rachel1\":5884,\"Pierre-Dupuy\":2813,\"Berri 1\":6180,\"Maisonneuve 1\":3750,\"Br\\u00e9beuf (donn\\u00e9es non disponibles)\":null,\"Date\":\"2012-07-18\",\"C\\u00f4te-Sainte-Catherine\":2589,\"Maisonneuve 2\":7311},{\"du Parc\":3777,\"Rachel1\":5665,\"Pierre-Dupuy\":2647,\"Berri 1\":6309,\"Maisonneuve 1\":3996,\"Br\\u00e9beuf (donn\\u00e9es non disponibles)\":null,\"Date\":\"2012-07-19\",\"C\\u00f4te-Sainte-Catherine\":2397,\"Maisonneuve 2\":7699},{\"du Parc\":3316,\"Rachel1\":5775,\"Pierre-Dupuy\":2538,\"Berri 1\":5813,\"Maisonneuve 1\":3744,\"Br\\u00e9beuf (donn\\u00e9es non disponibles)\":null,\"Date\":\"2012-07-20\",\"C\\u00f4te-Sainte-Catherine\":2088,\"Maisonneuve 2\":6959},{\"du Parc\":1821,\"Rachel1\":4848,\"Pierre-Dupuy\":3835,\"Berri 1\":5092,\"Maisonneuve 1\":2957,\"Br\\u00e9beuf (donn\\u00e9es non disponibles)\":null,\"Date\":\"2012-07-21\",\"C\\u00f4te-Sainte-Catherine\":1419,\"Maisonneuve 2\":4658},{\"du Parc\":1788,\"Rachel1\":4787,\"Pierre-Dupuy\":2960,\"Berri 1\":4971,\"Maisonneuve 1\":2683,\"Br\\u00e9beuf (donn\\u00e9es non disponibles)\":null,\"Date\":\"2012-07-22\",\"C\\u00f4te-Sainte-Catherine\":1238,\"Maisonneuve 2\":4104},{\"du Parc\":2534,\"Rachel1\":3475,\"Pierre-Dupuy\":1461,\"Berri 1\":3877,\"Maisonneuve 1\":2420,\"Br\\u00e9beuf (donn\\u00e9es non disponibles)\":null,\"Date\":\"2012-07-23\",\"C\\u00f4te-Sainte-Catherine\":1660,\"Maisonneuve 2\":4937},{\"du Parc\":3317,\"Rachel1\":4694,\"Pierre-Dupuy\":2170,\"Berri 1\":5243,\"Maisonneuve 1\":3465,\"Br\\u00e9beuf (donn\\u00e9es non disponibles)\":null,\"Date\":\"2012-07-24\",\"C\\u00f4te-Sainte-Catherine\":2318,\"Maisonneuve 2\":6721},{\"du Parc\":3622,\"Rachel1\":5059,\"Pierre-Dupuy\":3132,\"Berri 1\":6104,\"Maisonneuve 1\":3786,\"Br\\u00e9beuf (donn\\u00e9es non disponibles)\":null,\"Date\":\"2012-07-25\",\"C\\u00f4te-Sainte-Catherine\":2593,\"Maisonneuve 2\":7073},{\"du Parc\":3208,\"Rachel1\":4383,\"Pierre-Dupuy\":1595,\"Berri 1\":5560,\"Maisonneuve 1\":4174,\"Br\\u00e9beuf (donn\\u00e9es non disponibles)\":null,\"Date\":\"2012-07-26\",\"C\\u00f4te-Sainte-Catherine\":2043,\"Maisonneuve 2\":6476},{\"du Parc\":3275,\"Rachel1\":5295,\"Pierre-Dupuy\":2653,\"Berri 1\":5759,\"Maisonneuve 1\":3658,\"Br\\u00e9beuf (donn\\u00e9es non disponibles)\":null,\"Date\":\"2012-07-27\",\"C\\u00f4te-Sainte-Catherine\":1948,\"Maisonneuve 2\":6851},{\"du Parc\":1767,\"Rachel1\":4631,\"Pierre-Dupuy\":2468,\"Berri 1\":4105,\"Maisonneuve 1\":2504,\"Br\\u00e9beuf (donn\\u00e9es non disponibles)\":null,\"Date\":\"2012-07-28\",\"C\\u00f4te-Sainte-Catherine\":1345,\"Maisonneuve 2\":4540},{\"du Parc\":1905,\"Rachel1\":4906,\"Pierre-Dupuy\":3731,\"Berri 1\":4230,\"Maisonneuve 1\":1791,\"Br\\u00e9beuf (donn\\u00e9es non disponibles)\":null,\"Date\":\"2012-07-29\",\"C\\u00f4te-Sainte-Catherine\":1332,\"Maisonneuve 2\":4235},{\"du Parc\":3196,\"Rachel1\":5100,\"Pierre-Dupuy\":2564,\"Berri 1\":5225,\"Maisonneuve 1\":2975,\"Br\\u00e9beuf (donn\\u00e9es non disponibles)\":null,\"Date\":\"2012-07-30\",\"C\\u00f4te-Sainte-Catherine\":2285,\"Maisonneuve 2\":6219},{\"du Parc\":3222,\"Rachel1\":4468,\"Pierre-Dupuy\":2505,\"Berri 1\":5415,\"Maisonneuve 1\":3145,\"Br\\u00e9beuf (donn\\u00e9es non disponibles)\":null,\"Date\":\"2012-07-31\",\"C\\u00f4te-Sainte-Catherine\":2185,\"Maisonneuve 2\":6705},{\"du Parc\":2810,\"Rachel1\":3889,\"Pierre-Dupuy\":1481,\"Berri 1\":4638,\"Maisonneuve 1\":2783,\"Br\\u00e9beuf (donn\\u00e9es non disponibles)\":null,\"Date\":\"2012-08-01\",\"C\\u00f4te-Sainte-Catherine\":1842,\"Maisonneuve 2\":5846},{\"du Parc\":3329,\"Rachel1\":4828,\"Pierre-Dupuy\":2643,\"Berri 1\":5715,\"Maisonneuve 1\":3340,\"Br\\u00e9beuf (donn\\u00e9es non disponibles)\":null,\"Date\":\"2012-08-02\",\"C\\u00f4te-Sainte-Catherine\":2361,\"Maisonneuve 2\":6956},{\"du Parc\":2789,\"Rachel1\":5031,\"Pierre-Dupuy\":3195,\"Berri 1\":5577,\"Maisonneuve 1\":3306,\"Br\\u00e9beuf (donn\\u00e9es non disponibles)\":null,\"Date\":\"2012-08-03\",\"C\\u00f4te-Sainte-Catherine\":1915,\"Maisonneuve 2\":6427},{\"du Parc\":1769,\"Rachel1\":4467,\"Pierre-Dupuy\":2939,\"Berri 1\":4223,\"Maisonneuve 1\":2019,\"Br\\u00e9beuf (donn\\u00e9es non disponibles)\":null,\"Date\":\"2012-08-04\",\"C\\u00f4te-Sainte-Catherine\":1305,\"Maisonneuve 2\":4425},{\"du Parc\":970,\"Rachel1\":2268,\"Pierre-Dupuy\":1066,\"Berri 1\":1864,\"Maisonneuve 1\":1100,\"Br\\u00e9beuf (donn\\u00e9es non disponibles)\":null,\"Date\":\"2012-08-05\",\"C\\u00f4te-Sainte-Catherine\":630,\"Maisonneuve 2\":2327},{\"du Parc\":3187,\"Rachel1\":4604,\"Pierre-Dupuy\":2274,\"Berri 1\":5240,\"Maisonneuve 1\":3193,\"Br\\u00e9beuf (donn\\u00e9es non disponibles)\":null,\"Date\":\"2012-08-06\",\"C\\u00f4te-Sainte-Catherine\":2277,\"Maisonneuve 2\":6375},{\"du Parc\":3480,\"Rachel1\":4903,\"Pierre-Dupuy\":2780,\"Berri 1\":5997,\"Maisonneuve 1\":3622,\"Br\\u00e9beuf (donn\\u00e9es non disponibles)\":null,\"Date\":\"2012-08-07\",\"C\\u00f4te-Sainte-Catherine\":2410,\"Maisonneuve 2\":6840},{\"du Parc\":3403,\"Rachel1\":4771,\"Pierre-Dupuy\":2226,\"Berri 1\":5498,\"Maisonneuve 1\":3365,\"Br\\u00e9beuf (donn\\u00e9es non disponibles)\":null,\"Date\":\"2012-08-08\",\"C\\u00f4te-Sainte-Catherine\":2313,\"Maisonneuve 2\":6862},{\"du Parc\":2656,\"Rachel1\":3636,\"Pierre-Dupuy\":1471,\"Berri 1\":4127,\"Maisonneuve 1\":2601,\"Br\\u00e9beuf (donn\\u00e9es non disponibles)\":null,\"Date\":\"2012-08-09\",\"C\\u00f4te-Sainte-Catherine\":1802,\"Maisonneuve 2\":5377},{\"du Parc\":1641,\"Rachel1\":2456,\"Pierre-Dupuy\":440,\"Berri 1\":2414,\"Maisonneuve 1\":1727,\"Br\\u00e9beuf (donn\\u00e9es non disponibles)\":null,\"Date\":\"2012-08-10\",\"C\\u00f4te-Sainte-Catherine\":934,\"Maisonneuve 2\":3323},{\"du Parc\":1043,\"Rachel1\":2608,\"Pierre-Dupuy\":1340,\"Berri 1\":2453,\"Maisonneuve 1\":1589,\"Br\\u00e9beuf (donn\\u00e9es non disponibles)\":null,\"Date\":\"2012-08-11\",\"C\\u00f4te-Sainte-Catherine\":815,\"Maisonneuve 2\":2628},{\"du Parc\":1719,\"Rachel1\":4178,\"Pierre-Dupuy\":2988,\"Berri 1\":3995,\"Maisonneuve 1\":1937,\"Br\\u00e9beuf (donn\\u00e9es non disponibles)\":null,\"Date\":\"2012-08-12\",\"C\\u00f4te-Sainte-Catherine\":1338,\"Maisonneuve 2\":3427},{\"du Parc\":3151,\"Rachel1\":4842,\"Pierre-Dupuy\":2090,\"Berri 1\":4931,\"Maisonneuve 1\":3124,\"Br\\u00e9beuf (donn\\u00e9es non disponibles)\":null,\"Date\":\"2012-08-13\",\"C\\u00f4te-Sainte-Catherine\":2298,\"Maisonneuve 2\":5936},{\"du Parc\":3260,\"Rachel1\":4362,\"Pierre-Dupuy\":1456,\"Berri 1\":5333,\"Maisonneuve 1\":3571,\"Br\\u00e9beuf (donn\\u00e9es non disponibles)\":null,\"Date\":\"2012-08-14\",\"C\\u00f4te-Sainte-Catherine\":2322,\"Maisonneuve 2\":6332},{\"du Parc\":2686,\"Rachel1\":3877,\"Pierre-Dupuy\":970,\"Berri 1\":4297,\"Maisonneuve 1\":2936,\"Br\\u00e9beuf (donn\\u00e9es non disponibles)\":null,\"Date\":\"2012-08-15\",\"C\\u00f4te-Sainte-Catherine\":1882,\"Maisonneuve 2\":4948},{\"du Parc\":3366,\"Rachel1\":4943,\"Pierre-Dupuy\":1549,\"Berri 1\":6062,\"Maisonneuve 1\":3898,\"Br\\u00e9beuf (donn\\u00e9es non disponibles)\":null,\"Date\":\"2012-08-16\",\"C\\u00f4te-Sainte-Catherine\":2538,\"Maisonneuve 2\":6549},{\"du Parc\":2581,\"Rachel1\":4154,\"Pierre-Dupuy\":586,\"Berri 1\":4236,\"Maisonneuve 1\":3099,\"Br\\u00e9beuf (donn\\u00e9es non disponibles)\":null,\"Date\":\"2012-08-17\",\"C\\u00f4te-Sainte-Catherine\":1777,\"Maisonneuve 2\":4979},{\"du Parc\":1864,\"Rachel1\":4359,\"Pierre-Dupuy\":1229,\"Berri 1\":4427,\"Maisonneuve 1\":2505,\"Br\\u00e9beuf (donn\\u00e9es non disponibles)\":null,\"Date\":\"2012-08-18\",\"C\\u00f4te-Sainte-Catherine\":1333,\"Maisonneuve 2\":3866},{\"du Parc\":1758,\"Rachel1\":4478,\"Pierre-Dupuy\":1683,\"Berri 1\":4644,\"Maisonneuve 1\":2605,\"Br\\u00e9beuf (donn\\u00e9es non disponibles)\":null,\"Date\":\"2012-08-19\",\"C\\u00f4te-Sainte-Catherine\":1408,\"Maisonneuve 2\":3780},{\"du Parc\":3332,\"Rachel1\":5201,\"Pierre-Dupuy\":1439,\"Berri 1\":5335,\"Maisonneuve 1\":3521,\"Br\\u00e9beuf (donn\\u00e9es non disponibles)\":null,\"Date\":\"2012-08-20\",\"C\\u00f4te-Sainte-Catherine\":2474,\"Maisonneuve 2\":6088},{\"du Parc\":3369,\"Rachel1\":5640,\"Pierre-Dupuy\":2353,\"Berri 1\":5792,\"Maisonneuve 1\":4063,\"Br\\u00e9beuf (donn\\u00e9es non disponibles)\":null,\"Date\":\"2012-08-21\",\"C\\u00f4te-Sainte-Catherine\":2508,\"Maisonneuve 2\":6687},{\"du Parc\":3774,\"Rachel1\":5154,\"Pierre-Dupuy\":2391,\"Berri 1\":6529,\"Maisonneuve 1\":4513,\"Br\\u00e9beuf (donn\\u00e9es non disponibles)\":null,\"Date\":\"2012-08-22\",\"C\\u00f4te-Sainte-Catherine\":2671,\"Maisonneuve 2\":7065},{\"du Parc\":3573,\"Rachel1\":5010,\"Pierre-Dupuy\":1864,\"Berri 1\":5437,\"Maisonneuve 1\":3807,\"Br\\u00e9beuf (donn\\u00e9es non disponibles)\":null,\"Date\":\"2012-08-23\",\"C\\u00f4te-Sainte-Catherine\":2482,\"Maisonneuve 2\":6773},{\"du Parc\":3312,\"Rachel1\":5299,\"Pierre-Dupuy\":2178,\"Berri 1\":5690,\"Maisonneuve 1\":3778,\"Br\\u00e9beuf (donn\\u00e9es non disponibles)\":null,\"Date\":\"2012-08-24\",\"C\\u00f4te-Sainte-Catherine\":2394,\"Maisonneuve 2\":6703},{\"du Parc\":1726,\"Rachel1\":4833,\"Pierre-Dupuy\":2558,\"Berri 1\":4242,\"Maisonneuve 1\":2358,\"Br\\u00e9beuf (donn\\u00e9es non disponibles)\":null,\"Date\":\"2012-08-25\",\"C\\u00f4te-Sainte-Catherine\":1305,\"Maisonneuve 2\":4126},{\"du Parc\":1750,\"Rachel1\":4536,\"Pierre-Dupuy\":2932,\"Berri 1\":3964,\"Maisonneuve 1\":2118,\"Br\\u00e9beuf (donn\\u00e9es non disponibles)\":null,\"Date\":\"2012-08-26\",\"C\\u00f4te-Sainte-Catherine\":1318,\"Maisonneuve 2\":3558},{\"du Parc\":2762,\"Rachel1\":3598,\"Pierre-Dupuy\":1010,\"Berri 1\":4314,\"Maisonneuve 1\":3098,\"Br\\u00e9beuf (donn\\u00e9es non disponibles)\":null,\"Date\":\"2012-08-27\",\"C\\u00f4te-Sainte-Catherine\":2273,\"Maisonneuve 2\":5196},{\"du Parc\":3420,\"Rachel1\":4720,\"Pierre-Dupuy\":1629,\"Berri 1\":5817,\"Maisonneuve 1\":3966,\"Br\\u00e9beuf (donn\\u00e9es non disponibles)\":null,\"Date\":\"2012-08-28\",\"C\\u00f4te-Sainte-Catherine\":2794,\"Maisonneuve 2\":6313},{\"du Parc\":3759,\"Rachel1\":5342,\"Pierre-Dupuy\":2152,\"Berri 1\":6327,\"Maisonneuve 1\":4370,\"Br\\u00e9beuf (donn\\u00e9es non disponibles)\":null,\"Date\":\"2012-08-29\",\"C\\u00f4te-Sainte-Catherine\":3092,\"Maisonneuve 2\":7009},{\"du Parc\":3481,\"Rachel1\":5202,\"Pierre-Dupuy\":1796,\"Berri 1\":6003,\"Maisonneuve 1\":4199,\"Br\\u00e9beuf (donn\\u00e9es non disponibles)\":null,\"Date\":\"2012-08-30\",\"C\\u00f4te-Sainte-Catherine\":2910,\"Maisonneuve 2\":6781},{\"du Parc\":2541,\"Rachel1\":4188,\"Pierre-Dupuy\":875,\"Berri 1\":4106,\"Maisonneuve 1\":2999,\"Br\\u00e9beuf (donn\\u00e9es non disponibles)\":null,\"Date\":\"2012-08-31\",\"C\\u00f4te-Sainte-Catherine\":1868,\"Maisonneuve 2\":5054},{\"du Parc\":1887,\"Rachel1\":3845,\"Pierre-Dupuy\":2801,\"Berri 1\":3934,\"Maisonneuve 1\":2371,\"Br\\u00e9beuf (donn\\u00e9es non disponibles)\":null,\"Date\":\"2012-09-01\",\"C\\u00f4te-Sainte-Catherine\":1225,\"Maisonneuve 2\":3917},{\"du Parc\":1788,\"Rachel1\":4247,\"Pierre-Dupuy\":2959,\"Berri 1\":3698,\"Maisonneuve 1\":2093,\"Br\\u00e9beuf (donn\\u00e9es non disponibles)\":null,\"Date\":\"2012-09-02\",\"C\\u00f4te-Sainte-Catherine\":1232,\"Maisonneuve 2\":3827},{\"du Parc\":1620,\"Rachel1\":4709,\"Pierre-Dupuy\":3783,\"Berri 1\":4179,\"Maisonneuve 1\":2233,\"Br\\u00e9beuf (donn\\u00e9es non disponibles)\":null,\"Date\":\"2012-09-03\",\"C\\u00f4te-Sainte-Catherine\":1532,\"Maisonneuve 2\":3718},{\"du Parc\":3006,\"Rachel1\":3868,\"Pierre-Dupuy\":894,\"Berri 1\":4225,\"Maisonneuve 1\":3057,\"Br\\u00e9beuf (donn\\u00e9es non disponibles)\":null,\"Date\":\"2012-09-04\",\"C\\u00f4te-Sainte-Catherine\":1934,\"Maisonneuve 2\":5275},{\"du Parc\":4061,\"Rachel1\":4491,\"Pierre-Dupuy\":1383,\"Berri 1\":5655,\"Maisonneuve 1\":3861,\"Br\\u00e9beuf (donn\\u00e9es non disponibles)\":null,\"Date\":\"2012-09-05\",\"C\\u00f4te-Sainte-Catherine\":2722,\"Maisonneuve 2\":7110},{\"du Parc\":4014,\"Rachel1\":4732,\"Pierre-Dupuy\":1498,\"Berri 1\":5883,\"Maisonneuve 1\":3967,\"Br\\u00e9beuf (donn\\u00e9es non disponibles)\":null,\"Date\":\"2012-09-06\",\"C\\u00f4te-Sainte-Catherine\":2883,\"Maisonneuve 2\":7511},{\"du Parc\":3886,\"Rachel1\":6104,\"Pierre-Dupuy\":2051,\"Berri 1\":6186,\"Maisonneuve 1\":4153,\"Br\\u00e9beuf (donn\\u00e9es non disponibles)\":null,\"Date\":\"2012-09-07\",\"C\\u00f4te-Sainte-Catherine\":2720,\"Maisonneuve 2\":7323},{\"du Parc\":898,\"Rachel1\":2626,\"Pierre-Dupuy\":801,\"Berri 1\":2155,\"Maisonneuve 1\":1467,\"Br\\u00e9beuf (donn\\u00e9es non disponibles)\":null,\"Date\":\"2012-09-08\",\"C\\u00f4te-Sainte-Catherine\":1192,\"Maisonneuve 2\":2739},{\"du Parc\":2668,\"Rachel1\":4355,\"Pierre-Dupuy\":2118,\"Berri 1\":3312,\"Maisonneuve 1\":1828,\"Br\\u00e9beuf (donn\\u00e9es non disponibles)\":null,\"Date\":\"2012-09-09\",\"C\\u00f4te-Sainte-Catherine\":1810,\"Maisonneuve 2\":3458},{\"du Parc\":3849,\"Rachel1\":4984,\"Pierre-Dupuy\":1271,\"Berri 1\":5077,\"Maisonneuve 1\":3718,\"Br\\u00e9beuf (donn\\u00e9es non disponibles)\":null,\"Date\":\"2012-09-10\",\"C\\u00f4te-Sainte-Catherine\":2792,\"Maisonneuve 2\":6644},{\"du Parc\":4314,\"Rachel1\":5451,\"Pierre-Dupuy\":1484,\"Berri 1\":6015,\"Maisonneuve 1\":4081,\"Br\\u00e9beuf (donn\\u00e9es non disponibles)\":null,\"Date\":\"2012-09-11\",\"C\\u00f4te-Sainte-Catherine\":2913,\"Maisonneuve 2\":7148},{\"du Parc\":4510,\"Rachel1\":5697,\"Pierre-Dupuy\":1981,\"Berri 1\":6349,\"Maisonneuve 1\":4209,\"Br\\u00e9beuf (donn\\u00e9es non disponibles)\":null,\"Date\":\"2012-09-12\",\"C\\u00f4te-Sainte-Catherine\":3124,\"Maisonneuve 2\":7292},{\"du Parc\":4494,\"Rachel1\":5742,\"Pierre-Dupuy\":1986,\"Berri 1\":6520,\"Maisonneuve 1\":4369,\"Br\\u00e9beuf (donn\\u00e9es non disponibles)\":null,\"Date\":\"2012-09-13\",\"C\\u00f4te-Sainte-Catherine\":3076,\"Maisonneuve 2\":7514},{\"du Parc\":3574,\"Rachel1\":4918,\"Pierre-Dupuy\":1524,\"Berri 1\":5216,\"Maisonneuve 1\":3480,\"Br\\u00e9beuf (donn\\u00e9es non disponibles)\":null,\"Date\":\"2012-09-14\",\"C\\u00f4te-Sainte-Catherine\":2257,\"Maisonneuve 2\":6104},{\"du Parc\":1593,\"Rachel1\":3426,\"Pierre-Dupuy\":1268,\"Berri 1\":3341,\"Maisonneuve 1\":1900,\"Br\\u00e9beuf (donn\\u00e9es non disponibles)\":null,\"Date\":\"2012-09-15\",\"C\\u00f4te-Sainte-Catherine\":1100,\"Maisonneuve 2\":3099},{\"du Parc\":1852,\"Rachel1\":3696,\"Pierre-Dupuy\":2348,\"Berri 1\":3635,\"Maisonneuve 1\":1614,\"Br\\u00e9beuf (donn\\u00e9es non disponibles)\":null,\"Date\":\"2012-09-16\",\"C\\u00f4te-Sainte-Catherine\":1231,\"Maisonneuve 2\":3040},{\"du Parc\":4076,\"Rachel1\":4788,\"Pierre-Dupuy\":1704,\"Berri 1\":5299,\"Maisonneuve 1\":3670,\"Br\\u00e9beuf (donn\\u00e9es non disponibles)\":null,\"Date\":\"2012-09-17\",\"C\\u00f4te-Sainte-Catherine\":2658,\"Maisonneuve 2\":6582},{\"du Parc\":2275,\"Rachel1\":2377,\"Pierre-Dupuy\":388,\"Berri 1\":2530,\"Maisonneuve 1\":1695,\"Br\\u00e9beuf (donn\\u00e9es non disponibles)\":null,\"Date\":\"2012-09-18\",\"C\\u00f4te-Sainte-Catherine\":1277,\"Maisonneuve 2\":3254},{\"du Parc\":3738,\"Rachel1\":4189,\"Pierre-Dupuy\":840,\"Berri 1\":4653,\"Maisonneuve 1\":3176,\"Br\\u00e9beuf (donn\\u00e9es non disponibles)\":null,\"Date\":\"2012-09-19\",\"C\\u00f4te-Sainte-Catherine\":2351,\"Maisonneuve 2\":5746},{\"du Parc\":3991,\"Rachel1\":5119,\"Pierre-Dupuy\":1391,\"Berri 1\":5260,\"Maisonneuve 1\":3615,\"Br\\u00e9beuf (donn\\u00e9es non disponibles)\":null,\"Date\":\"2012-09-20\",\"C\\u00f4te-Sainte-Catherine\":2496,\"Maisonneuve 2\":6348},{\"du Parc\":2945,\"Rachel1\":3886,\"Pierre-Dupuy\":889,\"Berri 1\":4022,\"Maisonneuve 1\":2911,\"Br\\u00e9beuf (donn\\u00e9es non disponibles)\":null,\"Date\":\"2012-09-21\",\"C\\u00f4te-Sainte-Catherine\":1821,\"Maisonneuve 2\":4745},{\"du Parc\":971,\"Rachel1\":1974,\"Pierre-Dupuy\":365,\"Berri 1\":1521,\"Maisonneuve 1\":1073,\"Br\\u00e9beuf (donn\\u00e9es non disponibles)\":null,\"Date\":\"2012-09-22\",\"C\\u00f4te-Sainte-Catherine\":656,\"Maisonneuve 2\":1682},{\"du Parc\":1470,\"Rachel1\":3321,\"Pierre-Dupuy\":984,\"Berri 1\":2314,\"Maisonneuve 1\":1496,\"Br\\u00e9beuf (donn\\u00e9es non disponibles)\":null,\"Date\":\"2012-09-23\",\"C\\u00f4te-Sainte-Catherine\":1093,\"Maisonneuve 2\":2572},{\"du Parc\":3705,\"Rachel1\":4683,\"Pierre-Dupuy\":1100,\"Berri 1\":4553,\"Maisonneuve 1\":3117,\"Br\\u00e9beuf (donn\\u00e9es non disponibles)\":null,\"Date\":\"2012-09-24\",\"C\\u00f4te-Sainte-Catherine\":2246,\"Maisonneuve 2\":5738},{\"du Parc\":3712,\"Rachel1\":4420,\"Pierre-Dupuy\":1007,\"Berri 1\":5038,\"Maisonneuve 1\":3273,\"Br\\u00e9beuf (donn\\u00e9es non disponibles)\":null,\"Date\":\"2012-09-25\",\"C\\u00f4te-Sainte-Catherine\":2236,\"Maisonneuve 2\":5861},{\"du Parc\":3119,\"Rachel1\":3721,\"Pierre-Dupuy\":650,\"Berri 1\":3948,\"Maisonneuve 1\":2720,\"Br\\u00e9beuf (donn\\u00e9es non disponibles)\":null,\"Date\":\"2012-09-26\",\"C\\u00f4te-Sainte-Catherine\":1873,\"Maisonneuve 2\":4755},{\"du Parc\":3704,\"Rachel1\":4598,\"Pierre-Dupuy\":1152,\"Berri 1\":5119,\"Maisonneuve 1\":3465,\"Br\\u00e9beuf (donn\\u00e9es non disponibles)\":null,\"Date\":\"2012-09-27\",\"C\\u00f4te-Sainte-Catherine\":2288,\"Maisonneuve 2\":5983},{\"du Parc\":3309,\"Rachel1\":4361,\"Pierre-Dupuy\":1133,\"Berri 1\":4652,\"Maisonneuve 1\":3209,\"Br\\u00e9beuf (donn\\u00e9es non disponibles)\":null,\"Date\":\"2012-09-28\",\"C\\u00f4te-Sainte-Catherine\":2134,\"Maisonneuve 2\":5372},{\"du Parc\":1062,\"Rachel1\":2267,\"Pierre-Dupuy\":442,\"Berri 1\":1896,\"Maisonneuve 1\":1206,\"Br\\u00e9beuf (donn\\u00e9es non disponibles)\":null,\"Date\":\"2012-09-29\",\"C\\u00f4te-Sainte-Catherine\":755,\"Maisonneuve 2\":1963},{\"du Parc\":520,\"Rachel1\":1162,\"Pierre-Dupuy\":133,\"Berri 1\":876,\"Maisonneuve 1\":513,\"Br\\u00e9beuf (donn\\u00e9es non disponibles)\":null,\"Date\":\"2012-09-30\",\"C\\u00f4te-Sainte-Catherine\":359,\"Maisonneuve 2\":957},{\"du Parc\":2582,\"Rachel1\":2987,\"Pierre-Dupuy\":397,\"Berri 1\":3255,\"Maisonneuve 1\":2184,\"Br\\u00e9beuf (donn\\u00e9es non disponibles)\":null,\"Date\":\"2012-10-01\",\"C\\u00f4te-Sainte-Catherine\":1576,\"Maisonneuve 2\":3830},{\"du Parc\":3732,\"Rachel1\":4497,\"Pierre-Dupuy\":1229,\"Berri 1\":5139,\"Maisonneuve 1\":3281,\"Br\\u00e9beuf (donn\\u00e9es non disponibles)\":null,\"Date\":\"2012-10-02\",\"C\\u00f4te-Sainte-Catherine\":2525,\"Maisonneuve 2\":5845},{\"du Parc\":3415,\"Rachel1\":3941,\"Pierre-Dupuy\":858,\"Berri 1\":4685,\"Maisonneuve 1\":3191,\"Br\\u00e9beuf (donn\\u00e9es non disponibles)\":null,\"Date\":\"2012-10-03\",\"C\\u00f4te-Sainte-Catherine\":2377,\"Maisonneuve 2\":5475},{\"du Parc\":3066,\"Rachel1\":3418,\"Pierre-Dupuy\":555,\"Berri 1\":4034,\"Maisonneuve 1\":2705,\"Br\\u00e9beuf (donn\\u00e9es non disponibles)\":null,\"Date\":\"2012-10-04\",\"C\\u00f4te-Sainte-Catherine\":2025,\"Maisonneuve 2\":4850},{\"du Parc\":2844,\"Rachel1\":4088,\"Pierre-Dupuy\":1035,\"Berri 1\":4151,\"Maisonneuve 1\":2799,\"Br\\u00e9beuf (donn\\u00e9es non disponibles)\":null,\"Date\":\"2012-10-05\",\"C\\u00f4te-Sainte-Catherine\":1977,\"Maisonneuve 2\":4688},{\"du Parc\":776,\"Rachel1\":1775,\"Pierre-Dupuy\":236,\"Berri 1\":1304,\"Maisonneuve 1\":933,\"Br\\u00e9beuf (donn\\u00e9es non disponibles)\":null,\"Date\":\"2012-10-06\",\"C\\u00f4te-Sainte-Catherine\":469,\"Maisonneuve 2\":1589},{\"du Parc\":860,\"Rachel1\":2052,\"Pierre-Dupuy\":695,\"Berri 1\":1580,\"Maisonneuve 1\":922,\"Br\\u00e9beuf (donn\\u00e9es non disponibles)\":null,\"Date\":\"2012-10-07\",\"C\\u00f4te-Sainte-Catherine\":660,\"Maisonneuve 2\":1629},{\"du Parc\":1040,\"Rachel1\":2502,\"Pierre-Dupuy\":1115,\"Berri 1\":1854,\"Maisonneuve 1\":987,\"Br\\u00e9beuf (donn\\u00e9es non disponibles)\":null,\"Date\":\"2012-10-08\",\"C\\u00f4te-Sainte-Catherine\":880,\"Maisonneuve 2\":1818},{\"du Parc\":3418,\"Rachel1\":4078,\"Pierre-Dupuy\":927,\"Berri 1\":4787,\"Maisonneuve 1\":3026,\"Br\\u00e9beuf (donn\\u00e9es non disponibles)\":null,\"Date\":\"2012-10-09\",\"C\\u00f4te-Sainte-Catherine\":2210,\"Maisonneuve 2\":5138},{\"du Parc\":2608,\"Rachel1\":2703,\"Pierre-Dupuy\":560,\"Berri 1\":3115,\"Maisonneuve 1\":2081,\"Br\\u00e9beuf (donn\\u00e9es non disponibles)\":null,\"Date\":\"2012-10-10\",\"C\\u00f4te-Sainte-Catherine\":1537,\"Maisonneuve 2\":3681},{\"du Parc\":3034,\"Rachel1\":3457,\"Pierre-Dupuy\":558,\"Berri 1\":3746,\"Maisonneuve 1\":2569,\"Br\\u00e9beuf (donn\\u00e9es non disponibles)\":null,\"Date\":\"2012-10-11\",\"C\\u00f4te-Sainte-Catherine\":1857,\"Maisonneuve 2\":4694},{\"du Parc\":2564,\"Rachel1\":3224,\"Pierre-Dupuy\":448,\"Berri 1\":3169,\"Maisonneuve 1\":2261,\"Br\\u00e9beuf (donn\\u00e9es non disponibles)\":null,\"Date\":\"2012-10-12\",\"C\\u00f4te-Sainte-Catherine\":1460,\"Maisonneuve 2\":4045},{\"du Parc\":1183,\"Rachel1\":2309,\"Pierre-Dupuy\":681,\"Berri 1\":1783,\"Maisonneuve 1\":1205,\"Br\\u00e9beuf (donn\\u00e9es non disponibles)\":null,\"Date\":\"2012-10-13\",\"C\\u00f4te-Sainte-Catherine\":802,\"Maisonneuve 2\":2113},{\"du Parc\":503,\"Rachel1\":952,\"Pierre-Dupuy\":65,\"Berri 1\":587,\"Maisonneuve 1\":443,\"Br\\u00e9beuf (donn\\u00e9es non disponibles)\":null,\"Date\":\"2012-10-14\",\"C\\u00f4te-Sainte-Catherine\":287,\"Maisonneuve 2\":852},{\"du Parc\":2754,\"Rachel1\":3183,\"Pierre-Dupuy\":560,\"Berri 1\":3292,\"Maisonneuve 1\":2165,\"Br\\u00e9beuf (donn\\u00e9es non disponibles)\":null,\"Date\":\"2012-10-15\",\"C\\u00f4te-Sainte-Catherine\":1678,\"Maisonneuve 2\":4197},{\"du Parc\":2997,\"Rachel1\":3593,\"Pierre-Dupuy\":554,\"Berri 1\":3739,\"Maisonneuve 1\":2684,\"Br\\u00e9beuf (donn\\u00e9es non disponibles)\":null,\"Date\":\"2012-10-16\",\"C\\u00f4te-Sainte-Catherine\":1858,\"Maisonneuve 2\":4681},{\"du Parc\":3063,\"Rachel1\":3834,\"Pierre-Dupuy\":728,\"Berri 1\":4098,\"Maisonneuve 1\":2645,\"Br\\u00e9beuf (donn\\u00e9es non disponibles)\":null,\"Date\":\"2012-10-17\",\"C\\u00f4te-Sainte-Catherine\":1964,\"Maisonneuve 2\":4836},{\"du Parc\":3477,\"Rachel1\":4245,\"Pierre-Dupuy\":1108,\"Berri 1\":4671,\"Maisonneuve 1\":3129,\"Br\\u00e9beuf (donn\\u00e9es non disponibles)\":null,\"Date\":\"2012-10-18\",\"C\\u00f4te-Sainte-Catherine\":2292,\"Maisonneuve 2\":5542},{\"du Parc\":1209,\"Rachel1\":1486,\"Pierre-Dupuy\":111,\"Berri 1\":1313,\"Maisonneuve 1\":885,\"Br\\u00e9beuf (donn\\u00e9es non disponibles)\":null,\"Date\":\"2012-10-19\",\"C\\u00f4te-Sainte-Catherine\":597,\"Maisonneuve 2\":1668},{\"du Parc\":1213,\"Rachel1\":2243,\"Pierre-Dupuy\":797,\"Berri 1\":2011,\"Maisonneuve 1\":1323,\"Br\\u00e9beuf (donn\\u00e9es non disponibles)\":null,\"Date\":\"2012-10-20\",\"C\\u00f4te-Sainte-Catherine\":748,\"Maisonneuve 2\":2266},{\"du Parc\":898,\"Rachel1\":1648,\"Pierre-Dupuy\":242,\"Berri 1\":1277,\"Maisonneuve 1\":869,\"Br\\u00e9beuf (donn\\u00e9es non disponibles)\":null,\"Date\":\"2012-10-21\",\"C\\u00f4te-Sainte-Catherine\":609,\"Maisonneuve 2\":1777},{\"du Parc\":3023,\"Rachel1\":3721,\"Pierre-Dupuy\":757,\"Berri 1\":3650,\"Maisonneuve 1\":2495,\"Br\\u00e9beuf (donn\\u00e9es non disponibles)\":null,\"Date\":\"2012-10-22\",\"C\\u00f4te-Sainte-Catherine\":1819,\"Maisonneuve 2\":4800},{\"du Parc\":3233,\"Rachel1\":3554,\"Pierre-Dupuy\":795,\"Berri 1\":4177,\"Maisonneuve 1\":2795,\"Br\\u00e9beuf (donn\\u00e9es non disponibles)\":null,\"Date\":\"2012-10-23\",\"C\\u00f4te-Sainte-Catherine\":1997,\"Maisonneuve 2\":5216},{\"du Parc\":3035,\"Rachel1\":3622,\"Pierre-Dupuy\":649,\"Berri 1\":3744,\"Maisonneuve 1\":2625,\"Br\\u00e9beuf (donn\\u00e9es non disponibles)\":null,\"Date\":\"2012-10-24\",\"C\\u00f4te-Sainte-Catherine\":1868,\"Maisonneuve 2\":4900},{\"du Parc\":3017,\"Rachel1\":3767,\"Pierre-Dupuy\":631,\"Berri 1\":3735,\"Maisonneuve 1\":2528,\"Br\\u00e9beuf (donn\\u00e9es non disponibles)\":null,\"Date\":\"2012-10-25\",\"C\\u00f4te-Sainte-Catherine\":1815,\"Maisonneuve 2\":5010},{\"du Parc\":3000,\"Rachel1\":4578,\"Pierre-Dupuy\":1456,\"Berri 1\":4290,\"Maisonneuve 1\":2754,\"Br\\u00e9beuf (donn\\u00e9es non disponibles)\":null,\"Date\":\"2012-10-26\",\"C\\u00f4te-Sainte-Catherine\":1987,\"Maisonneuve 2\":5246},{\"du Parc\":1193,\"Rachel1\":2471,\"Pierre-Dupuy\":618,\"Berri 1\":1857,\"Maisonneuve 1\":1244,\"Br\\u00e9beuf (donn\\u00e9es non disponibles)\":null,\"Date\":\"2012-10-27\",\"C\\u00f4te-Sainte-Catherine\":792,\"Maisonneuve 2\":2461},{\"du Parc\":955,\"Rachel1\":1876,\"Pierre-Dupuy\":387,\"Berri 1\":1310,\"Maisonneuve 1\":910,\"Br\\u00e9beuf (donn\\u00e9es non disponibles)\":null,\"Date\":\"2012-10-28\",\"C\\u00f4te-Sainte-Catherine\":697,\"Maisonneuve 2\":1776},{\"du Parc\":2440,\"Rachel1\":2795,\"Pierre-Dupuy\":411,\"Berri 1\":2919,\"Maisonneuve 1\":2071,\"Br\\u00e9beuf (donn\\u00e9es non disponibles)\":null,\"Date\":\"2012-10-29\",\"C\\u00f4te-Sainte-Catherine\":1458,\"Maisonneuve 2\":3768},{\"du Parc\":2255,\"Rachel1\":2790,\"Pierre-Dupuy\":338,\"Berri 1\":2887,\"Maisonneuve 1\":2007,\"Br\\u00e9beuf (donn\\u00e9es non disponibles)\":null,\"Date\":\"2012-10-30\",\"C\\u00f4te-Sainte-Catherine\":1251,\"Maisonneuve 2\":3516},{\"du Parc\":2220,\"Rachel1\":2570,\"Pierre-Dupuy\":245,\"Berri 1\":2634,\"Maisonneuve 1\":1835,\"Br\\u00e9beuf (donn\\u00e9es non disponibles)\":null,\"Date\":\"2012-10-31\",\"C\\u00f4te-Sainte-Catherine\":1294,\"Maisonneuve 2\":3453},{\"du Parc\":2076,\"Rachel1\":2461,\"Pierre-Dupuy\":165,\"Berri 1\":2405,\"Maisonneuve 1\":1701,\"Br\\u00e9beuf (donn\\u00e9es non disponibles)\":null,\"Date\":\"2012-11-01\",\"C\\u00f4te-Sainte-Catherine\":1208,\"Maisonneuve 2\":3082},{\"du Parc\":1392,\"Rachel1\":1888,\"Pierre-Dupuy\":97,\"Berri 1\":1582,\"Maisonneuve 1\":1109,\"Br\\u00e9beuf (donn\\u00e9es non disponibles)\":null,\"Date\":\"2012-11-02\",\"C\\u00f4te-Sainte-Catherine\":737,\"Maisonneuve 2\":2277},{\"du Parc\":713,\"Rachel1\":1302,\"Pierre-Dupuy\":105,\"Berri 1\":844,\"Maisonneuve 1\":612,\"Br\\u00e9beuf (donn\\u00e9es non disponibles)\":null,\"Date\":\"2012-11-03\",\"C\\u00f4te-Sainte-Catherine\":380,\"Maisonneuve 2\":1137},{\"du Parc\":692,\"Rachel1\":1374,\"Pierre-Dupuy\":197,\"Berri 1\":966,\"Maisonneuve 1\":710,\"Br\\u00e9beuf (donn\\u00e9es non disponibles)\":null,\"Date\":\"2012-11-04\",\"C\\u00f4te-Sainte-Catherine\":446,\"Maisonneuve 2\":1277},{\"du Parc\":2143,\"Rachel1\":2430,\"Pierre-Dupuy\":179,\"Berri 1\":2247,\"Maisonneuve 1\":1705,\"Br\\u00e9beuf (donn\\u00e9es non disponibles)\":null,\"Date\":\"2012-11-05\",\"C\\u00f4te-Sainte-Catherine\":1170,\"Maisonneuve 2\":3221}]},\"mark\":\"line\",\"encoding\":{\"x\":{\"field\":\"Date\",\"type\":\"temporal\"},\"y\":{\"field\":\"Berri 1\",\"type\":\"quantitative\"}},\"width\":800};\n",
       "    vegaEmbed('#uuid-69406261-ed0b-41da-8094-6ca27e6bc8fd', spec, {defaultStyle:true}).catch(console.warn);\n",
       "    }, function(err) {\n",
       "    console.log('Failed to load');\n",
       "  });\n",
       "  </script>\n",
       "</div>\n",
       "  "
      ]
     },
     "execution_count": 99,
     "metadata": {},
     "output_type": "execute_result"
    }
   ],
   "source": [
    ";; Python \n",
    ";; bikes['Berri 1'].plot()\n",
    "\n",
    "(oz/view!\n",
    "  {:data {:values bikes}\n",
    "  :mark \"line\"\n",
    "  :encoding {:x {:field :Date\n",
    "                 :type \"temporal\"}\n",
    "             :y {:field (keyword \"Berri 1\")\n",
    "                 :type \"quantitative\"}}\n",
    "  :width 800})"
   ]
  },
  {
   "cell_type": "markdown",
   "metadata": {},
   "source": [
    "Next up, we're just going to look at the Berri bike path. Berri is a street in Montreal, with a pretty important bike path. I use it mostly on my way to the library now, but I used to take it to work sometimes when I worked in Old Montreal. \n",
    "\n",
    "So we're going to create a dataframe with just the Berri bikepath in it"
   ]
  },
  {
   "cell_type": "code",
   "execution_count": 34,
   "metadata": {},
   "outputs": [
    {
     "data": {
      "text/html": [
       "<table border=\"1\" class=\"dataframe\">\n",
       "  <thead>\n",
       "    <tr style=\"text-align: right;\">\n",
       "      <th></th>\n",
       "      <th>Date</th>\n",
       "      <th>Berri 1</th>\n",
       "    </tr>\n",
       "  </thead>\n",
       "  <tbody>\n",
       "    <tr>\n",
       "      <th>0</th>\n",
       "      <td>2012-01-01</td>\n",
       "      <td>35</td>\n",
       "    </tr>\n",
       "    <tr>\n",
       "      <th>1</th>\n",
       "      <td>2012-01-02</td>\n",
       "      <td>83</td>\n",
       "    </tr>\n",
       "    <tr>\n",
       "      <th>2</th>\n",
       "      <td>2012-01-03</td>\n",
       "      <td>135</td>\n",
       "    </tr>\n",
       "    <tr>\n",
       "      <th>3</th>\n",
       "      <td>2012-01-04</td>\n",
       "      <td>144</td>\n",
       "    </tr>\n",
       "    <tr>\n",
       "      <th>4</th>\n",
       "      <td>2012-01-05</td>\n",
       "      <td>197</td>\n",
       "    </tr>\n",
       "  </tbody>\n",
       "</table>"
      ]
     },
     "execution_count": 34,
     "metadata": {},
     "output_type": "execute_result"
    }
   ],
   "source": [
    ";; Python\n",
    ";; berri_bikes = bikes[['Berri 1']].copy()\n",
    ";; berri_bikes[:5]\n",
    "\n",
    "(def berri-bikes \n",
    "    (->> bikes\n",
    "         (map #(select-keys % [:Date (keyword \"Berri 1\")]))))\n",
    "\n",
    "(->> berri-bikes\n",
    "     (take 5)\n",
    "     show-table)"
   ]
  },
  {
   "cell_type": "markdown",
   "metadata": {},
   "source": [
    "If we wanted to get the day of the month for each row, we could do it like this:"
   ]
  },
  {
   "cell_type": "code",
   "execution_count": 35,
   "metadata": {},
   "outputs": [
    {
     "data": {
      "text/plain": [
       "(1 2 3 4 5 6 7 8 9 10 11 12 13 14 15 16 17 18 19 20 21 22 23 24 25 26 27 28 29 30 31 1 2 3 4 5 6 7 8 9 10 11 12 13 14 15 16 17 18 19 20 21 22 23 24 25 26 27 28 29 1 2 3 4 5 6 7 8 9 10 11 12 13 14 15 16 17 18 19 20 21 22 23 24 25 26 27 28 29 30 31 1 2 3 4 5 6 7 8 9 10 11 12 13 14 15 16 17 18 19 20 21 22 23 24 25 26 27 28 29 30 1 2 3 4 5 6 7 8 9 10 11 12 13 14 15 16 17 18 19 20 21 22 23 24 25 26 27 28 29 30 31 1 2 3 4 5 6 7 8 9 10 11 12 13 14 15 16 17 18 19 20 21 22 23 24 25 26 27 28 29 30 1 2 3 4 5 6 7 8 9 10 11 12 13 14 15 16 17 18 19 20 21 22 23 24 25 26 27 28 29 30 31 1 2 3 4 5 6 7 8 9 10 11 12 13 14 15 16 17 18 19 20 21 22 23 24 25 26 27 28 29 30 31 1 2 3 4 5 6 7 8 9 10 11 12 13 14 15 16 17 18 19 20 21 22 23 24 25 26 27 28 29 30 1 2 3 4 5 6 7 8 9 10 11 12 13 14 15 16 17 18 19 20 21 22 23 24 25 26 27 28 29 30 31 1 2 3 4 5)"
      ]
     },
     "execution_count": 35,
     "metadata": {},
     "output_type": "execute_result"
    }
   ],
   "source": [
    ";; Python\n",
    ";; berri_bikes.index.day\n",
    "\n",
    "(->> berri-bikes\n",
    "     (map #(t/as (t/local-date (:Date %)) :day-of-month)))"
   ]
  },
  {
   "cell_type": "markdown",
   "metadata": {},
   "source": [
    "We actually want the weekday, though:"
   ]
  },
  {
   "cell_type": "code",
   "execution_count": 36,
   "metadata": {},
   "outputs": [
    {
     "data": {
      "text/plain": [
       "(7 1 2 3 4 5 6 7 1 2 3 4 5 6 7 1 2 3 4 5 6 7 1 2 3 4 5 6 7 1 2 3 4 5 6 7 1 2 3 4 5 6 7 1 2 3 4 5 6 7 1 2 3 4 5 6 7 1 2 3 4 5 6 7 1 2 3 4 5 6 7 1 2 3 4 5 6 7 1 2 3 4 5 6 7 1 2 3 4 5 6 7 1 2 3 4 5 6 7 1 2 3 4 5 6 7 1 2 3 4 5 6 7 1 2 3 4 5 6 7 1 2 3 4 5 6 7 1 2 3 4 5 6 7 1 2 3 4 5 6 7 1 2 3 4 5 6 7 1 2 3 4 5 6 7 1 2 3 4 5 6 7 1 2 3 4 5 6 7 1 2 3 4 5 6 7 1 2 3 4 5 6 7 1 2 3 4 5 6 7 1 2 3 4 5 6 7 1 2 3 4 5 6 7 1 2 3 4 5 6 7 1 2 3 4 5 6 7 1 2 3 4 5 6 7 1 2 3 4 5 6 7 1 2 3 4 5 6 7 1 2 3 4 5 6 7 1 2 3 4 5 6 7 1 2 3 4 5 6 7 1 2 3 4 5 6 7 1 2 3 4 5 6 7 1 2 3 4 5 6 7 1 2 3 4 5 6 7 1 2 3 4 5 6 7 1 2 3 4 5 6 7 1 2 3 4 5 6 7 1)"
      ]
     },
     "execution_count": 36,
     "metadata": {},
     "output_type": "execute_result"
    }
   ],
   "source": [
    ";; Python\n",
    ";; berri_bikes.index.weekday\n",
    "\n",
    "(->> berri-bikes\n",
    "     (map #(t/as (t/local-date (:Date %)) :day-of-week)))"
   ]
  },
  {
   "cell_type": "markdown",
   "metadata": {},
   "source": [
    "These are the days of the week, where 1 is Monday.\n",
    "\n",
    "Now that we know how to *get* the weekday, we can add it as a column in our dataframe like this:"
   ]
  },
  {
   "cell_type": "code",
   "execution_count": 51,
   "metadata": {},
   "outputs": [
    {
     "data": {
      "text/html": [
       "<table border=\"1\" class=\"dataframe\">\n",
       "  <thead>\n",
       "    <tr style=\"text-align: right;\">\n",
       "      <th></th>\n",
       "      <th>Date</th>\n",
       "      <th>Berri 1</th>\n",
       "      <th>week-day</th>\n",
       "    </tr>\n",
       "  </thead>\n",
       "  <tbody>\n",
       "    <tr>\n",
       "      <th>0</th>\n",
       "      <td>2012-01-01</td>\n",
       "      <td>35</td>\n",
       "      <td>7</td>\n",
       "    </tr>\n",
       "    <tr>\n",
       "      <th>1</th>\n",
       "      <td>2012-01-02</td>\n",
       "      <td>83</td>\n",
       "      <td>1</td>\n",
       "    </tr>\n",
       "    <tr>\n",
       "      <th>2</th>\n",
       "      <td>2012-01-03</td>\n",
       "      <td>135</td>\n",
       "      <td>2</td>\n",
       "    </tr>\n",
       "    <tr>\n",
       "      <th>3</th>\n",
       "      <td>2012-01-04</td>\n",
       "      <td>144</td>\n",
       "      <td>3</td>\n",
       "    </tr>\n",
       "    <tr>\n",
       "      <th>4</th>\n",
       "      <td>2012-01-05</td>\n",
       "      <td>197</td>\n",
       "      <td>4</td>\n",
       "    </tr>\n",
       "  </tbody>\n",
       "</table>"
      ]
     },
     "execution_count": 51,
     "metadata": {},
     "output_type": "execute_result"
    }
   ],
   "source": [
    ";; Python\n",
    ";; berri_bikes.loc[:,'weekday'] = berri_bikes.index.weekday\n",
    ";; berri_bikes[:5]\n",
    "\n",
    "(def berri-bikes \n",
    "    (->> berri-bikes\n",
    "         (map #(assoc % :week-day (t/as (t/local-date (:Date %)) :day-of-week)))))\n",
    "\n",
    "(->> berri-bikes \n",
    "    (take 5)\n",
    "    show-table)"
   ]
  },
  {
   "cell_type": "markdown",
   "metadata": {},
   "source": [
    "# 4.2 Adding up the cyclists by weekday"
   ]
  },
  {
   "cell_type": "markdown",
   "metadata": {},
   "source": [
    "This turns out to be really easy!\n",
    "\n",
    "We have a `groupby` function that is similar to SQL groupby, if you're familiar with that.\n",
    "\n",
    "In this case, `berri_bikes.groupby('weekday').aggregate(sum)` means \"Group the rows by weekday and then add up all the values with the same weekday\"."
   ]
  },
  {
   "cell_type": "code",
   "execution_count": 124,
   "metadata": {},
   "outputs": [
    {
     "data": {
      "text/html": [
       "<table border=\"1\" class=\"dataframe\">\n",
       "  <thead>\n",
       "    <tr style=\"text-align: right;\">\n",
       "      <th></th>\n",
       "      <th>week-day</th>\n",
       "      <th>sum</th>\n",
       "    </tr>\n",
       "  </thead>\n",
       "  <tbody>\n",
       "    <tr>\n",
       "      <th>0</th>\n",
       "      <td>1</td>\n",
       "      <td>134298</td>\n",
       "    </tr>\n",
       "    <tr>\n",
       "      <th>1</th>\n",
       "      <td>2</td>\n",
       "      <td>135305</td>\n",
       "    </tr>\n",
       "    <tr>\n",
       "      <th>2</th>\n",
       "      <td>3</td>\n",
       "      <td>152972</td>\n",
       "    </tr>\n",
       "    <tr>\n",
       "      <th>3</th>\n",
       "      <td>4</td>\n",
       "      <td>160131</td>\n",
       "    </tr>\n",
       "    <tr>\n",
       "      <th>4</th>\n",
       "      <td>5</td>\n",
       "      <td>141771</td>\n",
       "    </tr>\n",
       "    <tr>\n",
       "      <th>5</th>\n",
       "      <td>6</td>\n",
       "      <td>101578</td>\n",
       "    </tr>\n",
       "    <tr>\n",
       "      <th>6</th>\n",
       "      <td>7</td>\n",
       "      <td>99310</td>\n",
       "    </tr>\n",
       "  </tbody>\n",
       "</table>"
      ]
     },
     "execution_count": 124,
     "metadata": {},
     "output_type": "execute_result"
    }
   ],
   "source": [
    ";; Python;\n",
    ";; weekday_counts = berri_bikes.groupby('weekday').aggregate(sum)\n",
    ";; weekday_counts\n",
    "\n",
    "(def weekday-counts\n",
    "    (->> berri-bikes\n",
    "         (group-by :week-day)\n",
    "         (into (sorted-map))\n",
    "         (map (fn [[k v]] {:week-day k :sum (reduce + (map (keyword \"Berri 1\") v))}))))\n",
    "\n",
    "(show-table weekday-counts)"
   ]
  },
  {
   "cell_type": "markdown",
   "metadata": {},
   "source": [
    "It's hard to remember what 1, 2, 3, 4, 5, 6, 7 mean, so we can fix it up and graph it:"
   ]
  },
  {
   "cell_type": "code",
   "execution_count": 125,
   "metadata": {},
   "outputs": [
    {
     "data": {
      "text/html": [
       "<table border=\"1\" class=\"dataframe\">\n",
       "  <thead>\n",
       "    <tr style=\"text-align: right;\">\n",
       "      <th></th>\n",
       "      <th>week-day</th>\n",
       "      <th>sum</th>\n",
       "    </tr>\n",
       "  </thead>\n",
       "  <tbody>\n",
       "    <tr>\n",
       "      <th>0</th>\n",
       "      <td>Monday</td>\n",
       "      <td>134298</td>\n",
       "    </tr>\n",
       "    <tr>\n",
       "      <th>1</th>\n",
       "      <td>Tuesday</td>\n",
       "      <td>135305</td>\n",
       "    </tr>\n",
       "    <tr>\n",
       "      <th>2</th>\n",
       "      <td>Wednesday</td>\n",
       "      <td>152972</td>\n",
       "    </tr>\n",
       "    <tr>\n",
       "      <th>3</th>\n",
       "      <td>Thursday</td>\n",
       "      <td>160131</td>\n",
       "    </tr>\n",
       "    <tr>\n",
       "      <th>4</th>\n",
       "      <td>Friday</td>\n",
       "      <td>141771</td>\n",
       "    </tr>\n",
       "    <tr>\n",
       "      <th>5</th>\n",
       "      <td>Saturday</td>\n",
       "      <td>101578</td>\n",
       "    </tr>\n",
       "    <tr>\n",
       "      <th>6</th>\n",
       "      <td>Sunday</td>\n",
       "      <td>99310</td>\n",
       "    </tr>\n",
       "  </tbody>\n",
       "</table>"
      ]
     },
     "execution_count": 125,
     "metadata": {},
     "output_type": "execute_result"
    }
   ],
   "source": [
    ";; Python\n",
    ";; weekday_counts.index = ['Monday', 'Tuesday', 'Wednesday', 'Thursday', 'Friday', 'Saturday', 'Sunday']\n",
    ";; weekday_counts\n",
    "\n",
    "(def weekdays \n",
    "    (zipmap (iterate inc 1) [\"Monday\" \"Tuesday\" \"Wednesday\" \"Thursday\" \"Friday\" \"Saturday\" \"Sunday\"]))\n",
    "\n",
    "(def weekday-counts\n",
    "    (->> weekday-counts\n",
    "         (map #(update % :week-day (partial get weekdays)))))\n",
    "\n",
    "(show-table weekday-counts)"
   ]
  },
  {
   "cell_type": "code",
   "execution_count": 129,
   "metadata": {},
   "outputs": [
    {
     "data": {
      "text/html": [
       "\n",
       "<div>\n",
       "  <div id='uuid-0f4e0f14-5e70-465c-b808-c0bec8687455'></div>\n",
       "  <script>\n",
       "  requirejs.config({\n",
       "    baseUrl: 'https://cdn.jsdelivr.net/npm/',\n",
       "    paths: {\n",
       "      'vega-embed':  'vega-embed@3?noext',\n",
       "      'vega-lib': 'vega-lib?noext',\n",
       "      'vega-lite': 'vega-lite@2?noext',\n",
       "      'vega': 'vega@3?noext'\n",
       "    }\n",
       "  });\n",
       "  require(['vega-embed'], function(vegaEmbed) {\n",
       "    let spec = {\"data\":{\"values\":[{\"week-day\":\"Monday\",\"sum\":134298},{\"week-day\":\"Tuesday\",\"sum\":135305},{\"week-day\":\"Wednesday\",\"sum\":152972},{\"week-day\":\"Thursday\",\"sum\":160131},{\"week-day\":\"Friday\",\"sum\":141771},{\"week-day\":\"Saturday\",\"sum\":101578},{\"week-day\":\"Sunday\",\"sum\":99310}]},\"mark\":\"bar\",\"encoding\":{\"x\":{\"field\":\"week-day\",\"type\":\"nominal\",\"sort\":false},\"y\":{\"field\":\"sum\",\"type\":\"quantitative\"}},\"width\":800};\n",
       "    vegaEmbed('#uuid-0f4e0f14-5e70-465c-b808-c0bec8687455', spec, {defaultStyle:true}).catch(console.warn);\n",
       "    }, function(err) {\n",
       "    console.log('Failed to load');\n",
       "  });\n",
       "  </script>\n",
       "</div>\n",
       "  "
      ]
     },
     "execution_count": 129,
     "metadata": {},
     "output_type": "execute_result"
    }
   ],
   "source": [
    ";; Python \n",
    ";; weekday_counts.plot(kind='bar')\n",
    "\n",
    "(oz/view!\n",
    "  {:data {:values weekday-counts}\n",
    "  :mark \"bar\"\n",
    "  :encoding {:x {:field :week-day\n",
    "                 :type \"nominal\"\n",
    "                 :sort false}\n",
    "             :y {:field :sum\n",
    "                 :type \"quantitative\"}}\n",
    "  :width 800})"
   ]
  },
  {
   "cell_type": "markdown",
   "metadata": {},
   "source": [
    "So it looks like Montrealers are commuter cyclists -- they bike much more during the week. Neat!"
   ]
  },
  {
   "cell_type": "markdown",
   "metadata": {},
   "source": [
    "# 4.3 Putting it together"
   ]
  },
  {
   "cell_type": "markdown",
   "metadata": {},
   "source": [
    "Let's put all that together, to prove how easy it is. 6 lines of magical pandas!\n",
    "\n",
    "If you want to play around, try changing `sum` to `max`, `numpy.median`, or any other function you like."
   ]
  },
  {
   "cell_type": "code",
   "execution_count": 132,
   "metadata": {},
   "outputs": [
    {
     "data": {
      "text/html": [
       "\n",
       "<div>\n",
       "  <div id='uuid-5f62c6b7-4ee6-471a-94ca-9eca488708a7'></div>\n",
       "  <script>\n",
       "  requirejs.config({\n",
       "    baseUrl: 'https://cdn.jsdelivr.net/npm/',\n",
       "    paths: {\n",
       "      'vega-embed':  'vega-embed@3?noext',\n",
       "      'vega-lib': 'vega-lib?noext',\n",
       "      'vega-lite': 'vega-lite@2?noext',\n",
       "      'vega': 'vega@3?noext'\n",
       "    }\n",
       "  });\n",
       "  require(['vega-embed'], function(vegaEmbed) {\n",
       "    let spec = {\"data\":{\"values\":[{\"week-day\":\"Monday\",\"sum\":134298},{\"week-day\":\"Tuesday\",\"sum\":135305},{\"week-day\":\"Wednesday\",\"sum\":152972},{\"week-day\":\"Thursday\",\"sum\":160131},{\"week-day\":\"Friday\",\"sum\":141771},{\"week-day\":\"Saturday\",\"sum\":101578},{\"week-day\":\"Sunday\",\"sum\":99310}]},\"mark\":\"bar\",\"encoding\":{\"x\":{\"field\":\"week-day\",\"type\":\"nominal\",\"sort\":false},\"y\":{\"field\":\"sum\",\"type\":\"quantitative\"}},\"width\":800};\n",
       "    vegaEmbed('#uuid-5f62c6b7-4ee6-471a-94ca-9eca488708a7', spec, {defaultStyle:true}).catch(console.warn);\n",
       "    }, function(err) {\n",
       "    console.log('Failed to load');\n",
       "  });\n",
       "  </script>\n",
       "</div>\n",
       "  "
      ]
     },
     "execution_count": 132,
     "metadata": {},
     "output_type": "execute_result"
    }
   ],
   "source": [
    ";; Python\n",
    ";; bikes = pd.read_csv('../data/bikes.csv', \n",
    ";;                     sep=';', encoding='latin1', \n",
    ";;                     parse_dates=['Date'], dayfirst=True, \n",
    ";;                     index_col='Date')\n",
    ";; # Add the weekday column\n",
    ";; berri_bikes = bikes[['Berri 1']].copy()\n",
    ";; berri_bikes.loc[:,'weekday'] = berri_bikes.index.weekday\n",
    "\n",
    ";; # Add up the number of cyclists by weekday, and plot!\n",
    ";; weekday_counts = berri_bikes.groupby('weekday').aggregate(sum)\n",
    ";; weekday_counts.index = ['Monday', 'Tuesday', 'Wednesday', 'Thursday', 'Friday', 'Saturday', 'Sunday']\n",
    ";; weekday_counts.plot(kind='bar')\n",
    "\n",
    "(def fixed-data\n",
    "    (with-open [reader (io/reader \"../data/bikes.csv\" :encoding \"ISO-8859-1\")]\n",
    "      (doall\n",
    "        (csv/read-csv reader :separator \\;))))\n",
    "\n",
    "(defn blank->nil [s]\n",
    "   (when-not (#{\"\"} s) s))\n",
    "\n",
    "(defn csv-data->maps [csv-data]\n",
    "  (map zipmap\n",
    "       (->> (first csv-data) ;; First row is the header\n",
    "            (map keyword) ;; Drop if you want string keys instead\n",
    "            repeat)\n",
    "       (->> (rest csv-data)\n",
    "            (map #(map blank->nil %))))) ;; Drop if you want blank strings to stay\n",
    "\n",
    "(defn col-parser [col-key]\n",
    "    (if (= :Date col-key) \n",
    "         (comp t/format (partial t/local-date \"dd/MM/yyyy\"))\n",
    "         edn/read-string))\n",
    "\n",
    "(def bikes\n",
    "    (->> fixed-data\n",
    "         csv-data->maps\n",
    "         (map #(into {} (map (fn [[k v]] [k ((col-parser k) v)]) %))))) ;; Apply each parser to columns\n",
    "\n",
    "(def weekdays \n",
    "    (zipmap (iterate inc 1) [\"Monday\" \"Tuesday\" \"Wednesday\" \"Thursday\" \"Friday\" \"Saturday\" \"Sunday\"]))\n",
    "\n",
    "(def weekday-counts\n",
    "    (->> bikes\n",
    "         (map #(select-keys % [:Date (keyword \"Berri 1\")])) ;; berri-bikes\n",
    "         (map #(assoc % :week-day (t/as (t/local-date (:Date %)) :day-of-week))) ;; Add day-of-week\n",
    "         (group-by :week-day) ;; Group by weekday\n",
    "         (into (sorted-map)) ;; Sort by weekday\n",
    "         (map (fn [[k v]] {:week-day k :sum (reduce + (map (keyword \"Berri 1\") v))})) ;; \n",
    "         (map #(update % :week-day (partial get weekdays))))) ;; Update the week-day to use \n",
    "\n",
    "(oz/view!\n",
    "  {:data {:values weekday-counts}\n",
    "  :mark \"bar\"\n",
    "  :encoding {:x {:field :week-day\n",
    "                 :type \"nominal\"\n",
    "                 :sort false}\n",
    "             :y {:field :sum\n",
    "                 :type \"quantitative\"}}\n",
    "  :width 800})"
   ]
  }
 ],
 "metadata": {
  "kernelspec": {
   "display_name": "Clojure (clojupyter=0.3.2=1)",
   "language": "clojure",
   "name": "conda-clojupyter"
  },
  "language_info": {
   "file_extension": ".clj",
   "mimetype": "text/x-clojure",
   "name": "clojure",
   "version": "1.10.1"
  }
 },
 "nbformat": 4,
 "nbformat_minor": 1
}
