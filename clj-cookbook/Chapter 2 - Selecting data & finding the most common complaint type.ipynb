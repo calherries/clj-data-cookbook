{
 "cells": [
  {
   "cell_type": "code",
   "execution_count": 134,
   "metadata": {},
   "outputs": [
    {
     "data": {
      "text/plain": [
       "nil"
      ]
     },
     "execution_count": 134,
     "metadata": {},
     "output_type": "execute_result"
    }
   ],
   "source": [
    "(require '[clojupyter.javascript.alpha :as cjp-js])\n",
    "(require '[clojupyter.display :as display])\n",
    "(require '[clojupyter.misc.helper :as helper])\n",
    "(require '[clojure.data.json :as json])\n",
    "(helper/add-dependencies '[org.clojure/data.csv \"1.0.0\"])\n",
    "(require '[clojure.data.csv :as csv])\n",
    "(helper/add-dependencies '[metasoarous/oz \"1.5.6\"])\n",
    "(require '[oz.notebook.clojupyter :as oz])\n",
    "(require '[clojure.java.io :as io])\n",
    "(require '[clojure.pprint :as pp])\n",
    "(helper/add-dependencies '[clojure.java-time \"0.3.2\"])\n",
    "(require '[java-time :as t])\n",
    "(require '[clojure.edn :as edn])"
   ]
  },
  {
   "cell_type": "markdown",
   "metadata": {},
   "source": [
    "We're going to use a new dataset here, to demonstrate how to deal with larger datasets. This is a subset of the of 311 service requests from [NYC Open Data](https://nycopendata.socrata.com/Social-Services/311-Service-Requests-from-2010-to-Present/erm2-nwe9). "
   ]
  },
  {
   "cell_type": "code",
   "execution_count": 136,
   "metadata": {},
   "outputs": [
    {
     "data": {
      "text/plain": [
       "#'user/fixed-df"
      ]
     },
     "execution_count": 136,
     "metadata": {},
     "output_type": "execute_result"
    }
   ],
   "source": [
    ";; Python: complaints = pd.read_csv('../data/311-service-requests.csv')\n",
    "\n",
    ";; read data in\n",
    "(def raw-data\n",
    "    (with-open [reader (io/reader \"../data/311-service-requests.csv\")]\n",
    "      (doall\n",
    "        (csv/read-csv reader))))\n",
    "\n",
    "(defn blank->nil [s]\n",
    "  (when-not (clojure.string/blank? s) s))\n",
    "\n",
    "(defn csv-data->maps [csv-data]\n",
    "  (map zipmap\n",
    "       (->> (first csv-data) ;; First row is the header\n",
    "            (map keyword) ;; Drop if you want string keys instead\n",
    "            repeat)\n",
    "       (->> (rest csv-data)\n",
    "            (map #(map blank->nil %))))) ;; Drop if you want blank strings to stay\n",
    "\n",
    "(def fixed-df (csv-data->maps raw-data))"
   ]
  },
  {
   "cell_type": "code",
   "execution_count": 141,
   "metadata": {},
   "outputs": [
    {
     "name": "stdout",
     "output_type": "stream",
     "text": [
      "\n",
      "| :Road Ramp | :Resolution Action Updated Date | :Bridge Highway Name | :Park Facility Name | :School Number |\n",
      "|------------+---------------------------------+----------------------+---------------------+----------------|\n",
      "|            |          10/31/2013 02:35:17 AM |                      |         Unspecified |    Unspecified |\n",
      "|            |                                 |                      |         Unspecified |    Unspecified |\n",
      "|            |          10/31/2013 02:39:42 AM |                      |         Unspecified |    Unspecified |\n",
      "|            |          10/31/2013 02:21:10 AM |                      |         Unspecified |    Unspecified |\n",
      "|            |          10/31/2013 01:59:54 AM |                      |         Unspecified |    Unspecified |\n",
      "|            |                                 |                      |         Unspecified |    Unspecified |\n",
      "|            |          10/31/2013 01:59:51 AM |                      |         Unspecified |    Unspecified |\n",
      "|            |          10/31/2013 01:58:49 AM |                      |         Unspecified |    Unspecified |\n",
      "|            |          10/31/2013 02:00:56 AM |                      |         Unspecified |    Unspecified |\n",
      "|            |          10/31/2013 01:48:26 AM |                      |         Unspecified |    Unspecified |\n"
     ]
    },
    {
     "data": {
      "text/plain": [
       "nil"
      ]
     },
     "execution_count": 141,
     "metadata": {},
     "output_type": "execute_result"
    }
   ],
   "source": [
    "(->> fixed-df\n",
    "     (take 10)\n",
    "     (map #(into {} (take 5 %)))\n",
    "     pp/print-table)"
   ]
  },
  {
   "cell_type": "markdown",
   "metadata": {},
   "source": [
    "# 2.2 Selecting columns and rows"
   ]
  },
  {
   "cell_type": "markdown",
   "metadata": {},
   "source": [
    "To select a column, we index with the name of the column, like this:"
   ]
  },
  {
   "cell_type": "code",
   "execution_count": 145,
   "metadata": {},
   "outputs": [
    {
     "name": "stdout",
     "output_type": "stream",
     "text": [
      "(\"Noise - Street/Sidewalk\"\n",
      " \"Illegal Parking\"\n",
      " \"Noise - Commercial\"\n",
      " \"Noise - Vehicle\"\n",
      " \"Rodent\"\n",
      " \"Noise - Commercial\"\n",
      " \"Blocked Driveway\"\n",
      " \"Noise - Commercial\"\n",
      " \"Noise - Commercial\"\n",
      " \"Noise - Commercial\")\n"
     ]
    },
    {
     "data": {
      "text/plain": [
       "nil"
      ]
     },
     "execution_count": 145,
     "metadata": {},
     "output_type": "execute_result"
    }
   ],
   "source": [
    "(->> fixed-df\n",
    "     (take 10)\n",
    "     (map (keyword \"Complaint Type\"))\n",
    "     (pp/pprint))"
   ]
  },
  {
   "cell_type": "markdown",
   "metadata": {},
   "source": [
    "and it doesn't matter which direction we do it in:"
   ]
  },
  {
   "cell_type": "code",
   "execution_count": 148,
   "metadata": {},
   "outputs": [
    {
     "name": "stdout",
     "output_type": "stream",
     "text": [
      "(\"Noise - Street/Sidewalk\"\n",
      " \"Illegal Parking\"\n",
      " \"Noise - Commercial\"\n",
      " \"Noise - Vehicle\"\n",
      " \"Rodent\"\n",
      " \"Noise - Commercial\"\n",
      " \"Blocked Driveway\"\n",
      " \"Noise - Commercial\"\n",
      " \"Noise - Commercial\"\n",
      " \"Noise - Commercial\")\n"
     ]
    },
    {
     "data": {
      "text/plain": [
       "nil"
      ]
     },
     "execution_count": 148,
     "metadata": {},
     "output_type": "execute_result"
    }
   ],
   "source": [
    "(->> fixed-df\n",
    "     (map (keyword \"Complaint Type\"))\n",
    "     (take 10)\n",
    "     (pp/pprint))"
   ]
  },
  {
   "cell_type": "markdown",
   "metadata": {},
   "source": [
    "# 2.3 Selecting multiple columns\n"
   ]
  },
  {
   "cell_type": "markdown",
   "metadata": {},
   "source": [
    "What if we just want to know the complaint type and the borough, but not the rest of the information? Pandas makes it really easy to select a subset of the columns: just index with list of columns you want."
   ]
  },
  {
   "cell_type": "code",
   "execution_count": 169,
   "metadata": {},
   "outputs": [
    {
     "name": "stdout",
     "output_type": "stream",
     "text": [
      "([\"Noise - Street/Sidewalk\" \"QUEENS\"]\n",
      " [\"Illegal Parking\" \"QUEENS\"]\n",
      " [\"Noise - Commercial\" \"MANHATTAN\"]\n",
      " [\"Noise - Vehicle\" \"MANHATTAN\"]\n",
      " [\"Rodent\" \"MANHATTAN\"]\n",
      " [\"Noise - Commercial\" \"QUEENS\"]\n",
      " [\"Blocked Driveway\" \"QUEENS\"]\n",
      " [\"Noise - Commercial\" \"QUEENS\"]\n",
      " [\"Noise - Commercial\" \"MANHATTAN\"]\n",
      " [\"Noise - Commercial\" \"BROOKLYN\"])\n"
     ]
    },
    {
     "data": {
      "text/plain": [
       "nil"
      ]
     },
     "execution_count": 169,
     "metadata": {},
     "output_type": "execute_result"
    }
   ],
   "source": [
    "(->> fixed-df\n",
    "    (take 10)\n",
    "    (map (juxt (keyword \"Complaint Type\") (keyword \"Borough\")))\n",
    "    pp/pprint)"
   ]
  },
  {
   "cell_type": "code",
   "execution_count": 168,
   "metadata": {},
   "outputs": [
    {
     "name": "stdout",
     "output_type": "stream",
     "text": [
      "({:Complaint Type \"Noise - Street/Sidewalk\", :Borough \"QUEENS\"}\n",
      " {:Complaint Type \"Illegal Parking\", :Borough \"QUEENS\"}\n",
      " {:Complaint Type \"Noise - Commercial\", :Borough \"MANHATTAN\"}\n",
      " {:Complaint Type \"Noise - Vehicle\", :Borough \"MANHATTAN\"}\n",
      " {:Complaint Type \"Rodent\", :Borough \"MANHATTAN\"}\n",
      " {:Complaint Type \"Noise - Commercial\", :Borough \"QUEENS\"}\n",
      " {:Complaint Type \"Blocked Driveway\", :Borough \"QUEENS\"}\n",
      " {:Complaint Type \"Noise - Commercial\", :Borough \"QUEENS\"}\n",
      " {:Complaint Type \"Noise - Commercial\", :Borough \"MANHATTAN\"}\n",
      " {:Complaint Type \"Noise - Commercial\", :Borough \"BROOKLYN\"})\n"
     ]
    },
    {
     "data": {
      "text/plain": [
       "nil"
      ]
     },
     "execution_count": 168,
     "metadata": {},
     "output_type": "execute_result"
    }
   ],
   "source": [
    ";; or print as a table\n",
    "(->> fixed-df\n",
    "     (take 10)\n",
    "     (map #(select-keys % [(keyword \"Complaint Type\") (keyword \"Borough\")]))\n",
    "     pp/pprint)"
   ]
  },
  {
   "cell_type": "markdown",
   "metadata": {},
   "source": [
    "# 2.4 What's the most common complaint type?\n"
   ]
  },
  {
   "cell_type": "markdown",
   "metadata": {},
   "source": [
    "This is a really easy question to answer! There's a `frequencies` function that we can use:"
   ]
  },
  {
   "cell_type": "code",
   "execution_count": 166,
   "metadata": {},
   "outputs": [
    {
     "name": "stdout",
     "output_type": "stream",
     "text": [
      "([\"HEATING\" 14200]\n",
      " [\"GENERAL CONSTRUCTION\" 7471]\n",
      " [\"Street Light Condition\" 7117]\n",
      " [\"DOF Literature Request\" 5797]\n",
      " [\"PLUMBING\" 5373]\n",
      " [\"PAINT - PLASTER\" 5149]\n",
      " [\"Blocked Driveway\" 4590]\n",
      " [\"NONCONST\" 3998]\n",
      " [\"Street Condition\" 3473]\n",
      " [\"Illegal Parking\" 3343])\n"
     ]
    },
    {
     "data": {
      "text/plain": [
       "nil"
      ]
     },
     "execution_count": 166,
     "metadata": {},
     "output_type": "execute_result"
    }
   ],
   "source": [
    ";; Python: \n",
    ";; complaints['Complaint Type'].value_counts()\n",
    "\n",
    "(->> fixed-df\n",
    "     (map (keyword \"Complaint Type\"))\n",
    "     frequencies\n",
    "     (sort-by val >)\n",
    "     (take 10)\n",
    "     pp/pprint)"
   ]
  },
  {
   "cell_type": "markdown",
   "metadata": {},
   "source": [
    "But it gets better! We can plot them!"
   ]
  },
  {
   "cell_type": "code",
   "execution_count": 167,
   "metadata": {},
   "outputs": [
    {
     "data": {
      "text/html": [
       "\n",
       "<div>\n",
       "  <div id='uuid-6c506b5a-4800-44e6-aa09-cf8e30b9d46f'></div>\n",
       "  <script>\n",
       "  requirejs.config({\n",
       "    baseUrl: 'https://cdn.jsdelivr.net/npm/',\n",
       "    paths: {\n",
       "      'vega-embed':  'vega-embed@3?noext',\n",
       "      'vega-lib': 'vega-lib?noext',\n",
       "      'vega-lite': 'vega-lite@2?noext',\n",
       "      'vega': 'vega@3?noext'\n",
       "    }\n",
       "  });\n",
       "  require(['vega-embed'], function(vegaEmbed) {\n",
       "    let spec = {\"data\":{\"values\":[{\"Index\":\"HEATING\",\"Value\":14200},{\"Index\":\"GENERAL CONSTRUCTION\",\"Value\":7471},{\"Index\":\"Street Light Condition\",\"Value\":7117},{\"Index\":\"DOF Literature Request\",\"Value\":5797},{\"Index\":\"PLUMBING\",\"Value\":5373},{\"Index\":\"PAINT - PLASTER\",\"Value\":5149},{\"Index\":\"Blocked Driveway\",\"Value\":4590},{\"Index\":\"NONCONST\",\"Value\":3998},{\"Index\":\"Street Condition\",\"Value\":3473},{\"Index\":\"Illegal Parking\",\"Value\":3343}]},\"mark\":\"bar\",\"encoding\":{\"x\":{\"field\":\"Index\",\"type\":\"nominal\",\"sort\":false},\"y\":{\"field\":\"Value\",\"type\":\"quantitative\"}}};\n",
       "    vegaEmbed('#uuid-6c506b5a-4800-44e6-aa09-cf8e30b9d46f', spec, {defaultStyle:true}).catch(console.warn);\n",
       "    }, function(err) {\n",
       "    console.log('Failed to load');\n",
       "  });\n",
       "  </script>\n",
       "</div>\n",
       "  "
      ]
     },
     "execution_count": 167,
     "metadata": {},
     "output_type": "execute_result"
    }
   ],
   "source": [
    "(defn bar-graph [vs]\n",
    " {:data {:values vs}, \n",
    "  :mark \"bar\"\n",
    "  :encoding {:x {:field :Index\n",
    "                 :type \"nominal\"\n",
    "                 :sort false}\n",
    "             :y {:field :Value\n",
    "                 :type \"quantitative\"}}})\n",
    "\n",
    "(->> fixed-df\n",
    "     (map (keyword \"Complaint Type\"))\n",
    "     frequencies\n",
    "     (sort-by val >)\n",
    "     (take 10)\n",
    "     (map (fn [[k v]] {:Index k :Value v}))\n",
    "     bar-graph\n",
    "     oz/view!)"
   ]
  },
  {
   "cell_type": "code",
   "execution_count": null,
   "metadata": {},
   "outputs": [],
   "source": []
  }
 ],
 "metadata": {
  "kernelspec": {
   "display_name": "Clojure (clojupyter=0.3.2=1)",
   "language": "clojure",
   "name": "conda-clojupyter"
  },
  "language_info": {
   "file_extension": ".clj",
   "mimetype": "text/x-clojure",
   "name": "clojure",
   "version": "1.10.1"
  }
 },
 "nbformat": 4,
 "nbformat_minor": 4
}
